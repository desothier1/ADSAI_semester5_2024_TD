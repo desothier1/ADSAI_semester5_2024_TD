{
  "nbformat": 4,
  "nbformat_minor": 0,
  "metadata": {
    "colab": {
      "name": "Chapter_03_Assignment_Class.ipynb",
      "provenance": []
    },
    "kernelspec": {
      "name": "python3",
      "display_name": "Python 3"
    },
    "language_info": {
      "name": "python"
    }
  },
  "cells": [
    {
      "cell_type": "markdown",
      "source": [
        "# Assignment 1: Find all persons\n",
        "\n",
        "Open the file \"article.txt\". Using Spacy, loop over all sentences and:\n",
        "- If the sentence contains a PERSON, print the visualised named entities for this sentence\n",
        "- If the sentence does not contain a PERSON, print the sentence as text.\n",
        "\n",
        "Use the small English model with Spacy."
      ],
      "metadata": {
        "id": "PR4fUocx3n8k"
      }
    },
    {
      "cell_type": "code",
      "source": [
        "# Insert your code here"
      ],
      "metadata": {
        "id": "1v3CSSm-zHP7"
      },
      "execution_count": null,
      "outputs": []
    },
    {
      "cell_type": "markdown",
      "source": [
        "# Assignment 2: \"Head\" of persons\n",
        "\n",
        "In the same file, find all tokens that are identified as a \"PERSON\". When the \"Head\" of this token (in its dependency parse tree) is a \"VERB\", print the token (person) and the verb.\n",
        "\n",
        "For example, for the sentence \"We piloted Comedy Product in 1995.\", this code should print: <br>\n",
        "`piloted > Product`\n",
        "\n",
        "Use the small English model with Spacy."
      ],
      "metadata": {
        "id": "9YrIbO8W3BiY"
      }
    },
    {
      "cell_type": "code",
      "execution_count": null,
      "metadata": {
        "id": "lP_TwGjkvKEY"
      },
      "outputs": [],
      "source": [
        "# Insert your code here\n",
        "\n",
        "   \n",
        "      "
      ]
    },
    {
      "cell_type": "markdown",
      "source": [
        "# Assignment 3: Which words follow pronouns?\n",
        "\n",
        "In the same file find all the words that follow a pronoun using Spacy's rule-based matcher.\n",
        "Create a dictionary to store each pronoun as key and all the words that follows this pronoun in this file as a list of values (without repetitions). Lowercase the pronouns and the following words before adding them to the dictionary.\n",
        "Print the key, value pairs in the dictionary.\n",
        "\n",
        "For the key \"i\", the value should print: <br>\n",
        "`['the', 'a', '32', 'hosted', 'been', 'to', 'do', 'with', 'back', ',', 'round']`\n"
      ],
      "metadata": {
        "id": "lSQQXj1q2LYn"
      }
    },
    {
      "cell_type": "code",
      "source": [
        "# Insert your code here\n"
      ],
      "metadata": {
        "id": "HTrngSpTvifO"
      },
      "execution_count": null,
      "outputs": []
    }
  ]
}