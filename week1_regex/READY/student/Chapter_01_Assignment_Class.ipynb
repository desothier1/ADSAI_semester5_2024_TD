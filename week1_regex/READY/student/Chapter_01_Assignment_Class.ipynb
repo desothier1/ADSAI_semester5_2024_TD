{
  "nbformat": 4,
  "nbformat_minor": 0,
  "metadata": {
    "colab": {
      "name": "Chapter_01_Assignment.ipynb",
      "provenance": []
    },
    "kernelspec": {
      "name": "python3",
      "display_name": "Python 3"
    },
    "language_info": {
      "name": "python"
    }
  },
  "cells": [
    {
      "cell_type": "code",
      "execution_count": null,
      "metadata": {
        "id": "X3pma8X5M9Xv"
      },
      "outputs": [],
      "source": [
        ""
      ]
    },
    {
      "cell_type": "markdown",
      "source": [
        "## Assignment 1: Phone numbers\n",
        "Write a regular expression pattern that will capture all the phone numbers in the following list:\n",
        "    \n",
        "- 415-867-5309\n",
        "- 415 867 5309\n",
        "- 415.867.5309\n",
        "- (415) 867-5309\n",
        "- 1-415-867-5309\n",
        "- 415-867-5309-9999\n",
        "- 415-867-5309x9999\n",
        "- 415-867-5309 ext. 9999\n",
        "- emergency 1-(415) 867.5309 #9999\n",
        "\n",
        "Your code should return (only) four values (four regex groups):\n",
        "1. area code (415)\n",
        "2. trunk1 (867)\n",
        "3. trunk2 (5309)\n",
        "4. any possible extension (9999)\n",
        "\n",
        "__Tip:__ You can use \"\\D\" to capture non-digit characters.\n",
        "\n",
        "The correct output should look lik this:<br>\n",
        "[('415', '867', '5309', '')]<br>\n",
        "[('415', '867', '5309', '')]<br>\n",
        "[('415', '867', '5309', '')]<br>\n",
        "[('415', '867', '5309', '')]<br>\n",
        "[('415', '867', '5309', '')]<br>\n",
        "[('415', '867', '5309', '9999')]<br>\n",
        "[('415', '867', '5309', '9999')]<br>\n",
        "[('415', '867', '5309', '9999')]<br>\n",
        "[('415', '867', '5309', '9999')]<br>\n",
        "\n",
        "### Python Regex Visualizer\n",
        "\n",
        "It is a good practice to test your regex patterns visually to see the false positives and false negatives.\n",
        "https://pythex.org/?regex=%5Cd%2B&test_string=415-867-5309%0A415%20867%205309%0A415.867.5309%0A(415)%20867-5309%0A1-415-867-5309%0A415-867-5309-9999%0A415-867-5309x9999%0A415-867-5309%20ext.%209999%0Aemergency%201-(415)%20867.5309%20%239999&ignorecase=0&multiline=0&dotall=0&verbose=0"
      ],
      "metadata": {
        "id": "sJ24zsOUNAk7"
      }
    },
    {
      "cell_type": "code",
      "source": [
        "import re\n",
        "import sys\n",
        "\n",
        "test_numbers = [\"415-867-5309\", \"415 867 5309\", \"415.867.5309\", \"(415) 867-5309\", \"1-415-867-5309\", \"415-867-5309-9999\", \n",
        "                \"415-867-5309x9999\", \"415-867-5309 ext. 9999\", \"emergency 1-(415) 867.5309 #9999\"]\n",
        "\n",
        "pattern = ??? #Add the correct pattern\n",
        "\n",
        "for item in test_numbers:\n",
        "    result = re.findall(pattern, item)\n",
        "    print(result)"
      ],
      "metadata": {
        "id": "vkCEp4WqNt7l"
      },
      "execution_count": null,
      "outputs": []
    },
    {
      "cell_type": "markdown",
      "source": [
        "## Assignment 2. Analyse e-mails\n",
        "We’ll use regex to sort the parts of each email into appropriate categories so that the Corpus can be more easily read or analysed.\n",
        "\n",
        "We will collect the first 5 e-mails and sort each email into the following categories:\n",
        "\n",
        "sender_name<br>\n",
        "sender_address<br>\n",
        "recipient_address<br>\n",
        "recipient_name<br>\n",
        "date_sent: _31 Oct 2002 (but not the name of the day or the hour)_<br>\n",
        "subject_email<br>\n",
        "email_body<br>"
      ],
      "metadata": {
        "id": "K2G-sIGbNwPW"
      }
    },
    {
      "cell_type": "code",
      "source": [
        "import re\n",
        "import sys\n",
        "import json\n",
        "\n",
        "file = codecs.open(\"./fradulent_emails_utf8.txt\", \"r\").read()\n",
        "\n",
        "### Make a list of emails (full e-mail ass a single string) from the contents of the given document\n",
        "### How can we access e-mails separately in a document of all e-mails? (Tip: Use re.split())\n",
        "\n",
        "list_email_dict = [] #This is where we will store individual email dictionaries\n",
        "counter = 0\n",
        "for email in contents:\n",
        "        counter+=1\n",
        "        print(\"EMAIL COUNT = \"+str(counter))\n",
        "        \n",
        "        ### Step 1: Create an empty dictionary for each email\n",
        "        \n",
        "        ### Step 2: Get the sender name and address\n",
        "        \n",
        "        ### Step 3: Get the receiver name and address\n",
        "        \n",
        "        ### Step 4: Get date_sent\n",
        "        \n",
        "        ### Step 5: Get the subject of the e-mail\n",
        "    \n",
        "        ### Step 6: Get the body of the e-mail (where does the body of each e-mail start?)\n",
        "        \n",
        "        ### Step 7: Add all the information to the e-mail dictionary\n",
        "        \n",
        "### When all the e-mails are checked, write the first 5 e-mail dictionaries to a json file\n",
        "### Search on Internet how to write a dictionary to a json file.\n",
        "\n",
        "\n"
      ],
      "metadata": {
        "id": "3Q9mtC2UNymh"
      },
      "execution_count": null,
      "outputs": []
    }
  ]
}