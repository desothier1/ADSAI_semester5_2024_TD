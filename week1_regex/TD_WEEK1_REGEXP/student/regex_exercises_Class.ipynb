{
  "cells": [
    {
      "cell_type": "markdown",
      "metadata": {
        "id": "iu7zXjm6Pqh6"
      },
      "source": [
        "# Regular Expressions Exercises Part 1\n",
        "You can validate your code for each exercises with the tests provided (also with the correct results you should get in each case)"
      ]
    },
    {
      "cell_type": "markdown",
      "metadata": {
        "id": "hEwFpGzNPqh7"
      },
      "source": [
        "## 1\n",
        "\n",
        "Write a function that returns \"Match\" if a given input contains \"a\", \"b\" or \"c\" and returns \"No match\" otherwise."
      ]
    },
    {
      "cell_type": "code",
      "execution_count": null,
      "metadata": {
        "id": "cJFgbP7RPqh8"
      },
      "outputs": [],
      "source": [
        "import re\n",
        "def match_text(string):\n",
        "    # Add your code here\n",
        "    \n",
        "\n",
        "print(match_text(\"ABCDEFabcdef123450\")) # Match\n",
        "print(match_text(\"*&%@#!}{\")) # No match\n",
        "print(match_text(\"123\")) # No match\n"
      ]
    },
    {
      "cell_type": "markdown",
      "metadata": {
        "id": "IwET2TOYPqh8"
      },
      "source": [
        "## 2\n",
        "Write a function that returns \"Match\" if a given input contains \"a\" followed by zero or more \"b\"s and returns \"No match\" otherwise."
      ]
    },
    {
      "cell_type": "code",
      "execution_count": null,
      "metadata": {
        "id": "TcAB7q9iPqh9"
      },
      "outputs": [],
      "source": [
        "import re\n",
        "def text_match(text):\n",
        "    # Add your code here\n",
        "\n",
        "print(text_match(\"ac\")) # Match\n",
        "print(text_match(\"abc\")) # Match\n",
        "print(text_match(\"abbc\")) # Match\n",
        "print(text_match(\"bb\")) # No match\n",
        "print(text_match(\"bba\")) # Match"
      ]
    },
    {
      "cell_type": "markdown",
      "metadata": {
        "id": "B949jYZaPqh9"
      },
      "source": [
        "## 3\n",
        "Write a function that returns \"Match\" if a given input contains \"a\" followed by 0 or 1 \"b\", followed by \"c\" and returns \"No match\" otherwise."
      ]
    },
    {
      "cell_type": "code",
      "execution_count": null,
      "metadata": {
        "id": "ANpuIaCgPqh9"
      },
      "outputs": [],
      "source": [
        "import re\n",
        "def text_match(text):\n",
        "    # Add your code here\n",
        "\n",
        "print(text_match(\"ab\")) # No match\n",
        "print(text_match(\"ac\")) # Match\n",
        "print(text_match(\"abbc\")) # No match\n",
        "print(text_match(\"abc\")) # Match\n",
        "print(text_match(\"bac\")) # Match"
      ]
    },
    {
      "cell_type": "markdown",
      "metadata": {
        "id": "zIhFHxXaPqh9"
      },
      "source": [
        "## 4\n",
        "Write a function that returns \"Match\" if a given input contains \"a\" at the beginning of the input string followed by 1 or more \"b\"s and ending with \"c\". It returns \"No match\" otherwise."
      ]
    },
    {
      "cell_type": "code",
      "execution_count": null,
      "metadata": {
        "id": "a6qnv8fvPqh-"
      },
      "outputs": [],
      "source": [
        "import re\n",
        "def text_match(text):\n",
        "    # Add your code here\n",
        "            \n",
        "print(text_match(\"ab\")) # No match\n",
        "print(text_match(\"ac\")) # Match\n",
        "print(text_match(\"cabca\")) # No match\n",
        "print(text_match(\"abbbc\")) # Match\n",
        "print(text_match(\"acb\")) # No Match\n",
        "print(text_match(\"bc\")) # No Match"
      ]
    },
    {
      "cell_type": "markdown",
      "metadata": {
        "id": "0J7ulLrpPqh-"
      },
      "source": [
        "## 5 \n",
        "Write a function that returns \"Match\" if a given input contains one or more spaces at the beginning or at the end of the string. It returns \"No match\" otherwise. "
      ]
    },
    {
      "cell_type": "code",
      "execution_count": null,
      "metadata": {
        "id": "Z-40i_YRPqh-"
      },
      "outputs": [],
      "source": [
        "import re\n",
        "def text_match(text):\n",
        "    # Add your code here\n",
        "            \n",
        "print(text_match(\"   cat\")) # Match\n",
        "print(text_match(\"dog \")) # Match\n",
        "print(text_match(\"cat and dog\")) # No match\n",
        "print(text_match(\" \")) # Match"
      ]
    },
    {
      "cell_type": "markdown",
      "metadata": {
        "id": "xlcIJVlrPqh_"
      },
      "source": [
        "## 6 \n",
        "Write a function that returns \"Match\" if a given input contains a __word__ that contains (upper or lowercase) \"g\". It returns \"No match\" otherwise. A word in this case is a set of characters consisting of letters, numbers or an underscore \"_\"."
      ]
    },
    {
      "cell_type": "code",
      "execution_count": null,
      "metadata": {
        "id": "CcKUoF2nPqh_"
      },
      "outputs": [],
      "source": [
        "import re\n",
        "def text_match(text):\n",
        "    # Add your code here\n",
        "\n",
        "print(text_match(\"the lazy dog.\")) # Match\n",
        "print(text_match(\"He is taking the trash out.\")) # Match\n",
        "print(text_match(\"Gate no. 4.\")) # Match\n",
        "print(text_match(\"Room G\")) # Match\n",
        "print(text_match(\"letters, numbers or an underscore '_'.\")) # No match"
      ]
    },
    {
      "cell_type": "markdown",
      "metadata": {
        "id": "EwXomRctPqh_"
      },
      "source": [
        "## 7\n",
        "Write a function that returns \"Match\" if a given input is a valid e-mail address. It returns \"No match\" otherwise. A valid e-mail address consists of a username (consisting of only letters, numbers or an underscore), an \"@\" sign followed by a domain, which also contains a dot character \".\".  "
      ]
    },
    {
      "cell_type": "code",
      "execution_count": null,
      "metadata": {
        "id": "Z9RkzSGdPqh_"
      },
      "outputs": [],
      "source": [
        "import re\n",
        "def text_match(text):\n",
        "    # Add your code here\n",
        "\n",
        "print(text_match(\"jginspace@msn.com\")) # Match\n",
        "print(text_match(\"alias@@att.net\")) # No match\n",
        "print(text_match(\"forsberg@me,com\")) # No match\n",
        "print(text_match(\"barlow@att.\")) # No match\n",
        "print(text_match(\"credmond_jr@optonline.net\")) # Match\n",
        "print(text_match(\"aracne-dot@sbcglobal.net\")) # No match"
      ]
    },
    {
      "cell_type": "code",
      "execution_count": null,
      "metadata": {
        "id": "KJQ0O6HUPqiA"
      },
      "outputs": [],
      "source": [
        ""
      ]
    }
  ],
  "metadata": {
    "kernelspec": {
      "display_name": "Python3-new",
      "language": "python",
      "name": "python3"
    },
    "language_info": {
      "codemirror_mode": {
        "name": "ipython",
        "version": 3
      },
      "file_extension": ".py",
      "mimetype": "text/x-python",
      "name": "python",
      "nbconvert_exporter": "python",
      "pygments_lexer": "ipython3",
      "version": "3.7.4"
    },
    "colab": {
      "name": "regex_exercises.ipynb",
      "provenance": []
    }
  },
  "nbformat": 4,
  "nbformat_minor": 0
}