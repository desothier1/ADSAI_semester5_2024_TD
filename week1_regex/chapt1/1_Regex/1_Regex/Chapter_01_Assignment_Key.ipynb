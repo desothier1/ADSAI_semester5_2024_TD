{
  "nbformat": 4,
  "nbformat_minor": 0,
  "metadata": {
    "colab": {
      "name": "Chapter_01_Assignment_Key.ipynb",
      "provenance": []
    },
    "kernelspec": {
      "name": "python3",
      "display_name": "Python 3"
    },
    "language_info": {
      "name": "python"
    }
  },
  "cells": [
    {
      "cell_type": "markdown",
      "source": [
        "## Assignment 1. Phone numbers \n",
        "\n",
        "Write a regular expression pattern that will capture all the phone numbers in the following list:\n",
        "    \n",
        "- 415-867-5309\n",
        "- 415 867 5309\n",
        "- 415.867.5309\n",
        "- (415) 867-5309\n",
        "- 1-415-867-5309\n",
        "- 415-867-5309-9999\n",
        "- 415-867-5309x9999\n",
        "- 415-867-5309 ext. 9999\n",
        "- emergency 1-(415) 867.5309 #9999\n",
        "\n",
        "Your code should return (only) four values (four regex groups):\n",
        "1. area code (415)\n",
        "2. trunk1 (867)\n",
        "3. trunk2 (5309)\n",
        "4. any possible extension (9999)\n",
        "\n",
        "__Tip:__ You can use \"\\D\" to capture non-digit characters.\n",
        "\n",
        "The correct output should look lik this:<br>\n",
        "[('415', '867', '5309', '')]<br>\n",
        "[('415', '867', '5309', '')]<br>\n",
        "[('415', '867', '5309', '')]<br>\n",
        "[('415', '867', '5309', '')]<br>\n",
        "[('415', '867', '5309', '')]<br>\n",
        "[('415', '867', '5309', '9999')]<br>\n",
        "[('415', '867', '5309', '9999')]<br>\n",
        "[('415', '867', '5309', '9999')]<br>\n",
        "[('415', '867', '5309', '9999')]<br>\n",
        "\n",
        "Visualize your pattern:\n",
        "https://pythex.org/?regex=%5Cd%2B&test_string=415-867-5309%0A415%20867%205309%0A415.867.5309%0A(415)%20867-5309%0A1-415-867-5309%0A415-867-5309-9999%0A415-867-5309x9999%0A415-867-5309%20ext.%209999%0Aemergency%201-(415)%20867.5309%20%239999&ignorecase=0&multiline=0&dotall=0&verbose=0"
      ],
      "metadata": {
        "id": "fpSvmaEFOFay"
      }
    },
    {
      "cell_type": "code",
      "source": [
        "import re\n",
        "import sys\n",
        "\n",
        "test_numbers = [\"415-867-5309\", \"415 867 5309\", \"415.867.5309\", \"(415) 867-5309\", \"1-415-867-5309\", \"415-867-5309-9999\", \n",
        "                \"415-867-5309x9999\", \"415-867-5309 ext. 9999\", \"emergency 1-(415) 867.5309 #9999\"]\n",
        "\n",
        "\n",
        "pattern = \"\\D*(\\d{3})\\D*(\\d{3})\\D*(\\d{4})\\D*(\\d+)?\"\n",
        "\n",
        "#Let's find the e-mail addresses\n",
        "for item in test_numbers:\n",
        "    result = re.findall(pattern, item)\n",
        "    print(result)"
      ],
      "metadata": {
        "id": "Dbt-ZdTvOHC9"
      },
      "execution_count": null,
      "outputs": []
    },
    {
      "cell_type": "markdown",
      "source": [
        "## Assignment 2. Analyse e-mails\n",
        "We’ll use regex to sort the parts of each email into appropriate categories so that the Corpus can be more easily read or analysed.\n",
        "\n",
        "We will collect the first 5 e-mails and sort each email into the following categories:\n",
        "\n",
        "* sender_name<br>\n",
        "* sender_address<br>\n",
        "* recipient_address<br>\n",
        "* recipient_name<br>\n",
        "* date_sent: _31 Oct 2002 (but not the name of the day or the hour)_<br>\n",
        "* subject_email<br>\n",
        "* email_body<br>\n",
        "\n",
        "Further instructions are provided in the code below."
      ],
      "metadata": {
        "id": "3KOVbhy_OJQ8"
      }
    },
    {
      "cell_type": "code",
      "source": [
        "import codecs\n",
        "import re\n",
        "import sys\n",
        "\n",
        "file = open(\"./fradulent_emails_utf8.txt\", \"r\").read()\n",
        "print(file[:100])\n",
        "contents = re.split(\"From r\", file)\n",
        "#print(contents[:2]) \n",
        "contents.pop(0) # first item is empty so we can remove it\n",
        "#print(contents[0].split('\\n'))\n",
        "\n",
        "list_email_dict = []\n",
        "counter = 0\n",
        "for email in contents:\n",
        "        counter+=1\n",
        "        print(\"EMAIL COUNT = \"+str(counter))\n",
        "        email_dict = {}\n",
        "        sender = re.findall(\"From:.*\", email)\n",
        "        print(\"Sender:\")\n",
        "        #print(sender)\n",
        "        s_name = re.findall('(?<=\").*(?=\")', sender[0], re.I)\n",
        "        s_address = re.findall(\"\\w\\S*@.*\\w\", sender[0], re.I)\n",
        "        print(s_address)\n",
        "        print(s_name)\n",
        "        \n",
        "        \n",
        "        receiver = re.findall(\"\\nTo:.*\", email) # If we do not add \\n we will also catch \"Reply-to\"\n",
        "        print(\"Receiver:\")\n",
        "        #print(receiver)\n",
        "        r_name = re.findall('(?<=\").*(?=\")', receiver[0], re.I)\n",
        "        r_address = re.findall(\"\\w\\S*@.*\\w\", receiver[0], re.I)\n",
        "        print(r_address)\n",
        "        print(r_name)\n",
        "        \n",
        "        date = re.findall(\"\\nDate:.*\", email)\n",
        "        print(\"Date:\")\n",
        "        #print(date)\n",
        "        date_sent = re.findall(\"\\d{,2}\\s\\w+\\s\\d{4}\", date[0])\n",
        "        print(date_sent)\n",
        "                          \n",
        "            \n",
        "        subject = re.findall(\"\\nSubject:.*\", email)\n",
        "        print(\"Subject:\")\n",
        "        #print(subject)\n",
        "        subject_email = re.findall(\"(?<=Subject:\\s).*\", email)\n",
        "        print(subject_email)\n",
        "        \n",
        "        body1 = re.split(\"Status:.*\\n\", email)[-1] # It is difficult to do this with findall\n",
        "        print(\"Body 1:\")\n",
        "        print(body1)\n",
        "        \n",
        "        # We will use \"search\" instead\n",
        "        # But this will not catch any email that does not start with \"Dear\"\n",
        "        #body2 = re.search(\"Dear\\s.*\", email, re.I|re.DOTALL).group()\n",
        "        #print(\"Body 2:\")\n",
        "        #print(body2)\n",
        "        \n",
        "        # Add everything to the email dictionary\n",
        "        email_dict[\"s_name\"] = s_name\n",
        "        email_dict[\"s_address\"] = s_address\n",
        "        email_dict[\"r_name\"] = r_name\n",
        "        email_dict[\"r_address\"] = r_address\n",
        "        email_dict[\"date_sent\"] = date_sent\n",
        "        email_dict[\"subject\"] = subject\n",
        "        email_dict[\"body\"] = body1\n",
        "        list_email_dict.append(email_dict)\n",
        "        if counter == 5:\n",
        "            sys.exit(\"Collected 5 emails\")\n",
        "\n"
      ],
      "metadata": {
        "id": "DRJxT1a5OOd8"
      },
      "execution_count": null,
      "outputs": []
    }
  ]
}