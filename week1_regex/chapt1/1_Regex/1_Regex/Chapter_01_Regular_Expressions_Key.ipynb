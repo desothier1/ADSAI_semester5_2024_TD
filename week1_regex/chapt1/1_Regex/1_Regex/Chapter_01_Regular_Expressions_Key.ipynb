{
  "cells": [
    {
      "cell_type": "markdown",
      "metadata": {
        "id": "93rBQt2qjamC"
      },
      "source": [
        "# Chapter 1: Regular Expressions"
      ]
    },
    {
      "cell_type": "code",
      "execution_count": null,
      "metadata": {
        "id": "TUvZOPZsjamF"
      },
      "outputs": [],
      "source": [
        "#We will use the \"re\" package for regular expressions\n",
        "import re\n"
      ]
    },
    {
      "cell_type": "markdown",
      "metadata": {
        "id": "iWemA1AgjamG"
      },
      "source": [
        "## **DIY: Find years**\n",
        "Write a function that returns a list of years between a given input string.\n",
        "Your function should return ['1789', '2009', '1960', '1982'] in the following example:"
      ]
    },
    {
      "cell_type": "code",
      "execution_count": 2,
      "metadata": {
        "colab": {
          "base_uri": "https://localhost:8080/"
        },
        "id": "H2AaTm2njamH",
        "outputId": "cb50915b-aa50-4bff-888d-1665837fdd2e"
      },
      "outputs": [
        {
          "output_type": "stream",
          "name": "stdout",
          "text": [
            "['1789', '2009', '1960', '1346', '1982']\n"
          ]
        }
      ],
      "source": [
        "text = \"August 23; 1789; April 14, 2009; September 12 1960; March 3, 1346, October 2, 1982\"\n",
        "\n",
        "def find_years(text):\n",
        "    years_list = []\n",
        "    number = \"\"\n",
        "    for s in text:\n",
        "        if s in [\"0\", \"1\", \"2\", \"3\", \"4\", \"5\", \"6\", \"7\", \"8\", \"9\"]:\n",
        "            number+=s\n",
        "        else:\n",
        "            if len(number) == 4:\n",
        "                years_list.append(number)\n",
        "            else:\n",
        "                pass\n",
        "            number = \"\"\n",
        "    #Without this it will not capture 1982\n",
        "    if len(number) == 4:\n",
        "        years_list.append(number)\n",
        "    return years_list\n",
        "\n",
        "years_list = find_years(text)\n",
        "print(years_list)"
      ]
    },
    {
      "cell_type": "markdown",
      "metadata": {
        "id": "24qnh23djamH"
      },
      "source": [
        "## **Regular expressions**\n",
        "\n",
        "A regular expression (regex) defines a search pattern for strings. The search pattern can be anything from a simple character, a fixed string or a complex expression containing special characters describing the pattern. The pattern defined by the regex may match one or several times or not at all for a given string.\n",
        "\n",
        "Regular expressions can be used to search, edit and manipulate text.\n",
        "\n",
        "The power of regex comes from being able to match complex strings with simple patterns.\n",
        "\n",
        "## re.findall()\n",
        "Findall returns all the non-overlapping matches of patterns in a string.\n",
        "\n",
        "Let's try to capture all (and only) the years in the following date:"
      ]
    },
    {
      "cell_type": "code",
      "execution_count": null,
      "metadata": {
        "id": "0irivVD9jamI",
        "outputId": "51039a90-3cac-4d0d-f8c3-104f47fb649a"
      },
      "outputs": [
        {
          "name": "stdout",
          "output_type": "stream",
          "text": [
            "['1789', '2009', '1960', '1346', '1982']\n"
          ]
        }
      ],
      "source": [
        "string = \"August 23; 1789; April 14, 2009; September 12 1960; March 3, 1346, October 2, 1982\"\n",
        "pattern = \"\\d{4}\"\n",
        "\n",
        "result = re.findall(pattern, string)\n",
        "print(result)\n",
        "\n"
      ]
    },
    {
      "cell_type": "markdown",
      "metadata": {
        "id": "gCUoAt8djamJ"
      },
      "source": [
        "## __Basic regex operations/patterns__\n",
        "\n",
        "(Most) Characters match themselves. However, to be able to generate patterns, we need to reserve some symbols (i.e. meta-characters). These **meta-characters** do not match themselves because they have special meanings are: . * + ? ^ \\$ \\{ \\} [ ] | ( ) \n",
        "\n",
        "\n",
        "<br>\n",
        "<li>. (dot) -- matches any single character except newline '\\n'\n",
        "<li>* (star) -- causes the given (preceeding) regex pattern to match 0 or more repetitions. ab* will match ‘a’, ‘ab’, or ‘a’ followed by any number of ‘b’s.\n",
        "<li>+ (plus) -- causes the resulting RE to match 1 or more repetitions of the preceding RE. ab+ will match ‘a’ followed by any non-zero number of ‘b’s; it will not match just ‘a’.\n",
        "<li>? (q.mark) -- by default, regext patterns are greedy (they match the longest possible string). \"?\" lets us do non-greedy searches (to match the shortest possible string)\n",
        "<li>^ (caret) -- matches the start of the string (the string itself is not included)\n",
        "<li>\\$ (dollar) -- matches the end of the string (the string itself is not included)\n",
        "<br>\n",
        "\n",
        "Python regex cheatsheet: https://www.dataquest.io/blog/regex-cheatsheet/\n",
        "Test regular expressions: https://regex101.com/"
      ]
    },
    {
      "cell_type": "markdown",
      "source": [
        "### **DIY1: A's and B's** \n",
        "Write a Python program that matches a string that starts with an **a** followed by **(only) zero or more** **b**'s .\n",
        "\n"
      ],
      "metadata": {
        "id": "wnWyzzcvyWKT"
      }
    },
    {
      "cell_type": "code",
      "source": [
        "import re\n",
        "def text_match(text):\n",
        "        pattern = '^ab*$'\n",
        "        if re.findall(pattern,  text):\n",
        "                return 'Found a match!'\n",
        "        else:\n",
        "                return('Not matched!')\n",
        "print(text_match(\"ac\")) #Not matched!\n",
        "print(text_match(\"abc\")) #Not matched!\n",
        "print(text_match(\"a\")) # Found a match!\n",
        "print(text_match(\"ab\")) # Found a match!\n",
        "print(text_match(\"abb\")) # Found a match!\n",
        "print(text_match(\"cabb\")) #Not matched!"
      ],
      "metadata": {
        "colab": {
          "base_uri": "https://localhost:8080/"
        },
        "id": "07cepcE1yT11",
        "outputId": "dd0a4b69-71c9-40cb-d08c-85697ef14fc1"
      },
      "execution_count": 16,
      "outputs": [
        {
          "output_type": "stream",
          "name": "stdout",
          "text": [
            "Not matched!\n",
            "Not matched!\n",
            "Found a match!\n",
            "Found a match!\n",
            "Found a match!\n",
            "Not matched!\n"
          ]
        }
      ]
    },
    {
      "cell_type": "markdown",
      "metadata": {
        "id": "0sDKbxbXjamK"
      },
      "source": [
        "### __What if we need to capture the meta-characters in text?__\n",
        "\n",
        "Let's try to capture all the years (with the plus sign if they are preceded with) in the following string:"
      ]
    },
    {
      "cell_type": "code",
      "execution_count": null,
      "metadata": {
        "id": "4mSqidVLjamK",
        "outputId": "98225f92-d179-43ba-934d-def7e05e281b"
      },
      "outputs": [
        {
          "name": "stdout",
          "output_type": "stream",
          "text": [
            "['+1789', '+2009', '1960', '1346', '1982']\n"
          ]
        }
      ],
      "source": [
        "string = \"August 23; +1789; April 14, +2009; September 12 1960; March 3, 1346, October 2, 1982\"\n",
        "pattern = \"\\+?\\d{4}\"\n",
        "\n",
        "result = re.findall(pattern, string)\n",
        "print(result)"
      ]
    },
    {
      "cell_type": "markdown",
      "metadata": {
        "id": "mURuGMr3jamL"
      },
      "source": [
        "###__The Task:__ Analyze Spam Emails\n",
        "\n",
        "In this tutorial, we’ll use the Fraudulent Email Corpus from Kaggle. It contains thousands of phishing emails sent between 1998 and 2007. \n",
        "\n",
        "1. Open the file \"fradulant_emails_utf8.txt\"\n",
        "2. Collect the list of all senders\n",
        "> Write a regex pattern to find all lines starting with \"From:\" \n",
        "3. Collect only e-mail adresses of the senders\n",
        "4. Collect only the names of the senders "
      ]
    },
    {
      "cell_type": "code",
      "source": [
        "import re\n",
        "import codecs\n",
        "import sys\n",
        "\n",
        "file_content = codecs.open(\"./fradulent_emails_utf8.txt\", \"r\", \"utf-8\").read()\n",
        "print(file_content[:300])"
      ],
      "metadata": {
        "colab": {
          "base_uri": "https://localhost:8080/"
        },
        "id": "iRbrkT3Vt50m",
        "outputId": "9bf87495-795e-4526-ce14-d8163ab9a6ad"
      },
      "execution_count": 4,
      "outputs": [
        {
          "output_type": "stream",
          "name": "stdout",
          "text": [
            "From r  Wed Oct 30 21:41:56 2002\n",
            "Return-Path: <james_ngola2002@maktoob.com>\n",
            "X-Sieve: cmu-sieve 2.0\n",
            "Return-Path: <james_ngola2002@maktoob.com>\n",
            "Message-Id: <200210310241.g9V2fNm6028281@cs.CU>\n",
            "From: \"MR. JAMES NGOLA.\" <james_ngola2002@maktoob.com>\n",
            "Reply-To: james_ngola2002@maktoob.com\n",
            "To: webmaster@acl\n"
          ]
        }
      ]
    },
    {
      "cell_type": "code",
      "source": [
        "# Collect lines starting with \"From:\"\n",
        "pattern = \"^From:.*$\"\n",
        "result = re.findall(pattern, file_content)\n",
        "print(result)\n"
      ],
      "metadata": {
        "colab": {
          "base_uri": "https://localhost:8080/"
        },
        "id": "JYOXGQp0t7sM",
        "outputId": "a903ac02-43fb-4775-b7e3-fd93fecaeb8b"
      },
      "execution_count": 5,
      "outputs": [
        {
          "output_type": "stream",
          "name": "stdout",
          "text": [
            "[]\n"
          ]
        }
      ]
    },
    {
      "cell_type": "markdown",
      "source": [
        "The caret operator, per default, only applies to the start of a string. So if you’ve got a multi-line string—for example, when reading a text file—it will still only match once: at the beginning of the string.\n",
        "\n",
        "However, you may want to match at the beginning of each line. For example, you may want to find all lines that start with ‘From’ in a given string.\n",
        "\n",
        "You can specify that the caret operator matches the beginning of each line via the re.MULTILINE flag. Here’s an example showing both usages—without and with setting the re.MULTILINE flag:"
      ],
      "metadata": {
        "id": "P_-C_ooqt8X8"
      }
    },
    {
      "cell_type": "code",
      "source": [
        "# Collect lines starting with \"From:\"\n",
        "pattern = \"^From:.*$\"\n",
        "result = re.findall(pattern, file_content, re.MULTILINE)\n",
        "print(result)"
      ],
      "metadata": {
        "colab": {
          "base_uri": "https://localhost:8080/"
        },
        "id": "Hm4XQTCSuJMQ",
        "outputId": "9a1ca892-aebf-46a6-b733-38e760146d9a"
      },
      "execution_count": 8,
      "outputs": [
        {
          "output_type": "stream",
          "name": "stdout",
          "text": [
            "['From: \"MR. JAMES NGOLA.\" <james_ngola2002@maktoob.com>', 'From: \"Mr. Ben Suleman\" <bensul2004nng@spinfinder.com>', 'From: \"PRINCE OBONG ELEME\" <obong_715@epatra.com>', 'From: \"PRINCE OBONG ELEME\" <obong_715@epatra.com>', 'From: \"Maryam Abacha\" <m_abacha03@www.com>', 'From: Kuta David <davidkuta@postmark.net>', 'From: \"Barrister tunde dosumu\" <tunde_dosumu@lycos.com>', 'From: \"William Drallo\" <william2244drallo@maktoob.com>', 'From: \"MR USMAN ABDUL\" <abdul_817@rediffmail.com>', 'From: \"Tunde  Dosumu\" <barrister_td@lycos.com>', 'From: MR TEMI JOHNSON <temijohnson2@rediffmail.com>', 'From: \"Dr.Sam jordan\" <sjordan@diplomats.com>', 'From: p_brown2@lawyer.com', 'From: mic_k1@post.com', 'From: \"COL. MICHAEL BUNDU\" <mikebunduu1@rediffmail.com>', 'From: \"MRS MARIAM ABACHA\" <elixwilliam@usa.com>', 'From: \" DR. ANAYO AWKA \" <anayoawka@hotmail.com>', 'From: \" DR. ANAYO AWKA \" <anayoawka@hotmail.com>', 'From: \"Victor Aloma\" <victorloma@netscape.net>', 'From: \"Victor Aloma\" <victorloma@netscape.net>', 'From: \"JAMES NGOLA\" <james_ngola2002@maktoob.com>', 'From: \"MARTIN CHIME\" <martinchime@usa.com>', 'From: \"Mr George Mboro\" <mboro1555@post.com>', 'From: \"MARTIN  CHIME\" <martinchime@borad.com>', 'From: \"MARTIN  CHIME\" <martinchime@borad.com>', 'From: <edema_mb@phantomemail.com>', 'From: <edema_mb@phantomemail.com>', 'From: \"ADE WILLIAMS\" <adewilliams_ade@lawyer.com>', 'From: smithkam2@post.com', 'From: \"MRS. M SESE-SEKO\" <sesm@omaninfo.com>', 'From: \"obina okoro\" <obinaokoro@37.com>', 'From: \"DR. JAMES  ALBERT\" <jamesalbert0@eircom.net>', 'From: adamuohiroma adamuohiroma <adamuohiroma.adamuohiroma@caramail.com>', 'From: \"MR FRED OBI.\" <fredobi3@omaninfo.com>', 'From: \"mbeki ngumeni\" <mbengu@37.com>', 'From: mahoyi mamudu <mmahoyi@caramail.com>', 'From: \"Mr. David Agu\" <adgua@mail.com>', 'From: \"bell.idr bell.idr\" <bbell.idr@caramail.com>', 'From: \"idris.bello idris.bello\" <iidris.bello@caramail.com>', 'From: john2002@bluemail.ch', 'From: \"CLEMENT APUTE\" <clem-apute@consultant.com>', 'From: \"MR GODWIN IGBUNU\" <g.godwin12345@caramail.com>', 'From: \"bell.idr bell.idr\" <bbell.idr@caramail.com>', 'From: \"Mr. David Agu\" <dav84@mail.com>', 'From: \"deborah kabila\" <kabila72b@37.com>', 'From: Khalifa Sese <kss07@go.com>', 'From: Khalifa Sese <kss07@go.com>', 'From: \"MOHAMMED BELLO (Ph.D)\" <mohammed_bello_1@yahoo.com>', 'From: \"PETER WILLIAMS\" <cooooofoooooooo@rediffmail.com>', 'From: \"Oliveira Savimbi\" <olivsav@netscape.net>', 'From: \"Mr. Daniel Osondu\" <tdannosondu@mail.com>', 'From: Mr.Daniel Osondu', 'From: <williamsdaniel1@phantomemail.com>', 'From: \"Ruka\" <rulagg@excite.com>', 'From: \"IDRIS ADAMU\" <idris2003942@aol.com>', 'From: \"DR.  SANNI  SABO\" <davidmensoh@mail.com>', 'From: \"DR.  SANNI  SABO\" <davidmensoh@mail.com>', 'From: \"Ibrahim Galadima\" <ig_esq@rediffmail.com>', 'From: ademola1950@hknetmail.com', 'From: \"Mohammed Abacha\" <a_mabachas@yahoo.co.uk>', 'From: \"PRINCE TUNDE O ADISARAKI\" <princeadisaraki5@usa.com>', 'From: \"judeestrada\" <judeestrada2@dmailman.com>', 'From: \"JONATHAN  MOKOENA\" <davidmensoh@mail.com>', 'From: olu@mailservice.ms', 'From: \"res bob12\" <resbobi2@al-islam.com>', 'From: \"LADY MARYAM ABACHA \" <mariam.abacha58@boredmail.com>', 'From: \"MR.TUNDE  BALOGUN\" <tundebalogun@omaninfo.com>', 'From: \"MR.BENSON  ATTAH\" <mrbenson_attah@omaninfo.com>', 'From: \"MR.BENSON  ATTAH\" <mrbenson_attah@omaninfo.com>', 'From: \"MR.TUNDE  BALOGUN\" <tundebalogun@omaninfo.com>', 'From: \"LADY MARYAM ABACHA \" <mariam.abacha57@boredmail.com>', 'From: \"DR.  SANNI  SABO\" <davidmensoh@mail.com>', 'From: \"Dr Luisa Pimental Estrada\" <luisaestrada2002@luisapestrada.zzn.com>', 'From: \"Graham Douglas\" <douglas.graham@caramail.com>', 'From: luis oboh <oluis2@caramail.com>', 'From: luis oboh <oluis2@caramail.com>', 'From: \"savimbidenis@www.com\" <savimbidenis@www.com>', 'From: \"Nsekou Mobutu Sesekou\" <sekou_family@mailsurf.com>', 'From: \"DR. BELLO MUSA\" <dr_bellomusa01@omaninfo.com>', 'From: Frank Williams <frankwilliams2@starmedia.com>', 'From: Mr. Frank Williams.', 'From: \"=?iso-8859-1?Q?lawrence.smith?=\" <lawrence.smith@voila.fr>', 'From: \"DONALD  ATTAH\" <donaldattah@netzero.com>', 'From: \"daniel innocent\" <daninno555@37.com>', 'From: \"deborah kabila\" <kabila72i@37.com>', 'From: \"peter\" <peter_savimbi20@phantomemail.com>', 'From: \"joseph benson\" <josephbenson@weedmail.com>', 'From: mr_bb@hknetmail.com', 'From: \"pat odogu\" <pat11@weedmail.com>', 'From: felix lamine <felix.lamine@caramail.com>', 'From: \"PATRICK  MOHAMMED\" <patrickmohammed@omaninfo.com>', 'From: \"PATRICK  MOHAMMED\" <patrickmohammed@omaninfo.com>', 'From: \"Mr. Lawrence Abba\" <lawrenceabba@operamail.com>', 'From: bill_james4@bluemail.ch', 'From: Mr Benard Gelicah Sankoh.', 'From: \"MALCOM TUTU\" <macontu05@yahoo.com>', 'From: Mr. MALCOM TUTU  (chief auditor)', 'From: \"MALCOM TUTU\" <macontu05@yahoo.com>', 'From: Mr. MALCOM TUTU  (chief auditor)', 'From: stevens bangura <stevens.bangura@caramail.com>', 'From: \"MR. DONALD ATTAH\" <donaldattah@omaninfo.com>', 'From: \"Dr mariam abacha\" <marabac011@hotmail.com>', 'From: Frank Ikpendu <frankikpendu3@mail.co.za>', 'From: \"jeffery hill\" <jeffery_hill10007@hotmail.com>', 'From: \"malcom tutu\" <macontu028@yahoo.com>', 'From: \"malcom tutu\" <macontu028@yahoo.com>', 'From: \"sam aluko\" <samaluko1@37.com>', 'From: \"GEORGE  KABILA\" <ggeorgekabyl@caramail.com>', 'From: \"CYRIL AKWARANDU\" <madu_invest@yahoo.com>', 'From: \"CYRIL AKWARANDU\" <madu_invest@yahoo.com>', 'From: \"MR.YARO BAMIYI\" <doomer@themail.com>', 'From: \"barr.femi\" <barr.femi@caramail.com>', 'From: \"DR DOUGLAS NWANKWO\" <douglankwo@yahoo.com>', 'From: \"Mrs. Safi  Al Mustapha\" <leathercity1@irangate.net>', 'From: \"Mrs. Safi  Al Mustapha\" <leathercity1@irangate.net>', 'From: \"Dr Mariam abacha\" <mariam.aba@caramail.com>', 'From: \"Dr.Moses\" <moses1970@englishexpert.com>', 'From: \"Dr.Moses\" <moses1970@englishexpert.com>', 'From: \"DR. OLUSEGUN SMITH\" <olu002@phantomemail.com>', 'From: \"Dr. Bernard Makelele\" <benkelele@phantomemail.com>', 'From: chiedo_jonathan2@netzero.com', 'From: \"kaseke kenneth\" <kasekek@email.com>', 'From: willbanigo003@juntos.com', 'From: \"DR ABDULL RASAQ\" <drabdullrasaq@phantomemail.com>', 'From: \"DR ABDULL RASAQ\" <drabdullrasaq@phantomemail.com>', 'From: \"williame ume\" <kkalume@bluemail.ch>', 'From: jisrael2@breathe.com', 'From: \"KENNETH ILOKA\" <umarb@themail.com>', 'From: charlesnwodo@excite.com', 'From: Mr. Charles Nwodo', 'From: \"Oliveira Savimbi\" <olivsav@netscape.net>', 'From: \"James DeSouza.\" <jdsouza1@hotvoice.com>', 'From: \"James DeSouza.\" <jdsouza1@hotvoice.com>', 'From: \"James DeSouza.\" <jdsouza1@hotvoice.com>', 'From: \"James DeSouza.\" <jdsouza1@hotvoice.com>', 'From: chinaeke7@juno.com', 'From: \"PAPA BELLO\" <papabello@lawyer.com>', 'From: \"Dr. Don Arturo Ramitez.\" <don_1000@fastermail.com>', 'From: \"E E\" <foryourconsumption_2@hotmail.com>', 'From: \"KABILA\" <greenkab@email.com>', 'From: \"Oliveira Savimbi\" <olivsav@netscape.net>', 'From: \"MR DANIEL KALU\" <danielkalukalu@netscape.net>', 'From: SOLOMON azeez <sameezx6@go.com>', 'From: SOLOMON azeez <sameezx6@go.com>', 'From: SOLOMON azeez <sameezx6@go.com>', 'From: SOLOMON azeez <sameezx6@go.com>', 'From: SOLOMON azeez <sameezx6@go.com>', 'From: \"NOSA\" <ni452003@yahoo.com>', 'From: \"MR TUNDA\" <tundatx@zapo.net>', 'From: \"DR STEPHEN UMAH\" <u.stephen1@caramail.com>', 'From: \"Dr stephen umah\" <u.stephen@caramail.com>', 'From: \"JOHN CHOMA\" <jochom12@hotmail.com>', 'From: \"DR TONY COLE\" <tony3@ecplaza.net>', 'From: \"DR TONY COLE\" <tony3@ecplaza.net>', 'From: \"DR. GOODWILL MPENZA\" <savim_5@email.com>', 'From: wbanigo@anfmail.com', 'From: \"Engr. William Goye\" <wgoye@ecplaza.net>', 'From: \"FRANK  GUEI JNR.\" <frank_jnr3@myself.com>', 'From: solochuks5000@breathe.com', 'From: Farouk Al-Bashar <falbashar@olumo.net>', 'From: \"WILLIAM   OKAFOR\" <fowika@ecplaza.net>', 'From: Farouk Al-Bashar <falbashar@olumo.net>', 'From: \"DR STEPHEN AKIGA\" <ohunola@latinmail.com>', 'From: \"DR STEPHEN AKIGA\" <ohunola@latinmail.com>', 'From: \"Ola Kelvin\" <olakelv3@ecplaza.net>', 'From: MRS CECILIA MARK AKU <mrscecilliaak@ecplaza.net>', 'From: \"MR.DON UBALA,\" <donubala@ecplaza.net>', 'From: \"Dr. Wilson\" <itwilson33@netscape.net>', 'From: James Kabila. ', 'From: dayonaps04@aol.com', 'From: \"Oliveira Savimbi\" <olisav@netscape.net>', 'From: \"Dr Pascal Ugoti\" <pascal_962@myself.com>', 'From: \"Dr Pascal Ugoti\" <pascal_962@myself.com>', 'From: \"Professor Frank Obi\" <professorfranko@netscape.com>', 'From: \"koffi joseph\" <offjo@hotmail.com>', 'From: \"ENGR: KUMALO DILIZA\" <kumalodiliza6@ecplaza.net>', 'From: \"MR GBENRO ADEGBOLA\" <salisu_bola@yahoo.com>', 'From: \"MAKO OKERE\" <okere1972@netscape.net>', 'From: \"GBENGA ALUKO\" <gbealuko@voila.fr>', 'From: \"MR, DOMAS K, YANK\" <kecityy@netscape.net>', 'From: \"Oliveira Savimbi\" <olisav@netscape.net>', 'From: \"DR. PAUL BABS.\" <paulbabs@caramail.com>', 'From: \"grace abba-gana\" <gabbagana@albawaba.com>', 'From: \"salatu_ibru300\" <salatu_ibru300@indiatimes.com>', 'From: \"ADEROJU MUYIWA\" <ademuyiwa1950@rediffmail.com>', 'From: \"Mr Olu Martins\" <olu_martins007@yahoo.com>', 'From: \"maryam  abacha\" <maryamy2k@indiatimes.com>', 'From: \"MRS ROSE SAVIMBI\" <rosesavibmi@rediffmail.com>', 'From: luisaastrada@portugalmail.com', 'From: MARIAM ABACHA <mariamabacha202@ecplaza.net>', 'From: \"Bola  Harry\" <bolaharryt@tiscali.co.uk>', 'From: \"Bola  Harry\" <bolaharryt@tiscali.co.uk>', 'From: \"DR.TUNJI OWO\" <tunjiowo@regards.net>', 'From: Owen Mubane <muowen^%&@mmail.com>', 'From: \"DR.TUNJI OWO\" <tunjiowo@regards.net>', 'From: Mohammed Abacha <orionventures@go.com>', 'From:Muhammed Abacha', 'From: \"ENGR ZULUMAKALENI.\" <zulumakaleni1@netscape.net>', 'From: \"DR (MRS) MARIAM ABACHA\" <koolizzy@hotmail.com>', 'From: \"MR. TAMBO\" <engranthony_zuma@lycos.com>', 'From: Dukat Kabila <dukatka_s22@rediffmail.com>', 'From: \"Dr. Bouguiba Samuel\" <samaguiba1@ecplaza.net>', 'From: James Oni <jamesoni2000@go.com>', 'From: James Oni <jamesoni2000@go.com>', 'From: James Oni <jamesoni2000@go.com>', 'From: CARLOS SAVIMBI <carlos_sav@go.com>', 'From: \"MRS, AMINA BOLA IGE\" <isa_kaitha2002@yahoo.com>', 'From: \"Andy Bello\" <andy_bello2003@rediffmail.com>', 'From: \"Andy Bello\" <andy_bello2003@rediffmail.com>', 'From: \"AHMED MARTINS. D\" <martinsdanjuma@mail15.com>', 'From: Gabriel Kali <gadikali@gatechambers.com>', 'From: \"Mr.Kola Awosika\" <kola.awosika@caramail.com>', 'From: \"SAAD A.ALLI\" <husseinalli33@zwallet.com>', 'From: \"JOHNSON ABBAS\" <johnsonabbas@zwallet.com>', 'From: \"Dr.Tito Sithole.\" <macusgee@hotmail.com>', 'From: KATURA BANGA <mrkatban@netscape.net>', 'From: \"MADAM MARYAM\" <maryamy2k@indiatimes.com>', 'From: \"DELE MARTINS\" <delemartins@indiatimes.com>', 'From: saidi fatou <saidifatou@moldova.com>', 'From: \"Mrs. Mariam M. Sese-seko\" <Liusa11@totalise.co.uk>', 'From: \"MICHAEL AFOLABI\" <frankemeni@ecplaza.net>', 'From: NZANGA MOBUTU <Nzangamobutu@phantomemail.com>', 'From: NZANGA MOBUTU <Nzangamobutu@phantomemail.com>', 'From: \"CHUKS ANTHONY\" <chuksanthony05@netscape.net>', 'From: \"godfrey eche3\" <godfreyeche3@albawaba.com>', 'From: \"godfrey eche3\" <godfreyeche3@albawaba.com>', 'From: \"Muhammad Khalil Hasan\" <khalil_muhammad@myownemail.com>', 'From: \"Muhammad Khalil Hasan\" <khalil_muhammad@myownemail.com>', 'From: \"Hamzat Sulaiman\" <hamzatsulaiman@unionintbanks.com>', 'From: \"keven wei\" <envoltbattery@163.com>', 'From: ami44000@netzero.com', 'From: \"Mr Chuks Anthony\" <chuksanthony05@netscape.net>', 'From: \" JOHNSON ELENDU \" <jelendu@nzoomail.com>', 'From: \"Mike Jide\" <mijez2001_nnpc@indiatimes.com>', 'From: \"Mike Jide\" <mijez2001_nnpc@indiatimes.com>', 'From: wale_williams@post.cz', 'From: \"Fred Mbonu\" <mfrred@hknetmail.com>', 'From: \"Fred Mbonu\" <mfrred@hknetmail.com>', 'From: JOHN COLEMEN <johncolemen1970@netscape.net>', 'From: j_remitance@hknetmail.com', 'From: \"Mrs. Mariam M. Sese-seko\" <liusaxxxx@totalise.co.uk>', 'From: \"MakamSomo\" <sa_03@breathe.com>', 'From: \"Engr. Musa  Akim.\" <engr_musa@hknetmail.com>', 'From: \"Engr. Musa  Akim.\" <engr_musa@hknetmail.com>', 'From: \"DR.MATTHEW OKOYE\" <mattokoye@didamail.com>', 'From: \"abram nkomo\" <ab_nkomo@hotmail.com>', 'From: maira ssesko <sseko019@go.com>', 'From: Joseph Mobutu Sese-Seko <jmobutu189@latinmail.com>', 'From: \"Mariam Abacha\" <myriaj03@femail.com.au>', 'From: Joseph Mobutu Sese-Seko <jmobutu189@latinmail.com>', 'From: \"PRINCE FOLU FADAKA\" <folufadaka@netzero.com>', 'From: sussy emma <e.sussy@caramail.com>', 'From: \"Harry O Harry\" <harry1@hknet.com>', 'From: Drmoore James <jdrmoore@personal.ro>', 'From: \"PRINCE WILLIAMS\" <princewilliamson99@portugalmail.pt>', 'From: \"PRINCE M  WILLIAMS\" <princewilliamson99@portugalmail.pt>', 'From: \"MRS CECILIA  AKU\" <aku_cmrs2002@surfy.net>', 'From: MECK MAHABILE <mahabile10@netscape.net>', 'From: \"FRANK BELLO\" <fbellojr39@hotmail.com>', 'From: \"FRANK BELLO\" <fbellojr39@hotmail.com>', 'From: \"Mr. Mike Obodoh\" <mike.obodoh@caramail.com>', 'From: \"Barrister. Bassey  Owo\" <basseyowo300@hknetmail.com>', 'From: \"MUYIWA IGE\" <bechmank@yahoo.com>', 'From: \"Dr.Tunde Cole\" <tundecole@uboot.com>', 'From: \"Dr Tunde Cole\" <tundecole@uboot.com>', 'From: \"williamume\" <willyume@zapo.net>', 'From: \"Mr.Philip Jones\" <philjones1@uboot.com>', 'From:Mr.Philip Jones. ', 'From: solosavimbi@netscape.com', 'From: \"LEO  WILLIAMS\" <leowilliams3@ipost.cz>', 'From: =?iso-8859-1?Q?makathy?= <makathy@libero.it>', 'From: \"MRS MARY SANKOH\" <sank_mary6@popmail.com>', 'From: \"Mr.Bom Uche\" <mrbom@fastermail.com>', 'From: \"Mr.Bom Uche\" <mrbom@fastermail.com>', 'From: ikhayere obinyan <ikhayere6000@addlebrain.com>', 'From: \"Mr. Daniel Abass.\" <danielabass@afmail.com>', 'From: BASHER MOBUTU <basher39@lycos.com>', 'From: evans peter <evanspeter@hkonline.com>', 'From: \"CHIEF(DR.)BODE GEORGE\" <bode_george@xuppa.com>', 'From: \"CHIEF(DR.)BODE GEORGE\" <bode_george@xuppa.com>', 'From: \"GREGORY PREMIER\" <gregoryprem@incamail.com>', 'From: \".....\" <xxxxnnnnaaaa@netscape.net>', 'From: \"Mr.Fred Obi\" <fredobi02@zwallet.com>', 'From: idris umar <idrisumar94@go.com>', 'From: idris umar <idrisumar94@go.com>', 'From: idris umar <idrisumar94@go.com>', 'From: \"daniel bello\" <danbello07@hotmail.com>', 'From: \"Mohammed Abacha\" <dansekou@voila.fr>', 'From: \"Mohammed Abacha\" <dansekou@voila.fr>', 'From: \"mrs m mbeki\" <mrsmbeki@juno.com>', 'From: \"Kola Daniel\" <kolad05@indiatimes.com>', 'From: E-Loan Consumer Department <consumer.support@e-loan.com>', 'From: E-Loan Consumer Department <consumer.support@e-loan.com>', 'From: E-Loan Consumer Department <consumer.support@e-loan.com>', 'From: princeige@mail3000.com', 'From: \"Francis Sonto Mbomam\" <dr_francis_mboma0@lycos.com>', 'From: Wells Fargo Accounting <wfba.accounting@wellsfargo.com>', 'From: Wells Fargo Accounting <wfba.accounting@wellsfargo.com>', 'From: Wells Fargo Accounting <wfba.accounting@wellsfargo.com>', 'From: frank <frankzambani42@netscape.net>', 'From: \"Pandindra\" <>', 'From: Dr. Uba Jega.', 'From: usman aminu <dr_aminuusman@anytimenow.com>', 'From: \"Dr .Titi okonkwo\" <titi_okonkwo@yahoo.com>', 'From: \"Dr .Titiokonkwo\" <titiokonkwo234@yahoo.com>', 'From: \"Godwin Ekpontu Sangana, Esq\" <ejieego@netscape.net>', 'From: \"Godwin Ekpontu Sangana, Esq\" <ejieego@netscape.net>', 'From: \"Godwin Ekpontu Sangana, Esq\" <ejieego@netscape.net>', 'From: \"Godwin Ekpontu Sangana, Esq\" <ejieego@netscape.net>', 'From: ENGR MARK DAVID <igho200@netscape.net>', 'From: \"Fadaka Randebe\" <randebe@kalpoint.com>', 'From: \"Fadaka Randebe\" <randebe@kalpoint.com>', 'From: Ali Mohammed <ali_mohammed@123.com>', 'From: \"First Bank Nig. Plc.( Dr. Femi Johnson.)\" <fbplcnig@nzoomail.com>', 'From: \"carlos savimbi\" <savimbicar1@dogmail.co.uk>', 'From: vumeh704@hknetmail.com', 'From: \"CHIEF(DR.)BODE GEORGE\" <bodegeorge@pisem.net>', 'From: mariam abachas <mariamabachs@go.com>', 'From: \"ALI AHMED\" <aliahmed@ecplaza.net>', 'From: \"Abu Kyari.\" <akyari1@sudanmail.net.sd>', 'From: alimabu@tiscali.co.uk', 'From: \"Joseph Savimbi\" <joseph_1ang@zwallet.com>', 'From: \"Joseph Savimbi\" <joseph_1ang@zwallet.com>', 'From: \"prince george duke\" <naa8m@mail.com>', 'From: okijames@latinmail.com', 'From: \"Mr. Jeffrey Daniels\" <jeffreydaniels2@excite.com>', 'From: \"Mr. Jeffrey Daniels\" <jeffreydaniels4@excite.com>', 'From: \"ADA USMAN!\" <adausman@popmail.com>', 'From: \"Daniel  Kargbu\" <dankar3@zwallet.com>', 'From: \"Mr. John Nlobo\" <johnnlobo@yahoo.com>', 'From: <ajala8000@rediffmail.com>', 'From:Mr.Wilson Ajala', 'From: \"Dr.Kunle Owolo\" <kunowolo3@tiscali.co.uk>', 'From: \"Dr.Kunle Owolo\" <kunowolo3@tiscali.co.uk>', 'From: \"MRSJENNIFER KOBE\" <mrsjennikobe@hknetmail.com>', 'From: jackamala@tiscali.co.uk', 'From: \"DR THOMAS AUDU\" <thomasaudu@mail.com>', 'From: kalu idika <kaluidikak@go.com>', 'From: makalele01@xzapmail.com', 'From: g_ineh@tiscali.co.uk', 'From: \"Michael Stevens Junior.\" <marksteven301@netscape.net>', 'From: \"Hajia Maryam Abacha\" <maraba234@anfmail.com>', 'From: \"Hajia Maryam Abacha\" <maraba234@latinmail.com>', 'From: \"BARRISTER MATHEW IKE\" <mathewike212@juno.com>', 'From: engedetamanah@post.cz', 'From: \"MR.ODIASE GEORGE\" <sunnyokogwo@post.cz>', 'From: \"DEACON ZIK R. DON\" <deacon_zik@yaoo.com>', 'From: \"Nzanga Mobutu\" <mobkuz3@kukamail.com>', 'From: adew1@mail3000.com', 'From: adew1@mail3000.com', 'From: \"DR.MUHAMMED MUSTAFA\" <muhammed303@arabtop.net>', 'From: \"BARRISTER, HOPKINS MBEKI\" <hopkinsmbeki@hknetmail.com>', 'From: ndandla@latinmail.com', 'From: <mcabacha@freesurf.fr>', 'From: \"Mr Ugochukwu .W\" <ugoch_8@z6.com>', 'From:Mr.UGOCHUKWU WILLIAM. URGENT REQUEST FOR ASSISTANCE Tel: 00971-50-7155760. Private e-mail:(ugochukwu9@yahoo.co.uk) Dear sir, This letter might surprises you because we have met neither in person nor by correspondence.But I believe it is one day that you got to know somebody either physical or through correspondence,I got your contact through the web-site when I was searching for a reliable trusth-worthy foreign partner to work with. However I am the son of Ex-Minister of Finance Mr.Ugochukwu, a formal Minister of Finance during Late President Laurent Kabila of Democratic Republic of Congo. Infact, I left my country because it was no longer save for me. My father is now in detention awaiting trial because of his involvement againt the government of President Joseph Kabila, who is presently the president of my country. My father called my attention and informed me that he lodged some funds on a Trunk Box with a security firm with an open beneficiary status.I am making thi!', 'From: shaabanbait@primposta.com', 'From: shaabanbait@primposta.com', 'From: consultant_ng3@send-mail.co.uk', 'From: mike odey <modey06@go.com>', 'From: \"DR. AKIN DADA.\" <akindada@indiatimes.com>', 'From: \"barrister vincent usman\" <2003vincent@freesurf.fr>', 'From: \"JAMIE  OPUKU.\" <jamie777@mail.biz.ly>', 'From: <jerrypeter2@freesurf.fr>', 'From: \"mona noah\" <mnoah3@hotmail.com>', 'From: \"MICHEAL  OSSAI\" <JUDE@YAHOO.COM>', 'From: test@yahoo.com', 'From: test@yahoo.com', 'From: \"Peter Bongo\" <mrbongo@themail.com>', 'From: MASTER HAROLD MBEKI <akumembeki@netscape.net>', 'From: \"maryaabacha8 maryam \" <mmaryaabacha8@caramail.com>', 'From: Mrs Maryam Abacha', 'From: \"maryaabacha8 maryam \" <mmaryaabacha8@caramail.com>', 'From: Mrs Maryam Abacha', 'From: \"H B\" <hansob@123.com>', 'From: diaka tshombe <dtshombe2@123.com>', 'From: EKONG BASSEY <ekong.bassey2@caramail.com>', 'From: Vasil Nanchev <vas_imoti@abv.bg>', 'From: frank okonjo <frankokonjo5@123.com>', 'From: \"DR. GODWIN KALALA\" <gokalala1@tiscali.co.uk>', 'From: EKONG BASSEY <ekong.bassey2@caramail.com>', 'From: HELLEN SHAKA ZUMA <hellenshaka@netscape.net>', 'From: Akande fredrick <fredsam@123.com>', 'From: esama kingdom <esamakingdom@fsmail.net>', 'From: MARY ABASS <mary_abass2@123.com>', 'From: frank okonjo <frankokonjo6@123.com>', 'From: \"vino koni\" <vinokoni5@hotmail.com>', 'From: sarah.mutete@caramail.com', 'From: \"DAVIDS ANDERSON.\" <anders01_lb@post.cz>', 'From: diaka tshombe <dtshombe3@123.com>', 'From: markedeozo@freesurf.fr', 'From: allan Sheriff', 'From: abu_saeed4@tiscali.co.uk', 'From: elosub@freesurf.fr', 'From: \"Yetunde Bassey\" <yetunde@mail2world.com>', 'From: \"Yetunde Bassey\" <yetunde@mail2world.com>', 'From: \"lary kamokai\" <lary_kamokai1@hotmail.com>', 'From: \"micheal ado santigo\" <micheal_ado@hotmail.com>', 'From: <fredkuma@freesurf.fr>', 'From: wolny_olkusz@latinmail.com', 'From: \"DR. George Ibrahim Quattara\" <dr_georgequattara@indiatimes.com>', 'From: \"Mr..John Chukwu\" <johnchukwu1@caramail.com>', 'From: \"DR BELLO BATURE\" <dr.bell_bat@portugalmail.com>', 'From: \"maryaabacha8 maryam \" <mmaryaabacha8@caramail.com>', 'From: Mrs Maryam Abacha', 'From: \"Mrs. Juliet Bello.\" <ladyj4u@mail2cherry.com>', 'From: \"Mrs. Serena  Jones\" <serenajones$$7@netscape.net>', 'From: Mrs Serena Jones', 'From: \"chuks Anthony\" <chuksanthony05@netscape.net>', 'From: =?us-ascii?Q?jide=20williams?= <jide.williams@seznam.cz>', 'From: yinkadavi@mailbox.hu', 'From: \"MR.WILLIAM\" <william_d@zwallet.com>', 'From: \"MR.WILLIAM\" <william_d@zwalley.com>', 'From: karimusesay@whipmail.com', 'From: chesson_joseph@mail2world.com', 'From: J.Rodney chesson jr ', 'From: \"Nelson Abia\" <nelson_abia203@hotmail.com>', 'From: \"MR ALI AMED\" <prince_amed011@hotmail.com>', 'From: \"muhammed abacha\" <abamohammed@ananzi.co.za>', 'From: \"HASSAN DIKO\" <hassandiko@fsmail.net>', 'From: \"OLUWATOBI E.BOYE\" <oluwatobiboye@dcemail.com>', 'From: \"OLUWATOBI E.BOYE\" <oluwatobiboye@dcemail.com>', 'From: \"Mr Nelson Abia\" <nelson_abia203@hotmail.com>', 'From: \"Fred Okoli\" <redokoli42@yahoo.com>', 'From: \"haji musa diya\" <musa_diya@fastermail.com>', 'From: \"haji musa diya\" <musa_diya@fastermail.com>', 'From: \"From: Mrs. Victoria Bucknor\" <victoriabucknor23@mail15.com>', 'From: \"From: Mrs. Victoria Bucknor\" <victoriabucknor23@mail15.com>', 'From: \"From: Mrs. Victoria Bucknor\" <victoriabucknor23@mail15.com>', 'From: \"From: Mrs. Victoria Bucknor\" <victoriabucknor23@mail15.com>', 'From: Mrs Serena Jones <ssarejo355@netscape.net>', 'From: Mrs Serena Jones', 'From: \"prince duke\" <aa44@rt.nl>', 'From: \"MRS M. SESE SEKO\" <nanaseko3@web-mail.com.ar>', 'From: Mac Jonson Bonida <jonsonbonida_mac$77@latinmail.com>', 'From: \"Mrs.Floxy Page\" <floxypage44@hknetmail.com>', 'From: \"PETER OKOYE\" <opeter6@caramail.com>', 'From: \"PETER OKOYE\" <opeter6@caramail.com>', 'From: \"MRS.MARYAM ABACHA\" <firstlady234@post.cz>', 'From: \"MRS M. SESE SEKO\" <nanaseko4@web-mail.com.ar>', 'From: \"MOHAMMED\" <port1.net@email.it>', 'From: \"MOHAMMED\" <port1.net@email.it>', 'From: \"MOHAMMED\" <port1.net@email.it>']\n"
          ]
        }
      ]
    },
    {
      "cell_type": "code",
      "source": [
        "#Let's find the e-mail addresses\n",
        "pattern_email = \"<.+@.+\\..{3}>\"\n",
        "#Simpler option: pattern_email = \"<.+@.+>\"\n",
        "#Loop over all lines  in result, try to capture an e-mail address and print it\n",
        "\n",
        "for line in result[:10]:\n",
        "    email = re.findall(pattern_email, line)\n",
        "    print(email)"
      ],
      "metadata": {
        "colab": {
          "base_uri": "https://localhost:8080/"
        },
        "id": "L2i_bmUMuS64",
        "outputId": "bf4adacb-504d-4cc6-c76b-cc59a7326699"
      },
      "execution_count": 9,
      "outputs": [
        {
          "output_type": "stream",
          "name": "stdout",
          "text": [
            "['<james_ngola2002@maktoob.com>', '<bensul2004nng@spinfinder.com>', '<obong_715@epatra.com>', '<obong_715@epatra.com>', '<m_abacha03@www.com>', '<davidkuta@postmark.net>', '<tunde_dosumu@lycos.com>', '<william2244drallo@maktoob.com>', '<abdul_817@rediffmail.com>', '<barrister_td@lycos.com>']\n"
          ]
        }
      ]
    },
    {
      "cell_type": "code",
      "execution_count": 11,
      "metadata": {
        "colab": {
          "base_uri": "https://localhost:8080/"
        },
        "id": "mK8sE2C5jamM",
        "outputId": "ff1013f7-57b5-441c-8d69-1759f88eb41f"
      },
      "outputs": [
        {
          "output_type": "stream",
          "name": "stdout",
          "text": [
            "['\"MR. JAMES NGOLA.\"', '\"Mr. Ben Suleman\"', '\"PRINCE OBONG ELEME\"', '\"PRINCE OBONG ELEME\"', '\"Maryam Abacha\"', '\"Barrister tunde dosumu\"', '\"William Drallo\"', '\"MR USMAN ABDUL\"', '\"Tunde  Dosumu\"', '\"Dr.Sam jordan\"']\n"
          ]
        }
      ],
      "source": [
        "# How can we extract only the names?\n",
        "### Write a regex pattern\n",
        "### Loop over all lines in result, and use re.findall to find matching patterns and print them\n",
        "pattern_name = '\".+\"'\n",
        "\n",
        "for line in result[:10]:\n",
        "    name = re.findall(pattern_name, line)\n",
        "    print(name)\n",
        "\n",
        "\n"
      ]
    },
    {
      "cell_type": "markdown",
      "source": [
        "### Greedy vs. non-greedy search"
      ],
      "metadata": {
        "id": "kOzti1jDwiqW"
      }
    },
    {
      "cell_type": "code",
      "execution_count": 17,
      "metadata": {
        "colab": {
          "base_uri": "https://localhost:8080/"
        },
        "id": "0gFw6Q6MjamM",
        "outputId": "1947be7a-7d33-4d0f-a209-20d1ae59df0a"
      },
      "outputs": [
        {
          "output_type": "stream",
          "name": "stdout",
          "text": [
            "From: \"MR. JAMES NGOLA.\" <james_ngola2002@maktoob.com> From: \"Mr. Ben Suleman\" <bensul2004nng@spinfinder.com> From: \"PRINCE OBONG ELEME\" <obong_715@epatra.com> From: \"PRINCE OBONG ELEME\" <obong_715@epatra.com> From: \"Maryam Abacha\" <m_abacha03@www.com> From: Kuta David <davidkuta@postmark.net> From: \"Barrister tunde dosumu\" <tunde_dosumu@lycos.com> From: \"William Drallo\" <william2244drallo@maktoob.com> From: \"MR USMAN ABDUL\" <abdul_817@rediffmail.com> From: \"Tunde  Dosumu\" <barrister_td@lycos.com> From: MR TEMI JOHNSON <temijohnson2@rediffmail.com> From: \"Dr.Sam jordan\" <sjordan@diplomats.com> From: p_brown2@lawyer.com From: mic_k1@post.com From: \"COL. MICHAEL BUNDU\" <mikebunduu1@rediffmail.com> From: \"MRS MARIAM ABACHA\" <elixwilliam@usa.com> From: \" DR. ANAYO AWKA \" <anayoawka@hotmail.com> From: \" DR. ANAYO AWKA \" <anayoawka@hotmail.com> From: \"Victor Aloma\" <victorloma@netscape.net> From: \"Victor Aloma\" <victorloma@netscape.net> From: \"JAMES NGOLA\" <james_ngola2002@maktoob.com> From:\n"
          ]
        }
      ],
      "source": [
        "#Let's try the same code on a long string (of all lines), instead of running per line\n",
        "file_string = ' '.join([x for x in result])\n",
        "print(file_string[:300])\n"
      ]
    },
    {
      "cell_type": "code",
      "source": [
        "#If we don't use \"?\", the pattern will match the longest possible string (i.e. greedy matching)\n",
        "#? mark makes the search non-greedy, in other words, the pattern will match the shortest possible string\n",
        "\n",
        "#Let's find the e-mail addresses\n",
        "pattern_email = \"<.+>\" \n",
        "email_list = re.findall(pattern_email, file_string)\n",
        "\n",
        "print(len(email_list)) # The length of the e-mail list is 1: because it captures the whole string (until the last >)\n",
        "print(email_list)\n"
      ],
      "metadata": {
        "colab": {
          "base_uri": "https://localhost:8080/"
        },
        "id": "FxzbqYrWwmP8",
        "outputId": "9480ac29-e546-4e43-ab60-e6b92d8a059a"
      },
      "execution_count": 18,
      "outputs": [
        {
          "output_type": "stream",
          "name": "stdout",
          "text": [
            "1\n",
            "['<james_ngola2002@maktoob.com> From: \"Mr. Ben Suleman\" <bensul2004nng@spinfinder.com> From: \"PRINCE OBONG ELEME\" <obong_715@epatra.com> From: \"PRINCE OBONG ELEME\" <obong_715@epatra.com> From: \"Maryam Abacha\" <m_abacha03@www.com> From: Kuta David <davidkuta@postmark.net> From: \"Barrister tunde dosumu\" <tunde_dosumu@lycos.com> From: \"William Drallo\" <william2244drallo@maktoob.com> From: \"MR USMAN ABDUL\" <abdul_817@rediffmail.com> From: \"Tunde  Dosumu\" <barrister_td@lycos.com> From: MR TEMI JOHNSON <temijohnson2@rediffmail.com> From: \"Dr.Sam jordan\" <sjordan@diplomats.com> From: p_brown2@lawyer.com From: mic_k1@post.com From: \"COL. MICHAEL BUNDU\" <mikebunduu1@rediffmail.com> From: \"MRS MARIAM ABACHA\" <elixwilliam@usa.com> From: \" DR. ANAYO AWKA \" <anayoawka@hotmail.com> From: \" DR. ANAYO AWKA \" <anayoawka@hotmail.com> From: \"Victor Aloma\" <victorloma@netscape.net> From: \"Victor Aloma\" <victorloma@netscape.net> From: \"JAMES NGOLA\" <james_ngola2002@maktoob.com> From: \"MARTIN CHIME\" <martinchime@usa.com> From: \"Mr George Mboro\" <mboro1555@post.com> From: \"MARTIN  CHIME\" <martinchime@borad.com> From: \"MARTIN  CHIME\" <martinchime@borad.com> From: <edema_mb@phantomemail.com> From: <edema_mb@phantomemail.com> From: \"ADE WILLIAMS\" <adewilliams_ade@lawyer.com> From: smithkam2@post.com From: \"MRS. M SESE-SEKO\" <sesm@omaninfo.com> From: \"obina okoro\" <obinaokoro@37.com> From: \"DR. JAMES  ALBERT\" <jamesalbert0@eircom.net> From: adamuohiroma adamuohiroma <adamuohiroma.adamuohiroma@caramail.com> From: \"MR FRED OBI.\" <fredobi3@omaninfo.com> From: \"mbeki ngumeni\" <mbengu@37.com> From: mahoyi mamudu <mmahoyi@caramail.com> From: \"Mr. David Agu\" <adgua@mail.com> From: \"bell.idr bell.idr\" <bbell.idr@caramail.com> From: \"idris.bello idris.bello\" <iidris.bello@caramail.com> From: john2002@bluemail.ch From: \"CLEMENT APUTE\" <clem-apute@consultant.com> From: \"MR GODWIN IGBUNU\" <g.godwin12345@caramail.com> From: \"bell.idr bell.idr\" <bbell.idr@caramail.com> From: \"Mr. David Agu\" <dav84@mail.com> From: \"deborah kabila\" <kabila72b@37.com> From: Khalifa Sese <kss07@go.com> From: Khalifa Sese <kss07@go.com> From: \"MOHAMMED BELLO (Ph.D)\" <mohammed_bello_1@yahoo.com> From: \"PETER WILLIAMS\" <cooooofoooooooo@rediffmail.com> From: \"Oliveira Savimbi\" <olivsav@netscape.net> From: \"Mr. Daniel Osondu\" <tdannosondu@mail.com> From: Mr.Daniel Osondu From: <williamsdaniel1@phantomemail.com> From: \"Ruka\" <rulagg@excite.com> From: \"IDRIS ADAMU\" <idris2003942@aol.com> From: \"DR.  SANNI  SABO\" <davidmensoh@mail.com> From: \"DR.  SANNI  SABO\" <davidmensoh@mail.com> From: \"Ibrahim Galadima\" <ig_esq@rediffmail.com> From: ademola1950@hknetmail.com From: \"Mohammed Abacha\" <a_mabachas@yahoo.co.uk> From: \"PRINCE TUNDE O ADISARAKI\" <princeadisaraki5@usa.com> From: \"judeestrada\" <judeestrada2@dmailman.com> From: \"JONATHAN  MOKOENA\" <davidmensoh@mail.com> From: olu@mailservice.ms From: \"res bob12\" <resbobi2@al-islam.com> From: \"LADY MARYAM ABACHA \" <mariam.abacha58@boredmail.com> From: \"MR.TUNDE  BALOGUN\" <tundebalogun@omaninfo.com> From: \"MR.BENSON  ATTAH\" <mrbenson_attah@omaninfo.com> From: \"MR.BENSON  ATTAH\" <mrbenson_attah@omaninfo.com> From: \"MR.TUNDE  BALOGUN\" <tundebalogun@omaninfo.com> From: \"LADY MARYAM ABACHA \" <mariam.abacha57@boredmail.com> From: \"DR.  SANNI  SABO\" <davidmensoh@mail.com> From: \"Dr Luisa Pimental Estrada\" <luisaestrada2002@luisapestrada.zzn.com> From: \"Graham Douglas\" <douglas.graham@caramail.com> From: luis oboh <oluis2@caramail.com> From: luis oboh <oluis2@caramail.com> From: \"savimbidenis@www.com\" <savimbidenis@www.com> From: \"Nsekou Mobutu Sesekou\" <sekou_family@mailsurf.com> From: \"DR. BELLO MUSA\" <dr_bellomusa01@omaninfo.com> From: Frank Williams <frankwilliams2@starmedia.com> From: Mr. Frank Williams. From: \"=?iso-8859-1?Q?lawrence.smith?=\" <lawrence.smith@voila.fr> From: \"DONALD  ATTAH\" <donaldattah@netzero.com> From: \"daniel innocent\" <daninno555@37.com> From: \"deborah kabila\" <kabila72i@37.com> From: \"peter\" <peter_savimbi20@phantomemail.com> From: \"joseph benson\" <josephbenson@weedmail.com> From: mr_bb@hknetmail.com From: \"pat odogu\" <pat11@weedmail.com> From: felix lamine <felix.lamine@caramail.com> From: \"PATRICK  MOHAMMED\" <patrickmohammed@omaninfo.com> From: \"PATRICK  MOHAMMED\" <patrickmohammed@omaninfo.com> From: \"Mr. Lawrence Abba\" <lawrenceabba@operamail.com> From: bill_james4@bluemail.ch From: Mr Benard Gelicah Sankoh. From: \"MALCOM TUTU\" <macontu05@yahoo.com> From: Mr. MALCOM TUTU  (chief auditor) From: \"MALCOM TUTU\" <macontu05@yahoo.com> From: Mr. MALCOM TUTU  (chief auditor) From: stevens bangura <stevens.bangura@caramail.com> From: \"MR. DONALD ATTAH\" <donaldattah@omaninfo.com> From: \"Dr mariam abacha\" <marabac011@hotmail.com> From: Frank Ikpendu <frankikpendu3@mail.co.za> From: \"jeffery hill\" <jeffery_hill10007@hotmail.com> From: \"malcom tutu\" <macontu028@yahoo.com> From: \"malcom tutu\" <macontu028@yahoo.com> From: \"sam aluko\" <samaluko1@37.com> From: \"GEORGE  KABILA\" <ggeorgekabyl@caramail.com> From: \"CYRIL AKWARANDU\" <madu_invest@yahoo.com> From: \"CYRIL AKWARANDU\" <madu_invest@yahoo.com> From: \"MR.YARO BAMIYI\" <doomer@themail.com> From: \"barr.femi\" <barr.femi@caramail.com> From: \"DR DOUGLAS NWANKWO\" <douglankwo@yahoo.com> From: \"Mrs. Safi  Al Mustapha\" <leathercity1@irangate.net> From: \"Mrs. Safi  Al Mustapha\" <leathercity1@irangate.net> From: \"Dr Mariam abacha\" <mariam.aba@caramail.com> From: \"Dr.Moses\" <moses1970@englishexpert.com> From: \"Dr.Moses\" <moses1970@englishexpert.com> From: \"DR. OLUSEGUN SMITH\" <olu002@phantomemail.com> From: \"Dr. Bernard Makelele\" <benkelele@phantomemail.com> From: chiedo_jonathan2@netzero.com From: \"kaseke kenneth\" <kasekek@email.com> From: willbanigo003@juntos.com From: \"DR ABDULL RASAQ\" <drabdullrasaq@phantomemail.com> From: \"DR ABDULL RASAQ\" <drabdullrasaq@phantomemail.com> From: \"williame ume\" <kkalume@bluemail.ch> From: jisrael2@breathe.com From: \"KENNETH ILOKA\" <umarb@themail.com> From: charlesnwodo@excite.com From: Mr. Charles Nwodo From: \"Oliveira Savimbi\" <olivsav@netscape.net> From: \"James DeSouza.\" <jdsouza1@hotvoice.com> From: \"James DeSouza.\" <jdsouza1@hotvoice.com> From: \"James DeSouza.\" <jdsouza1@hotvoice.com> From: \"James DeSouza.\" <jdsouza1@hotvoice.com> From: chinaeke7@juno.com From: \"PAPA BELLO\" <papabello@lawyer.com> From: \"Dr. Don Arturo Ramitez.\" <don_1000@fastermail.com> From: \"E E\" <foryourconsumption_2@hotmail.com> From: \"KABILA\" <greenkab@email.com> From: \"Oliveira Savimbi\" <olivsav@netscape.net> From: \"MR DANIEL KALU\" <danielkalukalu@netscape.net> From: SOLOMON azeez <sameezx6@go.com> From: SOLOMON azeez <sameezx6@go.com> From: SOLOMON azeez <sameezx6@go.com> From: SOLOMON azeez <sameezx6@go.com> From: SOLOMON azeez <sameezx6@go.com> From: \"NOSA\" <ni452003@yahoo.com> From: \"MR TUNDA\" <tundatx@zapo.net> From: \"DR STEPHEN UMAH\" <u.stephen1@caramail.com> From: \"Dr stephen umah\" <u.stephen@caramail.com> From: \"JOHN CHOMA\" <jochom12@hotmail.com> From: \"DR TONY COLE\" <tony3@ecplaza.net> From: \"DR TONY COLE\" <tony3@ecplaza.net> From: \"DR. GOODWILL MPENZA\" <savim_5@email.com> From: wbanigo@anfmail.com From: \"Engr. William Goye\" <wgoye@ecplaza.net> From: \"FRANK  GUEI JNR.\" <frank_jnr3@myself.com> From: solochuks5000@breathe.com From: Farouk Al-Bashar <falbashar@olumo.net> From: \"WILLIAM   OKAFOR\" <fowika@ecplaza.net> From: Farouk Al-Bashar <falbashar@olumo.net> From: \"DR STEPHEN AKIGA\" <ohunola@latinmail.com> From: \"DR STEPHEN AKIGA\" <ohunola@latinmail.com> From: \"Ola Kelvin\" <olakelv3@ecplaza.net> From: MRS CECILIA MARK AKU <mrscecilliaak@ecplaza.net> From: \"MR.DON UBALA,\" <donubala@ecplaza.net> From: \"Dr. Wilson\" <itwilson33@netscape.net> From: James Kabila.  From: dayonaps04@aol.com From: \"Oliveira Savimbi\" <olisav@netscape.net> From: \"Dr Pascal Ugoti\" <pascal_962@myself.com> From: \"Dr Pascal Ugoti\" <pascal_962@myself.com> From: \"Professor Frank Obi\" <professorfranko@netscape.com> From: \"koffi joseph\" <offjo@hotmail.com> From: \"ENGR: KUMALO DILIZA\" <kumalodiliza6@ecplaza.net> From: \"MR GBENRO ADEGBOLA\" <salisu_bola@yahoo.com> From: \"MAKO OKERE\" <okere1972@netscape.net> From: \"GBENGA ALUKO\" <gbealuko@voila.fr> From: \"MR, DOMAS K, YANK\" <kecityy@netscape.net> From: \"Oliveira Savimbi\" <olisav@netscape.net> From: \"DR. PAUL BABS.\" <paulbabs@caramail.com> From: \"grace abba-gana\" <gabbagana@albawaba.com> From: \"salatu_ibru300\" <salatu_ibru300@indiatimes.com> From: \"ADEROJU MUYIWA\" <ademuyiwa1950@rediffmail.com> From: \"Mr Olu Martins\" <olu_martins007@yahoo.com> From: \"maryam  abacha\" <maryamy2k@indiatimes.com> From: \"MRS ROSE SAVIMBI\" <rosesavibmi@rediffmail.com> From: luisaastrada@portugalmail.com From: MARIAM ABACHA <mariamabacha202@ecplaza.net> From: \"Bola  Harry\" <bolaharryt@tiscali.co.uk> From: \"Bola  Harry\" <bolaharryt@tiscali.co.uk> From: \"DR.TUNJI OWO\" <tunjiowo@regards.net> From: Owen Mubane <muowen^%&@mmail.com> From: \"DR.TUNJI OWO\" <tunjiowo@regards.net> From: Mohammed Abacha <orionventures@go.com> From:Muhammed Abacha From: \"ENGR ZULUMAKALENI.\" <zulumakaleni1@netscape.net> From: \"DR (MRS) MARIAM ABACHA\" <koolizzy@hotmail.com> From: \"MR. TAMBO\" <engranthony_zuma@lycos.com> From: Dukat Kabila <dukatka_s22@rediffmail.com> From: \"Dr. Bouguiba Samuel\" <samaguiba1@ecplaza.net> From: James Oni <jamesoni2000@go.com> From: James Oni <jamesoni2000@go.com> From: James Oni <jamesoni2000@go.com> From: CARLOS SAVIMBI <carlos_sav@go.com> From: \"MRS, AMINA BOLA IGE\" <isa_kaitha2002@yahoo.com> From: \"Andy Bello\" <andy_bello2003@rediffmail.com> From: \"Andy Bello\" <andy_bello2003@rediffmail.com> From: \"AHMED MARTINS. D\" <martinsdanjuma@mail15.com> From: Gabriel Kali <gadikali@gatechambers.com> From: \"Mr.Kola Awosika\" <kola.awosika@caramail.com> From: \"SAAD A.ALLI\" <husseinalli33@zwallet.com> From: \"JOHNSON ABBAS\" <johnsonabbas@zwallet.com> From: \"Dr.Tito Sithole.\" <macusgee@hotmail.com> From: KATURA BANGA <mrkatban@netscape.net> From: \"MADAM MARYAM\" <maryamy2k@indiatimes.com> From: \"DELE MARTINS\" <delemartins@indiatimes.com> From: saidi fatou <saidifatou@moldova.com> From: \"Mrs. Mariam M. Sese-seko\" <Liusa11@totalise.co.uk> From: \"MICHAEL AFOLABI\" <frankemeni@ecplaza.net> From: NZANGA MOBUTU <Nzangamobutu@phantomemail.com> From: NZANGA MOBUTU <Nzangamobutu@phantomemail.com> From: \"CHUKS ANTHONY\" <chuksanthony05@netscape.net> From: \"godfrey eche3\" <godfreyeche3@albawaba.com> From: \"godfrey eche3\" <godfreyeche3@albawaba.com> From: \"Muhammad Khalil Hasan\" <khalil_muhammad@myownemail.com> From: \"Muhammad Khalil Hasan\" <khalil_muhammad@myownemail.com> From: \"Hamzat Sulaiman\" <hamzatsulaiman@unionintbanks.com> From: \"keven wei\" <envoltbattery@163.com> From: ami44000@netzero.com From: \"Mr Chuks Anthony\" <chuksanthony05@netscape.net> From: \" JOHNSON ELENDU \" <jelendu@nzoomail.com> From: \"Mike Jide\" <mijez2001_nnpc@indiatimes.com> From: \"Mike Jide\" <mijez2001_nnpc@indiatimes.com> From: wale_williams@post.cz From: \"Fred Mbonu\" <mfrred@hknetmail.com> From: \"Fred Mbonu\" <mfrred@hknetmail.com> From: JOHN COLEMEN <johncolemen1970@netscape.net> From: j_remitance@hknetmail.com From: \"Mrs. Mariam M. Sese-seko\" <liusaxxxx@totalise.co.uk> From: \"MakamSomo\" <sa_03@breathe.com> From: \"Engr. Musa  Akim.\" <engr_musa@hknetmail.com> From: \"Engr. Musa  Akim.\" <engr_musa@hknetmail.com> From: \"DR.MATTHEW OKOYE\" <mattokoye@didamail.com> From: \"abram nkomo\" <ab_nkomo@hotmail.com> From: maira ssesko <sseko019@go.com> From: Joseph Mobutu Sese-Seko <jmobutu189@latinmail.com> From: \"Mariam Abacha\" <myriaj03@femail.com.au> From: Joseph Mobutu Sese-Seko <jmobutu189@latinmail.com> From: \"PRINCE FOLU FADAKA\" <folufadaka@netzero.com> From: sussy emma <e.sussy@caramail.com> From: \"Harry O Harry\" <harry1@hknet.com> From: Drmoore James <jdrmoore@personal.ro> From: \"PRINCE WILLIAMS\" <princewilliamson99@portugalmail.pt> From: \"PRINCE M  WILLIAMS\" <princewilliamson99@portugalmail.pt> From: \"MRS CECILIA  AKU\" <aku_cmrs2002@surfy.net> From: MECK MAHABILE <mahabile10@netscape.net> From: \"FRANK BELLO\" <fbellojr39@hotmail.com> From: \"FRANK BELLO\" <fbellojr39@hotmail.com> From: \"Mr. Mike Obodoh\" <mike.obodoh@caramail.com> From: \"Barrister. Bassey  Owo\" <basseyowo300@hknetmail.com> From: \"MUYIWA IGE\" <bechmank@yahoo.com> From: \"Dr.Tunde Cole\" <tundecole@uboot.com> From: \"Dr Tunde Cole\" <tundecole@uboot.com> From: \"williamume\" <willyume@zapo.net> From: \"Mr.Philip Jones\" <philjones1@uboot.com> From:Mr.Philip Jones.  From: solosavimbi@netscape.com From: \"LEO  WILLIAMS\" <leowilliams3@ipost.cz> From: =?iso-8859-1?Q?makathy?= <makathy@libero.it> From: \"MRS MARY SANKOH\" <sank_mary6@popmail.com> From: \"Mr.Bom Uche\" <mrbom@fastermail.com> From: \"Mr.Bom Uche\" <mrbom@fastermail.com> From: ikhayere obinyan <ikhayere6000@addlebrain.com> From: \"Mr. Daniel Abass.\" <danielabass@afmail.com> From: BASHER MOBUTU <basher39@lycos.com> From: evans peter <evanspeter@hkonline.com> From: \"CHIEF(DR.)BODE GEORGE\" <bode_george@xuppa.com> From: \"CHIEF(DR.)BODE GEORGE\" <bode_george@xuppa.com> From: \"GREGORY PREMIER\" <gregoryprem@incamail.com> From: \".....\" <xxxxnnnnaaaa@netscape.net> From: \"Mr.Fred Obi\" <fredobi02@zwallet.com> From: idris umar <idrisumar94@go.com> From: idris umar <idrisumar94@go.com> From: idris umar <idrisumar94@go.com> From: \"daniel bello\" <danbello07@hotmail.com> From: \"Mohammed Abacha\" <dansekou@voila.fr> From: \"Mohammed Abacha\" <dansekou@voila.fr> From: \"mrs m mbeki\" <mrsmbeki@juno.com> From: \"Kola Daniel\" <kolad05@indiatimes.com> From: E-Loan Consumer Department <consumer.support@e-loan.com> From: E-Loan Consumer Department <consumer.support@e-loan.com> From: E-Loan Consumer Department <consumer.support@e-loan.com> From: princeige@mail3000.com From: \"Francis Sonto Mbomam\" <dr_francis_mboma0@lycos.com> From: Wells Fargo Accounting <wfba.accounting@wellsfargo.com> From: Wells Fargo Accounting <wfba.accounting@wellsfargo.com> From: Wells Fargo Accounting <wfba.accounting@wellsfargo.com> From: frank <frankzambani42@netscape.net> From: \"Pandindra\" <> From: Dr. Uba Jega. From: usman aminu <dr_aminuusman@anytimenow.com> From: \"Dr .Titi okonkwo\" <titi_okonkwo@yahoo.com> From: \"Dr .Titiokonkwo\" <titiokonkwo234@yahoo.com> From: \"Godwin Ekpontu Sangana, Esq\" <ejieego@netscape.net> From: \"Godwin Ekpontu Sangana, Esq\" <ejieego@netscape.net> From: \"Godwin Ekpontu Sangana, Esq\" <ejieego@netscape.net> From: \"Godwin Ekpontu Sangana, Esq\" <ejieego@netscape.net> From: ENGR MARK DAVID <igho200@netscape.net> From: \"Fadaka Randebe\" <randebe@kalpoint.com> From: \"Fadaka Randebe\" <randebe@kalpoint.com> From: Ali Mohammed <ali_mohammed@123.com> From: \"First Bank Nig. Plc.( Dr. Femi Johnson.)\" <fbplcnig@nzoomail.com> From: \"carlos savimbi\" <savimbicar1@dogmail.co.uk> From: vumeh704@hknetmail.com From: \"CHIEF(DR.)BODE GEORGE\" <bodegeorge@pisem.net> From: mariam abachas <mariamabachs@go.com> From: \"ALI AHMED\" <aliahmed@ecplaza.net> From: \"Abu Kyari.\" <akyari1@sudanmail.net.sd> From: alimabu@tiscali.co.uk From: \"Joseph Savimbi\" <joseph_1ang@zwallet.com> From: \"Joseph Savimbi\" <joseph_1ang@zwallet.com> From: \"prince george duke\" <naa8m@mail.com> From: okijames@latinmail.com From: \"Mr. Jeffrey Daniels\" <jeffreydaniels2@excite.com> From: \"Mr. Jeffrey Daniels\" <jeffreydaniels4@excite.com> From: \"ADA USMAN!\" <adausman@popmail.com> From: \"Daniel  Kargbu\" <dankar3@zwallet.com> From: \"Mr. John Nlobo\" <johnnlobo@yahoo.com> From: <ajala8000@rediffmail.com> From:Mr.Wilson Ajala From: \"Dr.Kunle Owolo\" <kunowolo3@tiscali.co.uk> From: \"Dr.Kunle Owolo\" <kunowolo3@tiscali.co.uk> From: \"MRSJENNIFER KOBE\" <mrsjennikobe@hknetmail.com> From: jackamala@tiscali.co.uk From: \"DR THOMAS AUDU\" <thomasaudu@mail.com> From: kalu idika <kaluidikak@go.com> From: makalele01@xzapmail.com From: g_ineh@tiscali.co.uk From: \"Michael Stevens Junior.\" <marksteven301@netscape.net> From: \"Hajia Maryam Abacha\" <maraba234@anfmail.com> From: \"Hajia Maryam Abacha\" <maraba234@latinmail.com> From: \"BARRISTER MATHEW IKE\" <mathewike212@juno.com> From: engedetamanah@post.cz From: \"MR.ODIASE GEORGE\" <sunnyokogwo@post.cz> From: \"DEACON ZIK R. DON\" <deacon_zik@yaoo.com> From: \"Nzanga Mobutu\" <mobkuz3@kukamail.com> From: adew1@mail3000.com From: adew1@mail3000.com From: \"DR.MUHAMMED MUSTAFA\" <muhammed303@arabtop.net> From: \"BARRISTER, HOPKINS MBEKI\" <hopkinsmbeki@hknetmail.com> From: ndandla@latinmail.com From: <mcabacha@freesurf.fr> From: \"Mr Ugochukwu .W\" <ugoch_8@z6.com> From:Mr.UGOCHUKWU WILLIAM. URGENT REQUEST FOR ASSISTANCE Tel: 00971-50-7155760. Private e-mail:(ugochukwu9@yahoo.co.uk) Dear sir, This letter might surprises you because we have met neither in person nor by correspondence.But I believe it is one day that you got to know somebody either physical or through correspondence,I got your contact through the web-site when I was searching for a reliable trusth-worthy foreign partner to work with. However I am the son of Ex-Minister of Finance Mr.Ugochukwu, a formal Minister of Finance during Late President Laurent Kabila of Democratic Republic of Congo. Infact, I left my country because it was no longer save for me. My father is now in detention awaiting trial because of his involvement againt the government of President Joseph Kabila, who is presently the president of my country. My father called my attention and informed me that he lodged some funds on a Trunk Box with a security firm with an open beneficiary status.I am making thi! From: shaabanbait@primposta.com From: shaabanbait@primposta.com From: consultant_ng3@send-mail.co.uk From: mike odey <modey06@go.com> From: \"DR. AKIN DADA.\" <akindada@indiatimes.com> From: \"barrister vincent usman\" <2003vincent@freesurf.fr> From: \"JAMIE  OPUKU.\" <jamie777@mail.biz.ly> From: <jerrypeter2@freesurf.fr> From: \"mona noah\" <mnoah3@hotmail.com> From: \"MICHEAL  OSSAI\" <JUDE@YAHOO.COM> From: test@yahoo.com From: test@yahoo.com From: \"Peter Bongo\" <mrbongo@themail.com> From: MASTER HAROLD MBEKI <akumembeki@netscape.net> From: \"maryaabacha8 maryam \" <mmaryaabacha8@caramail.com> From: Mrs Maryam Abacha From: \"maryaabacha8 maryam \" <mmaryaabacha8@caramail.com> From: Mrs Maryam Abacha From: \"H B\" <hansob@123.com> From: diaka tshombe <dtshombe2@123.com> From: EKONG BASSEY <ekong.bassey2@caramail.com> From: Vasil Nanchev <vas_imoti@abv.bg> From: frank okonjo <frankokonjo5@123.com> From: \"DR. GODWIN KALALA\" <gokalala1@tiscali.co.uk> From: EKONG BASSEY <ekong.bassey2@caramail.com> From: HELLEN SHAKA ZUMA <hellenshaka@netscape.net> From: Akande fredrick <fredsam@123.com> From: esama kingdom <esamakingdom@fsmail.net> From: MARY ABASS <mary_abass2@123.com> From: frank okonjo <frankokonjo6@123.com> From: \"vino koni\" <vinokoni5@hotmail.com> From: sarah.mutete@caramail.com From: \"DAVIDS ANDERSON.\" <anders01_lb@post.cz> From: diaka tshombe <dtshombe3@123.com> From: markedeozo@freesurf.fr From: allan Sheriff From: abu_saeed4@tiscali.co.uk From: elosub@freesurf.fr From: \"Yetunde Bassey\" <yetunde@mail2world.com> From: \"Yetunde Bassey\" <yetunde@mail2world.com> From: \"lary kamokai\" <lary_kamokai1@hotmail.com> From: \"micheal ado santigo\" <micheal_ado@hotmail.com> From: <fredkuma@freesurf.fr> From: wolny_olkusz@latinmail.com From: \"DR. George Ibrahim Quattara\" <dr_georgequattara@indiatimes.com> From: \"Mr..John Chukwu\" <johnchukwu1@caramail.com> From: \"DR BELLO BATURE\" <dr.bell_bat@portugalmail.com> From: \"maryaabacha8 maryam \" <mmaryaabacha8@caramail.com> From: Mrs Maryam Abacha From: \"Mrs. Juliet Bello.\" <ladyj4u@mail2cherry.com> From: \"Mrs. Serena  Jones\" <serenajones$$7@netscape.net> From: Mrs Serena Jones From: \"chuks Anthony\" <chuksanthony05@netscape.net> From: =?us-ascii?Q?jide=20williams?= <jide.williams@seznam.cz> From: yinkadavi@mailbox.hu From: \"MR.WILLIAM\" <william_d@zwallet.com> From: \"MR.WILLIAM\" <william_d@zwalley.com> From: karimusesay@whipmail.com From: chesson_joseph@mail2world.com From: J.Rodney chesson jr  From: \"Nelson Abia\" <nelson_abia203@hotmail.com> From: \"MR ALI AMED\" <prince_amed011@hotmail.com> From: \"muhammed abacha\" <abamohammed@ananzi.co.za> From: \"HASSAN DIKO\" <hassandiko@fsmail.net> From: \"OLUWATOBI E.BOYE\" <oluwatobiboye@dcemail.com> From: \"OLUWATOBI E.BOYE\" <oluwatobiboye@dcemail.com> From: \"Mr Nelson Abia\" <nelson_abia203@hotmail.com> From: \"Fred Okoli\" <redokoli42@yahoo.com> From: \"haji musa diya\" <musa_diya@fastermail.com> From: \"haji musa diya\" <musa_diya@fastermail.com> From: \"From: Mrs. Victoria Bucknor\" <victoriabucknor23@mail15.com> From: \"From: Mrs. Victoria Bucknor\" <victoriabucknor23@mail15.com> From: \"From: Mrs. Victoria Bucknor\" <victoriabucknor23@mail15.com> From: \"From: Mrs. Victoria Bucknor\" <victoriabucknor23@mail15.com> From: Mrs Serena Jones <ssarejo355@netscape.net> From: Mrs Serena Jones From: \"prince duke\" <aa44@rt.nl> From: \"MRS M. SESE SEKO\" <nanaseko3@web-mail.com.ar> From: Mac Jonson Bonida <jonsonbonida_mac$77@latinmail.com> From: \"Mrs.Floxy Page\" <floxypage44@hknetmail.com> From: \"PETER OKOYE\" <opeter6@caramail.com> From: \"PETER OKOYE\" <opeter6@caramail.com> From: \"MRS.MARYAM ABACHA\" <firstlady234@post.cz> From: \"MRS M. SESE SEKO\" <nanaseko4@web-mail.com.ar> From: \"MOHAMMED\" <port1.net@email.it> From: \"MOHAMMED\" <port1.net@email.it> From: \"MOHAMMED\" <port1.net@email.it>']\n"
          ]
        }
      ]
    },
    {
      "cell_type": "code",
      "source": [
        "# Correct answer:\n",
        "pattern_email = \"<.+?>\" \n",
        "email_list = re.findall(pattern_email, file_string)\n",
        "print(email_list[:5])"
      ],
      "metadata": {
        "colab": {
          "base_uri": "https://localhost:8080/"
        },
        "id": "8TDd73VvwnnU",
        "outputId": "6c6c4f61-9fdc-427e-e102-83a4490c5b2f"
      },
      "execution_count": 19,
      "outputs": [
        {
          "output_type": "stream",
          "name": "stdout",
          "text": [
            "['<james_ngola2002@maktoob.com>', '<bensul2004nng@spinfinder.com>', '<obong_715@epatra.com>', '<obong_715@epatra.com>', '<m_abacha03@www.com>']\n"
          ]
        }
      ]
    },
    {
      "cell_type": "markdown",
      "metadata": {
        "collapsed": true,
        "id": "XzROehoqjamN"
      },
      "source": [
        "##__Basic regex operations/patterns (continued)__\n",
        "\n",
        "<li>\\s -- (lowercase s) matches a single whitespace character -- space, newline, return, tab, form [ \\n\\r\\t\\f]. \n",
        "<li>\\S (upper case S) matches any non-whitespace character.\n",
        "\n",
        "<li>\\w (lowercase w): matches a \"word\" character: a letter or digit or underbar [a-zA-Z0-9_]. Note that although \"word\" is the mnemonic for this, it only matches a single word char, not a whole word. \n",
        "<li>\\W (upper case W) matches any non-word character.\n",
        "<li>\\t, \\n, \\r -- tab, newline, return\n",
        "\n",
        "\n",
        "<br>\n",
        "\n",
        "_5._ In \"result\" list, collect all the first and the last words in each line.\n",
        "\n"
      ]
    },
    {
      "cell_type": "code",
      "execution_count": 20,
      "metadata": {
        "colab": {
          "base_uri": "https://localhost:8080/"
        },
        "id": "876NsxO3jamN",
        "outputId": "ae5aefc4-90f0-4bc1-e8e3-d1ded1e44d76"
      },
      "outputs": [
        {
          "output_type": "stream",
          "name": "stdout",
          "text": [
            "From: \"MR. JAMES NGOLA.\" <james_ngola2002@maktoob.com>\n",
            "['From']\n",
            "[]\n",
            "From: \"Mr. Ben Suleman\" <bensul2004nng@spinfinder.com>\n",
            "['From']\n",
            "[]\n",
            "From: \"PRINCE OBONG ELEME\" <obong_715@epatra.com>\n",
            "['From']\n",
            "[]\n",
            "From: \"PRINCE OBONG ELEME\" <obong_715@epatra.com>\n",
            "['From']\n",
            "[]\n",
            "From: \"Maryam Abacha\" <m_abacha03@www.com>\n",
            "['From']\n",
            "[]\n",
            "From: Kuta David <davidkuta@postmark.net>\n",
            "['From']\n",
            "[]\n",
            "From: \"Barrister tunde dosumu\" <tunde_dosumu@lycos.com>\n",
            "['From']\n",
            "[]\n",
            "From: \"William Drallo\" <william2244drallo@maktoob.com>\n",
            "['From']\n",
            "[]\n",
            "From: \"MR USMAN ABDUL\" <abdul_817@rediffmail.com>\n",
            "['From']\n",
            "[]\n",
            "From: \"Tunde  Dosumu\" <barrister_td@lycos.com>\n",
            "['From']\n",
            "[]\n"
          ]
        }
      ],
      "source": [
        "pattern_first_word = \"^\\w+\"\n",
        "pattern_last_word = \"\\w+$\"# Why doesn't this show any matches?\n",
        "# Because arrows are not word-characters (what we are looking is not necessarily a \"word\". see the definition of \\w)\n",
        "#pattern_first_word = \"^\\S+\"\n",
        "#pattern_last_word = \"\\S+$\"\n",
        "\n",
        "for line in result[:10]:\n",
        "    print(line)\n",
        "    first_word = re.findall(pattern_first_word, line)\n",
        "    last_word = re.findall(pattern_last_word, line)\n",
        "    print(first_word)\n",
        "    print(last_word)\n"
      ]
    },
    {
      "cell_type": "markdown",
      "metadata": {
        "id": "MDVxZ-gjjamO"
      },
      "source": [
        "##__Basic regex operations/patterns (continued)__\n",
        "<li>\\d -- decimal digit (0-9) \n",
        "<li>{m} -- specifies that exactly m copies of the previous RE should be matched; fewer matches cause the entire RE not to match. For example, a{6} will match exactly six 'a' characters, but not five.\n",
        "<li>{m,n} -- causes the resulting RE to match from m to n repetitions of the preceding RE, attempting to match as many repetitions as possible. \n",
        "<li>{m,n}? -- causes the resulting RE to match from m to n repetitions of the preceding RE, attempting to match as few repetitions as possible. This is the non-greedy version of the previous qualifier. For example, on the 6-character string 'aaaaaa', what will the following patterns match?\n",
        "\n",
        "> a{3,5} (will match 5 'a' characters)\n",
        "\n",
        "> a{3,5}? (will only match 3 characters, twice)\n",
        "\n",
        "> a{3,} (will match as many a characters as possible = minimum of 3 characters)\n",
        "\n",
        "> a{,5} (will match maximum of 5 characters - and 5 characters if possible) and another one character\n",
        "\n",
        "> a{3,}? (will match max. 3 characters)\n",
        "\n",
        "> a{1,5}? (will match 1 character)\n",
        "\n"
      ]
    },
    {
      "cell_type": "code",
      "execution_count": null,
      "metadata": {
        "id": "W3fpd5TFjamO",
        "outputId": "e0f4c899-5db8-4870-a871-a9414ddad802"
      },
      "outputs": [
        {
          "name": "stdout",
          "output_type": "stream",
          "text": [
            "['aaaaa']\n",
            "['aaa', 'aaa']\n",
            "['aaaaaa']\n",
            "['aa', 'aa', 'aa', '']\n",
            "['aaa', 'aaa']\n",
            "['a', 'a', 'a', 'a', 'a', 'a']\n"
          ]
        }
      ],
      "source": [
        "import re\n",
        "string = 'aaaaaa'\n",
        "\n",
        "pattern_list = [\"a{3,5}\", \"a{3,5}?\", \"a{3,}\", \"a{,2}\", \"a{3,}?\", \"a{1,5}?\"]\n",
        "for pattern in pattern_list:\n",
        "    chars = re.findall(pattern, string)\n",
        "    print(chars)\n",
        "    "
      ]
    },
    {
      "cell_type": "markdown",
      "source": [
        "<li>[ ] -- indicates a set of characters. In a set:\n",
        "\n",
        "> Characters can be listed individually, e.g. [amk] will match 'a', 'm', or 'k'.\n",
        "\n",
        "> Ranges of characters can be indicated by giving two characters and separating them by a '-', for example [a-z] will match any lowercase ASCII letter, [0-5][0-9] will match all the two-digits numbers from 00 to 59, and [0-9A-Fa-f] will match any hexadecimal digit. \n",
        "\n",
        "> Special characters lose their special meaning inside sets. For example, \\[\\(+*\\)\\] will match any of the literal characters '(', '+', '*', or ')'.\n",
        "\n",
        "\n",
        "> __Negation with '^':__ if the first character of the set is '^', all the characters that are not in the set will be matched. For example, [^5] will match any character except '5', and [^^] will match any character except '^'. ^ has no special meaning if it’s not the first character in the set.\n",
        "\n",
        "For more information: https://docs.python.org/3/library/re.html"
      ],
      "metadata": {
        "id": "FYekG66GAKLS"
      }
    },
    {
      "cell_type": "markdown",
      "metadata": {
        "id": "C7ZxQ3cEjamO"
      },
      "source": [
        "Now, back to analysing the e-mails!\n",
        "\n",
        "_6_. collect all (and only) the years appearing in the lines that start with:<br>\n",
        "> \"From r\"<br> \n",
        "example: From r  Wed Oct 30 21:41:56 2002<br>\n",
        "> \"Date:\" <br>\n",
        "example: Date: Thu, 31 Oct 2002 02:38:20 +0000<br>\n",
        "\n",
        "Our code should return \"2002\" in both examples (and nothing else :)"
      ]
    },
    {
      "cell_type": "code",
      "execution_count": 2,
      "metadata": {
        "colab": {
          "base_uri": "https://localhost:8080/"
        },
        "id": "PelgQGo3jamO",
        "outputId": "a84fff1f-4206-411b-bd93-3aa7f294bbf2"
      },
      "outputs": [
        {
          "output_type": "stream",
          "name": "stdout",
          "text": [
            "From r  Wed Oct 30 21:41:56 2002\n",
            "['2002']\n",
            "Date: Thu, 31 Oct 2002 02:38:20 +0000\n",
            "['2002']\n"
          ]
        }
      ],
      "source": [
        "import codecs\n",
        "import re\n",
        "import sys\n",
        "\n",
        "file_lines = open(\"./fradulent_emails_utf8.txt\", \"r\").readlines()\n",
        "#print(file_lines[:100])\n",
        "\n",
        "#pattern_year = \"\\d{4}\" #This will fail for the lines with \"Date:\"\n",
        "#pattern_year = \"[^+]\\d{4}\" #This will also capture the space before it so not the best option\n",
        "\n",
        "#Correct pattern:\n",
        "pattern_year = \"[1-2]\\d{3}\" \n",
        "\n",
        "\n",
        "for i in range(20):\n",
        "    line = file_lines[i]\n",
        "    if line.startswith(\"From r\") or line.startswith(\"Date:\"):\n",
        "        year = re.findall(pattern_year, line)\n",
        "        print(line.strip())\n",
        "        print(year)\n",
        "    else:\n",
        "        pass\n",
        "\n",
        "\n"
      ]
    },
    {
      "cell_type": "markdown",
      "metadata": {
        "id": "L3Fy13KPjamP"
      },
      "source": [
        "### Flags\n",
        "Flags let you modify some aspects of how regular expressions work. Flags are available in the re module under two \n",
        "names, a long name such as IGNORECASE and a short, one-letter form such as I.\n",
        "\n",
        "_re.search(pattern,string)_ is the same as _re.search(pattern,string,flags=0)_\n",
        "\n",
        "\n",
        "|syntax|\tlong syntax|\tmeaning|\n",
        "|---|---|---|\n",
        "|re.I|re.IGNORECASE|ignore case|\n",
        "|re.S|re.DOTALL|makes dot match newline (\"\\n\")|\n",
        "|re.M|re.MULTILINE|makes ^ and $ match in every new line|\n",
        "\n",
        "\n",
        "Example: \n",
        "\n",
        "*re.search(pattern,string,flags=re.IGNORECASE|re.S)*"
      ]
    },
    {
      "cell_type": "code",
      "execution_count": null,
      "metadata": {
        "id": "sYbshoHEjamP",
        "outputId": "4a2ea013-bd3d-462c-f2fd-484d3d8e3e70"
      },
      "outputs": [
        {
          "name": "stdout",
          "output_type": "stream",
          "text": [
            "['Test', 'TEST', 'test']\n"
          ]
        }
      ],
      "source": [
        "#Let's find all the words \"test\" with all possible casings\n",
        "s = 'This is one Test, another TEST, and another test.'\n",
        "\n",
        "#result = re.findall('test', s)\n",
        "result = re.findall('test', s, flags=re.I) #(ignore casing) ### ADD flags=\n",
        "\n",
        "print(result)"
      ]
    },
    {
      "cell_type": "markdown",
      "metadata": {
        "id": "eAb3VgU6jamP"
      },
      "source": [
        "## DIY: Basic regex operations"
      ]
    },
    {
      "cell_type": "markdown",
      "metadata": {
        "id": "ehtbWgT4jamQ"
      },
      "source": [
        "### DIY1 ##\n",
        "Write a function that returns \"Match\" if a given input contains an 'a' followed by at least two 'b's and \"No match\" otherwise."
      ]
    },
    {
      "cell_type": "code",
      "execution_count": null,
      "metadata": {
        "id": "Jo6hZEf8jamQ",
        "outputId": "ac1fe929-eb7b-4aac-d7d9-d8c78cec5fb3"
      },
      "outputs": [
        {
          "name": "stdout",
          "output_type": "stream",
          "text": [
            "Not matched!\n",
            "Found a match!\n",
            "Not matched!\n"
          ]
        }
      ],
      "source": [
        "import re\n",
        "def text_match(text):\n",
        "        pattern = 'ab{2,}'\n",
        "        if re.findall(pattern,  text):\n",
        "                return 'Found a match!'\n",
        "        else:\n",
        "                return('Not matched!')\n",
        "            \n",
        "print(text_match(\"ab\")) # No match\n",
        "print(text_match(\"aabbbbbc\")) # Match\n",
        "print(text_match(\"aabcbb\")) # No Match"
      ]
    },
    {
      "cell_type": "markdown",
      "metadata": {
        "id": "31jN9rO-jamQ"
      },
      "source": [
        "### DIY2 ##\n",
        "Write a function that returns \"Match\" if a given input contains 'z', not at the start or end of the word.\n"
      ]
    },
    {
      "cell_type": "code",
      "execution_count": null,
      "metadata": {
        "id": "N0-5Tgu0jamQ",
        "outputId": "94e9c3ff-a622-4a5c-ecef-94cac9e51475"
      },
      "outputs": [
        {
          "name": "stdout",
          "output_type": "stream",
          "text": [
            "['the lazy dog.']\n",
            "Match\n",
            "[]\n",
            "No match\n",
            "[]\n",
            "No match\n",
            "['lazy lazy dog.']\n",
            "Match\n"
          ]
        }
      ],
      "source": [
        "import re\n",
        "def text_match(text):\n",
        "        #patterns = '.z.' # Also correct\n",
        "        #patterns = \"^[^z]+z[^z]+$\" (this will not be correct if there are multiple z's)\n",
        "        patterns = \"^[^z].+z.+[^z]$\"\n",
        "        print(re.findall(patterns,  text))\n",
        "        if re.findall(patterns,  text):\n",
        "                return 'Match'\n",
        "        else:\n",
        "                return('No match')\n",
        "\n",
        "print(text_match(\"the lazy dog.\")) # Match\n",
        "print(text_match(\"python exercises.\")) # No match\n",
        "print(text_match(\"zoos are open again.\")) # No match\n",
        "print(text_match(\"lazy lazy dog.\")) # ADD THIS TO illustrate multiple z's"
      ]
    },
    {
      "cell_type": "markdown",
      "metadata": {
        "id": "VlFVe26VjamR"
      },
      "source": [
        "### DIY 3 ##\n",
        "Write a function that returns \"Match\" if a given input contains sequences of lowercase letters joined with a underscore."
      ]
    },
    {
      "cell_type": "code",
      "execution_count": null,
      "metadata": {
        "id": "eczviojZjamR",
        "outputId": "16e43b5f-7b90-43c7-a809-33e9ded26900"
      },
      "outputs": [
        {
          "name": "stdout",
          "output_type": "stream",
          "text": [
            "Match\n",
            "No match\n",
            "No match\n"
          ]
        }
      ],
      "source": [
        "import re\n",
        "def text_match(text):\n",
        "        pattern = '^[a-z]+_[a-z]+$' \n",
        "        \n",
        "        if re.findall(pattern,  text):\n",
        "                return 'Match'\n",
        "        else:\n",
        "                return('No match')\n",
        "            \n",
        "print(text_match(\"aab_cbbbc\")) # Match\n",
        "print(text_match(\"aab_Abbbc\")) # No match\n",
        "print(text_match(\"Aaab_abbbc\")) # No match\n"
      ]
    },
    {
      "cell_type": "markdown",
      "metadata": {
        "id": "t7ag_vnZjamR"
      },
      "source": [
        "### DIY 4 ##\n",
        "Write a function that returns \"Match\" if a given input starts with any of the following characters: \"a\", \"b\" or \"c\". It returns \"No match\" otherwise."
      ]
    },
    {
      "cell_type": "code",
      "execution_count": null,
      "metadata": {
        "id": "7qG3KF28jamR"
      },
      "outputs": [],
      "source": [
        "import re\n",
        "def text_match(text):\n",
        "    #pattern = '^a|b|c' # this is ia needs to be at the beginning but not b or c\n",
        "    pattern = \"^[abc]\"\n",
        "    print(re.findall(pattern, text))\n",
        "    if re.findall(pattern,  text):\n",
        "        return 'Match'\n",
        "    else:\n",
        "        return('No match')\n",
        "            "
      ]
    },
    {
      "cell_type": "code",
      "execution_count": null,
      "metadata": {
        "id": "ivp-MvlSjamR",
        "outputId": "5aa5fa8b-aabe-4147-80bb-cc22c048a87c"
      },
      "outputs": [
        {
          "name": "stdout",
          "output_type": "stream",
          "text": [
            "['a', 'b']\n",
            "Match\n",
            "[]\n",
            "No match\n",
            "[]\n",
            "No match\n",
            "['b']\n",
            "Match\n"
          ]
        }
      ],
      "source": [
        "print(text_match(\"aaab\")) # Match\n",
        "print(text_match(\"ddda\")) # Match\n",
        "print(text_match(\"Aef\")) # No match\n",
        "print(text_match(\"bddda\")) # ADD this to illustrate the first pattern"
      ]
    },
    {
      "cell_type": "markdown",
      "metadata": {
        "id": "FXe11V8ZjamS"
      },
      "source": [
        "### DIY5  ## \n",
        "\n",
        "Create a function __is_integer__ that accepts a string and returns __True__ if the string is an integer, and __False__ otherwise.\n",
        "\n",
        "a string is an integer if it:\n",
        "\n",
        "<li>consists of 1 or more digits\n",
        "<li>optionally begins with -\n",
        "<li>does not contain any other non-digit characters.\n",
        "\n"
      ]
    },
    {
      "cell_type": "code",
      "source": [
        "def is_integer(input):\n",
        "    pattern = \"^-?\\d+$\"\n",
        "    result = re.findall(pattern, input)\n",
        "    if result:\n",
        "      print(\"True\")\n",
        "    else:\n",
        "      print(\"False\")\n",
        "    "
      ],
      "metadata": {
        "id": "0RjOhVawEpma"
      },
      "execution_count": 11,
      "outputs": []
    },
    {
      "cell_type": "code",
      "execution_count": 12,
      "metadata": {
        "id": "INiuz0J_jamS"
      },
      "outputs": [],
      "source": [
        "#Alternative with bool function\n",
        "def is_integer(input):\n",
        "    pattern = \"^-?\\d+$\"\n",
        "    result = bool(re.findall(pattern, input))\n",
        "    print(result)\n",
        "\n"
      ]
    },
    {
      "cell_type": "code",
      "execution_count": 13,
      "metadata": {
        "scrolled": false,
        "colab": {
          "base_uri": "https://localhost:8080/"
        },
        "id": "11TybKRIjamS",
        "outputId": "983da518-e93c-484b-939b-930084beab72"
      },
      "outputs": [
        {
          "output_type": "stream",
          "name": "stdout",
          "text": [
            "False\n",
            "False\n",
            "True\n",
            "True\n",
            "False\n",
            "True\n",
            "False\n",
            "False\n"
          ]
        }
      ],
      "source": [
        "#Validate your code\n",
        "is_integer(\"\") #False\n",
        "is_integer(\" 7\") #False\n",
        "is_integer(\"3222\") #True\n",
        "is_integer(\"-875\") #True\n",
        "is_integer(\"+223\") #False\n",
        "is_integer(\"00\") #True\n",
        "is_integer(\"1.0\") #False\n",
        "is_integer(\"7A\") #False"
      ]
    },
    {
      "cell_type": "markdown",
      "metadata": {
        "id": "haHk7QVdjamS"
      },
      "source": [
        "## Groups\n",
        "\n",
        "So far we have been extracting everything that matches with our patterns. \n",
        "\"Groups\" in regex allow us to pick out parts of the matching patterns. \n",
        "\n",
        "\n",
        "\n",
        "Suppose we would like to capture different parts of a given string and assign them to different variables.\n",
        "We can do this by using \"groups\", which will be indicated by paranthesis within the regex pattern. In this case, the parenthesis do not change what the pattern will match, instead they establish logical \"groups\" inside of the match text.\n",
        "\n",
        "While using \"findall\", in the case of multiple groups, the result will be a list of tuples, each tuple containing the different groups captured."
      ]
    },
    {
      "cell_type": "code",
      "execution_count": null,
      "metadata": {
        "scrolled": true,
        "id": "fS1ypwn9jamS",
        "outputId": "c06088bb-dc8f-4d9b-da44-0c1559de6947"
      },
      "outputs": [
        {
          "name": "stdout",
          "output_type": "stream",
          "text": [
            "['Cats']\n",
            "[('Cats', 'smarter')]\n",
            "[('Cats are smarter than dogs', 'Cats', 'smarter')]\n",
            "Cats are smarter than dogs\n"
          ]
        }
      ],
      "source": [
        "line = \"Cats are smarter than dogs\"\n",
        "pattern1 = \"(.*) are .*? .*\"\n",
        "pattern2 = \"(.*) are (.*?) .*\"\n",
        "pattern3 = \"((.*) are (.*?) .*)\"\n",
        "\n",
        "result1 = re.findall(pattern1, line)\n",
        "result2 = re.findall(pattern2, line)\n",
        "result3 = re.findall(pattern3, line)\n",
        "\n",
        "\n",
        "print(result1)\n",
        "print(result2)\n",
        "print(result3)\n",
        "\n",
        "\n",
        "\n"
      ]
    },
    {
      "cell_type": "markdown",
      "metadata": {
        "id": "HTLMlYOKjamT"
      },
      "source": [
        "### DIY. Groups\n",
        "\n",
        "Capture only the username and the host from each e-mail address (at the same time) in the data set of spam e-mails.\n",
        "\n",
        "For the e-mail address username@gmail.com, your pattern should return ('username', 'gmail').\n"
      ]
    },
    {
      "cell_type": "code",
      "execution_count": 16,
      "metadata": {
        "colab": {
          "base_uri": "https://localhost:8080/"
        },
        "id": "Zki3ICBsjamT",
        "outputId": "c4d76ea5-bf26-4d94-dfae-130f73129745"
      },
      "outputs": [
        {
          "output_type": "stream",
          "name": "stdout",
          "text": [
            "From: \"MR. JAMES NGOLA.\" <james_ngola2002@maktoob.com>\n",
            "\n",
            "[('james_ngola2002', 'maktoob')]\n",
            "\n",
            "From: \"Mr. Ben Suleman\" <bensul2004nng@spinfinder.com>\n",
            "\n",
            "[('bensul2004nng', 'spinfinder')]\n",
            "\n",
            "From: \"PRINCE OBONG ELEME\" <obong_715@epatra.com>\n",
            "\n",
            "[('obong_715', 'epatra')]\n",
            "\n",
            "From: \"PRINCE OBONG ELEME\" <obong_715@epatra.com>\n",
            "\n",
            "[('obong_715', 'epatra')]\n",
            "\n",
            "From: \"Maryam Abacha\" <m_abacha03@www.com>\n",
            "\n",
            "[('m_abacha03', 'www')]\n",
            "\n",
            "From: Kuta David <davidkuta@postmark.net>\n",
            "\n",
            "[('davidkuta', 'postmark')]\n",
            "\n",
            "From: \"Barrister tunde dosumu\" <tunde_dosumu@lycos.com>\n",
            "\n",
            "[('tunde_dosumu', 'lycos')]\n",
            "\n",
            "From: \"William Drallo\" <william2244drallo@maktoob.com>\n",
            "\n",
            "[('william2244drallo', 'maktoob')]\n",
            "\n",
            "From: \"MR USMAN ABDUL\" <abdul_817@rediffmail.com>\n",
            "\n",
            "[('abdul_817', 'rediffmail')]\n",
            "\n",
            "From: \"Tunde  Dosumu\" <barrister_td@lycos.com>\n",
            "\n",
            "[('barrister_td', 'lycos')]\n",
            "\n",
            "From: MR TEMI JOHNSON <temijohnson2@rediffmail.com>\n",
            "\n",
            "[('temijohnson2', 'rediffmail')]\n",
            "\n",
            "From: \"Dr.Sam jordan\" <sjordan@diplomats.com>\n",
            "\n",
            "[('sjordan', 'diplomats')]\n",
            "\n",
            "From: p_brown2@lawyer.com\n",
            "\n",
            "[]\n",
            "\n",
            "From: mic_k1@post.com\n",
            "\n",
            "[]\n",
            "\n",
            "From: \"COL. MICHAEL BUNDU\" <mikebunduu1@rediffmail.com>\n",
            "\n",
            "[('mikebunduu1', 'rediffmail')]\n",
            "\n"
          ]
        }
      ],
      "source": [
        "import codecs\n",
        "import re\n",
        "import sys\n",
        "\n",
        "file_lines = open(\"./fradulent_emails_utf8.txt\", \"r\").readlines()\n",
        "\n",
        "\n",
        "#Let's find the e-mail addresses\n",
        "pattern_email = \"<(\\S+)@(\\S+)\\.\\S+>\" \n",
        "\n",
        "for line in file_lines[:1000]:\n",
        "    if line.startswith(\"From:\"):\n",
        "        email = re.findall(pattern_email, line)\n",
        "        print(line)\n",
        "        print(email)\n",
        "        print()\n",
        "        "
      ]
    },
    {
      "cell_type": "markdown",
      "metadata": {
        "id": "x1PZUWhojamT"
      },
      "source": [
        "## \"Looking around\"\n",
        "\n",
        "Lookahead and lookbehind, collectively called “lookaround”, are zero-length assertions just like the start and end of line, and start and end of word anchors explained earlier in this tutorial. The difference is that lookaround actually matches characters, but then gives up the match, returning only the result: match or no match. That is why they are called “assertions”. **They do not consume characters in the string, but only assert whether a match is possible or not.** \n",
        "\n",
        "Lookaround allows you to create regular expressions that are impossible to create without them, or that would get very longwinded without them.\n",
        "\n",
        "|Lookaround\t|Name\t|What it Does|\n",
        "|---|---|---|\n",
        "|.(?=foo)|Lookahead|any character followed by \"foo\"|\n",
        "|(?<=foo).|Lookbehind|any character preceded by \"foo\"|\n",
        "|.(?!foo)|Negative Lookahead|any character _not_ followed by \"foo\"|\n",
        "|(?<!foo).|Negative Lookbehind|any character _not_ preceded by \"foo\"|\n",
        "\n",
        "\n"
      ]
    },
    {
      "cell_type": "code",
      "execution_count": null,
      "metadata": {
        "id": "ptcJ7EMhjamU",
        "outputId": "1f65b458-570c-4039-de2a-e007a2394dc0"
      },
      "outputs": [
        {
          "name": "stdout",
          "output_type": "stream",
          "text": [
            "['3']\n",
            "['123']\n",
            "['456']\n",
            "['123foo456', '']\n",
            "['1', '2', '3f', 'o', 'o', '4', '5', '6']\n",
            "['1', '2', '3', 'f', 'o', '4', '5', '6']\n"
          ]
        }
      ],
      "source": [
        "string = \"123foo456\"\n",
        "pattern1 = \".(?=foo)\"\n",
        "pattern2 = \".+(?=foo)\"\n",
        "pattern3 = \"(?<=foo).*\"\n",
        "pattern4 = \".*(?!f)\" # will capture the whole string (Greedy)\n",
        "pattern5 = \".+?(?!f)\" # will not capture 3, will capture 3f (non-greedy)\n",
        "pattern6 = \"(?<!f).+?\" # will not capture the first \"o\"\n",
        "\n",
        "patterns = [pattern1, pattern2, pattern3, pattern4, pattern5, pattern6]\n",
        "for p in patterns:\n",
        "    result = re.findall(p, string)\n",
        "    print(result)\n",
        "\n"
      ]
    },
    {
      "cell_type": "markdown",
      "metadata": {
        "id": "qOuzGyUpjamU"
      },
      "source": [
        "### __What if we need to capture the meta-characters in text? (Revisited)__\n",
        "\n",
        "Let's try to capture all the years preceded with a plus sign in the following string. Do not capture the plus sign this time! Our code should return ['1789', '2009']."
      ]
    },
    {
      "cell_type": "code",
      "execution_count": null,
      "metadata": {
        "id": "eYI5nuSAjamU"
      },
      "outputs": [],
      "source": [
        "string = \"August 23; +1789; April 14, +2009; September 12 1960; March 3, 1346, October 2, 1982\"\n",
        "pattern = \"(?<=\\+)\\d{4}\"\n",
        "\n",
        "result = re.findall(pattern, string)\n",
        "print(result)"
      ]
    },
    {
      "cell_type": "markdown",
      "metadata": {
        "id": "V9D5MWwbjamU"
      },
      "source": [
        "### Illustrate lookaround \"not capturing\" matches\n",
        "\n",
        "Write a pattern to catch any character followed by \"ba\". The code should return ['c', 'a']."
      ]
    },
    {
      "cell_type": "code",
      "execution_count": null,
      "metadata": {
        "id": "ChdWHLtijamU",
        "outputId": "e3195cd8-46f7-4dc2-bae4-51f71cfa5682"
      },
      "outputs": [
        {
          "name": "stdout",
          "output_type": "stream",
          "text": [
            "['c', 'a']\n"
          ]
        }
      ],
      "source": [
        "text= \"cbaba\"\n",
        "\n",
        "pattern = \"(.)ba\" # This will consume (ba) everytime it matches (even though we are not returning \"ba\" via groups)\n",
        "# This will catch both c and a, as it does not consume the \"ba\"\n",
        "pattern = \".(?=ba)\" \n",
        "\n",
        "print(re.findall(pattern, text))"
      ]
    },
    {
      "cell_type": "code",
      "execution_count": null,
      "metadata": {
        "scrolled": false,
        "id": "Lv2JRrO4jamV"
      },
      "outputs": [],
      "source": [
        "import codecs\n",
        "import re\n",
        "import sys\n",
        "\n",
        "#file_lines = codecs.open(\"./fradulent_emails_utf8.txt\", \"r\").readlines()\n",
        "\n",
        "lines = ['From: \"Dr. Bernard Makelele\" <benkelele@phantomemail.com>', 'From: \"Dr.Sam jordan\" <sjordan@diplomats.com>', \n",
        "           'From: \"DR MARIAM ABACHA\" <elixwilliam@usa.com>', 'From: \"bell.idr bell.idr\" <bbell.idr@caramail.com>']\n",
        "\n",
        "# Add your code here\n"
      ]
    },
    {
      "cell_type": "markdown",
      "metadata": {
        "id": "krWyZe8cjamV"
      },
      "source": [
        "## Other Regex Functions\n",
        "So far we have been using __re.findall__ to retrieve all possible matches.\n",
        "But this is not always what we want to do.\n",
        "There are other regex functions we can use:\n",
        "\n",
        "<br>\n",
        "\n",
        "#### **re.search(pattern, string, flags=0)**\n",
        "Scan through string looking for the __first location where the regular expression pattern produces a match__, and return a corresponding match object. Return None if no position in the string matches the pattern.\n",
        "\n",
        "<br>\n",
        "\n",
        "#### **re.match(pattern, string, flags=0)** \n",
        "If zero or more characters __at the beginning of string__ match the regular expression pattern, return a corresponding match object. Return None if the string does not match the pattern.\n",
        "\n",
        "\n"
      ]
    },
    {
      "cell_type": "code",
      "execution_count": null,
      "metadata": {
        "id": "ZfZrQSPCjamV",
        "outputId": "53776fa9-6e30-41c1-d1c6-299fa29e3a6d"
      },
      "outputs": [
        {
          "name": "stdout",
          "output_type": "stream",
          "text": [
            "None\n"
          ]
        }
      ],
      "source": [
        "a = \"123abc\"\n",
        "print(re.match(\"[a-z]+\",a))\n"
      ]
    },
    {
      "cell_type": "markdown",
      "metadata": {
        "id": "P2kJMSk6jamV"
      },
      "source": [
        "If you want to locate a match anywhere in string, use __search()__ instead."
      ]
    },
    {
      "cell_type": "code",
      "execution_count": null,
      "metadata": {
        "id": "AWWbgp6kjamV",
        "outputId": "67249be1-b42a-47de-a363-e5402c81a785"
      },
      "outputs": [
        {
          "name": "stdout",
          "output_type": "stream",
          "text": [
            "<re.Match object; span=(3, 6), match='abc'>\n",
            "abc\n"
          ]
        }
      ],
      "source": [
        "a = \"123abc\"\n",
        "print(re.search(\"[a-z]+\",a))\n",
        "print(re.search(\"[a-z]+\",a).group())"
      ]
    },
    {
      "cell_type": "markdown",
      "metadata": {
        "id": "Ela5t5uVjamW"
      },
      "source": [
        "#### __re.split(pattern, string, maxsplit=0, flags=0)__\n",
        "Split string by the occurrences of pattern resulting in a list. If maxsplit is nonzero, at most maxsplit splits occur, and the remainder of the string is returned as the final element of the list.\n"
      ]
    },
    {
      "cell_type": "code",
      "execution_count": null,
      "metadata": {
        "id": "LxQSoICgjamW",
        "outputId": "c959b6fe-0f07-4652-89a0-c1c136afd839"
      },
      "outputs": [
        {
          "name": "stdout",
          "output_type": "stream",
          "text": [
            "['Words,   ', ' words.']\n",
            "['Words,', '', '', 'words,', 'words.']\n",
            "['Words,', 'words,', 'words.']\n",
            "['Words', '   words', ' words.']\n",
            "['Words,   ', 'words,', ' words.']\n"
          ]
        }
      ],
      "source": [
        "# Examples with \"split\"\n",
        "string = 'Words,   words, words.'\n",
        "result1 = re.split('words,', string) \n",
        "result2 = re.split('\\s', string) \n",
        "result3 = re.split('\\s+', string)\n",
        "result4 = re.split(',', string) \n",
        "result5 = re.split('(words,)', string) # Capturing groups will appear in the output\n",
        "\n",
        "# What should be the results if we use these patterns to match the given \"string\"?\n",
        "### Print the results.\n",
        "\n",
        "print(result1)\n",
        "print(result2)\n",
        "print(result3)\n",
        "print(result4)\n",
        "print(result5)"
      ]
    },
    {
      "cell_type": "markdown",
      "metadata": {
        "id": "L3MbKbmEjamW"
      },
      "source": [
        "#### __re.sub(pattern, replace, string, count=0, flags=0)__\n",
        "Return the string obtained by replacing the leftmost non-overlapping occurrences of pattern in string by the replacement \"replace\". If the pattern isn’t found, string is returned unchanged.\n",
        "\n"
      ]
    },
    {
      "cell_type": "code",
      "execution_count": null,
      "metadata": {
        "id": "wF5c4NXfjamW",
        "outputId": "54a45647-3a87-4a40-8f33-11426ee1d3a4"
      },
      "outputs": [
        {
          "name": "stdout",
          "output_type": "stream",
          "text": [
            "Words words words.*\n",
            "Words* words* words.*\n",
            "Words,_words,_words.*\n",
            "Words, ord, ord.*\n",
            "Words, ord, ord.*\n",
            "ord, ord, ord.*\n"
          ]
        }
      ],
      "source": [
        "# Example with \"sub\"\n",
        "string = 'Words, words, words.*'\n",
        "result0 = re.sub(',', '', string)           # Delete all the commas\n",
        "result1 = re.sub(',', '*', string)           # Replace commas with * (the replacement is a string)\n",
        "result2 = re.sub('\\s+', '_', string)           # Replace a sequence of spaces with underscores\n",
        "result3 = re.sub('w(ord)s', r'\\1', string)    # Replace a string with a part of itself. r indicates the group (regex)\n",
        "result4 = re.sub('w(ord)s', r'\\1', string, re.IGNORECASE)    # This will not work as the att is passed to \"count\" and not \"flag\"\n",
        "result5 = re.sub('w(ord)s', r'\\1', string, flags=re.IGNORECASE)    # Replace a string with a part of itself, case insensitive\n",
        "\n",
        "print(result0)\n",
        "print(result1)\n",
        "print(result2)\n",
        "print(result3)\n",
        "print(result4)\n",
        "print(result5)"
      ]
    },
    {
      "cell_type": "markdown",
      "source": [
        "#### __re.compile(pattern, flags=0)__\n",
        "Compile a regular expression pattern into a regular expression object, which can be used for matching using its match(), search() and other methods, When should we use this? \n",
        "- reusability\n",
        "- increased speed if repetitively used (in a loop for example)"
      ],
      "metadata": {
        "id": "_YyXY6XQKzlE"
      }
    },
    {
      "cell_type": "code",
      "source": [
        "pattern = re.compile('hello')\n",
        "result = re.findall(pattern, 'hello world')\n",
        "print(result)\n",
        "\n",
        "result = re.findall('hello', 'hello world')\n",
        "print(result)"
      ],
      "metadata": {
        "colab": {
          "base_uri": "https://localhost:8080/"
        },
        "id": "8QCK_xMcLkru",
        "outputId": "42f2cb54-ba97-4080-cbf3-ca842fcb04b6"
      },
      "execution_count": 15,
      "outputs": [
        {
          "output_type": "stream",
          "name": "stdout",
          "text": [
            "['hello']\n",
            "['hello']\n"
          ]
        }
      ]
    },
    {
      "cell_type": "markdown",
      "metadata": {
        "collapsed": true,
        "id": "bPt0YoO5jamX"
      },
      "source": [
        "This course contains material from:\n",
        "\n",
        "- dataquest.io\n",
        "- https://www.regular-expressions.info/lookaround.html\n",
        "- https://docs.python.org/3/library/re.html\n",
        "- https://www.bogotobogo.com/python/python_regularExpressions.php"
      ]
    }
  ],
  "metadata": {
    "kernelspec": {
      "display_name": "Python3-new",
      "language": "python",
      "name": "python3"
    },
    "language_info": {
      "codemirror_mode": {
        "name": "ipython",
        "version": 3
      },
      "file_extension": ".py",
      "mimetype": "text/x-python",
      "name": "python",
      "nbconvert_exporter": "python",
      "pygments_lexer": "ipython3",
      "version": "3.7.4"
    },
    "colab": {
      "name": "Chapter_01_Regular_Expressions_Key.ipynb",
      "provenance": [],
      "collapsed_sections": [],
      "toc_visible": true
    }
  },
  "nbformat": 4,
  "nbformat_minor": 0
}