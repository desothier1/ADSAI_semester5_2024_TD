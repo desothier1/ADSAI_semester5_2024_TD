{
  "nbformat": 4,
  "nbformat_minor": 0,
  "metadata": {
    "colab": {
      "name": "Chapter_01_Assignment_Key_comments_td.ipynb",
      "provenance": [],
      "collapsed_sections": []
    },
    "kernelspec": {
      "name": "python3",
      "display_name": "Python 3"
    },
    "language_info": {
      "name": "python"
    }
  },
  "cells": [
    {
      "cell_type": "markdown",
      "source": [
        "## Assignment 1. Phone numbers \n",
        "\n",
        "Write a regular expression pattern that will capture all the phone numbers in the following list:\n",
        "    \n",
        "- 415-867-5309\n",
        "- 415 867 5309\n",
        "- 415.867.5309\n",
        "- (415) 867-5309\n",
        "- 1-415-867-5309\n",
        "- 415-867-5309-9999\n",
        "- 415-867-5309x9999\n",
        "- 415-867-5309 ext. 9999\n",
        "- emergency 1-(415) 867.5309 #9999\n",
        "\n",
        "Your code should return (only) four values (four regex groups):\n",
        "1. area code (415)\n",
        "2. trunk1 (867)\n",
        "3. trunk2 (5309)\n",
        "4. any possible extension (9999)\n",
        "\n",
        "__Tip:__ You can use \"\\D\" to capture non-digit characters.\n",
        "\n",
        "The correct output should look lik this:<br>\n",
        "[('415', '867', '5309', '')]<br>\n",
        "[('415', '867', '5309', '')]<br>\n",
        "[('415', '867', '5309', '')]<br>\n",
        "[('415', '867', '5309', '')]<br>\n",
        "[('415', '867', '5309', '')]<br>\n",
        "[('415', '867', '5309', '9999')]<br>\n",
        "[('415', '867', '5309', '9999')]<br>\n",
        "[('415', '867', '5309', '9999')]<br>\n",
        "[('415', '867', '5309', '9999')]<br>\n",
        "\n",
        "Visualize your pattern:\n",
        "https://pythex.org/?regex=%5Cd%2B&test_string=415-867-5309%0A415%20867%205309%0A415.867.5309%0A(415)%20867-5309%0A1-415-867-5309%0A415-867-5309-9999%0A415-867-5309x9999%0A415-867-5309%20ext.%209999%0Aemergency%201-(415)%20867.5309%20%239999&ignorecase=0&multiline=0&dotall=0&verbose=0"
      ],
      "metadata": {
        "id": "fpSvmaEFOFay"
      }
    },
    {
      "cell_type": "code",
      "source": [
        "import re\n",
        "import sys\n",
        "\n",
        "test_numbers = [\"415-867-5309\", \"415 867 5309\", \"415.867.5309\", \"(415) 867-5309\", \"1-415-867-5309\", \"415-867-5309-9999\", \n",
        "                \"415-867-5309x9999\", \"415-867-5309 ext. 9999\", \"emergency 1-(415) 867.5309 #9999\"]\n",
        "\n",
        "\n",
        "pattern = \"\\D*(\\d{3})\\D*(\\d{3})\\D*(\\d{4})\\D*(\\d+)?\"\n",
        "\n",
        "#Let's find the e-mail addresses\n",
        "for item in test_numbers:\n",
        "    result = re.findall(pattern, item)\n",
        "    print(result)"
      ],
      "metadata": {
        "id": "Dbt-ZdTvOHC9",
        "colab": {
          "base_uri": "https://localhost:8080/"
        },
        "outputId": "b8fe366a-2488-47e8-85a1-f259e4255a26"
      },
      "execution_count": 21,
      "outputs": [
        {
          "output_type": "stream",
          "name": "stdout",
          "text": [
            "[('415', '867', '5309', '')]\n",
            "[('415', '867', '5309', '')]\n",
            "[('415', '867', '5309', '')]\n",
            "[('415', '867', '5309', '')]\n",
            "[('415', '867', '5309', '')]\n",
            "[('415', '867', '5309', '9999')]\n",
            "[('415', '867', '5309', '9999')]\n",
            "[('415', '867', '5309', '9999')]\n",
            "[('415', '867', '5309', '9999')]\n"
          ]
        }
      ]
    },
    {
      "cell_type": "code",
      "source": [
        "#REMARKS\n",
        "#1. generalize pattern sufficiently\n",
        "pattern = \"(415)\\D*(867)\\D*(5309)\\D*(.*)\"\n",
        "#\\D* \n",
        "pattern = r\"(?:emergency )?(?:1-)?\\(?(415)\\)?[- .](867)[- .](5309)[-x ]?(?:(9999)|ext. |#)?(9999)?\""
      ],
      "metadata": {
        "id": "29gNRDWVur_G"
      },
      "execution_count": null,
      "outputs": []
    },
    {
      "cell_type": "markdown",
      "source": [
        "## Assignment 2. Analyse e-mails\n",
        "We’ll use regex to sort the parts of each email into appropriate categories so that the Corpus can be more easily read or analysed.\n",
        "\n",
        "We will collect the first 5 e-mails and sort each email into the following categories:\n",
        "\n",
        "* sender_name<br>\n",
        "* sender_address<br>\n",
        "* recipient_address<br>\n",
        "* recipient_name<br>\n",
        "* date_sent: _31 Oct 2002 (but not the name of the day or the hour)_<br>\n",
        "* subject_email<br>\n",
        "* email_body<br>\n",
        "\n",
        "Further instructions are provided in the code below."
      ],
      "metadata": {
        "id": "3KOVbhy_OJQ8"
      }
    },
    {
      "cell_type": "code",
      "source": [
        "import codecs\n",
        "import re\n",
        "import sys\n",
        "import json\n",
        "\n",
        "file = open(\"./fradulent_emails_utf8.txt\", \"r\").read()\n",
        "print(file[:100])\n",
        "contents = re.split(\"From r\", file)\n",
        "#print(contents[:2]) \n",
        "contents.pop(0) # first item is empty so we can remove it\n",
        "#print(contents[0].split('\\n'))\n",
        "\n",
        "list_email_dict = []\n",
        "counter = 0\n",
        "for email in contents[0:5]:\n",
        "        counter+=1\n",
        "        print(\"EMAIL COUNT = \"+str(counter))\n",
        "        email_dict = {}\n",
        "        sender = re.findall(\"From:.*\", email)\n",
        "        #print(\"Sender:\")\n",
        "        #print(sender)\n",
        "        s_name = re.findall('(?<=\").*(?=\")', sender[0], re.I)\n",
        "        s_address = re.findall(\"\\w\\S*@.*\\w\", sender[0], re.I)\n",
        "        #print(s_address)\n",
        "        #print(s_name)\n",
        "        \n",
        "        \n",
        "        receiver = re.findall(\"\\nTo:.*\", email) # If we do not add \\n we will also catch \"Reply-to\"\n",
        "        #print(\"Receiver:\")\n",
        "        #print(receiver)\n",
        "        #r_name = re.findall('(?<=\").*(?=\")', receiver[0], re.I)\n",
        "        r_name = re.findall(\"(\\w\\S*)@.*\\w\", receiver[0], re.I)        \n",
        "        r_address = re.findall(\"\\w\\S*@.*\\w\", receiver[0], re.I)\n",
        "        #print(r_address)\n",
        "        #print(r_name)\n",
        "        \n",
        "        date = re.findall(\"\\nDate:.*\", email)\n",
        "        #print(\"Date:\")\n",
        "        #print(date)\n",
        "        date_sent = re.findall(\"\\d{,2}\\s\\w+\\s\\d{4}\", date[0])\n",
        "        #print(date_sent)\n",
        "                          \n",
        "            \n",
        "        subject = re.findall(\"\\nSubject:.*\", email)\n",
        "        #print(\"Subject:\")\n",
        "        #print(subject)\n",
        "        subject_email = re.findall(\"(?<=Subject:\\s).*\", email)\n",
        "        #print(subject_email)\n",
        "        \n",
        "        body1 = re.split(\"Status:.*\\n\", email)[-1] # It is difficult to do this with findall\n",
        "        #print(\"Body 1:\")\n",
        "        #print(body1)\n",
        "        \n",
        "        # We will use \"search\" instead\n",
        "        # But this will not catch any email that does not start with \"Dear\"\n",
        "        #body2 = re.search(\"Dear\\s.*\", email, re.I|re.DOTALL).group()\n",
        "        #print(\"Body 2:\")\n",
        "        #print(body2)\n",
        "        \n",
        "        # Add everything to the email dictionary\n",
        "        email_dict[\"s_name\"] = s_name\n",
        "        email_dict[\"s_address\"] = s_address\n",
        "        email_dict[\"r_name\"] = r_name\n",
        "        email_dict[\"r_address\"] = r_address\n",
        "        email_dict[\"date_sent\"] = date_sent\n",
        "        email_dict[\"subject\"] = subject_email\n",
        "        email_dict[\"body\"] = body1\n",
        "        list_email_dict.append(email_dict)\n",
        "        #if counter == 5:\n",
        "        #    sys.exit(\"Collected 5 emails\")\n",
        "\n",
        "        #print(list_email_dict)\n",
        "\n",
        "with open('emails.json', 'w') as f:\n",
        "    json.dump(list_email_dict, f, indent=2)\n",
        "\n"
      ],
      "metadata": {
        "id": "DRJxT1a5OOd8",
        "colab": {
          "base_uri": "https://localhost:8080/"
        },
        "outputId": "ae0429c6-3d3e-4ca5-cb89-fe7469b1bdfe"
      },
      "execution_count": 22,
      "outputs": [
        {
          "output_type": "stream",
          "name": "stdout",
          "text": [
            "From r  Wed Oct 30 21:41:56 2002\n",
            "Return-Path: <james_ngola2002@maktoob.com>\n",
            "X-Sieve: cmu-sieve 2.0\n",
            "R\n",
            "EMAIL COUNT = 1\n",
            "EMAIL COUNT = 2\n",
            "EMAIL COUNT = 3\n",
            "EMAIL COUNT = 4\n",
            "EMAIL COUNT = 5\n"
          ]
        }
      ]
    },
    {
      "cell_type": "code",
      "source": [
        "#REMARKS\n",
        "#1. algorithm : split on 'From r' : generates list with emails (contents)\n",
        "#per email : create dictionary\n",
        "#append dictionary with keys/values to list.\n",
        "\n",
        "#However, split generates 1st empty email\n",
        "\n",
        "#possible solutions:\n",
        "\n",
        "contents.pop(0) # first item is empty so we can remove it\n",
        "contents[1:6]\n",
        "\n",
        "#2. indentation\n",
        "\n",
        "for email in contents:\n",
        "\n",
        "#NOT:\n",
        "emails = {'Sender Name': sender_name, 'Sender Address': sender_address, 'Receiver Name': receiver_name, 'Receiver Address': receiver_address, 'Date sent': date_sent, 'Subject': subject, 'Email Body': email_body}\n",
        "list_email_dict.append(emails)\n",
        "\n",
        "#3. name and address sender/receiver should be separate keys\n",
        "r_address = re.findall(\"\\w\\S*@.*\\w\", receiver[0], re.I)\n",
        "\n",
        "#4. Date : day to exclude\n",
        "\n",
        "#5. Body\n",
        "#split\n",
        "body1 = re.split(\"Status:.*\\n\", email)[-1] \n",
        "#pattern findall\n",
        "re.S (dot matches all chars + newlines),\n",
        "pattern = '(?s)Status:\\sR?O(\\n.*)' \n",
        "email_body = re.findall(r'Status: R?O\\n{2}(.*)', email, re.DOTALL)\n",
        "\n"
      ],
      "metadata": {
        "id": "z7UoKnofyYi3"
      },
      "execution_count": null,
      "outputs": []
    }
  ]
}