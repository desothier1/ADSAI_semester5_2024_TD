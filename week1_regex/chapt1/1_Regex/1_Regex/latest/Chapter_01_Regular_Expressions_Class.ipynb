{
  "cells": [
    {
      "cell_type": "markdown",
      "metadata": {
        "id": "dfODYOPTgw2M"
      },
      "source": [
        "# Chapter 1: Regular Expressions"
      ]
    },
    {
      "cell_type": "code",
      "execution_count": null,
      "metadata": {
        "id": "Au1zA4UCgw2Q"
      },
      "outputs": [],
      "source": [
        "#We will use the \"re\" package for regular expressions\n",
        "import re\n",
        "\n"
      ]
    },
    {
      "cell_type": "markdown",
      "metadata": {
        "id": "3Ak_X2hJgw2S"
      },
      "source": [
        "## **DIY: Find years**\n",
        "Write a function that returns a list of years between a given input string.\n",
        "Your function should return ['1789', '2009', '1960', '1346', '1982'] in the following example:"
      ]
    },
    {
      "cell_type": "code",
      "source": [
        "text = \"August 23; 1789; April 14, 2009; September 12 1960; March 3, 1346, October 2, 1982\"\n",
        "\n",
        "def find_years(text):\n",
        "    #Takes an input of a string, returns a list\n",
        "    #Fill this function\n",
        "            \n",
        "years_list = find_years(text)\n",
        "print(years_list)"
      ],
      "metadata": {
        "id": "1yb8vRjxinSi"
      },
      "execution_count": null,
      "outputs": []
    },
    {
      "cell_type": "markdown",
      "metadata": {
        "id": "zIxHWI7sgw2T"
      },
      "source": [
        "## **Regular expressions**\n",
        "A regular expression (regex) defines a search pattern for strings. The search pattern can be anything from a simple character, a fixed string or a complex expression containing special characters describing the pattern. The pattern defined by the regex may match one or several times or not at all for a given string.\n",
        "\n",
        "Regular expressions can be used to search, edit and manipulate text.\n",
        "\n",
        "The power of regex comes from being able to match complex strings with simple patterns.\n",
        "\n",
        "## re.findall()\n",
        "Findall returns all the non-overlapping matches of patterns in a string.\n",
        "\n",
        "Let's try to capture all (and only) the years in the following date:"
      ]
    },
    {
      "cell_type": "code",
      "execution_count": null,
      "metadata": {
        "id": "C2OZkJszgw2T"
      },
      "outputs": [],
      "source": [
        "input = \"August 23; 1789; April 14, 2009; September 12 1960; March 3, 1346, October 2, 1982\"\n",
        "pattern = \"\\d{4}\"\n",
        "\n",
        "result = re.findall(???) #Fill the code\n",
        "print(result)\n",
        "\n"
      ]
    },
    {
      "cell_type": "markdown",
      "metadata": {
        "id": "OIYKV5Nngw2U"
      },
      "source": [
        "## __Basic regex operations/patterns__\n",
        "\n",
        "(Most) Characters match themselves. However, to be able to generate patterns, we need to reserve some symbols (i.e. meta-characters). These **meta-characters** do not match themselves because they have special meanings are: . * + ? ^ \\$ \\{ \\} [ ] | ( ) \n",
        "\n",
        "\n",
        "<br>\n",
        "<li>. (dot) -- matches any single character except newline '\\n'\n",
        "<li>* (star) -- causes the given (preceeding) regex pattern to match 0 or more repetitions. ab* will match ‘a’, ‘ab’, or ‘a’ followed by any number of ‘b’s.\n",
        "<li>+ (plus) -- causes the resulting RE to match 1 or more repetitions of the preceding RE. ab+ will match ‘a’ followed by any non-zero number of ‘b’s; it will not match just ‘a’.\n",
        "<li>? (q.mark) -- by default, regext patterns are greedy (they match the longest possible string). \"?\" lets us do non-greedy searches (to match the shortest possible string)\n",
        "<li>^ (caret) -- matches the start of the string (the string itself is not included)\n",
        "<li>\\$ (dollar) -- matches the end of the string (the string itself is not included)\n",
        "<br>\n",
        "\n",
        "Python regex cheatsheet: https://www.dataquest.io/blog/regex-cheatsheet/\n",
        "\n"
      ]
    },
    {
      "cell_type": "markdown",
      "source": [
        "### **DIY: A's and B's** \n",
        "Write a Python program that matches a string that starts with an **a** followed by **(only) zero or more** **b**'s .\n",
        "\n"
      ],
      "metadata": {
        "id": "Jeb_7D6rxPdb"
      }
    },
    {
      "cell_type": "code",
      "source": [
        "import re\n",
        "def text_match(text):\n",
        "        pattern = ??? #Fill the code\n",
        "        if re.findall(pattern,  text):\n",
        "                return 'Found a match!'\n",
        "        else:\n",
        "                return('Not matched!')\n",
        "\n",
        "print(text_match(\"ac\")) #Not matched!\n",
        "print(text_match(\"abc\")) #Not matched!\n",
        "print(text_match(\"a\")) # Found a match!\n",
        "print(text_match(\"ab\")) # Found a match!\n",
        "print(text_match(\"abb\")) # Found a match!\n",
        "print(text_match(\"cabb\")) #Not matched!"
      ],
      "metadata": {
        "id": "5j_cNwLKxOtT"
      },
      "execution_count": null,
      "outputs": []
    },
    {
      "cell_type": "markdown",
      "metadata": {
        "id": "s5OyC88xgw2U"
      },
      "source": [
        "### __What if we need to capture the meta-characters in text?__\n",
        "\n",
        "Let's try to capture all the years (with the plus sign if they are preceded with) in the following string:"
      ]
    },
    {
      "cell_type": "code",
      "execution_count": null,
      "metadata": {
        "id": "G2sO7M6mgw2V"
      },
      "outputs": [],
      "source": [
        "string = \"August 23; +++++1789; April 14, +2009; September 12 1960; March 3, 1346, October 2, 1982\"\n",
        "pattern = ??? #Fill the code\n",
        "\n",
        "result = ??? #Fill the code\n",
        "print(result)\n"
      ]
    },
    {
      "cell_type": "markdown",
      "metadata": {
        "id": "d4VNFrEEgw2W"
      },
      "source": [
        "### __The Task:__ Analyze Spam Emails\n",
        "In this tutorial, we’ll use the Fraudulent Email Corpus from Kaggle. It contains thousands of phishing emails sent between 1998 and 2007. \n",
        "\n",
        "1. Open the file \"fradulant_emails_utf8.txt\"\n",
        "2. Collect the list of all senders: Write a regex pattern to find all lines starting with \"From:\" \n",
        "3. Collect only e-mail adresses of the senders\n",
        "4. Collect only the names of the senders "
      ]
    },
    {
      "cell_type": "code",
      "source": [
        "import re\n",
        "\n",
        "\n",
        "file_content = open(\"./fradulent_emails_utf8.txt\", \"r\", encoding=\"utf-8\").read()\n",
        "print(file_content[:300])"
      ],
      "metadata": {
        "id": "oogdOugbmwPN"
      },
      "execution_count": null,
      "outputs": []
    },
    {
      "cell_type": "code",
      "execution_count": null,
      "metadata": {
        "id": "EnEVyqedgw2W"
      },
      "outputs": [],
      "source": [
        "# Collect lines starting with \"From:\"\n",
        "pattern = ??? #Fill the code\n",
        "result = re.findall(pattern, file_content)\n",
        "print(result)\n"
      ]
    },
    {
      "cell_type": "markdown",
      "source": [
        "The caret operator, per default, only applies to the start of a string. So if you’ve got a multi-line string—for example, when reading a text file—it will still only match once: at the beginning of the string.\n",
        "\n",
        "However, you may want to match at the beginning of each line. For example, you may want to find all lines that start with ‘From’ in a given string.\n",
        "\n",
        "You can specify that the caret operator matches the beginning of each line via the re.MULTILINE flag. Here’s an example showing both usages—without and with setting the re.MULTILINE flag:"
      ],
      "metadata": {
        "id": "lfyv73jxtiIx"
      }
    },
    {
      "cell_type": "code",
      "source": [
        "# Collect lines starting with \"From:\"\n",
        "pattern = ??? #Fill the code\n",
        "result = re.findall(pattern, file_content, re.MULTILINE)\n",
        "print(result[:10])\n"
      ],
      "metadata": {
        "id": "eNQuAG6atkD3"
      },
      "execution_count": null,
      "outputs": []
    },
    {
      "cell_type": "code",
      "source": [
        "#Let's find the e-mail addresses\n",
        "pattern_email = ??? #Fill the code\n",
        "#Loop over all lines in result, try to capture an e-mail address and print it\n",
        "\n",
        "for line in result[:10]:\n",
        "    email = re.findall(pattern_email, line)\n",
        "    print(email)\n"
      ],
      "metadata": {
        "id": "pgP0Kfg4m3G_"
      },
      "execution_count": null,
      "outputs": []
    },
    {
      "cell_type": "code",
      "execution_count": null,
      "metadata": {
        "id": "hPlrPki3gw2W"
      },
      "outputs": [],
      "source": [
        "# How can we extract only the names?\n",
        "# Loop over all lines in result, and use re.findall to find matching patterns and print them\n",
        "pattern_name = ??? #Fill the code\n",
        "\n",
        "for line in result[:10]:\n",
        "    name = re.findall(pattern_name, line)\n",
        "    print(name)\n",
        "  \n"
      ]
    },
    {
      "cell_type": "markdown",
      "source": [
        "### Greedy vs. non-greedy search"
      ],
      "metadata": {
        "id": "j11Dx6BjwXb7"
      }
    },
    {
      "cell_type": "code",
      "source": [
        "# Let's try the same code on a long string (of all lines), instead of running per line\n",
        "file_string = ' '.join([x for x in result]) \n",
        "# DIY at home:\n",
        "# Read about list comprehensions: https://towardsdatascience.com/python-basics-list-comprehensions-631278f22c40\n",
        "# (until \"List Comprehensions vs map and filter\")\n",
        " \n",
        "#print(file_string[:1000])"
      ],
      "metadata": {
        "id": "swSDrzGFwWIB"
      },
      "execution_count": null,
      "outputs": []
    },
    {
      "cell_type": "code",
      "execution_count": null,
      "metadata": {
        "id": "4DZHwAwFgw2X"
      },
      "outputs": [],
      "source": [
        "#Let's find the e-mail addresses\n",
        "pattern_email = \"<.+@.+>\"\n",
        "email_list = re.findall(pattern_email, file_string)\n",
        "\n",
        "print(len(email_list))\n",
        "print(email_list)\n",
        "\n",
        "#Analyse the output. Is it correct?\n",
        "\n"
      ]
    },
    {
      "cell_type": "markdown",
      "metadata": {
        "collapsed": true,
        "id": "p8m4md7egw2X"
      },
      "source": [
        "##__Basic regex operations/patterns (continued)__\n",
        "\n",
        "\n",
        "\n",
        "<li>\\s -- (lowercase s) matches a single whitespace character -- space, newline, return, tab, form [ \\n\\r\\t\\f]. \n",
        "<li>\\S (upper case S) matches any non-whitespace character.\n",
        "\n",
        "<li>\\w (lowercase w): matches a \"word\" character: a letter or digit or underbar [a-zA-Z0-9_]. Note that although \"word\" is the mnemonic for this, it only matches a single word char, not a whole word. \n",
        "<li>\\W (upper case W) matches any non-word character.\n",
        "<li>\\t, \\n, \\r -- tab, newline, return\n",
        "\n",
        "\n",
        "<br>\n",
        "\n",
        "_5._ In \"result\" list, collect all the first and the last words in each line.\n",
        "\n"
      ]
    },
    {
      "cell_type": "code",
      "execution_count": null,
      "metadata": {
        "id": "U4gF2vUOgw2Y"
      },
      "outputs": [],
      "source": [
        "# The start and the end of a string\n",
        "pattern_first_word = ??? #Fill the code\n",
        "pattern_last_word = ??? #Fill the code\n",
        "\n",
        "for line in result[:10]:\n",
        "    print(line)\n",
        "    first_word = re.findall(pattern_first_word, line)\n",
        "    last_word = re.findall(pattern_last_word, line)\n",
        "    print(first_word)\n",
        "    print(last_word) \n"
      ]
    },
    {
      "cell_type": "markdown",
      "metadata": {
        "id": "O7Ut3GT_gw2Y"
      },
      "source": [
        "##__Basic regex operations/patterns (continued)__\n",
        "<li>\\d -- decimal digit (0-9)\n",
        "<li>{m} -- specifies that exactly m copies of the previous RE should be matched; fewer matches cause the entire RE not to match. For example, a{6} will match exactly six 'a' characters, but not five.\n",
        "<li>{m,n} -- causes the resulting RE to match from m to n repetitions of the preceding RE, attempting to match as many repetitions as possible. \n",
        "<li>{m,n}? -- causes the resulting RE to match from m to n repetitions of the preceding RE, attempting to match as few repetitions as possible. This is the non-greedy version of the previous qualifier. \n",
        "    \n",
        "<br>    \n",
        "For example, on the 6-character string __'aaaaaa'__, what will the following patterns match?\n",
        "\n",
        "> a{3,5} \n",
        "\n",
        "> a{3,5}? \n",
        "\n",
        "> a{3,} \n",
        "\n",
        "> a{,5} \n",
        "\n",
        "> a{3,}? \n",
        "\n",
        "> a{1,5}? \n",
        "\n",
        "\n"
      ]
    },
    {
      "cell_type": "code",
      "execution_count": null,
      "metadata": {
        "id": "L6R4eRAQgw2Y"
      },
      "outputs": [],
      "source": [
        "import re\n",
        "string = 'aaaaaa'\n",
        "\n",
        "pattern_list = [\"a{3,5}\", \"a{3,5}?\", \"a{3,}\", \"a{,5}\", \"a{3,}?\", \"a{1,5}?\"] \n",
        "for pattern in pattern_list:\n",
        "    chars = re.findall(pattern, string)\n",
        "    print(chars)\n",
        "    "
      ]
    },
    {
      "cell_type": "markdown",
      "source": [
        "<li>[ ] -- indicates a set of characters. In a set:\n",
        "\n",
        "> Characters can be listed individually, e.g. [amk] will match 'a', 'm', or 'k'.\n",
        "\n",
        "> Ranges of characters can be indicated by giving two characters and separating them by a '-', for example [a-z] will match any lowercase ASCII letter, [0-5][0-9] will match all the two-digits numbers from 00 to 59, and [0-9A-Fa-f] will match any hexadecimal digit. \n",
        "\n",
        "> Special characters lose their special meaning inside sets. For example, \\[(+\\*)\\] will match any of the literal characters '(', '+', '*', or ')'.\n",
        "\n",
        "\n",
        "> __Negation with '^':__ if the first character of the set is '^', all the characters that are not in the set will be matched. For example, [^5] will match any character except '5', and [^^] will match any character except '^'. ^ has no special meaning if it’s not the first character in the set.\n",
        "    \n",
        "<li> | (or operator) -- indicates alternation. For example a|b will match either \"a\" or \"b\" characters. <br>\n",
        "\n",
        "For more information: https://docs.python.org/3/library/re.html"
      ],
      "metadata": {
        "id": "ewxOVe4J_-4E"
      }
    },
    {
      "cell_type": "markdown",
      "metadata": {
        "id": "nZzSDYX-gw2Z"
      },
      "source": [
        "Now, back to analysing the e-mails!\n",
        "\n",
        "_6_. collect all (and only) the years appearing in the lines that start with:<br>\n",
        "> \"From r\"<br> \n",
        "example: From r  Wed Oct 30 21:41:56 2002<br>\n",
        "> \"Date:\" <br>\n",
        "example: Date: Thu, 31 Oct 2002 02:38:20 +0000<br>\n",
        "\n",
        "Our code should return \"2002\" in both examples (and nothing else :)"
      ]
    },
    {
      "cell_type": "code",
      "execution_count": null,
      "metadata": {
        "id": "-fzRxAgsgw2Z"
      },
      "outputs": [],
      "source": [
        "import re\n",
        "import sys\n",
        "\n",
        "file_lines = open(\"./fradulent_emails_utf8.txt\", \"r\", encoding=\"utf-8\").readlines()\n",
        "\n",
        "pattern_year = \"\\d{4}\" \n",
        "# Is this a good pattern? Look at the lines starting with \"From r\" & \"Date:\"\n",
        "# What are other alternatives (with the additional operations we learned)?\n",
        "\n",
        "# When the regex pattern returns an output, print the line and print the year\n",
        "for i in range(20):\n",
        "    line = file_lines[i]\n",
        "    ??? # Fill the function\n",
        "\n",
        "\n"
      ]
    },
    {
      "cell_type": "markdown",
      "metadata": {
        "id": "jR0dmgrkgw2a"
      },
      "source": [
        "### Flags\n",
        "Flags let you modify some aspects of how regular expressions work. Flags are available in the re module under two \n",
        "names, a long name such as IGNORECASE and a short, one-letter form such as I.\n",
        "\n",
        "_re.search(pattern,string)_ is the same as _re.search(pattern,string,flags=0)_\n",
        "\n",
        "\n",
        "|syntax|\tlong syntax|\tmeaning|\n",
        "|---|---|---|\n",
        "|re.I|re.IGNORECASE|ignore case|\n",
        "|re.S|re.DOTALL|makes dot match newline (\"\\n\")|\n",
        "|re.M|re.MULTILINE|makes ^ and $ match in every new line|\n",
        "\n",
        "\n",
        "Example: \n",
        "\n",
        "*re.search(pattern,string,flags=re.IGNORECASE|re.S)*"
      ]
    },
    {
      "cell_type": "code",
      "execution_count": null,
      "metadata": {
        "id": "EbyhD4Rggw2a"
      },
      "outputs": [],
      "source": [
        "#Let's find all the words \"test\" with all possible casings\n",
        "s = 'This is one Test, another TEST, and another test.'\n",
        "\n",
        "result = re.findall('test', s)\n",
        "#result = ??? #(ignore casing)\n",
        "print(result)\n",
        "\n"
      ]
    },
    {
      "cell_type": "markdown",
      "metadata": {
        "id": "l8HgLGQWgw2a"
      },
      "source": [
        "## DIY: Basic regex operations"
      ]
    },
    {
      "cell_type": "markdown",
      "metadata": {
        "id": "kC1fBBKQgw2a"
      },
      "source": [
        "### DIY 1 ##\n",
        "Write a function that returns \"Match\" if a given input contains an 'a' followed by at least two 'b's and \"No match\" otherwise."
      ]
    },
    {
      "cell_type": "code",
      "execution_count": null,
      "metadata": {
        "id": "QCFtEOyvgw2a"
      },
      "outputs": [],
      "source": [
        "import re\n",
        "def text_match(text):\n",
        "    pattern = ??? #Add the correct pattern\n",
        "        if re.findall(pattern,  text):\n",
        "                return 'Found a match!'\n",
        "        else:\n",
        "                return('Not matched!')\n",
        "    \n",
        "            \n",
        "print(text_match(\"ab\")) # No match\n",
        "print(text_match(\"aabbbbbc\")) # Match\n",
        "print(text_match(\"aabcbb\")) # No Match"
      ]
    },
    {
      "cell_type": "markdown",
      "metadata": {
        "id": "9yzXB1Mhgw2b"
      },
      "source": [
        "### DIY 2 ##\n",
        "Write a function that returns \"Match\" if a given input contains 'z', not at the start or end of the string."
      ]
    },
    {
      "cell_type": "code",
      "execution_count": null,
      "metadata": {
        "id": "WbJf2HaAgw2b"
      },
      "outputs": [],
      "source": [
        "import re\n",
        "def text_match(text):\n",
        "    pattern = ??? # Add the correct pattern\n",
        "    if re.findall(pattern, text):\n",
        "        print(re.findall(pattern, text))\n",
        "        return(\"Match\")\n",
        "    else:\n",
        "        return(\"No match\")\n",
        "\n"
      ]
    },
    {
      "cell_type": "code",
      "execution_count": null,
      "metadata": {
        "id": "FAbf8JDAgw2b"
      },
      "outputs": [],
      "source": [
        "#Validate your code with the following tests (and the correct answers)\n",
        "print(text_match(\"the lazy dog.\")) # Match\n",
        "print(text_match(\"python exercises.\")) # No match\n",
        "print(text_match(\"zoos are open again.\")) # No match\n",
        "print(text_match(\"lazy lazy dog.\")) # Match"
      ]
    },
    {
      "cell_type": "markdown",
      "metadata": {
        "id": "T3M5C2Magw2b"
      },
      "source": [
        "### DIY 3 ##\n",
        "Write a function that returns \"Match\" if a given input contains sequences of lowercase letters joined with a underscore."
      ]
    },
    {
      "cell_type": "code",
      "execution_count": null,
      "metadata": {
        "id": "aiq1U-TVgw2b"
      },
      "outputs": [],
      "source": [
        "import re\n",
        "def text_match(text):\n",
        "    pattern = ??? #Add the correct pattern\n",
        "    if re.findall(pattern, text):\n",
        "        print(re.findall(pattern, text))\n",
        "        return(\"Match\")\n",
        "    else:\n",
        "        return(\"No match\")\n",
        "            \n"
      ]
    },
    {
      "cell_type": "code",
      "execution_count": null,
      "metadata": {
        "id": "kpJB5tBBgw2c"
      },
      "outputs": [],
      "source": [
        "#Validate your code with the following tests (and the correct answers)\n",
        "print(text_match(\"aab_cbbbc\")) # Match\n",
        "print(text_match(\" aab_cbbbc\")) # Match\n",
        "print(text_match(\"aab_Abbbc\")) # No match\n",
        "print(text_match(\"Aaab_abbbc\")) # No match\n",
        "print(text_match(\" 11ab_abb22\")) # No match"
      ]
    },
    {
      "cell_type": "markdown",
      "metadata": {
        "id": "I7W6tG1igw2c"
      },
      "source": [
        "### DIY 4 ##\n",
        "Write a function that returns \"Match\" if a given input starts with any of the following characters: \"a\", \"b\" or \"c\". It returns \"No match\" otherwise.\n"
      ]
    },
    {
      "cell_type": "code",
      "execution_count": null,
      "metadata": {
        "id": "1UTN8gfCgw2c"
      },
      "outputs": [],
      "source": [
        "import re\n",
        "def text_match(text):\n",
        "    pattern = ??? #Add the correct pattern\n",
        "    if re.findall(pattern,  text):\n",
        "        return 'Match'\n",
        "    else:\n",
        "        return('No match')\n",
        "            "
      ]
    },
    {
      "cell_type": "code",
      "execution_count": null,
      "metadata": {
        "id": "5OsSds4ogw2c"
      },
      "outputs": [],
      "source": [
        "print(text_match(\"aaab\")) # Match\n",
        "print(text_match(\"ddda\")) # No Match \n",
        "print(text_match(\"Aef\")) # No match\n",
        "print(text_match(\"bddda\")) # Match"
      ]
    },
    {
      "cell_type": "markdown",
      "metadata": {
        "id": "QUVsW6w-gw2c"
      },
      "source": [
        "### DIY 5\n",
        "Create a function __is_integer__ that accepts a string and returns __True__ if the string is an integer, and __False__ otherwise.\n",
        "\n",
        "a string is an integer if it:\n",
        "\n",
        "<li>consists of 1 or more digits\n",
        "<li>optionally begins with - (minus sign)\n",
        "<li>does not contain any other non-digit characters.\n",
        "\n"
      ]
    },
    {
      "cell_type": "code",
      "execution_count": null,
      "metadata": {
        "id": "trq1icecgw2c"
      },
      "outputs": [],
      "source": [
        "import re\n",
        "def is_integer(input):\n",
        "    # Add your code here\n",
        "\n",
        "    "
      ]
    },
    {
      "cell_type": "code",
      "execution_count": null,
      "metadata": {
        "scrolled": true,
        "id": "88bhp0c5gw2c"
      },
      "outputs": [],
      "source": [
        "#Validate your code\n",
        "is_integer(\"\") #False\n",
        "is_integer(\" 7\") #False\n",
        "is_integer(\"3222\") #True\n",
        "is_integer(\"-875\") #True\n",
        "is_integer(\"+223\") #False\n",
        "is_integer(\"00\") #True\n",
        "is_integer(\"1.0\") #False\n",
        "is_integer(\"7A\") #False"
      ]
    },
    {
      "cell_type": "markdown",
      "metadata": {
        "id": "cW438USEgw2d"
      },
      "source": [
        "## Groups\n",
        "\n",
        "So far we have been extracting everything that matches with our patterns. \n",
        "\"Groups\" in regex allow us to pick out parts of the matching patterns. \n",
        "\n",
        "\n",
        "\n",
        "Suppose we would like to capture different parts of a given string and assign them to different variables.\n",
        "We can do this by using \"groups\", which will be indicated by paranthesis within the regex pattern. In this case, the parenthesis do not change what the pattern will match, instead they establish logical \"groups\" inside of the match text.\n",
        "\n",
        "While using \"findall\", in the case of multiple groups, the result will be a list of tuples, each tuple containing the different groups captured."
      ]
    },
    {
      "cell_type": "code",
      "execution_count": null,
      "metadata": {
        "id": "cznBCPuBgw2d"
      },
      "outputs": [],
      "source": [
        "line = \"Cats are smarter than dogs\"\n",
        "pattern0 = \".* are .*? .*\"\n",
        "pattern1 = \"(.*) are .*? .*\"\n",
        "pattern2 = \"(.*) are (.*?) .*\"\n",
        "pattern3 = \"((.*) are (.*?) .*)\"\n",
        "\n",
        "#Q1: What should be the result if we use these patterns to match the given line?\n",
        "#Q2: When multiple groups are captured (as in pattern3), in what order are they stored?\n",
        "\n",
        "patterns = [pattern0, pattern1, pattern2, pattern3]\n",
        "for p in patterns:\n",
        "    result = re.findall(p, line)\n",
        "    print(line)\n",
        "    print(result)\n"
      ]
    },
    {
      "cell_type": "markdown",
      "metadata": {
        "id": "5Y6NzBF5gw2d"
      },
      "source": [
        "### DIY: Groups \n",
        "\n",
        "Capture only the username and the host from each e-mail address (at the same time) in the data set of spam e-mails.\n",
        "For the e-mail address username@gmail.com, your pattern should return ('username', 'gmail').\n",
        "\n",
        "Example output:<br>\n",
        "From: \"MR. JAMES NGOLA.\" \\<james_ngola2002@maktoob.com\\>    (Need to escape arrows to make it appear in markup)\n",
        "\n",
        "[('james_ngola2002', 'maktoob')]\n",
        "\n",
        "From: \"Mr. Ben Suleman\" \\<bensul2004nng@spinfinder.com\\>\n",
        "\n",
        "[('bensul2004nng', 'spinfinder')]"
      ]
    },
    {
      "cell_type": "code",
      "execution_count": null,
      "metadata": {
        "id": "eczjIvNngw2d"
      },
      "outputs": [],
      "source": [
        "import re\n",
        "import sys\n",
        "\n",
        "file_lines = open(\"./fradulent_emails_utf8.txt\", \"r\").readlines()\n",
        "\n",
        "\n",
        "#Let's find the e-mail addresses\n",
        "pattern_email = ??? #Add the correct pattern\n",
        "\n",
        "for line in file_lines[:1000]:\n",
        "    if line.startswith(\"From:\"):\n",
        "        email = re.findall(pattern_email, line)\n",
        "        print(line.strip())\n",
        "        print(email)\n",
        "        print()\n",
        "        "
      ]
    },
    {
      "cell_type": "markdown",
      "metadata": {
        "id": "c_roeb2Ygw2e"
      },
      "source": [
        "## \"Looking around\"\n",
        "\n",
        "Lookahead and lookbehind, collectively called “lookaround”, are zero-length assertions just like the start and end of line, and start and end of word anchors explained earlier. The difference is that lookaround actually matches characters, but then gives up the match, returning only the result: match or no match. That is why they are called “assertions”. **They do not consume characters in the string, but only assert whether a match is possible or not.**\n",
        "\n",
        "Lookaround allows you to create regular expressions that are impossible to create without them, or that would get very longwinded without them.\n",
        "\n",
        "|Lookaround\t|Name\t|What it Does|\n",
        "|---|---|---|\n",
        "|(?=foo)|Lookahead|anything that is followed by \"foo\"|\n",
        "|(?<=foo)|Lookbehind|anything that is preceded by \"foo\"|\n",
        "|(?!foo)|Negative Lookahead|anything that is _not_ followed by \"foo\"|\n",
        "|(?<!foo)|Negative Lookbehind|anything that is _not_ preceded by \"foo\"|\n",
        "\n"
      ]
    },
    {
      "cell_type": "code",
      "execution_count": null,
      "metadata": {
        "id": "nUiAxsXYgw2e"
      },
      "outputs": [],
      "source": [
        "input = \"123foo456\"\n",
        "pattern1 = \".(?=foo)\"\n",
        "pattern2 = \".+(?=foo)\"\n",
        "pattern3 = \"(?<=foo).+\"\n",
        "pattern4 = \".+(?!f)\" \n",
        "pattern5 = \".+?(?!f)\" \n",
        "pattern6 = \"(?<!f).+?\" \n",
        "\n",
        "# What should be the results if we use these patterns to match the given \"input\"?\n",
        "\n",
        "# Run each pattern on the given \"input\" with findall and print the result\n",
        "\n",
        "patterns = [pattern1, pattern2, pattern3, pattern4, pattern5, pattern6]\n",
        "for p in patterns:\n",
        "    result = re.findall(p, input)\n",
        "    #print(result)\n",
        "\n"
      ]
    },
    {
      "cell_type": "markdown",
      "metadata": {
        "id": "-mm28a-9gw2e"
      },
      "source": [
        "###__What if we need to capture the meta-characters in text?(Revisited)__\n",
        "\n",
        "Let's try to capture all the years preceded with a plus sign in the following string. Do not capture the plus sign this time! Our code should return ['1789', '2009']."
      ]
    },
    {
      "cell_type": "code",
      "execution_count": null,
      "metadata": {
        "id": "I46Co0hvgw2e"
      },
      "outputs": [],
      "source": [
        "string = \"August 23; +1789; April 14, +2009; September 12 1960; March 3, 1346, October 2, 1982\"\n",
        "pattern = ??? # Add the correct pattern. Tip: use a negative lookbehind.\n",
        "\n",
        "result = re.findall(pattern, string)\n",
        "print(result)"
      ]
    },
    {
      "cell_type": "markdown",
      "metadata": {
        "id": "6S8_yusegw2f"
      },
      "source": [
        "### Illustrate lookaround \"not capturing\" matches\n",
        "\n",
        "Write a pattern to catch any character followed by \"ba\". The code should return ['c', 'a'].\n",
        "\n"
      ]
    },
    {
      "cell_type": "code",
      "execution_count": null,
      "metadata": {
        "id": "TCpnQevPgw2f"
      },
      "outputs": [],
      "source": [
        "text= \"cbaba\"\n",
        "\n",
        "pattern = \"(.)ba\" # Is this a good pattern?\n",
        "print(re.findall(pattern, text))"
      ]
    },
    {
      "cell_type": "markdown",
      "metadata": {
        "id": "sBvshYRYgw2f"
      },
      "source": [
        "## Other Regex Functions\n",
        "So far we have been using __re.findall__ to retrieve all possible matches.\n",
        "But this is not always what we want to do.\n",
        "There are other regex functions we can use:\n",
        "\n",
        "<br>\n",
        "\n",
        "#### **re.search(pattern, string, flags=0)**\n",
        "Scan through string looking for the __first location where the regular expression pattern produces a match__, and return a corresponding match object. Return None if no position in the string matches the pattern.\n",
        "\n",
        "<br>\n",
        "\n",
        "#### **re.match(pattern, string, flags=0)** \n",
        "If zero or more characters __at the beginning of string__ match the regular expression pattern, return a corresponding match object. Return None if the string does not match the pattern.\n",
        "\n",
        "\n"
      ]
    },
    {
      "cell_type": "code",
      "execution_count": null,
      "metadata": {
        "id": "HvN7XTiFgw2g"
      },
      "outputs": [],
      "source": [
        "a = \"123abc\"\n",
        "print(re.match(\"[a-z]+\",a))\n"
      ]
    },
    {
      "cell_type": "markdown",
      "metadata": {
        "id": "Gw8KfWxOgw2g"
      },
      "source": [
        "If you want to locate a match anywhere in string, use __search()__ instead."
      ]
    },
    {
      "cell_type": "code",
      "execution_count": null,
      "metadata": {
        "id": "FenpgQxGgw2g"
      },
      "outputs": [],
      "source": [
        "a = \"123abc\"\n",
        "print(re.search(\"[a-z]+\",a))\n",
        "#print(re.search(\"[a-z]+\",a).group(0))"
      ]
    },
    {
      "cell_type": "markdown",
      "metadata": {
        "id": "EdUOt-TKgw2g"
      },
      "source": [
        "#### __re.split(pattern, string, maxsplit=0, flags=0)__\n",
        "Split string by the occurrences of pattern resulting in a list. If maxsplit is nonzero, at most maxsplit splits occur, and the remainder of the string is returned as the final element of the list.\n"
      ]
    },
    {
      "cell_type": "code",
      "execution_count": null,
      "metadata": {
        "id": "AKZ4vwXogw2g"
      },
      "outputs": [],
      "source": [
        "# Examples with \"split\"\n",
        "# What will the following split operations return?\n",
        "string = 'Words,   words, words.'\n",
        "result1 = re.split('words,', string) \n",
        "result2 = re.split('\\s', string) \n",
        "result3 = re.split('\\s+', string)\n",
        "result4 = re.split(',', string) \n",
        "result5 = re.split('(words,)', string)\n",
        "\n",
        "# What should be the results if we use these patterns to match the given \"string\"?\n",
        "### Print the results.\n"
      ]
    },
    {
      "cell_type": "markdown",
      "metadata": {
        "id": "R0xc1Ue9gw2g"
      },
      "source": [
        "####__re.sub(pattern, replace, string, count=0, flags=0)__\n",
        "Return the string obtained by replacing the leftmost non-overlapping occurrences of pattern in string by the replacement \"replace\". If the pattern isn’t found, string is returned unchanged.\n",
        "\n"
      ]
    },
    {
      "cell_type": "code",
      "execution_count": null,
      "metadata": {
        "id": "8ABXxQc8gw2g"
      },
      "outputs": [],
      "source": [
        "# Example with \"sub\"\n",
        "# # What will the following substitution operations return?\n",
        "string = 'Words, words, words.'\n",
        "result0 = re.sub(',', '', string)           \n",
        "result1 = re.sub(',', '*', string)          \n",
        "result2 = re.sub('\\s+', '_', string)           \n",
        "result3 = re.sub('w(ord)s', r'\\1', string)    \n",
        "result4 = re.sub('w(ord)s', r'\\1', string, re.I)    \n",
        "result5 = re.sub('w(ord)s', r'\\1', string, flags=re.IGNORECASE)    \n",
        "\n",
        "# What should be the results if we use these patterns to match the given \"string\"?\n",
        "### Print the results.\n"
      ]
    },
    {
      "cell_type": "markdown",
      "metadata": {
        "id": "YtnlGh2Ygw2h"
      },
      "source": [
        "#### __re.compile(pattern, flags=0)__\n",
        "Compile a regular expression pattern into a regular expression object, which can be used for matching using its match(), search() and other methods, When should we use this? "
      ]
    },
    {
      "cell_type": "code",
      "source": [
        "pattern = re.compile('hello')\n",
        "result = re.findall(pattern, 'hello world')\n",
        "print(result)\n",
        "\n",
        "result = re.findall('hello', 'hello world')\n",
        "print(result)"
      ],
      "metadata": {
        "id": "z89oj5ymLV-_"
      },
      "execution_count": null,
      "outputs": []
    },
    {
      "cell_type": "markdown",
      "metadata": {
        "collapsed": true,
        "id": "Xw9AV4FBgw2h"
      },
      "source": [
        "This course contains material from:\n",
        "- dataquest.io\n",
        "- https://www.regular-expressions.info/lookaround.html\n",
        "- https://docs.python.org/3/library/re.html\n",
        "- https://www.bogotobogo.com/python/python_regularExpressions.php"
      ]
    }
  ],
  "metadata": {
    "kernelspec": {
      "display_name": "Python3-new",
      "language": "python",
      "name": "python3"
    },
    "language_info": {
      "codemirror_mode": {
        "name": "ipython",
        "version": 3
      },
      "file_extension": ".py",
      "mimetype": "text/x-python",
      "name": "python",
      "nbconvert_exporter": "python",
      "pygments_lexer": "ipython3",
      "version": "3.7.4"
    },
    "colab": {
      "name": "Chapter_01_Regular_Expressions_Class.ipynb",
      "provenance": [],
      "collapsed_sections": [],
      "toc_visible": true
    }
  },
  "nbformat": 4,
  "nbformat_minor": 0
}