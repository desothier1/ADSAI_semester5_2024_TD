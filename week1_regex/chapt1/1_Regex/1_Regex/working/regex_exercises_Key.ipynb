{
  "cells": [
    {
      "cell_type": "markdown",
      "metadata": {
        "id": "DJC1BoFHPyRH"
      },
      "source": [
        "# Regular Expressions Exercises Part 1"
      ]
    },
    {
      "cell_type": "markdown",
      "metadata": {
        "id": "_XI1WBJ-PyRI"
      },
      "source": [
        "## 1\n",
        "\n",
        "Write a function that returns \"Match\" if a given input contains \"a\", \"b\" or \"c\" and returns \"No match\" otherwise."
      ]
    },
    {
      "cell_type": "code",
      "execution_count": null,
      "metadata": {
        "colab": {
          "base_uri": "https://localhost:8080/"
        },
        "id": "zNXEZHO6PyRJ",
        "outputId": "e816e0da-7fc2-4f0a-a2ef-cea4c16da19d"
      },
      "outputs": [
        {
          "output_type": "stream",
          "name": "stdout",
          "text": [
            "Match\n",
            "No match\n",
            "No match\n"
          ]
        }
      ],
      "source": [
        "import re\n",
        "def match_text(string):\n",
        "    pattern = '[abc]'\n",
        "    if re.findall(pattern, string):\n",
        "        return(\"Match\")\n",
        "    else:\n",
        "        return(\"No match\")\n",
        "    \n",
        "\n",
        "print(match_text(\"ABCDEFabcdef123450\")) # Match\n",
        "print(match_text(\"*&%@#!}{\")) # No match\n",
        "print(match_text(\"123\")) # No match\n",
        "\n",
        "#TD comments, use return and NOT print, does not work\n"
      ]
    },
    {
      "cell_type": "markdown",
      "metadata": {
        "id": "PXcKX9_QPyRL"
      },
      "source": [
        "## 2\n",
        "Write a function that returns \"Match\" if a given input contains \"a\" followed by zero or more \"b\"s and returns \"No match\" otherwise."
      ]
    },
    {
      "cell_type": "code",
      "execution_count": null,
      "metadata": {
        "id": "htTMpM_hPyRL",
        "outputId": "c4116410-54a2-4a5c-fcae-e68ce5e504e0"
      },
      "outputs": [
        {
          "name": "stdout",
          "output_type": "stream",
          "text": [
            "Match\n",
            "Match\n",
            "Match\n",
            "No match\n",
            "Match\n"
          ]
        }
      ],
      "source": [
        "import re\n",
        "def text_match(text):\n",
        "        pattern = 'ab*?'\n",
        "        #TD : also pattern = 'ab*' works\n",
        "        if re.findall(pattern,  text):\n",
        "                return('Match')\n",
        "        else:\n",
        "                return('No match')\n",
        "\n",
        "print(text_match(\"ac\")) # Match\n",
        "print(text_match(\"abc\")) # Match\n",
        "print(text_match(\"abbc\")) # Match\n",
        "print(text_match(\"bb\")) # No match\n",
        "print(text_match(\"bba\")) # Match"
      ]
    },
    {
      "cell_type": "markdown",
      "metadata": {
        "id": "BemOSXC1PyRM"
      },
      "source": [
        "## 3\n",
        "Write a function that returns \"Match\" if a given input contains \"a\" followed by 0 or 1 \"b\", followed by \"c\" and returns \"No match\" otherwise."
      ]
    },
    {
      "cell_type": "code",
      "execution_count": null,
      "metadata": {
        "colab": {
          "base_uri": "https://localhost:8080/"
        },
        "id": "jzVDylGjPyRM",
        "outputId": "c7b5c280-d47a-47c7-a0a7-68427fdd7b34"
      },
      "outputs": [
        {
          "output_type": "stream",
          "name": "stdout",
          "text": [
            "No match\n",
            "Match\n",
            "No match\n",
            "Match\n",
            "Match\n"
          ]
        }
      ],
      "source": [
        "import re\n",
        "def text_match(text):\n",
        "        patterns = 'ab?c'\n",
        "        if re.findall(patterns,  text):\n",
        "                return('Match')\n",
        "        else:\n",
        "                return('No match')\n",
        "\n",
        "print(text_match(\"ab\")) # No match\n",
        "print(text_match(\"ac\")) # Match\n",
        "print(text_match(\"abbc\")) # No match\n",
        "print(text_match(\"abc\")) # Match\n",
        "print(text_match(\"bac\")) # Match"
      ]
    },
    {
      "cell_type": "markdown",
      "metadata": {
        "id": "wbRMSYWmPyRN"
      },
      "source": [
        "## 4\n",
        "Write a function that returns \"Match\" if a given input contains \"a\" at the beginning of the input string followed by 1 or more \"b\"s and ending with \"c\". It returns \"No match\" otherwise."
      ]
    },
    {
      "cell_type": "code",
      "execution_count": 1,
      "metadata": {
        "colab": {
          "base_uri": "https://localhost:8080/"
        },
        "id": "ZO2nQiJ4PyRO",
        "outputId": "de440feb-c34f-452e-a674-b854f2fee4cc"
      },
      "outputs": [
        {
          "output_type": "stream",
          "name": "stdout",
          "text": [
            "No match\n",
            "No match\n",
            "No match\n",
            "Match\n",
            "No match\n",
            "No match\n"
          ]
        }
      ],
      "source": [
        "import re\n",
        "def text_match(text):\n",
        "        patterns = '^ab+c$'\n",
        "        if re.findall(patterns,  text):\n",
        "                return('Match')\n",
        "        else:\n",
        "                return('No match')\n",
        "            \n",
        "print(text_match(\"ab\")) # No match\n",
        "print(text_match(\"ac\")) # No match\n",
        "print(text_match(\"cabca\")) # No match\n",
        "print(text_match(\"abbbc\")) # Match\n",
        "print(text_match(\"acb\")) # No Match\n",
        "print(text_match(\"bc\")) # No Match\n",
        "\n",
        "#TD in class assignment print(text_match(\"ac\")) # match"
      ]
    },
    {
      "cell_type": "markdown",
      "metadata": {
        "id": "q660rx77PyRO"
      },
      "source": [
        "## 5 \n",
        "Write a function that returns \"Match\" if a given input contains one or more spaces at the beginning or at the end of the string. It returns \"No match\" otherwise. "
      ]
    },
    {
      "cell_type": "code",
      "execution_count": null,
      "metadata": {
        "id": "4Rw3GLu0PyRP",
        "outputId": "aee61c11-7ff4-46e2-91e8-5d5c29e9c923"
      },
      "outputs": [
        {
          "name": "stdout",
          "output_type": "stream",
          "text": [
            "Match\n",
            "Match\n",
            "No match\n",
            "Match\n"
          ]
        }
      ],
      "source": [
        "import re\n",
        "def text_match(text):\n",
        "        patterns = '^\\s*\\S*\\s*$'\n",
        "        #TD alternative pattern patterns = '^\\s+|\\s+$'\n",
        "        if re.findall(patterns,  text):\n",
        "                return('Match')\n",
        "        else:\n",
        "                return('No match')\n",
        "            \n",
        "print(text_match(\"   cat\")) # Match\n",
        "print(text_match(\"dog \")) # Match\n",
        "print(text_match(\"cat and dog\")) # No match\n",
        "print(text_match(\" \")) # Match"
      ]
    },
    {
      "cell_type": "markdown",
      "metadata": {
        "id": "nfH8KAwpPyRP"
      },
      "source": [
        "## 6 \n",
        "Write a function that returns \"Match\" if a given input contains a __word__ that contains (upper or lowercase) \"g\". It returns \"No match\" otherwise. A word in this case is a set of characters consisting of letters, numbers or an underscore \"_\"."
      ]
    },
    {
      "cell_type": "code",
      "execution_count": 3,
      "metadata": {
        "id": "WkaESXFJPyRQ",
        "outputId": "30085340-9742-48d0-a563-8fe557229cf5",
        "colab": {
          "base_uri": "https://localhost:8080/"
        }
      },
      "outputs": [
        {
          "output_type": "stream",
          "name": "stdout",
          "text": [
            "Match\n",
            "Match\n",
            "Match\n",
            "Match\n",
            "No match\n"
          ]
        }
      ],
      "source": [
        "import re\n",
        "def text_match(text):\n",
        "        pattern = '\\w*[gG]\\w*'\n",
        "        # pattern patterns = '[gG]' not ok, as we only want words\n",
        "        if re.findall(pattern,  text):\n",
        "                #print(re.findall(pattern, text))\n",
        "                return('Match')\n",
        "        else:\n",
        "                return('No match')\n",
        "\n",
        "print(text_match(\"the lazy dog.\")) # Match\n",
        "print(text_match(\"He is taking the trash out.\")) # Match\n",
        "print(text_match(\"Gate no. 4.\")) # Match\n",
        "print(text_match(\"Room G\")) # Match\n",
        "print(text_match(\"letters, numbers or an underscore '_'.\")) # No match"
      ]
    },
    {
      "cell_type": "markdown",
      "metadata": {
        "id": "WuEeiHRvPyRR"
      },
      "source": [
        "## 7\n",
        "Write a function that returns \"Match\" if a given input is a valid e-mail address. It returns \"No match\" otherwise. A valid e-mail address consists of a username (consisting of only letters, numbers or an underscore), an \"@\" sign followed by a domain, which also contains a dot character \".\".  "
      ]
    },
    {
      "cell_type": "code",
      "execution_count": null,
      "metadata": {
        "id": "N1DRIIfdPyRR",
        "outputId": "d4887e0c-7967-4f45-f08a-bb3f22c3beb1"
      },
      "outputs": [
        {
          "name": "stdout",
          "output_type": "stream",
          "text": [
            "Match\n",
            "No match\n",
            "No match\n",
            "No match\n",
            "Match\n",
            "No match\n"
          ]
        }
      ],
      "source": [
        "import re\n",
        "def text_match(text):\n",
        "        pattern = '^\\w+@\\w+\\.\\w+$'\n",
        "        if re.findall(pattern,  text):\n",
        "                #print(re.findall(pattern, text))\n",
        "                return('Match')\n",
        "        else:\n",
        "                return('No match')\n",
        "\n",
        "print(text_match(\"jginspace@msn.com\")) # Match\n",
        "print(text_match(\"alias@@att.net\")) # No match\n",
        "print(text_match(\"forsberg@me,com\")) # No match\n",
        "print(text_match(\"barlow@att.\")) # No match\n",
        "print(text_match(\"credmond_jr@optonline.net\")) # Match\n",
        "print(text_match(\"aracne-dot@sbcglobal.net\")) # No match"
      ]
    },
    {
      "cell_type": "code",
      "execution_count": null,
      "metadata": {
        "id": "QAvZ4IrrPyRR"
      },
      "outputs": [],
      "source": [
        ""
      ]
    }
  ],
  "metadata": {
    "kernelspec": {
      "display_name": "Python3-new",
      "language": "python",
      "name": "python3"
    },
    "language_info": {
      "codemirror_mode": {
        "name": "ipython",
        "version": 3
      },
      "file_extension": ".py",
      "mimetype": "text/x-python",
      "name": "python",
      "nbconvert_exporter": "python",
      "pygments_lexer": "ipython3",
      "version": "3.7.4"
    },
    "colab": {
      "name": "regex_exercises_Key.ipynb",
      "provenance": [],
      "collapsed_sections": []
    }
  },
  "nbformat": 4,
  "nbformat_minor": 0
}