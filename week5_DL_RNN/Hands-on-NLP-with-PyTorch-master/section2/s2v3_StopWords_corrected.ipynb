{
  "cells": [
    {
      "cell_type": "code",
      "execution_count": 24,
      "metadata": {
        "id": "iIM7ckDveHLQ"
      },
      "outputs": [],
      "source": [
        "import warnings\n",
        "warnings.filterwarnings(\"ignore\", message=\"numpy.dtype size changed\")\n",
        "warnings.filterwarnings(\"ignore\", message=\"numpy.ufunc size changed\")"
      ]
    },
    {
      "cell_type": "code",
      "execution_count": 25,
      "metadata": {
        "colab": {
          "base_uri": "https://localhost:8080/"
        },
        "id": "YS3Oo93reHLS",
        "outputId": "76533214-1a26-4e61-a08f-c6f3ffb326cd"
      },
      "outputs": [
        {
          "output_type": "stream",
          "name": "stderr",
          "text": [
            "[nltk_data] Downloading package punkt to /root/nltk_data...\n",
            "[nltk_data]   Package punkt is already up-to-date!\n"
          ]
        },
        {
          "output_type": "execute_result",
          "data": {
            "text/plain": [
              "True"
            ]
          },
          "metadata": {},
          "execution_count": 25
        }
      ],
      "source": [
        "import nltk\n",
        "from nltk.tokenize import sent_tokenize\n",
        "nltk.download('punkt')\n",
        "#nltk.download('punkt') inserted"
      ]
    },
    {
      "cell_type": "code",
      "execution_count": 26,
      "metadata": {
        "colab": {
          "base_uri": "https://localhost:8080/"
        },
        "id": "CB8XM3W_eHLT",
        "outputId": "d42f12eb-0e79-4703-b225-b4f6994d6209"
      },
      "outputs": [
        {
          "output_type": "execute_result",
          "data": {
            "text/plain": [
              "['hello world!', 'We are trying out nltk.', 'This would be awesome!..']"
            ]
          },
          "metadata": {},
          "execution_count": 26
        }
      ],
      "source": [
        "sent_tokenize(\"hello world! We are trying out nltk. This would be awesome!..\")"
      ]
    },
    {
      "cell_type": "code",
      "execution_count": 27,
      "metadata": {
        "colab": {
          "base_uri": "https://localhost:8080/"
        },
        "id": "Ds-aw9O3eHLU",
        "outputId": "5b50fd4a-ec75-47c4-f23b-f7a50c444d7b"
      },
      "outputs": [
        {
          "output_type": "execute_result",
          "data": {
            "text/plain": [
              "[\"'bromwell high is a cartoon comedy .\",\n",
              " 'it ran at the same time as some other programs about school life  such as  teachers  .',\n",
              " 'my   years in the teaching profession lead me to believe that bromwell high  s satire is much closer to reality than is  teachers  .',\n",
              " 'the scramble to survive financially  the insightful students who can see right through their pathetic teachers  pomp  the pettiness of the whole situation  all remind me of the schools i knew and their students .',\n",
              " 'when i saw the episode in which a student repeatedly tried to burn down the school  i immediately recalled .',\n",
              " '.',\n",
              " '.',\n",
              " '.',\n",
              " '.',\n",
              " '.',\n",
              " '.',\n",
              " '.',\n",
              " '.',\n",
              " 'at .',\n",
              " '.',\n",
              " '.',\n",
              " '.',\n",
              " '.',\n",
              " '.',\n",
              " '.',\n",
              " '.',\n",
              " '.',\n",
              " '.',\n",
              " 'high .',\n",
              " 'a classic line inspector i  m here to sack one of your teachers .',\n",
              " 'student welcome to bromwell high .',\n",
              " 'i expect that many adults of my age think that bromwell high is far fetched .',\n",
              " \"what a pity that it isn  t   '\"]"
            ]
          },
          "metadata": {},
          "execution_count": 27
        }
      ],
      "source": [
        "sent_tokenize(\"'bromwell high is a cartoon comedy . it ran at the same time as some other programs about school life  such as  teachers  . my   years in the teaching profession lead me to believe that bromwell high  s satire is much closer to reality than is  teachers  . the scramble to survive financially  the insightful students who can see right through their pathetic teachers  pomp  the pettiness of the whole situation  all remind me of the schools i knew and their students . when i saw the episode in which a student repeatedly tried to burn down the school  i immediately recalled . . . . . . . . . at . . . . . . . . . . high . a classic line inspector i  m here to sack one of your teachers . student welcome to bromwell high . i expect that many adults of my age think that bromwell high is far fetched . what a pity that it isn  t   '\")"
      ]
    },
    {
      "cell_type": "code",
      "execution_count": 28,
      "metadata": {
        "id": "_ftWKOApeHLU"
      },
      "outputs": [],
      "source": [
        "reviewsFile = open('reviews.txt','r')\n",
        "reviews = list(map(lambda x:x[:-1],reviewsFile.readlines()))\n",
        "reviewsFile.close()\n",
        "\n",
        "labelsFile = open('labels.txt','r')\n",
        "labels = list(map(lambda x:x[:-1],labelsFile.readlines()))\n",
        "labelsFile.close()"
      ]
    },
    {
      "cell_type": "code",
      "execution_count": 29,
      "metadata": {
        "colab": {
          "base_uri": "https://localhost:8080/"
        },
        "id": "Yd2pPqwxeHLV",
        "outputId": "808512b7-046c-4d17-9dd8-06369734fd15"
      },
      "outputs": [
        {
          "output_type": "execute_result",
          "data": {
            "text/plain": [
              "19515"
            ]
          },
          "metadata": {},
          "execution_count": 29
        }
      ],
      "source": [
        "len(reviews)"
      ]
    },
    {
      "cell_type": "code",
      "execution_count": 30,
      "metadata": {
        "colab": {
          "base_uri": "https://localhost:8080/"
        },
        "id": "gYSLodk6eHLV",
        "outputId": "2d83feb6-13b2-4258-c583-4008c7d55986"
      },
      "outputs": [
        {
          "output_type": "execute_result",
          "data": {
            "text/plain": [
              "25000"
            ]
          },
          "metadata": {},
          "execution_count": 30
        }
      ],
      "source": [
        "len(labels)"
      ]
    },
    {
      "cell_type": "code",
      "execution_count": 31,
      "metadata": {
        "colab": {
          "base_uri": "https://localhost:8080/"
        },
        "id": "xAqhDIR1eHLW",
        "outputId": "1f6379b1-11a3-4a12-8a03-e0d67ba5c274"
      },
      "outputs": [
        {
          "output_type": "execute_result",
          "data": {
            "text/plain": [
              "{'negative', 'positive'}"
            ]
          },
          "metadata": {},
          "execution_count": 31
        }
      ],
      "source": [
        "set(labels)"
      ]
    },
    {
      "cell_type": "code",
      "execution_count": 32,
      "metadata": {
        "colab": {
          "base_uri": "https://localhost:8080/",
          "height": 139
        },
        "id": "COl3WvqteHLW",
        "outputId": "e379180c-4a65-487d-8c20-c40680147c7d"
      },
      "outputs": [
        {
          "output_type": "execute_result",
          "data": {
            "text/plain": [
              "'bromwell high is a cartoon comedy . it ran at the same time as some other programs about school life  such as  teachers  . my   years in the teaching profession lead me to believe that bromwell high  s satire is much closer to reality than is  teachers  . the scramble to survive financially  the insightful students who can see right through their pathetic teachers  pomp  the pettiness of the whole situation  all remind me of the schools i knew and their students . when i saw the episode in which a student repeatedly tried to burn down the school  i immediately recalled . . . . . . . . . at . . . . . . . . . . high . a classic line inspector i  m here to sack one of your teachers . student welcome to bromwell high . i expect that many adults of my age think that bromwell high is far fetched . what a pity that it isn  t   '"
            ],
            "application/vnd.google.colaboratory.intrinsic+json": {
              "type": "string"
            }
          },
          "metadata": {},
          "execution_count": 32
        }
      ],
      "source": [
        "reviews[0]"
      ]
    },
    {
      "cell_type": "code",
      "execution_count": 33,
      "metadata": {
        "colab": {
          "base_uri": "https://localhost:8080/"
        },
        "id": "ihyO-LGDeHLW",
        "outputId": "b2ddfbdd-5030-4ca9-ec51-5d8c24f037c2"
      },
      "outputs": [
        {
          "output_type": "execute_result",
          "data": {
            "text/plain": [
              "['bromwell',\n",
              " 'high',\n",
              " 'is',\n",
              " 'a',\n",
              " 'cartoon',\n",
              " 'comedy',\n",
              " '.',\n",
              " 'it',\n",
              " 'ran',\n",
              " 'at',\n",
              " 'the',\n",
              " 'same',\n",
              " 'time',\n",
              " 'as',\n",
              " 'some',\n",
              " 'other',\n",
              " 'programs',\n",
              " 'about',\n",
              " 'school',\n",
              " 'life',\n",
              " 'such',\n",
              " 'as',\n",
              " 'teachers',\n",
              " '.',\n",
              " 'my',\n",
              " 'years',\n",
              " 'in',\n",
              " 'the',\n",
              " 'teaching',\n",
              " 'profession',\n",
              " 'lead',\n",
              " 'me',\n",
              " 'to',\n",
              " 'believe',\n",
              " 'that',\n",
              " 'bromwell',\n",
              " 'high',\n",
              " 's',\n",
              " 'satire',\n",
              " 'is',\n",
              " 'much',\n",
              " 'closer',\n",
              " 'to',\n",
              " 'reality',\n",
              " 'than',\n",
              " 'is',\n",
              " 'teachers',\n",
              " '.',\n",
              " 'the',\n",
              " 'scramble',\n",
              " 'to',\n",
              " 'survive',\n",
              " 'financially',\n",
              " 'the',\n",
              " 'insightful',\n",
              " 'students',\n",
              " 'who',\n",
              " 'can',\n",
              " 'see',\n",
              " 'right',\n",
              " 'through',\n",
              " 'their',\n",
              " 'pathetic',\n",
              " 'teachers',\n",
              " 'pomp',\n",
              " 'the',\n",
              " 'pettiness',\n",
              " 'of',\n",
              " 'the',\n",
              " 'whole',\n",
              " 'situation',\n",
              " 'all',\n",
              " 'remind',\n",
              " 'me',\n",
              " 'of',\n",
              " 'the',\n",
              " 'schools',\n",
              " 'i',\n",
              " 'knew',\n",
              " 'and',\n",
              " 'their',\n",
              " 'students',\n",
              " '.',\n",
              " 'when',\n",
              " 'i',\n",
              " 'saw',\n",
              " 'the',\n",
              " 'episode',\n",
              " 'in',\n",
              " 'which',\n",
              " 'a',\n",
              " 'student',\n",
              " 'repeatedly',\n",
              " 'tried',\n",
              " 'to',\n",
              " 'burn',\n",
              " 'down',\n",
              " 'the',\n",
              " 'school',\n",
              " 'i',\n",
              " 'immediately',\n",
              " 'recalled',\n",
              " '.',\n",
              " '.',\n",
              " '.',\n",
              " '.',\n",
              " '.',\n",
              " '.',\n",
              " '.',\n",
              " '.',\n",
              " '.',\n",
              " 'at',\n",
              " '.',\n",
              " '.',\n",
              " '.',\n",
              " '.',\n",
              " '.',\n",
              " '.',\n",
              " '.',\n",
              " '.',\n",
              " '.',\n",
              " '.',\n",
              " 'high',\n",
              " '.',\n",
              " 'a',\n",
              " 'classic',\n",
              " 'line',\n",
              " 'inspector',\n",
              " 'i',\n",
              " 'm',\n",
              " 'here',\n",
              " 'to',\n",
              " 'sack',\n",
              " 'one',\n",
              " 'of',\n",
              " 'your',\n",
              " 'teachers',\n",
              " '.',\n",
              " 'student',\n",
              " 'welcome',\n",
              " 'to',\n",
              " 'bromwell',\n",
              " 'high',\n",
              " '.',\n",
              " 'i',\n",
              " 'expect',\n",
              " 'that',\n",
              " 'many',\n",
              " 'adults',\n",
              " 'of',\n",
              " 'my',\n",
              " 'age',\n",
              " 'think',\n",
              " 'that',\n",
              " 'bromwell',\n",
              " 'high',\n",
              " 'is',\n",
              " 'far',\n",
              " 'fetched',\n",
              " '.',\n",
              " 'what',\n",
              " 'a',\n",
              " 'pity',\n",
              " 'that',\n",
              " 'it',\n",
              " 'isn',\n",
              " 't']"
            ]
          },
          "metadata": {},
          "execution_count": 33
        }
      ],
      "source": [
        "import nltk\n",
        "nltk.word_tokenize(reviews[0])"
      ]
    },
    {
      "cell_type": "code",
      "execution_count": 34,
      "metadata": {
        "id": "Au4qW8H9eHLX"
      },
      "outputs": [],
      "source": [
        "from nltk.tokenize import RegexpTokenizer\n",
        "tokenizer = RegexpTokenizer(\"\\w+\")"
      ]
    },
    {
      "cell_type": "code",
      "execution_count": 35,
      "metadata": {
        "colab": {
          "base_uri": "https://localhost:8080/"
        },
        "id": "4610pGm0eHLX",
        "outputId": "ab53a34a-8dea-45cf-a3ee-467fe76ecc91"
      },
      "outputs": [
        {
          "output_type": "execute_result",
          "data": {
            "text/plain": [
              "['let', 'me', 'see', '1', '2', '3', 'tada']"
            ]
          },
          "metadata": {},
          "execution_count": 35
        }
      ],
      "source": [
        "tokenizer.tokenize(\"let me see 1,2,3..!tada\")"
      ]
    },
    {
      "cell_type": "code",
      "execution_count": 36,
      "metadata": {
        "colab": {
          "base_uri": "https://localhost:8080/"
        },
        "id": "EhNQ6GNjeHLX",
        "outputId": "6f6b16dc-6db4-499c-f8a0-99a1815b5f69"
      },
      "outputs": [
        {
          "output_type": "execute_result",
          "data": {
            "text/plain": [
              "['I', 'didn', 't', 'like', 'the', 'movie']"
            ]
          },
          "metadata": {},
          "execution_count": 36
        }
      ],
      "source": [
        "tokenizer.tokenize(\"I didn't like the movie.\")"
      ]
    },
    {
      "cell_type": "code",
      "execution_count": 37,
      "metadata": {
        "id": "LKDA6bbleHLY"
      },
      "outputs": [],
      "source": [
        "tokenizer = RegexpTokenizer(\"\\w+\\'?\\w+|\\w+\")"
      ]
    },
    {
      "cell_type": "code",
      "execution_count": 38,
      "metadata": {
        "colab": {
          "base_uri": "https://localhost:8080/"
        },
        "id": "oCQQavkTeHLY",
        "outputId": "7fb00738-b249-4391-9baf-bb1936cdc878"
      },
      "outputs": [
        {
          "output_type": "execute_result",
          "data": {
            "text/plain": [
              "['I', \"didn't\", 'like', 'the', 'movie']"
            ]
          },
          "metadata": {},
          "execution_count": 38
        }
      ],
      "source": [
        "tokenizer.tokenize(\"I didn't like the movie.\")"
      ]
    },
    {
      "cell_type": "code",
      "execution_count": 39,
      "metadata": {
        "colab": {
          "base_uri": "https://localhost:8080/"
        },
        "id": "3gmLUB7veHLY",
        "outputId": "4601492d-12b9-4902-8058-ea9e83d8474c"
      },
      "outputs": [
        {
          "output_type": "execute_result",
          "data": {
            "text/plain": [
              "['bromwell',\n",
              " 'high',\n",
              " 'is',\n",
              " 'a',\n",
              " 'cartoon',\n",
              " 'comedy',\n",
              " 'it',\n",
              " 'ran',\n",
              " 'at',\n",
              " 'the',\n",
              " 'same',\n",
              " 'time',\n",
              " 'as',\n",
              " 'some',\n",
              " 'other',\n",
              " 'programs',\n",
              " 'about',\n",
              " 'school',\n",
              " 'life',\n",
              " 'such',\n",
              " 'as',\n",
              " 'teachers',\n",
              " 'my',\n",
              " 'years',\n",
              " 'in',\n",
              " 'the',\n",
              " 'teaching',\n",
              " 'profession',\n",
              " 'lead',\n",
              " 'me',\n",
              " 'to',\n",
              " 'believe',\n",
              " 'that',\n",
              " 'bromwell',\n",
              " 'high',\n",
              " 's',\n",
              " 'satire',\n",
              " 'is',\n",
              " 'much',\n",
              " 'closer',\n",
              " 'to',\n",
              " 'reality',\n",
              " 'than',\n",
              " 'is',\n",
              " 'teachers',\n",
              " 'the',\n",
              " 'scramble',\n",
              " 'to',\n",
              " 'survive',\n",
              " 'financially',\n",
              " 'the',\n",
              " 'insightful',\n",
              " 'students',\n",
              " 'who',\n",
              " 'can',\n",
              " 'see',\n",
              " 'right',\n",
              " 'through',\n",
              " 'their',\n",
              " 'pathetic',\n",
              " 'teachers',\n",
              " 'pomp',\n",
              " 'the',\n",
              " 'pettiness',\n",
              " 'of',\n",
              " 'the',\n",
              " 'whole',\n",
              " 'situation',\n",
              " 'all',\n",
              " 'remind',\n",
              " 'me',\n",
              " 'of',\n",
              " 'the',\n",
              " 'schools',\n",
              " 'i',\n",
              " 'knew',\n",
              " 'and',\n",
              " 'their',\n",
              " 'students',\n",
              " 'when',\n",
              " 'i',\n",
              " 'saw',\n",
              " 'the',\n",
              " 'episode',\n",
              " 'in',\n",
              " 'which',\n",
              " 'a',\n",
              " 'student',\n",
              " 'repeatedly',\n",
              " 'tried',\n",
              " 'to',\n",
              " 'burn',\n",
              " 'down',\n",
              " 'the',\n",
              " 'school',\n",
              " 'i',\n",
              " 'immediately',\n",
              " 'recalled',\n",
              " 'at',\n",
              " 'high',\n",
              " 'a',\n",
              " 'classic',\n",
              " 'line',\n",
              " 'inspector',\n",
              " 'i',\n",
              " 'm',\n",
              " 'here',\n",
              " 'to',\n",
              " 'sack',\n",
              " 'one',\n",
              " 'of',\n",
              " 'your',\n",
              " 'teachers',\n",
              " 'student',\n",
              " 'welcome',\n",
              " 'to',\n",
              " 'bromwell',\n",
              " 'high',\n",
              " 'i',\n",
              " 'expect',\n",
              " 'that',\n",
              " 'many',\n",
              " 'adults',\n",
              " 'of',\n",
              " 'my',\n",
              " 'age',\n",
              " 'think',\n",
              " 'that',\n",
              " 'bromwell',\n",
              " 'high',\n",
              " 'is',\n",
              " 'far',\n",
              " 'fetched',\n",
              " 'what',\n",
              " 'a',\n",
              " 'pity',\n",
              " 'that',\n",
              " 'it',\n",
              " 'isn',\n",
              " 't']"
            ]
          },
          "metadata": {},
          "execution_count": 39
        }
      ],
      "source": [
        "tokenizer.tokenize(reviews[0])"
      ]
    },
    {
      "cell_type": "code",
      "execution_count": 40,
      "metadata": {
        "id": "lH6gBF4qeHLZ"
      },
      "outputs": [],
      "source": [
        "reviews = list(map(lambda x:tokenizer.tokenize(x.lower()),reviews))"
      ]
    },
    {
      "cell_type": "code",
      "execution_count": 41,
      "metadata": {
        "colab": {
          "base_uri": "https://localhost:8080/"
        },
        "id": "-HLaQH_OeHLZ",
        "outputId": "661c4de3-2aec-4aed-9c2f-8f8305c3f1d7"
      },
      "outputs": [
        {
          "output_type": "execute_result",
          "data": {
            "text/plain": [
              "19515"
            ]
          },
          "metadata": {},
          "execution_count": 41
        }
      ],
      "source": [
        "len(reviews)"
      ]
    },
    {
      "cell_type": "code",
      "execution_count": 42,
      "metadata": {
        "colab": {
          "base_uri": "https://localhost:8080/"
        },
        "id": "HlK1BtwxeHLZ",
        "outputId": "e316840c-64d2-4708-9425-c24ffd7558da"
      },
      "outputs": [
        {
          "output_type": "execute_result",
          "data": {
            "text/plain": [
              "['bromwell',\n",
              " 'high',\n",
              " 'is',\n",
              " 'a',\n",
              " 'cartoon',\n",
              " 'comedy',\n",
              " 'it',\n",
              " 'ran',\n",
              " 'at',\n",
              " 'the',\n",
              " 'same',\n",
              " 'time',\n",
              " 'as',\n",
              " 'some',\n",
              " 'other',\n",
              " 'programs',\n",
              " 'about',\n",
              " 'school',\n",
              " 'life',\n",
              " 'such',\n",
              " 'as',\n",
              " 'teachers',\n",
              " 'my',\n",
              " 'years',\n",
              " 'in',\n",
              " 'the',\n",
              " 'teaching',\n",
              " 'profession',\n",
              " 'lead',\n",
              " 'me',\n",
              " 'to',\n",
              " 'believe',\n",
              " 'that',\n",
              " 'bromwell',\n",
              " 'high',\n",
              " 's',\n",
              " 'satire',\n",
              " 'is',\n",
              " 'much',\n",
              " 'closer',\n",
              " 'to',\n",
              " 'reality',\n",
              " 'than',\n",
              " 'is',\n",
              " 'teachers',\n",
              " 'the',\n",
              " 'scramble',\n",
              " 'to',\n",
              " 'survive',\n",
              " 'financially',\n",
              " 'the',\n",
              " 'insightful',\n",
              " 'students',\n",
              " 'who',\n",
              " 'can',\n",
              " 'see',\n",
              " 'right',\n",
              " 'through',\n",
              " 'their',\n",
              " 'pathetic',\n",
              " 'teachers',\n",
              " 'pomp',\n",
              " 'the',\n",
              " 'pettiness',\n",
              " 'of',\n",
              " 'the',\n",
              " 'whole',\n",
              " 'situation',\n",
              " 'all',\n",
              " 'remind',\n",
              " 'me',\n",
              " 'of',\n",
              " 'the',\n",
              " 'schools',\n",
              " 'i',\n",
              " 'knew',\n",
              " 'and',\n",
              " 'their',\n",
              " 'students',\n",
              " 'when',\n",
              " 'i',\n",
              " 'saw',\n",
              " 'the',\n",
              " 'episode',\n",
              " 'in',\n",
              " 'which',\n",
              " 'a',\n",
              " 'student',\n",
              " 'repeatedly',\n",
              " 'tried',\n",
              " 'to',\n",
              " 'burn',\n",
              " 'down',\n",
              " 'the',\n",
              " 'school',\n",
              " 'i',\n",
              " 'immediately',\n",
              " 'recalled',\n",
              " 'at',\n",
              " 'high',\n",
              " 'a',\n",
              " 'classic',\n",
              " 'line',\n",
              " 'inspector',\n",
              " 'i',\n",
              " 'm',\n",
              " 'here',\n",
              " 'to',\n",
              " 'sack',\n",
              " 'one',\n",
              " 'of',\n",
              " 'your',\n",
              " 'teachers',\n",
              " 'student',\n",
              " 'welcome',\n",
              " 'to',\n",
              " 'bromwell',\n",
              " 'high',\n",
              " 'i',\n",
              " 'expect',\n",
              " 'that',\n",
              " 'many',\n",
              " 'adults',\n",
              " 'of',\n",
              " 'my',\n",
              " 'age',\n",
              " 'think',\n",
              " 'that',\n",
              " 'bromwell',\n",
              " 'high',\n",
              " 'is',\n",
              " 'far',\n",
              " 'fetched',\n",
              " 'what',\n",
              " 'a',\n",
              " 'pity',\n",
              " 'that',\n",
              " 'it',\n",
              " 'isn',\n",
              " 't']"
            ]
          },
          "metadata": {},
          "execution_count": 42
        }
      ],
      "source": [
        "reviews[0]"
      ]
    },
    {
      "cell_type": "code",
      "execution_count": 50,
      "metadata": {
        "colab": {
          "base_uri": "https://localhost:8080/"
        },
        "id": "eh1_ZWyweHLa",
        "outputId": "14eb7d65-638e-4e63-a9d5-96b0dfcee2b3"
      },
      "outputs": [
        {
          "output_type": "stream",
          "name": "stdout",
          "text": [
            "['i', 'me', 'my', 'myself', 'we', 'our', 'ours', 'ourselves', 'you', \"you're\", \"you've\", \"you'll\", \"you'd\", 'your', 'yours', 'yourself', 'yourselves', 'he', 'him', 'his', 'himself', 'she', \"she's\", 'her', 'hers', 'herself', 'it', \"it's\", 'its', 'itself', 'they', 'them', 'their', 'theirs', 'themselves', 'what', 'which', 'who', 'whom', 'this', 'that', \"that'll\", 'these', 'those', 'am', 'is', 'are', 'was', 'were', 'be', 'been', 'being', 'have', 'has', 'had', 'having', 'do', 'does', 'did', 'doing', 'a', 'an', 'the', 'and', 'but', 'if', 'or', 'because', 'as', 'until', 'while', 'of', 'at', 'by', 'for', 'with', 'about', 'against', 'between', 'into', 'through', 'during', 'before', 'after', 'above', 'below', 'to', 'from', 'up', 'down', 'in', 'out', 'on', 'off', 'over', 'under', 'again', 'further', 'then', 'once', 'here', 'there', 'when', 'where', 'why', 'how', 'all', 'any', 'both', 'each', 'few', 'more', 'most', 'other', 'some', 'such', 'no', 'nor', 'not', 'only', 'own', 'same', 'so', 'than', 'too', 'very', 's', 't', 'can', 'will', 'just', 'don', \"don't\", 'should', \"should've\", 'now', 'd', 'll', 'm', 'o', 're', 've', 'y', 'ain', 'aren', \"aren't\", 'couldn', \"couldn't\", 'didn', \"didn't\", 'doesn', \"doesn't\", 'hadn', \"hadn't\", 'hasn', \"hasn't\", 'haven', \"haven't\", 'isn', \"isn't\", 'ma', 'mightn', \"mightn't\", 'mustn', \"mustn't\", 'needn', \"needn't\", 'shan', \"shan't\", 'shouldn', \"shouldn't\", 'wasn', \"wasn't\", 'weren', \"weren't\", 'won', \"won't\", 'wouldn', \"wouldn't\"]\n"
          ]
        },
        {
          "output_type": "stream",
          "name": "stderr",
          "text": [
            "[nltk_data] Downloading package stopwords to /root/nltk_data...\n",
            "[nltk_data]   Package stopwords is already up-to-date!\n"
          ]
        }
      ],
      "source": [
        "from nltk.corpus import stopwords\n",
        "nltk.download('stopwords')\n",
        "#nltk.download('stopwords')\n",
        "stop_words = stopwords.words('english')\n",
        "print(stop_words)"
      ]
    },
    {
      "cell_type": "code",
      "execution_count": 51,
      "metadata": {
        "colab": {
          "base_uri": "https://localhost:8080/"
        },
        "id": "_YiNmwUCeHLa",
        "outputId": "dd6400d8-9476-4ab5-95e6-a7f46af35550"
      },
      "outputs": [
        {
          "output_type": "stream",
          "name": "stdout",
          "text": [
            "{'most', 'next', 'until', 'last', 'as', 'but', 'other', '’ll', 'someone', 'of', 'almost', 'whereas', 'together', 'me', 'can', 'must', 'through', 'due', 'anywhere', 'always', 'we', 'wherever', \"'re\", 'she', 'sometime', 'his', 'those', 'is', 'six', 'seemed', 'they', 'done', '’m', '’ve', 'who', 'would', 'ever', 'whatever', 'another', 'moreover', 'afterwards', 'many', 'alone', 'or', 'keep', 'among', 'anyone', 'that', 'off', 'same', 'the', 'without', 'used', 'regarding', 'because', \"'s\", 'further', 'am', 'nothing', 'please', 'something', 'throughout', 'a', 'still', 'first', 'call', 'front', 'nevertheless', 'had', 'say', 'side', 'somewhere', 'full', 'since', 'often', 'although', 'our', 'over', 'none', 'why', 'really', 'fifty', 'mine', 'does', 'two', 'five', 'being', 'others', 'anything', 'fifteen', 'four', 'anyway', 'n‘t', 'above', \"n't\", 'namely', 'them', 'and', 'into', 'with', 'him', 'formerly', 'twelve', 'around', '’s', 'toward', 'ca', 'though', 'take', 'rather', 'see', 'nine', 'out', 'cannot', 'hundred', 'otherwise', 'how', 'what', '‘re', 'also', 'empty', 'well', 'i', 'one', 'everywhere', 'more', 'now', 'several', 'beforehand', 'whom', 'has', '’re', 'just', 'eleven', 'thereby', 'may', 'between', 'n’t', 'during', 'even', 'show', 'seeming', 'hereafter', 'amongst', 'every', 'hereupon', 'at', 'hence', 'very', 'herself', 'by', 'three', 'before', 'nowhere', 'top', 'itself', 'using', 'therein', 'thus', 'everyone', 'for', 'onto', 'not', \"'ll\", 'therefore', 'do', 'everything', 'somehow', 'wherein', 'did', 'was', 'already', 'both', 'which', \"'d\", 'anyhow', 'neither', 'herein', 'hereby', 'some', 'thereafter', 'thereupon', 'any', 'move', 'about', 'been', 'get', 'your', 'bottom', 'yet', 'beside', '‘ve', 'you', 'against', 'ten', 'perhaps', 'serious', 'might', 'this', 'latterly', 'seem', 'whereby', 'thence', 'so', 'meanwhile', 'upon', 'mostly', 'ours', 'too', '‘s', '’d', 'former', \"'m\", '‘d', 'were', 'however', 'own', 'go', 'indeed', '‘ll', 'these', 'themselves', 'in', 'myself', 'whoever', 'be', 'then', 'third', 'yourselves', 'forty', 'my', 'he', 'hers', 'either', 'after', 'its', 'part', 'elsewhere', 'whether', 'whereupon', 're', 'quite', 'make', 'became', 'under', 'less', 'when', 'various', 'few', 'nobody', 'noone', 'again', 'yours', 'per', 'back', 'us', 'yourself', 'latter', 'no', 'thru', 'except', 'much', 'least', 'across', 'all', 'else', 'here', 'sometimes', 'down', 'below', 'within', 'to', 'via', 'where', 'only', 'put', 'once', 'whereafter', 'whence', '‘m', 'have', 'whenever', 'there', 'never', 'towards', 'unless', \"'ve\", 'along', 'while', 'nor', 'give', 'than', 'from', 'name', 'if', 'their', 'should', 'sixty', 'becomes', 'are', 'eight', 'amount', 'seems', 'become', 'twenty', 'up', 'it', 'whose', 'doing', 'could', 'besides', 'such', 'whole', 'on', 'will', 'enough', 'made', 'behind', 'becoming', 'whither', 'ourselves', 'her', 'himself', 'each', 'an', 'beyond'}\n"
          ]
        }
      ],
      "source": [
        "from spacy.lang.en.stop_words import STOP_WORDS\n",
        "print(STOP_WORDS)"
      ]
    },
    {
      "cell_type": "code",
      "execution_count": 52,
      "metadata": {
        "id": "bKG3ZQy1eHLa"
      },
      "outputs": [],
      "source": [
        "stopwords = set(stop_words).union(STOP_WORDS)"
      ]
    },
    {
      "cell_type": "code",
      "execution_count": 53,
      "metadata": {
        "colab": {
          "base_uri": "https://localhost:8080/"
        },
        "id": "VasHr-0heHLb",
        "outputId": "27350b29-f561-4c01-aed7-c30e9a070eef"
      },
      "outputs": [
        {
          "output_type": "execute_result",
          "data": {
            "text/plain": [
              "['good', 'movie']"
            ]
          },
          "metadata": {},
          "execution_count": 53
        }
      ],
      "source": [
        "review = [\"this\", \"is\", \"a\", \"good\", \"movie\"]\n",
        "[token for token in review if token not in stopwords]"
      ]
    },
    {
      "cell_type": "code",
      "execution_count": 54,
      "metadata": {
        "colab": {
          "base_uri": "https://localhost:8080/"
        },
        "id": "CvdbltqXeHLb",
        "outputId": "78066d11-83ed-456f-b396-a15b86d7cc79"
      },
      "outputs": [
        {
          "output_type": "execute_result",
          "data": {
            "text/plain": [
              "['good', 'movie']"
            ]
          },
          "metadata": {},
          "execution_count": 54
        }
      ],
      "source": [
        "review = [\"this\", \"is\",\"not\", \"a\", \"good\", \"movie\"]\n",
        "[token for token in review if token not in stopwords]"
      ]
    },
    {
      "cell_type": "code",
      "execution_count": 55,
      "metadata": {
        "id": "5xZTnzWneHLb"
      },
      "outputs": [],
      "source": [
        "exceptionStopWords = {\n",
        "    'again',\n",
        "    'against',\n",
        "    'ain',\n",
        "    'almost',\n",
        "    'among',\n",
        "    'amongst',\n",
        "    'amount',\n",
        "    'anyhow',\n",
        "    'anyway',\n",
        "    'aren',\n",
        "    \"aren't\",\n",
        "    'below',\n",
        "    'bottom',\n",
        "    'but',\n",
        "    'cannot',\n",
        "    'couldn',\n",
        "    \"couldn't\",\n",
        "    'didn',\n",
        "    \"didn't\",\n",
        "    'doesn',\n",
        "    \"doesn't\",\n",
        "    'don',\n",
        "    \"don't\",\n",
        "    'done',\n",
        "    'down',\n",
        "    'except',\n",
        "    'few',\n",
        "    'hadn',\n",
        "    \"hadn't\",\n",
        "    'hasn',\n",
        "    \"hasn't\",\n",
        "    'haven',\n",
        "    \"haven't\",\n",
        "    'however',\n",
        "    'isn',\n",
        "    \"isn't\",\n",
        "    'least',\n",
        "    'mightn',\n",
        "    \"mightn't\",\n",
        "    'must',\n",
        "    'mustn',\n",
        "    \"mustn't\",\n",
        "    'needn',\n",
        "    \"needn't\",\n",
        "    'neither',\n",
        "    'never',\n",
        "    'nevertheless',\n",
        "    'no',\n",
        "    'nobody',\n",
        "    'none',\n",
        "    'noone',\n",
        "    'nor',\n",
        "    'not',\n",
        "    'nothing',\n",
        "    'should',\n",
        "    \"should've\",\n",
        "    'shouldn',\n",
        "    \"shouldn't\",\n",
        "    'too',\n",
        "    'top',\n",
        "    'up',\n",
        "    'wasn',\n",
        "    \"wasn't\",\n",
        "    'well',\n",
        "    'weren',\n",
        "    \"weren't\",\n",
        "    'won',\n",
        "    \"won't\",\n",
        "    'wouldn',\n",
        "    \"wouldn't\",\n",
        "}\n",
        "finalstop = stopwords-exceptionStopWords"
      ]
    },
    {
      "cell_type": "code",
      "execution_count": 56,
      "metadata": {
        "colab": {
          "base_uri": "https://localhost:8080/"
        },
        "id": "1azi5hQ7eHLc",
        "outputId": "9a0ec068-18bb-4766-b6cb-534115b1555d"
      },
      "outputs": [
        {
          "output_type": "execute_result",
          "data": {
            "text/plain": [
              "['not', 'good', 'movie']"
            ]
          },
          "metadata": {},
          "execution_count": 56
        }
      ],
      "source": [
        "review = [\"this\", \"is\",\"not\", \"a\", \"good\", \"movie\"]\n",
        "[token for token in review if token not in finalstop]"
      ]
    },
    {
      "cell_type": "code",
      "execution_count": 57,
      "metadata": {
        "id": "ml_N2xpCeHLc"
      },
      "outputs": [],
      "source": [
        "def remove_stopwords(review):\n",
        "    return [token for token in review if token not in finalstop]"
      ]
    },
    {
      "cell_type": "code",
      "execution_count": 58,
      "metadata": {
        "colab": {
          "base_uri": "https://localhost:8080/"
        },
        "id": "iBuyCGe-eHLc",
        "outputId": "364f76d8-e801-4e8f-a377-d9839676b71f"
      },
      "outputs": [
        {
          "output_type": "execute_result",
          "data": {
            "text/plain": [
              "['not', 'good', 'movie']"
            ]
          },
          "metadata": {},
          "execution_count": 58
        }
      ],
      "source": [
        "remove_stopwords([\"this\", \"is\", \"not\", \"a\", \"good\", \"movie\"])"
      ]
    },
    {
      "cell_type": "code",
      "execution_count": 59,
      "metadata": {
        "colab": {
          "base_uri": "https://localhost:8080/"
        },
        "id": "VgEwNH4LeHLd",
        "outputId": "0ee93fd6-9951-4c7b-bbe9-08c8b218ed38"
      },
      "outputs": [
        {
          "output_type": "execute_result",
          "data": {
            "text/plain": [
              "['bromwell',\n",
              " 'high',\n",
              " 'cartoon',\n",
              " 'comedy',\n",
              " 'ran',\n",
              " 'time',\n",
              " 'programs',\n",
              " 'school',\n",
              " 'life',\n",
              " 'teachers',\n",
              " 'years',\n",
              " 'teaching',\n",
              " 'profession',\n",
              " 'lead',\n",
              " 'believe',\n",
              " 'bromwell',\n",
              " 'high',\n",
              " 'satire',\n",
              " 'closer',\n",
              " 'reality',\n",
              " 'teachers',\n",
              " 'scramble',\n",
              " 'survive',\n",
              " 'financially',\n",
              " 'insightful',\n",
              " 'students',\n",
              " 'right',\n",
              " 'pathetic',\n",
              " 'teachers',\n",
              " 'pomp',\n",
              " 'pettiness',\n",
              " 'situation',\n",
              " 'remind',\n",
              " 'schools',\n",
              " 'knew',\n",
              " 'students',\n",
              " 'saw',\n",
              " 'episode',\n",
              " 'student',\n",
              " 'repeatedly',\n",
              " 'tried',\n",
              " 'burn',\n",
              " 'down',\n",
              " 'school',\n",
              " 'immediately',\n",
              " 'recalled',\n",
              " 'high',\n",
              " 'classic',\n",
              " 'line',\n",
              " 'inspector',\n",
              " 'sack',\n",
              " 'teachers',\n",
              " 'student',\n",
              " 'welcome',\n",
              " 'bromwell',\n",
              " 'high',\n",
              " 'expect',\n",
              " 'adults',\n",
              " 'age',\n",
              " 'think',\n",
              " 'bromwell',\n",
              " 'high',\n",
              " 'far',\n",
              " 'fetched',\n",
              " 'pity',\n",
              " 'isn']"
            ]
          },
          "metadata": {},
          "execution_count": 59
        }
      ],
      "source": [
        "remove_stopwords(reviews[0])"
      ]
    },
    {
      "cell_type": "code",
      "execution_count": 60,
      "metadata": {
        "id": "YYn-ghn3eHLd"
      },
      "outputs": [],
      "source": [
        "reviews = list(map(lambda x: remove_stopwords(x),reviews))"
      ]
    },
    {
      "cell_type": "code",
      "execution_count": 61,
      "metadata": {
        "colab": {
          "base_uri": "https://localhost:8080/"
        },
        "id": "Z5yscBtFeHLd",
        "outputId": "2404a4c0-aeae-49ee-994e-3facebb75bf3"
      },
      "outputs": [
        {
          "output_type": "execute_result",
          "data": {
            "text/plain": [
              "['bromwell',\n",
              " 'high',\n",
              " 'cartoon',\n",
              " 'comedy',\n",
              " 'ran',\n",
              " 'time',\n",
              " 'programs',\n",
              " 'school',\n",
              " 'life',\n",
              " 'teachers',\n",
              " 'years',\n",
              " 'teaching',\n",
              " 'profession',\n",
              " 'lead',\n",
              " 'believe',\n",
              " 'bromwell',\n",
              " 'high',\n",
              " 'satire',\n",
              " 'closer',\n",
              " 'reality',\n",
              " 'teachers',\n",
              " 'scramble',\n",
              " 'survive',\n",
              " 'financially',\n",
              " 'insightful',\n",
              " 'students',\n",
              " 'right',\n",
              " 'pathetic',\n",
              " 'teachers',\n",
              " 'pomp',\n",
              " 'pettiness',\n",
              " 'situation',\n",
              " 'remind',\n",
              " 'schools',\n",
              " 'knew',\n",
              " 'students',\n",
              " 'saw',\n",
              " 'episode',\n",
              " 'student',\n",
              " 'repeatedly',\n",
              " 'tried',\n",
              " 'burn',\n",
              " 'down',\n",
              " 'school',\n",
              " 'immediately',\n",
              " 'recalled',\n",
              " 'high',\n",
              " 'classic',\n",
              " 'line',\n",
              " 'inspector',\n",
              " 'sack',\n",
              " 'teachers',\n",
              " 'student',\n",
              " 'welcome',\n",
              " 'bromwell',\n",
              " 'high',\n",
              " 'expect',\n",
              " 'adults',\n",
              " 'age',\n",
              " 'think',\n",
              " 'bromwell',\n",
              " 'high',\n",
              " 'far',\n",
              " 'fetched',\n",
              " 'pity',\n",
              " 'isn']"
            ]
          },
          "metadata": {},
          "execution_count": 61
        }
      ],
      "source": [
        "reviews[0]"
      ]
    },
    {
      "cell_type": "code",
      "execution_count": null,
      "metadata": {
        "id": "rKqakqRPeHLd"
      },
      "outputs": [],
      "source": []
    }
  ],
  "metadata": {
    "kernelspec": {
      "display_name": "Python 3",
      "language": "python",
      "name": "python3"
    },
    "language_info": {
      "codemirror_mode": {
        "name": "ipython",
        "version": 3
      },
      "file_extension": ".py",
      "mimetype": "text/x-python",
      "name": "python",
      "nbconvert_exporter": "python",
      "pygments_lexer": "ipython3",
      "version": "3.6.3"
    },
    "colab": {
      "provenance": []
    }
  },
  "nbformat": 4,
  "nbformat_minor": 0
}