{
 "cells": [
  {
   "cell_type": "markdown",
   "metadata": {},
   "source": [
    "## Introduction to Neural Networks\n",
    "\n",
    "### Exercise: neurons as logic gates\n",
    "---\n",
    "In this exercise we will experiment with neuron computations.  We will show how to represent basic logic functions like AND, OR, and XOR using single neurons (or more complicated structures).  Finally, at the end we will walk through how to represent neural networks as a string of matrix computations."
   ]
  },
  {
   "cell_type": "code",
   "execution_count": 2,
   "metadata": {},
   "outputs": [],
   "source": [
    "import numpy as np\n",
    "import matplotlib.pyplot as plt\n",
    "%matplotlib inline"
   ]
  },
  {
   "cell_type": "markdown",
   "metadata": {},
   "source": [
    "## Sigmoid function\n",
    "\n",
    "$$ \\sigma = \\frac{1}{1 + e^{-x}} $$\n",
    "\n",
    "$\\sigma$ ranges from $(0, 1)$. When the input $x$ is negative, $\\sigma$ is closer to 0. When $x$ is positive, $\\sigma$ is closer to 1. At $x=0$, $\\sigma=0.5$"
   ]
  },
  {
   "cell_type": "code",
   "execution_count": 3,
   "metadata": {},
   "outputs": [
    {
     "data": {
      "text/plain": [
       "array([8.31528028e-07, 6.14417460e-06, 5.00000000e-01, 9.99983299e-01,\n",
       "       9.99876605e-01])"
      ]
     },
     "execution_count": 3,
     "metadata": {},
     "output_type": "execute_result"
    }
   ],
   "source": [
    "# define the sigmoid function\n",
    "\n",
    "### code start\n",
    "def sigmoid(x):\n",
    "    return 1.0 / (1.0 + np.exp(-x))\n",
    "### code end\n",
    "\n",
    "sigmoid(np.array([-10^4, -10^2, 0, 10^1, 10^3]))"
   ]
  },
  {
   "cell_type": "markdown",
   "metadata": {},
   "source": [
    "Expected output:\n",
    "```\n",
    "array([8.31528028e-07, 6.14417460e-06, 5.00000000e-01, 9.99983299e-01,\n",
    "       9.99876605e-01])\n",
    "```"
   ]
  },
  {
   "cell_type": "code",
   "execution_count": 4,
   "metadata": {},
   "outputs": [
    {
     "data": {
      "image/png": "[encoded data removed]",
      "text/plain": [
       "<Figure size 1000x600 with 1 Axes>"
      ]
     },
     "metadata": {},
     "output_type": "display_data"
    }
   ],
   "source": [
    "# Plot the sigmoid function\n",
    "vals = np.linspace(-10, 10, num=100, dtype=np.float32)\n",
    "\n",
    "fig = plt.figure(figsize=(10,6))\n",
    "### code start\n",
    "plt.plot(vals, sigmoid(vals), )\n",
    "plt.ylim([-0.25, 1.25])\n",
    "### code end\n",
    "plt.grid(True, which='both')\n",
    "plt.axhline(y=0, color='k')\n",
    "plt.axvline(x=0, color='k')\n",
    "plt.yticks();"
   ]
  },
  {
   "cell_type": "markdown",
   "metadata": {},
   "source": [
    "Expected output:\n",
    "<img src='../images/sigmoid.png' width='40%' />\n",
    "\n",
    "### Thinking of neurons as boolean logic gates\n",
    "---\n",
    "A logic gate takes in two boolean inputs `1` (`true`) or `0` (`false`), and returns either a 0 or 1 depending on its rule. The truth table for a logic gate shows the outputs for each combination of inputs, `(0, 0)`, `(0, 1)`, `(1,0)`, and `(1, 1)`. For example, let's look at the truth table for an \"OR\" gate:\n",
    "\n",
    "\n",
    "#### OR gate truth table\n",
    "\n",
    "Input | Output\n",
    "--- | ---\n",
    "0 0 | 0\n",
    "0 1 | 1\n",
    "1 0 | 1\n",
    "1 1 | 1\n",
    "\n",
    "A neuron that uses the sigmoid activation function outputs a value between (0, 1). This naturally leads us to think about boolean values. Imagine a neuron that takes in two inputs, $x_1$ and $x_2$, and a bias term:\n",
    "\n",
    "<img src='../images/logic01.png' width='50%'/>\n",
    "\n",
    "By limiting the inputs of $x_1$ and $x_2$ to be in $\\left\\{0, 1\\right\\}$, we can simulate the effect of logic gates with our neuron. The goal is to find the weights (represented by the ?-marks above), such that it returns an output close to 0 or 1 depending on the inputs.\n",
    "\n",
    "What numbers for the weights would we need to fill in for this gate to output OR logic? Remember: $\\sigma(z)$ is close to 0 when $z$ is largely negative (around -10 or less), and is close to 1 when $z$ is largely positive (around +10 or greater).\n",
    "\n",
    "$$\n",
    "z = w_1 x_1 + w_2 x_2 + 1 b\n",
    "$$\n",
    "\n",
    "Let's think this through:\n",
    "\n",
    "* When $x_1$ and $x_2$ are both 0, the only value affecting $z$ is $b$. Because we want the result for (0, 0) to be close to zero, $b$ should be negative (at least -10)\n",
    "* If either $x_1$ or $x_2$ is 1, we want the output to be close to 1. That means the weights associated with $x_1$ and $x_2$ should be enough to offset $b$ to the point of causing $z$ to be at least 10.\n",
    "* Let's give $b$ a value of -10. How big do we need $w_1$ and $w_2$ to be? \n",
    "    * At least +20\n",
    "* So let's try out $w_1=20$, $w_2=20$, and $b=-10$!\n",
    "\n",
    "<img src='../images/logic02.png' width='50%'/>"
   ]
  },
  {
   "cell_type": "code",
   "execution_count": null,
   "metadata": {},
   "outputs": [],
   "source": [
    "# Helper to create logic gate functions\n",
    "\n",
    "def logic_gate(w1, w2, b):  # weight_x1, weight_x2, and bias\n",
    "    return lambda x1, x2: sigmoid(w1 * x1 + w2 * x2 + b)\n",
    "\n",
    "# Helper function to test out our weight functions.\n",
    "def test(gate):\n",
    "    for x1, x2 in (0, 0), (0, 1), (1, 0), (1, 1):\n",
    "        print(f\"{x1}, {x2}: {np.round(gate(x1 , x2))}\")"
   ]
  },
  {
   "cell_type": "code",
   "execution_count": null,
   "metadata": {},
   "outputs": [],
   "source": [
    "or_gate = logic_gate(20, 20, -10)\n",
    "test(or_gate)"
   ]
  },
  {
   "cell_type": "markdown",
   "metadata": {},
   "source": [
    "Expected output:\n",
    "```\n",
    "0, 0: 0.0\n",
    "0, 1: 1.0\n",
    "1, 0: 1.0\n",
    "1, 1: 1.0\n",
    "```\n",
    "\n",
    "Now you try finding the appropriate weight values for each truth table. Try not to guess and check - think through it logically and try to derive values that work.\n",
    "\n",
    "#### AND gate truth table\n",
    "\n",
    "Input | Output\n",
    "--- | ---\n",
    "0 0 | 0\n",
    "0 1 | 0\n",
    "1 0 | 0\n",
    "1 1 | 1"
   ]
  },
  {
   "cell_type": "markdown",
   "metadata": {},
   "source": [
    "### Exercise\n",
    "---\n",
    "Try to figure out what values for the neurons would make this function as an AND gate."
   ]
  },
  {
   "cell_type": "code",
   "execution_count": null,
   "metadata": {},
   "outputs": [],
   "source": [
    "### code start\n",
    "and_gate = logic_gate(15, 15, -20)\n",
    "### code end\n",
    "\n",
    "test(and_gate)"
   ]
  },
  {
   "cell_type": "markdown",
   "metadata": {},
   "source": [
    "Expected output:\n",
    "```\n",
    "0, 0: 0.0\n",
    "0, 1: 0.0\n",
    "1, 0: 0.0\n",
    "1, 1: 0.0\n",
    "```"
   ]
  },
  {
   "cell_type": "markdown",
   "metadata": {},
   "source": [
    "### Exercise\n",
    "---\n",
    "Do the same for the NOR gate and the NAND gate.\n",
    "\n",
    "#### NOR (Not Or) Gate\n",
    "\n",
    "Input | Output\n",
    "--- | ---\n",
    "0 0 | 1\n",
    "0 1 | 0\n",
    "1 0 | 0\n",
    "1 1 | 0"
   ]
  },
  {
   "cell_type": "code",
   "execution_count": null,
   "metadata": {},
   "outputs": [],
   "source": [
    "### code start\n",
    "nor_gate = logic_gate(-20, -20, 10)\n",
    "### code end\n",
    "\n",
    "test(nor_gate)"
   ]
  },
  {
   "cell_type": "markdown",
   "metadata": {},
   "source": [
    "Expected output:\n",
    "```\n",
    "0, 0: 1.0\n",
    "0, 1: 0.0\n",
    "1, 0: 0.0\n",
    "1, 1: 0.0\n",
    "```\n",
    "### NAND (Not And) Gate\n",
    "\n",
    "Input | Output\n",
    "--- | ---\n",
    "0 0 | 1\n",
    "0 1 | 1\n",
    "1 0 | 1\n",
    "1 1 | 0"
   ]
  },
  {
   "cell_type": "code",
   "execution_count": null,
   "metadata": {},
   "outputs": [],
   "source": [
    "### code start\n",
    "nand_gate = logic_gate(-15, -15, 20)\n",
    "### code end\n",
    "test(nand_gate)"
   ]
  },
  {
   "cell_type": "markdown",
   "metadata": {},
   "source": [
    "Expected output:\n",
    "```\n",
    "0, 0: 1.0\n",
    "0, 1: 1.0\n",
    "1, 0: 1.0\n",
    "1, 1: 0.0\n",
    "```\n",
    "## The limits of single neurons\n",
    "\n",
    "You may know from Analysis courses (logic) that the XOR gates are the basis of computation. They can be used as so-called \"half-adders\", the foundation of being able to add numbers together. Here's the truth table for XOR:\n",
    "\n",
    "### XOR (Exclusive Or) Gate\n",
    "\n",
    "Input | Output\n",
    "--- | ---\n",
    "0 0 | 0\n",
    "0 1 | 1\n",
    "1 0 | 1\n",
    "1 1 | 0\n",
    "\n",
    "Can you create a set of weights such that a single neuron can output this property? It turns out that you cannot. Single neurons can't correlate inputs, so it's just confused. So individual neurons are out. Can we still use neurons to somehow form an XOR gate?\n",
    "\n",
    "What if we apply a bit more complex: rewrite the XOR using the gates we have (OR, AND, NAND, NOR).\n",
    "\n",
    "1. ```(not a and b) or (a and not b)``` $(\\lnot a \\land b) \\lor (a \\land \\lnot b)$\n",
    "\n",
    " or a somewhat simplified version\n",
    "\n",
    "2. ```(a or b) and not (a and b)``` $(a \\lor b) \\land \\lnot (a \\land b)$\n",
    "\n",
    "Build both version of the XOR-gate using the gates we have.\n",
    "\n",
    "*HINT: you do not have a NOT-gate but you can build them using one of the gates you do have.*\n"
   ]
  },
  {
   "cell_type": "code",
   "execution_count": null,
   "metadata": {},
   "outputs": [],
   "source": [
    "### code start\n",
    "def xor_gate_1(a, b):\n",
    "    return or_gate(and_gate(nand_gate(a,a), b), and_gate(a, nand_gate(b,b)))\n",
    "### code end\n",
    "           \n",
    "test(xor_gate_1)"
   ]
  },
  {
   "cell_type": "code",
   "execution_count": null,
   "metadata": {},
   "outputs": [],
   "source": [
    "### code start\n",
    "def xor_gate_2(a, b):\n",
    "    return and_gate(or_gate(a, b), nand_gate(a, b))\n",
    "### code end\n",
    "\n",
    "test(xor_gate_2)"
   ]
  },
  {
   "cell_type": "markdown",
   "metadata": {},
   "source": [
    "<img src='images/logic03.png' width='30%'/>\n",
    "\n",
    "This image represents the second one. The inputs go to two separate gates: the top neuron is an OR gate, and the bottom is a NAND gate. The output of these gates get passed to an AND gate. "
   ]
  },
  {
   "cell_type": "markdown",
   "metadata": {},
   "source": [
    "Expected output:\n",
    "```\n",
    "0, 0: 0.0\n",
    "0, 1: 1.0\n",
    "1, 0: 1.0\n",
    "1, 1: 0.0\n",
    "```\n",
    "\n",
    "### Feedforward Networks as Matrix Computations\n",
    "---\n",
    "We discussed previously how the feed-forward computation of a neural network can be thought of as matrix calculations and activation functions. We will do some actual computations with matrices to see this in action.\n",
    "\n",
    "<img src='images/FF_NN.png' width='50%'/>"
   ]
  },
  {
   "cell_type": "markdown",
   "metadata": {},
   "source": [
    "### Exercise\n",
    "---\n",
    "Provided below are the following:\n",
    "\n",
    "- Three weight matrices `W_1`, `W_2` and `W_3` representing the weights in each layer.  The convention for these matrices is that each $W_{i,j}$ gives the weight from neuron $i$ in the previous (left) layer to neuron $j$ in the next (right) layer.  \n",
    "- A vector `x_in` representing a single input and a matrix `x_mat_in` representing 7 different inputs.\n",
    "- Two functions: `soft_max_vec` and `soft_max_mat` which apply the soft_max function to a single vector, and row-wise to a matrix.\n",
    "\n",
    "The goals for this exercise are:\n",
    "\n",
    "1. For input `x_in` calculate the inputs and outputs to each layer (assuming sigmoid activations for the middle two layers and soft_max output for the final layer.\n",
    "2. Write a function that does the entire neural network calculation for a single input\n",
    "3. Write a function that does the entire neural network calculation for a matrix of inputs, where each row is a single input.\n",
    "4. Test your functions on `x_in` and `x_mat_in`."
   ]
  },
  {
   "cell_type": "code",
   "execution_count": null,
   "metadata": {},
   "outputs": [],
   "source": [
    "W_1 = np.array([[2,-1,1,4],[-1,2,-3,1],[3,-2,-1,5]])\n",
    "W_2 = np.array([[3,1,-2,1],[-2,4,1,-4],[-1,-3,2,-5],[3,1,1,1]])\n",
    "W_3 = np.array([[-1,3,-2],[1,-1,-3],[3,-2,2],[1,2,1]])\n",
    "\n",
    "W_1"
   ]
  },
  {
   "cell_type": "code",
   "execution_count": null,
   "metadata": {},
   "outputs": [],
   "source": [
    "### code start\n",
    "x_in = np.array([.5,.8,.2])\n",
    "### code end\n",
    "\n",
    "x_in"
   ]
  },
  {
   "cell_type": "markdown",
   "metadata": {},
   "source": [
    "Expected output:\n",
    "```\n",
    "array([0.5, 0.8, 0.2])\n",
    "```"
   ]
  },
  {
   "cell_type": "code",
   "execution_count": null,
   "metadata": {},
   "outputs": [],
   "source": [
    "### code start\n",
    "x_mat_in = np.array([[.5,.8,.2],[.1,.9,.6],[.2,.2,.3],[.6,.1,.9],[.5,.5,.4],[.9,.1,.9],[.1,.8,.7]])\n",
    "### code end\n",
    "\n",
    "x_mat_in"
   ]
  },
  {
   "cell_type": "markdown",
   "metadata": {},
   "source": [
    "Expected output:\n",
    "```\n",
    "array([[0.5, 0.8, 0.2],\n",
    "       [0.1, 0.9, 0.6],\n",
    "       [0.2, 0.2, 0.3],\n",
    "       [0.6, 0.1, 0.9],\n",
    "       [0.5, 0.5, 0.4],\n",
    "       [0.9, 0.1, 0.9],\n",
    "       [0.1, 0.8, 0.7]])\n",
    "```"
   ]
  },
  {
   "cell_type": "code",
   "execution_count": null,
   "metadata": {},
   "outputs": [],
   "source": [
    "def soft_max_vec(vec):\n",
    "    return np.exp(vec)/(np.sum(np.exp(vec)))\n",
    "\n",
    "def soft_max_mat(mat):\n",
    "    return np.exp(mat)/(np.sum(np.exp(mat),axis=1).reshape(-1,1))"
   ]
  },
  {
   "cell_type": "markdown",
   "metadata": {
    "collapsed": true
   },
   "source": [
    "## Student to do the calculations below"
   ]
  },
  {
   "cell_type": "code",
   "execution_count": null,
   "metadata": {},
   "outputs": [],
   "source": [
    "# Vector\n",
    "\n",
    "### code start\n",
    "def vector_input(i,w1,w2,w3):\n",
    "    layer1 = sigmoid(np.dot(i,w1))\n",
    "    layer2 = sigmoid(np.dot(layer1,w2))\n",
    "    output = soft_max_vec(np.dot(layer2,w3))\n",
    "    return output\n",
    "### code end\n",
    "\n",
    "print(vector_input(x_in, W_1, W_2, W_3))"
   ]
  },
  {
   "cell_type": "markdown",
   "metadata": {},
   "source": [
    "Expected output:\n",
    "```\n",
    "[0.72780576 0.26927918 0.00291506]\n",
    "```"
   ]
  },
  {
   "cell_type": "code",
   "execution_count": null,
   "metadata": {},
   "outputs": [],
   "source": [
    "#multiple input\n",
    "def matrix_input(i,w1,w2,w3):\n",
    "    layer1 = sigmoid(np.dot(i,w1))\n",
    "    layer2 = sigmoid(np.dot(layer1,w2))\n",
    "    output = soft_max_mat(np.dot(layer2,w3))\n",
    "    return output\n",
    "\n",
    "print(matrix_input(x_mat_in,W_1,W_2,W_3))"
   ]
  },
  {
   "cell_type": "markdown",
   "metadata": {},
   "source": [
    "Expected output:\n",
    "```\n",
    "[[0.72780576 0.26927918 0.00291506]\n",
    " [0.62054212 0.37682531 0.00263257]\n",
    " [0.69267581 0.30361576 0.00370844]\n",
    " [0.36618794 0.63016955 0.00364252]\n",
    " [0.57199769 0.4251982  0.00280411]\n",
    " [0.38373781 0.61163804 0.00462415]\n",
    " [0.52510443 0.4725011  0.00239447]]\n",
    "```"
   ]
  },
  {
   "cell_type": "code",
   "execution_count": null,
   "metadata": {},
   "outputs": [],
   "source": []
  }
 ],
 "metadata": {
  "kernelspec": {
   "display_name": "dsai",
   "language": "python",
   "name": "python3"
  },
  "language_info": {
   "codemirror_mode": {
    "name": "ipython",
    "version": 3
   },
   "file_extension": ".py",
   "mimetype": "text/x-python",
   "name": "python",
   "nbconvert_exporter": "python",
   "pygments_lexer": "ipython3",
   "version": "3.10.8"
  },
  "widgets": {
   "state": {},
   "version": "1.1.2"
  }
 },
 "nbformat": 4,
 "nbformat_minor": 2
}
