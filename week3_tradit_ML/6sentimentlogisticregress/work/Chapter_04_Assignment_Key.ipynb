{
  "nbformat": 4,
  "nbformat_minor": 0,
  "metadata": {
    "colab": {
      "name": "Chapter-04_Assignment-Key.ipynb",
      "provenance": []
    },
    "kernelspec": {
      "name": "python3",
      "display_name": "Python 3"
    },
    "language_info": {
      "name": "python"
    }
  },
  "cells": [
    {
      "cell_type": "markdown",
      "source": [
        "# Chapter 04 Logistic Regression: Assignment\n",
        "\n"
      ],
      "metadata": {
        "id": "qR20j_FQeupr"
      }
    },
    {
      "cell_type": "markdown",
      "source": [
        "Following files need to be uploaded to the Colab environment first:\n",
        "- logreg_nouns.pkl (Logistic Regression Model)\n",
        "- train.csv (training data)\n",
        "- test.csv (test data)"
      ],
      "metadata": {
        "id": "wzsH6uZQgj_Y"
      }
    },
    {
      "cell_type": "markdown",
      "source": [
        "We first load the logistic regression model we have trained during the class, which uses nouns as features."
      ],
      "metadata": {
        "id": "seBCBwetfbng"
      }
    },
    {
      "cell_type": "code",
      "source": [
        "import pickle\n",
        "# Load from file\n",
        "with open(\"logreg_nouns.pkl\", 'rb') as file:\n",
        "    lr_nouns = pickle.load(file)\n",
        "    \n",
        "# Let's see what are the possible labels to predict (and in which order they are stored)\n",
        "print(lr_nouns.classes_)\n",
        "\n",
        "# We can get additional information about all the parameters used with LogReg model\n",
        "print(lr_nouns.get_params())"
      ],
      "metadata": {
        "colab": {
          "base_uri": "https://localhost:8080/"
        },
        "id": "HpmKGAd1fkoO",
        "outputId": "45e3e5d0-b580-4aca-cc57-047a5dbe918d"
      },
      "execution_count": 2,
      "outputs": [
        {
          "output_type": "stream",
          "name": "stdout",
          "text": [
            "['Red' 'Rose' 'White' 'unk']\n",
            "{'C': 1.0, 'class_weight': None, 'dual': False, 'fit_intercept': True, 'intercept_scaling': 1, 'l1_ratio': None, 'max_iter': 100, 'multi_class': 'auto', 'n_jobs': None, 'penalty': 'l2', 'random_state': None, 'solver': 'lbfgs', 'tol': 0.0001, 'verbose': 0, 'warm_start': False}\n"
          ]
        }
      ]
    },
    {
      "cell_type": "markdown",
      "source": [
        "Also, we create the list of nouns (unique, lemmatised) by processing the training data."
      ],
      "metadata": {
        "id": "fO9iLtHkgNbN"
      }
    },
    {
      "cell_type": "code",
      "source": [
        "import pandas\n",
        "\n",
        "# Let's load the training data from a csv file\n",
        "train_set = pandas.read_csv('./train.csv', sep='\\t', encoding='utf-8')\n",
        "test_set = pandas.read_csv('./test.csv', sep='\\t', encoding='utf-8')\n",
        "test_set"
      ],
      "metadata": {
        "colab": {
          "base_uri": "https://localhost:8080/",
          "height": 1000
        },
        "id": "gWOWH8lcgaOC",
        "outputId": "44cc397d-7988-43b7-c432-17522402a0af"
      },
      "execution_count": 5,
      "outputs": [
        {
          "output_type": "execute_result",
          "data": {
            "text/html": [
              "\n",
              "  <div id=\"df-d2e0f3fd-1ea8-4071-b011-4bcf7384ca12\">\n",
              "    <div class=\"colab-df-container\">\n",
              "      <div>\n",
              "<style scoped>\n",
              "    .dataframe tbody tr th:only-of-type {\n",
              "        vertical-align: middle;\n",
              "    }\n",
              "\n",
              "    .dataframe tbody tr th {\n",
              "        vertical-align: top;\n",
              "    }\n",
              "\n",
              "    .dataframe thead th {\n",
              "        text-align: right;\n",
              "    }\n",
              "</style>\n",
              "<table border=\"1\" class=\"dataframe\">\n",
              "  <thead>\n",
              "    <tr style=\"text-align: right;\">\n",
              "      <th></th>\n",
              "      <th>File name</th>\n",
              "      <th>URL</th>\n",
              "      <th>Color</th>\n",
              "      <th>Misc1</th>\n",
              "      <th>Misc2</th>\n",
              "      <th>Brand</th>\n",
              "      <th>Year</th>\n",
              "      <th>Price v1</th>\n",
              "      <th>Price v2</th>\n",
              "      <th>Grape type v1</th>\n",
              "      <th>...</th>\n",
              "      <th>Alcohol</th>\n",
              "      <th>Region</th>\n",
              "      <th>Country</th>\n",
              "      <th>Misc4</th>\n",
              "      <th>Score v1</th>\n",
              "      <th>Score v2</th>\n",
              "      <th>Reviewer</th>\n",
              "      <th>Review</th>\n",
              "      <th>Review date</th>\n",
              "      <th>Misc5</th>\n",
              "    </tr>\n",
              "  </thead>\n",
              "  <tbody>\n",
              "    <tr>\n",
              "      <th>0</th>\n",
              "      <td>agroargento-2004-timoleonte-red-sicilia.txt</td>\n",
              "      <td>http://buyingguide.winemag.com/catalog/agroarg...</td>\n",
              "      <td>Red</td>\n",
              "      <td>no</td>\n",
              "      <td>no</td>\n",
              "      <td>AgroArgento 2004 Timoleonte Red (Sicilia)</td>\n",
              "      <td>2004</td>\n",
              "      <td>unk</td>\n",
              "      <td>unk</td>\n",
              "      <td>red_blend</td>\n",
              "      <td>...</td>\n",
              "      <td>13.5%</td>\n",
              "      <td>Sicilia, Sicily &amp; Sardinia</td>\n",
              "      <td>Italy</td>\n",
              "      <td>unk</td>\n",
              "      <td>90</td>\n",
              "      <td>90</td>\n",
              "      <td>M.L.</td>\n",
              "      <td>Leather, spice, tobacco and tea emerge from th...</td>\n",
              "      <td>3/1/2009</td>\n",
              "      <td>unk</td>\n",
              "    </tr>\n",
              "    <tr>\n",
              "      <th>1</th>\n",
              "      <td>ceretto-2000-blange-italian-white-arneis-piedm...</td>\n",
              "      <td>http://buyingguide.winemag.com/catalog/ceretto...</td>\n",
              "      <td>White</td>\n",
              "      <td>no</td>\n",
              "      <td>no</td>\n",
              "      <td>Ceretto 2000 Blangé Arneis (Piedmont)</td>\n",
              "      <td>2000</td>\n",
              "      <td>30</td>\n",
              "      <td>$30</td>\n",
              "      <td>arneis_italian_white</td>\n",
              "      <td>...</td>\n",
              "      <td>12%</td>\n",
              "      <td>Piedmont</td>\n",
              "      <td>Italy</td>\n",
              "      <td>Moët Hennessy USA</td>\n",
              "      <td>87</td>\n",
              "      <td>87</td>\n",
              "      <td>D.T.</td>\n",
              "      <td>So pale that it’s almost colorless, the Blangé...</td>\n",
              "      <td>9/1/2001</td>\n",
              "      <td>unk</td>\n",
              "    </tr>\n",
              "    <tr>\n",
              "      <th>2</th>\n",
              "      <td>edna-valley-vineyard-1998-paragon-pinot-noir-c...</td>\n",
              "      <td>http://buyingguide.winemag.com/catalog/edna-va...</td>\n",
              "      <td>Red</td>\n",
              "      <td>no</td>\n",
              "      <td>no</td>\n",
              "      <td>Edna Valley Vineyard 1998 Paragon Pinot Noir (...</td>\n",
              "      <td>1998</td>\n",
              "      <td>19</td>\n",
              "      <td>$19</td>\n",
              "      <td>pinot_noir</td>\n",
              "      <td>...</td>\n",
              "      <td>14.2%</td>\n",
              "      <td>Edna Valley, Central Coast, California</td>\n",
              "      <td>US</td>\n",
              "      <td>unk</td>\n",
              "      <td>86</td>\n",
              "      <td>86</td>\n",
              "      <td>S.H.</td>\n",
              "      <td>Comes across on the earthy, herbal side, altho...</td>\n",
              "      <td>10/1/2000</td>\n",
              "      <td>unk</td>\n",
              "    </tr>\n",
              "    <tr>\n",
              "      <th>3</th>\n",
              "      <td>arnaldo-caprai-2011-grecante-italian-white-gre...</td>\n",
              "      <td>http://buyingguide.winemag.com/catalog/arnaldo...</td>\n",
              "      <td>White</td>\n",
              "      <td>no</td>\n",
              "      <td>no</td>\n",
              "      <td>Arnaldo Caprai 2011 Grecante Grechetto (Colli ...</td>\n",
              "      <td>2011</td>\n",
              "      <td>20</td>\n",
              "      <td>$20</td>\n",
              "      <td>grechetto_italian_white</td>\n",
              "      <td>...</td>\n",
              "      <td>13.5%</td>\n",
              "      <td>Colli Martani, Central Italy</td>\n",
              "      <td>Italy</td>\n",
              "      <td>Folio Fine Wine Partners</td>\n",
              "      <td>88</td>\n",
              "      <td>88</td>\n",
              "      <td>M.L.</td>\n",
              "      <td>What a wonderful wine to pair with spaghetti a...</td>\n",
              "      <td>10/1/2012</td>\n",
              "      <td>unk</td>\n",
              "    </tr>\n",
              "    <tr>\n",
              "      <th>4</th>\n",
              "      <td>cline-2003-ancient-vines-mourvedre-central-coa...</td>\n",
              "      <td>http://buyingguide.winemag.com/catalog/cline-2...</td>\n",
              "      <td>Red</td>\n",
              "      <td>no</td>\n",
              "      <td>no</td>\n",
              "      <td>Cline 2003 Ancient Vines Mourvèdre (Contra Cos...</td>\n",
              "      <td>2003</td>\n",
              "      <td>18</td>\n",
              "      <td>$18</td>\n",
              "      <td>mourvèdre</td>\n",
              "      <td>...</td>\n",
              "      <td>unk</td>\n",
              "      <td>Contra Costa County, Central Coast, California</td>\n",
              "      <td>US</td>\n",
              "      <td>unk</td>\n",
              "      <td>84</td>\n",
              "      <td>84</td>\n",
              "      <td>S.H.</td>\n",
              "      <td>What’s puzzling about this wine is why, given ...</td>\n",
              "      <td>4/1/2005</td>\n",
              "      <td>unk</td>\n",
              "    </tr>\n",
              "    <tr>\n",
              "      <th>...</th>\n",
              "      <td>...</td>\n",
              "      <td>...</td>\n",
              "      <td>...</td>\n",
              "      <td>...</td>\n",
              "      <td>...</td>\n",
              "      <td>...</td>\n",
              "      <td>...</td>\n",
              "      <td>...</td>\n",
              "      <td>...</td>\n",
              "      <td>...</td>\n",
              "      <td>...</td>\n",
              "      <td>...</td>\n",
              "      <td>...</td>\n",
              "      <td>...</td>\n",
              "      <td>...</td>\n",
              "      <td>...</td>\n",
              "      <td>...</td>\n",
              "      <td>...</td>\n",
              "      <td>...</td>\n",
              "      <td>...</td>\n",
              "      <td>...</td>\n",
              "    </tr>\n",
              "    <tr>\n",
              "      <th>995</th>\n",
              "      <td>lucien-albrecht-2005-cuvee-romanus-pinot-grigi...</td>\n",
              "      <td>http://buyingguide.winemag.com/catalog/lucien-...</td>\n",
              "      <td>White</td>\n",
              "      <td>no</td>\n",
              "      <td>no</td>\n",
              "      <td>Lucien Albrecht 2005 Cuvée Romanus Pinot Gris ...</td>\n",
              "      <td>2005</td>\n",
              "      <td>19</td>\n",
              "      <td>$19</td>\n",
              "      <td>pinot_gris</td>\n",
              "      <td>...</td>\n",
              "      <td>13%</td>\n",
              "      <td>Alsace</td>\n",
              "      <td>France</td>\n",
              "      <td>Pasternak Wine Imports</td>\n",
              "      <td>90</td>\n",
              "      <td>90</td>\n",
              "      <td>Joe Czerwinski</td>\n",
              "      <td>This medium-bodied, off-dry Pinot Gris feature...</td>\n",
              "      <td>7/1/2007</td>\n",
              "      <td>unk</td>\n",
              "    </tr>\n",
              "    <tr>\n",
              "      <th>996</th>\n",
              "      <td>brander-2005-au-naturel-sauvignon-blanc-centra...</td>\n",
              "      <td>http://buyingguide.winemag.com/catalog/brander...</td>\n",
              "      <td>White</td>\n",
              "      <td>no</td>\n",
              "      <td>no</td>\n",
              "      <td>Brander 2005 Au Naturel Sauvignon Blanc (Santa...</td>\n",
              "      <td>2005</td>\n",
              "      <td>30</td>\n",
              "      <td>$30</td>\n",
              "      <td>sauvignon_blanc</td>\n",
              "      <td>...</td>\n",
              "      <td>13.9%</td>\n",
              "      <td>Santa Ynez Valley, Central Coast, California</td>\n",
              "      <td>US</td>\n",
              "      <td>unk</td>\n",
              "      <td>93</td>\n",
              "      <td>93</td>\n",
              "      <td>S.H.</td>\n",
              "      <td>Brander’s stainless steel fermented Sauvignon ...</td>\n",
              "      <td>11/15/2006</td>\n",
              "      <td>unk</td>\n",
              "    </tr>\n",
              "    <tr>\n",
              "      <th>997</th>\n",
              "      <td>domaine-francois-schmitt-2010-pinot-blanc-alsa...</td>\n",
              "      <td>http://buyingguide.winemag.com/catalog/domaine...</td>\n",
              "      <td>White</td>\n",
              "      <td>no</td>\n",
              "      <td>no</td>\n",
              "      <td>Domaine François Schmitt 2010 Pinot Blanc (Als...</td>\n",
              "      <td>2010</td>\n",
              "      <td>unk</td>\n",
              "      <td>unk</td>\n",
              "      <td>pinot_blanc</td>\n",
              "      <td>...</td>\n",
              "      <td>12.5%</td>\n",
              "      <td>Alsace</td>\n",
              "      <td>France</td>\n",
              "      <td>Fruit of the Vines, Inc</td>\n",
              "      <td>86</td>\n",
              "      <td>86</td>\n",
              "      <td>Roger Voss</td>\n",
              "      <td>This ripe, honeyed wine is very rich and smoot...</td>\n",
              "      <td>12/31/2012</td>\n",
              "      <td>unk</td>\n",
              "    </tr>\n",
              "    <tr>\n",
              "      <th>998</th>\n",
              "      <td>sunce-vineyard-winery-2007-clone-337-bevill-ma...</td>\n",
              "      <td>http://buyingguide.winemag.com/catalog/sunce-v...</td>\n",
              "      <td>Red</td>\n",
              "      <td>no</td>\n",
              "      <td>no</td>\n",
              "      <td>Suncé Vineyard &amp; Winery 2007 Clone 337 Bevill-...</td>\n",
              "      <td>2007</td>\n",
              "      <td>50</td>\n",
              "      <td>$50</td>\n",
              "      <td>cabernet_sauvignon</td>\n",
              "      <td>...</td>\n",
              "      <td>14%</td>\n",
              "      <td>Alexander Valley, Sonoma, California</td>\n",
              "      <td>US</td>\n",
              "      <td>unk</td>\n",
              "      <td>86</td>\n",
              "      <td>86</td>\n",
              "      <td>S.H.</td>\n",
              "      <td>Soft and rather one-dimensional, this Cabernet...</td>\n",
              "      <td>11/1/2011</td>\n",
              "      <td>unk</td>\n",
              "    </tr>\n",
              "    <tr>\n",
              "      <th>999</th>\n",
              "      <td>lavelle-2008-pinot-grigio-gris-gris-willamette...</td>\n",
              "      <td>http://buyingguide.winemag.com/catalog/lavelle...</td>\n",
              "      <td>White</td>\n",
              "      <td>no</td>\n",
              "      <td>no</td>\n",
              "      <td>LaVelle 2008 Pinot Gris (Willamette Valley)</td>\n",
              "      <td>2008</td>\n",
              "      <td>18</td>\n",
              "      <td>$18</td>\n",
              "      <td>pinot_gris</td>\n",
              "      <td>...</td>\n",
              "      <td>unk</td>\n",
              "      <td>Willamette Valley, Oregon</td>\n",
              "      <td>US</td>\n",
              "      <td>unk</td>\n",
              "      <td>89</td>\n",
              "      <td>89</td>\n",
              "      <td>Paul Gregutt</td>\n",
              "      <td>A light, almost delicate wine, with pretty pea...</td>\n",
              "      <td>10/1/2010</td>\n",
              "      <td>unk</td>\n",
              "    </tr>\n",
              "  </tbody>\n",
              "</table>\n",
              "<p>1000 rows × 23 columns</p>\n",
              "</div>\n",
              "      <button class=\"colab-df-convert\" onclick=\"convertToInteractive('df-d2e0f3fd-1ea8-4071-b011-4bcf7384ca12')\"\n",
              "              title=\"Convert this dataframe to an interactive table.\"\n",
              "              style=\"display:none;\">\n",
              "        \n",
              "  <svg xmlns=\"http://www.w3.org/2000/svg\" height=\"24px\"viewBox=\"0 0 24 24\"\n",
              "       width=\"24px\">\n",
              "    <path d=\"M0 0h24v24H0V0z\" fill=\"none\"/>\n",
              "    <path d=\"M18.56 5.44l.94 2.06.94-2.06 2.06-.94-2.06-.94-.94-2.06-.94 2.06-2.06.94zm-11 1L8.5 8.5l.94-2.06 2.06-.94-2.06-.94L8.5 2.5l-.94 2.06-2.06.94zm10 10l.94 2.06.94-2.06 2.06-.94-2.06-.94-.94-2.06-.94 2.06-2.06.94z\"/><path d=\"M17.41 7.96l-1.37-1.37c-.4-.4-.92-.59-1.43-.59-.52 0-1.04.2-1.43.59L10.3 9.45l-7.72 7.72c-.78.78-.78 2.05 0 2.83L4 21.41c.39.39.9.59 1.41.59.51 0 1.02-.2 1.41-.59l7.78-7.78 2.81-2.81c.8-.78.8-2.07 0-2.86zM5.41 20L4 18.59l7.72-7.72 1.47 1.35L5.41 20z\"/>\n",
              "  </svg>\n",
              "      </button>\n",
              "      \n",
              "  <style>\n",
              "    .colab-df-container {\n",
              "      display:flex;\n",
              "      flex-wrap:wrap;\n",
              "      gap: 12px;\n",
              "    }\n",
              "\n",
              "    .colab-df-convert {\n",
              "      background-color: #E8F0FE;\n",
              "      border: none;\n",
              "      border-radius: 50%;\n",
              "      cursor: pointer;\n",
              "      display: none;\n",
              "      fill: #1967D2;\n",
              "      height: 32px;\n",
              "      padding: 0 0 0 0;\n",
              "      width: 32px;\n",
              "    }\n",
              "\n",
              "    .colab-df-convert:hover {\n",
              "      background-color: #E2EBFA;\n",
              "      box-shadow: 0px 1px 2px rgba(60, 64, 67, 0.3), 0px 1px 3px 1px rgba(60, 64, 67, 0.15);\n",
              "      fill: #174EA6;\n",
              "    }\n",
              "\n",
              "    [theme=dark] .colab-df-convert {\n",
              "      background-color: #3B4455;\n",
              "      fill: #D2E3FC;\n",
              "    }\n",
              "\n",
              "    [theme=dark] .colab-df-convert:hover {\n",
              "      background-color: #434B5C;\n",
              "      box-shadow: 0px 1px 3px 1px rgba(0, 0, 0, 0.15);\n",
              "      filter: drop-shadow(0px 1px 2px rgba(0, 0, 0, 0.3));\n",
              "      fill: #FFFFFF;\n",
              "    }\n",
              "  </style>\n",
              "\n",
              "      <script>\n",
              "        const buttonEl =\n",
              "          document.querySelector('#df-d2e0f3fd-1ea8-4071-b011-4bcf7384ca12 button.colab-df-convert');\n",
              "        buttonEl.style.display =\n",
              "          google.colab.kernel.accessAllowed ? 'block' : 'none';\n",
              "\n",
              "        async function convertToInteractive(key) {\n",
              "          const element = document.querySelector('#df-d2e0f3fd-1ea8-4071-b011-4bcf7384ca12');\n",
              "          const dataTable =\n",
              "            await google.colab.kernel.invokeFunction('convertToInteractive',\n",
              "                                                     [key], {});\n",
              "          if (!dataTable) return;\n",
              "\n",
              "          const docLinkHtml = 'Like what you see? Visit the ' +\n",
              "            '<a target=\"_blank\" href=https://colab.research.google.com/notebooks/data_table.ipynb>data table notebook</a>'\n",
              "            + ' to learn more about interactive tables.';\n",
              "          element.innerHTML = '';\n",
              "          dataTable['output_type'] = 'display_data';\n",
              "          await google.colab.output.renderOutput(dataTable, element);\n",
              "          const docLink = document.createElement('div');\n",
              "          docLink.innerHTML = docLinkHtml;\n",
              "          element.appendChild(docLink);\n",
              "        }\n",
              "      </script>\n",
              "    </div>\n",
              "  </div>\n",
              "  "
            ],
            "text/plain": [
              "                                             File name  \\\n",
              "0          agroargento-2004-timoleonte-red-sicilia.txt   \n",
              "1    ceretto-2000-blange-italian-white-arneis-piedm...   \n",
              "2    edna-valley-vineyard-1998-paragon-pinot-noir-c...   \n",
              "3    arnaldo-caprai-2011-grecante-italian-white-gre...   \n",
              "4    cline-2003-ancient-vines-mourvedre-central-coa...   \n",
              "..                                                 ...   \n",
              "995  lucien-albrecht-2005-cuvee-romanus-pinot-grigi...   \n",
              "996  brander-2005-au-naturel-sauvignon-blanc-centra...   \n",
              "997  domaine-francois-schmitt-2010-pinot-blanc-alsa...   \n",
              "998  sunce-vineyard-winery-2007-clone-337-bevill-ma...   \n",
              "999  lavelle-2008-pinot-grigio-gris-gris-willamette...   \n",
              "\n",
              "                                                   URL  Color Misc1 Misc2  \\\n",
              "0    http://buyingguide.winemag.com/catalog/agroarg...    Red    no    no   \n",
              "1    http://buyingguide.winemag.com/catalog/ceretto...  White    no    no   \n",
              "2    http://buyingguide.winemag.com/catalog/edna-va...    Red    no    no   \n",
              "3    http://buyingguide.winemag.com/catalog/arnaldo...  White    no    no   \n",
              "4    http://buyingguide.winemag.com/catalog/cline-2...    Red    no    no   \n",
              "..                                                 ...    ...   ...   ...   \n",
              "995  http://buyingguide.winemag.com/catalog/lucien-...  White    no    no   \n",
              "996  http://buyingguide.winemag.com/catalog/brander...  White    no    no   \n",
              "997  http://buyingguide.winemag.com/catalog/domaine...  White    no    no   \n",
              "998  http://buyingguide.winemag.com/catalog/sunce-v...    Red    no    no   \n",
              "999  http://buyingguide.winemag.com/catalog/lavelle...  White    no    no   \n",
              "\n",
              "                                                 Brand  Year Price v1  \\\n",
              "0            AgroArgento 2004 Timoleonte Red (Sicilia)  2004      unk   \n",
              "1                Ceretto 2000 Blangé Arneis (Piedmont)  2000       30   \n",
              "2    Edna Valley Vineyard 1998 Paragon Pinot Noir (...  1998       19   \n",
              "3    Arnaldo Caprai 2011 Grecante Grechetto (Colli ...  2011       20   \n",
              "4    Cline 2003 Ancient Vines Mourvèdre (Contra Cos...  2003       18   \n",
              "..                                                 ...   ...      ...   \n",
              "995  Lucien Albrecht 2005 Cuvée Romanus Pinot Gris ...  2005       19   \n",
              "996  Brander 2005 Au Naturel Sauvignon Blanc (Santa...  2005       30   \n",
              "997  Domaine François Schmitt 2010 Pinot Blanc (Als...  2010      unk   \n",
              "998  Suncé Vineyard & Winery 2007 Clone 337 Bevill-...  2007       50   \n",
              "999        LaVelle 2008 Pinot Gris (Willamette Valley)  2008       18   \n",
              "\n",
              "    Price v2            Grape type v1  ... Alcohol  \\\n",
              "0        unk                red_blend  ...  13.5%    \n",
              "1        $30     arneis_italian_white  ...    12%    \n",
              "2        $19               pinot_noir  ...  14.2%    \n",
              "3        $20  grechetto_italian_white  ...  13.5%    \n",
              "4        $18                mourvèdre  ...     unk   \n",
              "..       ...                      ...  ...     ...   \n",
              "995      $19               pinot_gris  ...    13%    \n",
              "996      $30          sauvignon_blanc  ...  13.9%    \n",
              "997      unk              pinot_blanc  ...  12.5%    \n",
              "998      $50       cabernet_sauvignon  ...    14%    \n",
              "999      $18               pinot_gris  ...     unk   \n",
              "\n",
              "                                             Region Country  \\\n",
              "0                        Sicilia, Sicily & Sardinia   Italy   \n",
              "1                                          Piedmont   Italy   \n",
              "2            Edna Valley, Central Coast, California      US   \n",
              "3                      Colli Martani, Central Italy   Italy   \n",
              "4    Contra Costa County, Central Coast, California      US   \n",
              "..                                              ...     ...   \n",
              "995                                          Alsace  France   \n",
              "996    Santa Ynez Valley, Central Coast, California      US   \n",
              "997                                          Alsace  France   \n",
              "998            Alexander Valley, Sonoma, California      US   \n",
              "999                       Willamette Valley, Oregon      US   \n",
              "\n",
              "                        Misc4 Score v1 Score v2        Reviewer  \\\n",
              "0                         unk       90       90            M.L.   \n",
              "1           Moët Hennessy USA       87       87            D.T.   \n",
              "2                         unk       86       86            S.H.   \n",
              "3    Folio Fine Wine Partners       88       88            M.L.   \n",
              "4                         unk       84       84            S.H.   \n",
              "..                        ...      ...      ...             ...   \n",
              "995    Pasternak Wine Imports       90       90  Joe Czerwinski   \n",
              "996                       unk       93       93            S.H.   \n",
              "997   Fruit of the Vines, Inc       86       86      Roger Voss   \n",
              "998                       unk       86       86            S.H.   \n",
              "999                       unk       89       89    Paul Gregutt   \n",
              "\n",
              "                                                Review  Review date Misc5  \n",
              "0    Leather, spice, tobacco and tea emerge from th...     3/1/2009   unk  \n",
              "1    So pale that it’s almost colorless, the Blangé...     9/1/2001   unk  \n",
              "2    Comes across on the earthy, herbal side, altho...    10/1/2000   unk  \n",
              "3    What a wonderful wine to pair with spaghetti a...    10/1/2012   unk  \n",
              "4    What’s puzzling about this wine is why, given ...     4/1/2005   unk  \n",
              "..                                                 ...          ...   ...  \n",
              "995  This medium-bodied, off-dry Pinot Gris feature...     7/1/2007   unk  \n",
              "996  Brander’s stainless steel fermented Sauvignon ...   11/15/2006   unk  \n",
              "997  This ripe, honeyed wine is very rich and smoot...   12/31/2012   unk  \n",
              "998  Soft and rather one-dimensional, this Cabernet...    11/1/2011   unk  \n",
              "999  A light, almost delicate wine, with pretty pea...    10/1/2010   unk  \n",
              "\n",
              "[1000 rows x 23 columns]"
            ]
          },
          "metadata": {},
          "execution_count": 5
        }
      ]
    },
    {
      "cell_type": "code",
      "source": [
        "# Let's extract only these two columns from the data \n",
        "train_reviews = train_set['Review'].to_list()\n",
        "train_colors = train_set['Color'].to_list()\n",
        "\n",
        "test_reviews = test_set['Review'].to_list()\n",
        "test_colors = test_set['Color'].to_list()\n"
      ],
      "metadata": {
        "id": "MXRfLqLWg04T"
      },
      "execution_count": 6,
      "outputs": []
    },
    {
      "cell_type": "code",
      "source": [
        "import spacy\n",
        "nlp = spacy.load('en_core_web_sm')\n",
        "\n",
        "# Process a text\n",
        "train_doc_reviews = nlp.pipe(train_reviews)\n",
        "\n",
        "list_noun_lemma = []\n",
        "\n",
        "for review in train_doc_reviews:\n",
        "    for token in review:\n",
        "        if token.pos_ == \"NOUN\":\n",
        "            # In this case, we will add the lemma of the noun to our list and not the full word\n",
        "            list_noun_lemma.append(token.lemma_)\n",
        "            \n",
        "\n",
        "# We are only interested in the list of unique nouns\n",
        "list_noun_lemma_unique = list(set(list_noun_lemma))\n",
        "\n",
        "# Let's print and see how many unique nouns we have\n",
        "print(len(list_noun_lemma_unique))\n",
        "print(list_noun_lemma_unique)"
      ],
      "metadata": {
        "colab": {
          "base_uri": "https://localhost:8080/"
        },
        "id": "URsY8kj_gMtL",
        "outputId": "d9be6171-fd1e-4ff3-c968-2e16a205db56"
      },
      "execution_count": 7,
      "outputs": [
        {
          "output_type": "stream",
          "name": "stdout",
          "text": [
            "4098\n",
            "['bouillon', 'blackberry', 'earth', 'ash', 'Grapey', 'punchless', 'whiskey', 'abv', 'awkwardness', 'imagination', 'depth', 'feel', 'edge', 'stiffer', 'campore', 'starring', 'avalanche', 'curd', 'pour', 'plot', 'note', 'load', 'presence', 'side', 'buttercream', 'melony', 'underscoring', 'pit', 'goldkap', 'affordability', 'dal', 'envelope', 'grapefuit', 'labeling', 'lifeless', 'roof', 'moleche', 'peach', 'father', 'swagger', 'numbing', 'dustiness', 'suave', 'refreshing', 'spit', 'cheer', 'transplant', 'increase', 'ctirus', 'garland', 'carafe', 'frame', 'ribbon', 'green', 'plantain', 'quality', 'smell', 'stripe', 'pastas', 'd’Alter', 'harmony', 'nuttiness', 'comment', 'boost', 'bois', 'ooze', 'parfait', 'meritage', 'standard', 'coating', 'cooking', 'opulence', 'reverberate', 'traditionalist', 'drama', 'volatility', 'percent', 'garni', 'ambition', 'reserve', 'crispy', 'chest', 'vise', 'soil', 'dunk', 'mouthcoating', 'screwcap', 'hammer', 'briefly', 'brunt', 'sorbet', 'breeze', 'familar', 'mark', 'childish', 'launch', 'woodsy', 'tilt', 'satin', 'curiosity', 'cru', 'period', 'guess', 'maderization', 'semidry', 'cushion', 'partnership', 'Simonsig', 'appetite', 'floor', 'wood', 'advance', 'checkpoint', 'tradition', 'institution', 'robe', 'budget', 'smidgen', 'y', 'fortification', 'sun', 'oaky', 'network', 'guest', 'mouthfeel', 'base', 'perspective', 'lightweight', 'enemy', 'interior', 'length', 'maraschino', 'dainty', 'picnic', 'tier', 'epitomize', 'overlying', 'avoid', 'exposure', 'nosing', 'hangtime', 'shard', 'heroine', 'while', 'local', 'range', 'pristine', 'mozzarella', 'welcome', 'bodied', 'decline', 'frontier', 'mellowness', 'blood', 'bruiser', 'alert', 'existence', 'spectrum', 'peel', 'stopper', 'appellation', 'soul', 'alla', 'pumpkin', 'tar', 'understanding', 'pricing', 'agility', 'property', 'rate', 'genre', 'tiredness', 'sawn', 'barebecue', 'truffle', 'contemporary', 'spirit', 'broiler', 'toastiness', 'reference', 'tautness', 'value', 'chute', 'review', 'pleasure', 'cue', 'overlay', 'line', 'now-2017', 'summit', 'smile', 'fork', 'hold', 'jumpy', 'tire', 'cherryskin', 'clay', 'looking', 'king', 'foothill', 'lie', 'foresty', 'now-2015', 'sulfury', 'balsamic', 'cologne', 'montage', 'baking', 'hor', 'second', 'triumph', 'middle', 'blower', 'push', 'cider', 'saddle', 'toothpaste', 'slight', 'lemongrass', 'housing', 'mignon', 'sync', 'round', 'overall', 'track', 'fashion', 'specificity', 'view', 'wisteria', 'extreme', 'vegetativeness', 'pinotage', 'prestige', 'butt', 'kickboxer', 'penfold', 'age', 'zesty', 'ambassador', 'echelon', 'devotion', 'amplifie', 'coin', 'peninsula', 'call', 'quinta', 'friendliness', 'display', 'pillow', 'aim', 'clonal', 'finale', 'caramel', 'tech', 'possibility', 'bliss', 'paradox', 'guarantee', 'verve', 'boom', 'frutti', 'pick', 'planeta', 'south', 'clothing', 'peer', 'factor', 'dazzle', 'notice', 'woody', 'flirt', 'tangelo', 'pousadas', 'appreciation', 'lyin', 'couple', 'dog', 'bank', 'awkward', 'colleague', 'noodle', 'coconut', 'ray', 'air', 'linearity', 'limestone', 'respect', 'contradiction', 'weaving', 'floral', 'piercing', 'applealong', 'cry', 'price', 'padded', 'shopper', 'cayenne', 'négociant', 'fiery', 'reserva', 'translucence', 'bay', 'ditto', 'melt', 'pancetta', 'segue', 'citrus', 'pastry', 'domination', 'champagne', 'raisin', 'sweetie', 'fruition', 'poise', 'breath', 'humus', 'caution', 'achievement', 'court', 'red-', 'department', 'jelly', 'pretension', 'nobilo', 'roughness', 'preference', 'puff', 'bream', 'brassy', 'pinch', 'paradigm', 'whirl', 'fig-', 'liver', 'gratification', 'economy', 'lean', 'marzipan', 'pleasurability', 'distinctiveness', 'stemmy', 'designation', 'sweetest', 'accessibility', 'splendid', 'compliment', 'granular', 'elevation', 'outlier', 'styling', 'bistro', 'liquidity', 'roller', 'reed', 'subregion', 'yesterday', 'integration', 'candy', 'back', 'roll', 'city', 'mouthfel', 'friend', 'papayas', 'forepalate', 'neighborhood', 'cabernet', 'philosophy', 'tobacco', 'gingery', 'gewürztraminer', 'passionfruit', 'downside', 'midterm', 'mint', 'lighter', 'vongole', 'allspice', 'poof', 'shop', 'shame', 'coat', 'latter', 'tsunami', 'front', 'treacly', 'claim', 'prisoner', 'thud', 'braise', 'posture', 'supersweet', 'hiding', 'dessert', 'mussel', 'blackberrrie', 'veal', 'check', 'rust', 'tap', 'discernment', 'preconception', 'workday', 'midpalate', 'intensity', 'granite', 'reviewer', 'pudding', 'cuvée', 'cleansing', 'cellarer', 'grander', 'challenging', 'attack', 'tapioca', 'map', 'radar', 'sea', 'topnote', 'offer', 'mâcon', 'burlap', 'rule', 'colonist', 'pith', 'impact', 'care', 'tuna', 'fat', 'origin', 'laser', 'midnight', 'profit', 'concise', 'southwest', 'pace', 'entity', 'bear', 'skin', 'flabbby', 'collector', 'wait', 'bet', 'twist', 'beer', 'balance', 'wintergreen', 'sleekness', 'pleasant', 'yogurt', 'thumb', 'hollow', 'jacket', 'contrary', 'acicity', 'aloofness', 'superfruity', 'cast', 'maple', 'approach', 'cereal', 'finesse', 'box', 'p', 'normale', 'growth', 'sniff', 'acreage', 'mustard', 'ruby', 'fragrant', 'beginner', 'leave', 'gooseberry', 'hue', 'bull', 'opaque', 'elderflower', 'sauce', 'cusp', 'cinnamon', 'clarity', 'camping', 'menu', 'fence', 'clipping', 'monopole', 'litt', 'cooling', 'saline', 'master', 'palest', 'donut', 'vinegar', 'capsicum', 'float', 'camp', 'kabinett', 'auslese', 'redwood', 'bode', 'liveliness', 'charcoal', 'branding', 'cream', 'cushiony', 'riper', 'mainstream', 'scent', 'draw', 'walnut', 'autumn', 'brine', 'rosso', 'ride', 'munchie', 'experience', 'knee', 'grown', 'lunch', 'hardwood', 'type', 'bomber', 'stiletto', 'well', 'sum', 'über', 'ton', 'leftover', 'now–2018', 'berry', 'tipicity', 'inning', 'cleanser', 'consultancy', 'coffeebean', 'sort', 'amp', 'overload', 'testifie', 'redcurrant', 'l', 'mot', 'blanc', 'acidification', 'excel', 'fermenting', 'owner', 'beef', 'juicy', 'bishop', 'resemblance', 'demerit', 'bone', 'now–2004', 'enthusiast', 'comparablebottle', 'representation', 'answer', 'acdity', 'anagram', 'pipeline', 'ashtray', 'servant', 'stalkiness', 'appetizer', 'briny', 'strung', 'sawdust', 'echo', 'strip', 'helm', 'landscape', 'd’asti', 'glimmer', 'paint', 'tweak', 'vintner', 'gap', 'crystalline', 'destine', 'distillation', 'pineapple', 'contest', 'pedestrian', 'tannin', 'user', 'harvest', '‚', 'stirring', 'purplish', 'cacaphony', 'leathery', 'caper', 'kickoff', 'cluster', 'gin', 'juxtaposition', 'usual', 'button', 'card', 'charry', 'cidery', 'scratchiness', 'pioneer', 'cuddle', 'portion', 'traction', 'stainless', 'fatness', 'exception', 'crystal', 'trail', 'puréed', 'apogee', 'brush', 'wildness', 'scad', 'fortress', 'distributor', 'morph', 'froth', 'perricone', 'riserva', 'hyacinth', 'pricey', 'cadence', 'affinity', 'misprint', 'streak', 'luminosity', 'screw', 'tanninc', 'distance', 'ease', 'lagar', 'pungent', 'spring', 'basis', 'surface', '99', 'swirling', 'mane', 'advocate', 'over', 'fistful', 'juniper', 'easy', 'sight', 'empire', 'epitome', 'endnote', 'salsa', 'casein', 'eschew', 'flavoring', 'context', 'garnish', 'dab', 'sinewy', 'octane', 'success', 'fragrance', 'asperity', 'zin', 'youngster', 'hefster', 'land', 'dot', 'restaurant', 'curranty', 'lollipop', 'mulberry', 'litter', 'hair', 'flowering', 'category', 'pommelo', 'wafer', 'drop', 'seduction', 'exuberance', 'radiator', 'game', 'curtain', 'strength', 'fennel', 'preserve', 'criticism', 'Silky', 'downfall', 'handle', 'minerality', 'racy', 'toastiest', 'dip', 'battering', 'straightening', 'afternoon', 'foursight', 'fleshiness', 'rank', 'diffuse', 'haunting', 'vibrancy', 'relationship', 'signature', 'exclusive', 'pervade', 'quotient', 'news', 'find', 'porcini', 'predominance', 'iits', 'spade', 'straightahead', 'winery', 'ball', 'companion', 'whallop', 'tension', 'brew', 'stoniness', 'singe', 'camera', 'version', 'panoply', 'tender', 'northeast', 'effort', 'newspaper', 'sémillon', 'perkiness', 'scorer', 'prickle', 'estézargue', 'rib', 'rear', 'excellence', 'citru', 'throwback', 'diminution', 'good', 'train', 'parade', 'spider', 'flirty', 'fusion', 'trade', 'mirabelle', 'play', 'split', 'subtlety', 'transition', 'laughing', 'perfumey', 'confirmation', 'architecture', 'supermaturity', 'legend', 'fizz', 'foliage', 'briary', 'secure', 'dough', 'fruitiness', 'gran', 'doldrums', 'charcuterie', 'banana', 'poet', 'ruggedness', 'barrel', 'milk', 'wildfire', 'grit', 'dark', 'ballpark', 'span', 'mid-2010', 'purchase', 'woodiness', 'composition', 'landmark', 'minerally', 'plastic', 'outer', 'ripe', 'apology', 'tablet', 'coincidental', 'dose', 'piney', 'buzz', 'modern', 'idea', 'override', 'wtih', 'slatey', 'soapiness', 'puckering', 'truckload', 'brick', 'blind', 'foam', 'outset', 'grace', 'enticing', 'talc', 'nutmeg', 'grabbing', 'driven-', 'realm', 'footing', 'build', 'feisty', 'specialist', 'scour', 'coconutty', 'fleet', 'grove', 'glycerol', 'cerauolo', 'acciaiolo', 'mound', 'paper', 'guy', 'finish', 'sauerkraut', 'whack', 'exuberant', 'heirloom', 'class', 'darkness', 'sensibility', 'pitch', 'public', 'material', 'performance', 'dusting', 'pitfall', 'garnering', 'scrub', 'tha', 'grapeskin', 'enhance', 'clean', 'beast', 'breeding', 'rhône', 'fruitcake', 'aggressiveness', 'rosehip', 'meld', 'pack', 'linseed', 'cedary', 'ethereal', 'retreat', 'cava', 'coho', 'casserole', 'now–2011', 'full-', 'driftwood', 'menage', 'seller', 'cradle', 'bush', 'bore', 'fifth', 'latex', 'pruney', 'platter', 'pickley', 'norm', 'zone', 'cedar', 'flier', 'equation', 'area', 'tempura', 'enlargement', 'rife', 'sautéed', 'pillowy', 'hunting', 'week', 'viticulture', 'mantis', 'hardness', 'diet', 'building', 'consumer', 'essense', 'crostini', 'flashiness', 'béchamel', 'granola', 'crush', 'muscle', 'grade', 'grab', 'chop', 'cheesy', 'explode', 'fairway', 'oodle', 'odor', 'patrimony', 'editor', 'exterior', 'hallmark', 'spray', 'present', 'brushstroke', 'malo', 'assault', 'chalkiness', 'redberry', 'briar', 'connoisseur', 'claret', 'method', 'venison', 'forefront', 'tannery', 'combination', 'z', 'grüner', 'perlage', 'noir', 'hang', '1970', 'scratch', 'bark', 'grinding', 'station', 'apple', 'web', 'go', 'proposition', 'toughness', 'beg', 'breadth', 'total', 'mulch', 'downslope', 'drying', 'honey', 'stiff', 'sweaty', 'loin', 'precision', 'blast', 'pyrazine', 'barbecue', 'compote', 'stash', 'hilltop', 'driving', 'lemon', 'window', 'grill', 'cuisine', 'supple', 'section', 'bucket', 'Sangiovese', 'honeysuckle', 'cat', 'trilogy', 'fraction', 'nail', 'capsule', 'fit', 'château', 'bee', 'luxury', 'wrapping', 'rhubarb', 'nettle', 'vegetal', 'appealing', 'creamsicle', 'lightness', 'nuance', 'thistle', 'picture', 'sharpness', 'greeness', 'knockout', 'proceed', 'event', 'ravishing', 'low-', 'instability', 'della', 'show', 'critic', 'score', 'great', 'feneel', 'abound', 'backdrop', 'firmness', 'meal', 'culture', 'trouble', 'string', 'acetone', 'quibble', 'cave', 'comfort', 'merdy', 'salumi', 'leanness', 'voluptuousness', 'partner', 'pinwheel', 'beet', 'apple-', 'thoroughbred', 'grapeball', 'gem', 'gravel', 'witha', 'sheen', 'porch', 'cohort', 'breathe', 'high', 'mace', 'clumsiness', 'crescendo', 'lace', 'member', 'strata', 'crisply', 'nature', 'construction', 'foofarol', 'zap', 'gingerbread', 'current', 'carrot', 'suggestion', 'toffee', 'young-', 'dryness', 'actor', 'scouring', 'home', 'well—10', 'slider', 'yeasty', 'pronunciation', 'pedigreed', 'lemondrop', 'waft', 'plasticy', 'mother', 'interwoven', 'name', 'ashe', 'precede', 'bordeaux', 'silage', 'dell’abate', 'lee', 'quaffer', 'yearling', 'contrast', 'penetrating', 'lasting', 'ammonia', 'femininity', 'vein', 'hickory', 'synthesis', 'in', 'aromatic', 'treebark', 'gaga', 'consisting', 'scale', 'leafy', 'perception', 'attribute', 'month', 'asparagus', 'rawness', 'bubbly', 'potsticker', 'park', 'backside', 'sprit', 'cardamom', 'coriander', 'health', 'tomatillo', 'calcium', 'beach', 'art', 'horse', 'inside', 'dilute', 'anise-', 'target', 'coppery', 'scrio', 'mind', 'leafiness', 'maintaining', 'washy', 'clove', 'gloss', 'maturity', 'thickness', 'bruising', 'combos', 'strain', 'determination', 'smelling', 'bar', 'grip', 'convey', 'charm', 'tag', 'versatile', 'development', 'choice', 'ex', 'tastebud', 'copper', 'essential', 'handful', 'road', 'wheaty', 'future', 'flamingo', 'acorn', 'curry', 'palette', 'foursquare', 'compel', 'effect', 'scotch', 'tempt', 'tealeaf', 'postbottling', 'quartz', 'beachside', 'frill', 'rescue', 'heavy', 'softening', 'flyweight', 'mountain', 'award', 'modicum', 'decay', 'sheet', 'beefsteak', 'incense', 'grape', 'parent', 'hankering', 'ripple', 'versatility', 'tipper', 'qualifier', 'make', 'underripeness', 'heat', 'outside', 'wrap', 'hill', 'excess', 'similarity', 'presentation', 'introduction', 'mustardy', 'dense', 'austerity', 'statement', 'cake', 'goodness', 'groove', 'outlook', 'tour', 'cheesiness', 'peppery', 'dish', 'persistency', 'mountainy', 'control', 'tribute', 'pointy', 'climat', 'decanting', 'bitterness', 'program', 'stead', 'jaw', 'chalky', 'scanty', 'field', 'right', 'spot', 'oyster', 'ripening', 'tinge', 'tune', 'drinking', 'adornment', 'sensation', 'premise', 'pondering', 'bag', 'channel', 'eiswein', 'framing', 'form', 'miner', 'pile', 'opinion', 'tapa', 'subside', 'gimmick', 'disposition', 'ending', 'alfalfa', 'smorgasbord', 'fade', 'boar', 'problem', 'longterm', 'artisan', 'opener', 'diversity', 'welchriesling', '’s', 'comeback', 'issue', 'one', 'example', 'digestivo', 'attempt', 'mole', 'support', '1960', 'supremo', 'do', 'lightning', 'adult', 'law', 'farmland', 'acidic', 'musky', 'solo', 'dole', 'wonï¿½t', 'crop', 'dragon', 'enology', 'mediocrity', 'spite', 'ticket', 'softness', 'bulk', 'broadness', 'herbs', 'appeal', 'tarter', 'percentage', 'sheep', 'extraction', 'sauteed', 'history', 'saffron', 'sophistication', 'sirloin', 'gripping', 'kitchen', 'pea', 'soybean', 'ferment', 'blanket', 'concentratio', 'opening', 'wallop', 'essence', 'pain', 'canapés', 'occurence', 'equivalent', 'afternon', 'evolution', 'steal', 'luncheon', 'schist', 'myriad', 'flourish', 'herb', 'treacle', 'fillet', 'orange', 'sardine', 'scream', 'skirt', 'cuvee', 'tawnys', 'closedness', 'phase', 'curve', 'suede', 'heap', 'term', 'g', 'drizzle', 'underperformer', 'sparkler', 'typicity', 'brimming', 'upswing', 'departure', 'wreath', 'dovecote', 'beneficiary', 'none', 'minerailty', 'generosity', 'effortthat', 'enjoyment', 'wallet', 'wedding', 'drummer', 'Málaga', 'tangle', 'register', 'duck', 'masterpiece', 'cracker', 'trout', 'snack', 'choca', 'bunch', 'sprinkle', 'petal', 'unison', 'winemaking', 'jolt', 'saltiness', 'swathe', 'club', 'work', 'graphite', 'superlative', 'interpretation', 'fridge', 'consumption', 'camouflage', 'root', 'mouthful', 'meatiness', 'mouhtfeel', 'doughnut', 'body', 'aesthetic', 'malty', 'element', 'sparkling', 'meatloaf', 'calling', 'twang', 'fare', 'demand', 'job', 'now–2022', 'veteran', 'strive', 'offset', 'benchmark', 'backup', 'corner', 'holiday', 'legume', 'monster', 'highway', 'glaze', 'peavine', 'savennière', 'salmon', 'pricy', 'oblivion', 'cooler', 'shelf', 'collection', 'shiraz', 'resolve', 'elixir', 'emphasis', 'classic', 'foot', 'thrust', 'grainy', 'party', 'saturation', 'blendo', 'segment', 'bearer', 'desert', 'complication', 'plethora', 'semisecco', 'distraction', 'molasse', 'flatland', 'cedarwood', 'grass', 'cranberry', 'challenge', 'lumber', 'kin', 'host', 'bonne', 'chillier', 'tongue', 'chalkboard', 'reticence', 'undertow', 'lacy', 'vitality', 'purpose', 'cola', 'settle', 'acidy', 'subzone', 'roasty', 'blackcurrant', 'savory', 'dosage', 'embellishment', 'toasty', 'hedgerow', 'balsam', 'bresaola', 'saccharine', 'boysenberry', 'foamy', 'parcel', 'underripe', 'splendor', 'longtime', 'syrah', 'trend', 'fire', 'complexity', 'minute', 'blossomy', 'enchiladas', 'rush', 'condiment', 'suspect', 'prey', 'homeland', 'mousse', 'tangy', 'trick', 'lbackberry', 'samosa', 'sulfuric', 'church', 'ore', 'arise', 'preface', 'tropical', 'medicine', 'authenticity', 'chêvre', 'oaking', 'rating', 'mouthfilling', 'spicy', 'no', 'custard', 'sommelier', 'system', 'mixture', 'technique', 'brown', 'wayward', 'adjective', 'stemminess', 'paté', 'brownish', 'anniversary', 'making', 'granule', 'grigio', 'currant', 'priest', 'proffer', 'spin', 'professor', 'ounce', 'highlight', 'nut', 'jasmine', 'taster', 'upfront', 'punch', 'raisiny', 'platform', 'chocolatey', 'lessen', 'outcome', 'grid', 'struture', 'number', 'measure', 'white', 'status', 'gust', 'parameter', 'shade', 'pat', 'tube', 'transparency', 'raspiness', 'torrontés', 'effervescence', 'smooth', 'asphalt', 'pucker', 'lead', 'jackhammer', 'kid', 'scallop', 'petrol', 'solera', 'aftertaste', 'buttress', 'tonight', 'severity', 'state', 'match', 'salt', 'specialty', 'combo', 'wire', 'masculinity', 'airing', 'manure', 'refreshment', 'estate', 'standout', 'sorte', 'friut', 'beaver', 'vintage', 'herbed', 'cheddar', 'kingdom', 'aginf', 'decade', '-', 'concern', 'garlic', 'demeanor', 'bodega', 'rendition', 'citron', 'sucrosity', 'league', 'waxy', 'mealy', 'lily', 'spotlight', 'red', 'description', 'sandalwood', 'toll', 'verbena', 'subtext', 'predinner', 'here––firm', 'lobster', 'advancement', 'starching', 'meat', 'purée', 'recall', 'expansion', 'minty', 'stiffness', 'fort', 'lattice', 'fringe', 'premier', 'oxygen', 'sultana', 'oak', 'cylinder', 'stretch', 'domaine', 'ripasso', 'dancer', 'light', 'gille', 'terroir', 'focus', 'cookie', 'fajita', 'alcohol', 'dazzling', 'chalk', 'fig', 'tang', 'grenache', 'murmur', 'fuss', 'zip', 'voltage', 'paler', 'pasta', 'metal', 'hip', 'undercurrent', 'store', 'shank', 'cheeseburger', 'flower', 'remover', 'chunky', 'array', 'tad', 'territory', 'lumberjack', 'dozen', 'now–2014', 'gun', 'hothouse', 'off', 'cod', 'confirm', 'grabber', 'superpremium', 'breadfruit', 'designate', 'pn', 'spearmint', 'livraie', 'plusher', 'stuff', 'objection', 'herbalness', 'splash', 'bomb', 'sunset', 'pairing', 'tomatoey', 'fail', 'beautuful', 'spaghetti', 'refill', 'notion', 'fist', 'mintiness', 'deficiency', 'creosote', 'degradation', 'beeswax', 'rolling', 'goofy', 'simple', 'tandoori', 'penne', 'variety', 'movement', 'ratio', 'filing', 'morello', 'fuel', 'sap', 'chew', 'plumpness', 'grandeur', 'lacticity', 'pear', 'winner', 'soot', 'interest', 'velour', 'remainder', 'burn', 'lime', 'crowd', 'cranberryish', 'refinement', 'farm', 'article', 'concrete', 'mos', 'fragility', 'scheme', 'bevy', 'everyday', 'silkiness', 'rapsberrie', 'resistance', 'take', 'figure', 'dinner', 'haul', 'spiciness', 'panelist', 'mocha', 'function', 'time', 'emmolo', 'thought', 'kaffir', 'jaggedness', 'bergamot', 'proportionate', 'zucchini', 'end', 'circumstance', 'fruity', 'phenomenon', 'reflection', 'flow', 'Now–2014', 'mar', 'difference', 'spinach', 'upperlip', 'craze', 'bottling', 'cotton', 'add', 'battle', 'bundle', 'stonefruit', 'chink', 'tawnie', 'crispness', 'nerve', 'liking', 'geranium', 'outperform', 'vacation', 'perfumy', 'pungency', 'descendant', 'announcement', 'quince', 'fortified', 'evidence', 'co', 'mesh', 'baseman', 'consultant', 'skill', 'tumble', 'mile', 'jump', 'situation', 'eater', 'bing', 'floodgate', 'heaping', 'brother', 'leapt', 'sphere', 'discreet', 'insist', 'addition', 'movie', 'erupt', 'burger', 'instance', 'trap', 'overtone', 'analysis', 'hitter', 'fresia', 'figgin', 'risk', 'innovation', 'width', 'citric', 'mixer', 'burly', 'meet', 'mediocre', 'purple', 'velvet', 'teriyaki', 'arm', 'chord', 'exhibit', 'begining', 'sulfur', 'past', 'clampy', 'ballet', 'spice', 'toastier', 'supreme', 'drinkability', 'glamor', 'sympathy', 'wisp', 'pg', 'aperitif', 'carton', 'village', 'treasure', 'Dry', 'foundation', 'dillweed', 'clam', 'butter', 'grain', 'worthiness', 'freight', 'cutting', 'purist', 'leader', 'taunting', 'toast', 'star', 'thinness', 'yetsomewhat', 'test', 'shy', 'case', 'bouncy', 'vivacity', 'fish', 'pebble', 'divot', 'gaminess', 'tease', 'pâté', 'toothpick', 'hotel', 'memory', 'applesauce', 'madeira', 'shale', 'succulent', 'succeed', 'primus', 'deliciousness', 'funkiness', 'drawback', 'cocktail', 'crisper', 'worldy', 'shape', 'soy', 'serving', 'expert', 'ruben', 'custardy', 'tip', 'l’amore', 'pithy', 'pulp', 'garrigue', 'clementine', 'progress', 'muscularity', 'abyss', 'contour', 'ness', 'water', 'damper', 'animal', 'impress', 'flinty', 'dictionary', 'synergy', 'sb', 'crème', 'branch', 'op', 'doldrum', 'jalapeño', 'undergird', 'swimming', 'conclusion', 'argument', 'cube', 'viscosity', 'inclusion', 'filigree', 'nucleus', 'hat', 'island', 'smother', 'sticker', 'scratchy', 'rose', 'cran', 'qualm', 'redolent', 'difficulty', 'crack', 'phenolic', 'treatment', 'sulfite', 'cuttlefish', 'characterize', 'balancing', 'silkier', 'understatement', 'inexpensive', 'rosemary', 'precipice', 'pig', 'rock', 'guava', 'sandpaper', 'gulp', 'plateau', 'sbs', 'opt', 'tin', 'detail', 'team', 'intrigue', 'saignée', 'riot', 'exceptionnel', 'closing', 'pinpoint', 'supply', 'malolactic', 'woman', 'demi', 'drinker', 'power', 'pulse', 'ability', 'complexly', 'sappy', 'jumble', 'cabinet', 'charity', 'mango', 'dairy', 'consensus', 'ensemble', 'ocean', 'sense', 'overt', 'primavera', 'ripeness', 'barbie', 'multivitamin', 'petrichor', 'fore', 'crusty', 'mag', 'mistelle', 'variation', 'use', 'room', 'homerun', 'browning', 'insouciance', 'greener', 'supermarket', 'temperature', 'miss', 'maturation', 'denser', 'pine', 'aplomb', 'hew', 'freeze', 'timber', 'progression', 'brunch', 'ageability', 'cocoon', 'excitement', 'mastery', 'gumdrop', 'peak', 'orchard', 'fermentation', 'woodspice', 'pork', 'designer', 'lake', 'quandary', 'mass', 'wooly', 'heavyweight', 'correctness', 'dimensionally', 'spicebox', 'chewy', 'grittiness', 'discovery', 'façade', 'stream', 'bolder', 'altitude', 'raciness', 'jammy', 'blendwise', 'process', 'chemical', 'fanciness', 'embroidery', 'fowl', 'potpourri', 'greeting', 'dirt', 'elbow', 'loam', 'glove', 'scone', 'pilgrim', 'porty', 'consideration', 'undertone', 'miracle', '%', 'keeper', 'dusty', 'fillip', 'raisining', 'way', 'door', 'opulent', 'fanatic', 'saison', 'stone', 'stick', 'tan', 'day', 'mid-2003', 'chapel', 'grounding', 'valley', 'suffice', 'chief', 'medium', 'finger', 'clock', 'possibilite', 'presage', 'corbière', 'trattoria', 'size', 'brand', '2010', 'jamminess', 'Alberdi', 'olive', 'knack', 'eye', 'galore', 'man', 'whiff', 'flabby', 'smoothness', 'leesy', 'cause', 'decant', 'wake', 'shuffle', 'quintessence', 'taut', 'northwest', 'year', 'venture', 'generation', 'north', 'linear', 'need', 'cabbage', 'vineyard', 'stalk', 'machine', 'cousin', 'feed', 'compensate', 'big', 'aciidty', 'pot', 'billing', 'tartness', 'grandfather', 'fantail', 'steep', 'pride', 'crab', 'tanin', 'suit', 'justice', 'fluke', 'mill', '’', 'nobility', 'sparkle', 'par', 'umami', 'manapricot', 'chamomile', 'child', 'unripeness', 'immaturity', 'brix', 'fruitball', 'lashing', 'hulking', 'exploration', 'summer', 'release', 'fun', 'shell', 'newcomer', 'smoothie', 'application', 'sting', 'importance', 'blush', 'corn', 'stir', 'foil', 'lavender', 'drinknow', 'now–2006', 'lieu', 'fine', 'tightness', 'counterbalance', 'rosato', 'night', 'maceration', 'style', 'sweeter', 'testament', 'intimation', 'angel', 'harbor', 'egg', 'mileage', 'lemonade', 'vapid', 'express', 'gooey', 'classé', 'Danieli', 'perfectionist', 'plum', 'coaster', 'sock', 'swirl', 'flare', 'gluey', 'creamer', 'd’alsace', 'garnet', 'cheek', 'cab', 'butteriness', 'quintas', 'reason', 'funk', 'weekend', 'iike', 'balloon', 'blonde', 'brass', 'soice', 'northern', 'spark', 'mishmash', 'overdeliver', 'maximum', 'oceanic', 'tilting', 'visit', 'tonneaux', 'tone', 'dilution', 'smack', 'recommendation', 'expression', 'cucumber', 'join', 'butterscotch', 'underworld', 'stand', 'lift', 'lychee', 'husband', 'syrupy', 'wisdom', 'celebrity', 'openness', 'gravelly', 'ultrasimple', 'trio', 'humor', 'ï¿½seasoningï¿½', 'dynasty', 'citrusy', 'cocoa', 'tarragon', 'rice', 'century', 'talent', 'illustration', 'stable', 'solidity', 'chime', 'majority', 'bonus', 'absence', 'astringent', 'company', 'hulk', 'spicier', 'peachy', 'colorless', 'puttanesca', 'glow', 'hit', 'tank', 'kiss', 'aeration', 'reedy', 'botrytis', 'signal', 'weight', 'provide', 'drip', 'move', 'burgundy', 'verge', 'waxiness', 'bowl', 'impart', 'mineral', 'portrait', 'vanillin', 'audience', 'homage', 'shoe', 'drier', 'mealiness', 'cyt', 'flash', 'papaya', 'amicus', 'detract', 'yuzu', 'spritz', 'splinter', 'crus', 'meantime', 'wall', 'charmer', 'cost', 'melding', 'unfold', 'language', 'crianza', 'entertaining', 'bristling', 'standalone', 'perfume', 'basement', 'passion', 'compost', 'wear', 'edmeade', 'nonsense', 'dandelion', 'leash', 'brink', 'approximation', 'grippiness', 'bristle', 'coffee', 'beat', 'cornucopia', 'throttle', 'alliance', 'corpulent', 'lending', 'guavas', 'succulence', 'wife', 'plaster', 'tasting', 'peppermint', 'hamburger', 'lockdown', 'pound', 'positive', 'sugar', 'élan', 'action', 'uniqueness', 'lack', 'comparison', 'blacktop', 'marrie', 'predominating', 'cross', 'superripeness', 'shirt', 'center', 'prettier', 'locale', 'delicacy', 'now-2018', 'fog', 'giant', 'honor', 'ragú', 'capacity', 'sandwich', 'concept', 'bananalike', 'praise', 'cellarworthiness', 'smacking', 'fuzz', 'extravagent', 'knit', 'detraction', 'microcuvée', 'pepper', 'keeping', 'pistachio', 'gas', 'extinction', 'seafood', 'horsey', 'plenty', 'cocoapuff', 'attitude', 'flair', 'oregano', 'reproach', 'appearance', 'inkling', 'texture', 'pottery', 'substantial', 'stain', 'blueprint', 'brim', 'papery', 'soave', 'tack', 'paste', 'shower', 'cone', 'collaboration', 'brooding', 're', 'drink', 'arsenal', 'chlorophyll', 'maintain', 'scene', 'fry', 'chilie', 'snappiness', 'assortment', 'bouquet', 'fiver', 'chutney', 'auction', 'straw', 'confection', 'shapeless', 'energy', 'dollar', 'tasters', 'player', 'bolt', 'watering', 'amalgam', 'thing', 'low', 'brawn', 'blending', 'celery', 'alley', 'yellow', 'fruitstand', 'foxy', 'già', 'ava', 'baguette', 'grapefruit-', 'farmyard', 'seamless', 'seam', 'school', 'beauty', 'approachability', 'jangle', 'imbalance', 'rosewater', 'grower', 'belt', 'scenery', 'pesto', 'sister', 'lacquer', 'patient', 'spread', 'gala', 'bottle', 'exercise', 'salinity', 'oozing', 'business', 'usher', 'prawn', 'anise', 'intervention', 'peacock', 'chewiness', 'chef', 'divus', 'tail', 'buttercup', 'sugariness', 'seep', 'long', 'decision', 'fuder', 'sibling', 'palacio', 'fogarty', 'neon', 'holding', 'grind', 'applause', 'd’abruzzo', 'authority', 'craftsmanship', 'bowlful', 'haystack', 'bit', 'crumb', 'smoky', 'pie', 'makeup', 'shipper', 'lifespan', 'investment', 'stern', 'turpentine', 'beacon', 'grapey', 'ridge', 'integrity', 'extent', 'insult', 'heather', 'plate', 'resplendent', 'create', 'painting', 'followup', 'profundity', 'poster', 'microwave', 'beyer', 'tomato', 'talcy', 'tangerine', 'format', 'brimstone', 'sultry', 'stamp', 'dressing', 'verging', 'peanut', 'laden', 'step', 'renaissance', 'entry', 'tannat', 'tame', 'definition', 'secret', 'dill', 'grabby', 'typifie', 'alluring', 'trip', 'naysayer', 'sizzle', 'block', 'mossy', 'soupiness', 'sampler', 'ripbe', 'raat', 'resolution', 'boasting', 'import', 'soup', 'heft', 'flowery', 'sneak', 'tea', 'calm', 'malt', 'plump', 'powder', 'tireless', 'ingredient', 'row', 'clamp', 'rest', 'greengage', 'pinkie', 'merit', 'piceno', 'neophyte', 'spur', 'melon', 'electricity', 'spätlese', 'mélange', 'buttery', 'aspire', 'buttermilk', 'bath', 'courtesy', 'honeydew', 'skunk', 'winter', 'sentiment', 'stock', 'cap', 'service', 'beetroot', 'bling', 'overture', 'rouge', 'artist', 'travel', 'dining', 'hour', 'oakfest', 'doubt', 'puppy', 'cuvées', 'disappointment', 'threshhold', 'hazelnut', 'general', 'noise', 'link', 'ahead', 'wildflower', 'garnacha', 'puckery', 'vinification', 'blend', 'chance', 'site', 'amity', 'avellino', 'burst', 'accolade', 'textbook', 'roster', 'briney', 'ragù', 'apèritif', 'corporation', 'amount', 'hermitage', 'lick', 'upmarket', 'pinnacle', 'vegetality', 'honeycomb', 'fill', 'herb-', 'pair', 'wax', 'summery', 'punchy', 'magic', 'grillé', 'mourvèdre', 'warmth', 'following', 'devil', 'picard', 'quaff', 'semisour', 'whipping', 'catchy', 'daisy', 'reminder', 'climate', 'storing', 'anisette', 'joy', 'minority', 'study', 'wannabe', 'crust', 'define', 'complement', 'story', 'bat', 'house', 'bacon', 'timer', 'kernel', 'sneaker', 'batter', 'coast', 'ill', 'brioche', 'delight', 'bready', 'path', 'dial', 'zingy', 'cloying', 'hybrid', 'ripen', 'fluff', 'brettanomyce', 'helping', 'café', 'product', 'matter', 'fur', 'baron', 'morning', 'face', 'marshmallow', 'crunchy', 'sucking', 'basil', 'skeleton', 'port', 'zinfandel', 'ruffle', 'close', 'potluck', 'press', 'fabric', 'classification', 'almondy', 'bubblegum', 'food', 'dijon', 'peppermill', 'entrance', 'tamarack', 'direction', 'virtue', 'opportunity', 'counterpoint', 'santo', 'cigar', 'caraway', 'spicedrop', 'gift', 'menthol', 'closure', 'detonation', 'cigarbox', 'slate', 'flank', 'competence', 'syrup', 'force', 'giddy', 'cooperative', 'wave', 'jellybean', 'candle', 'retirement', 'prejudice', 'glide', 'nonvintage', 'herbal', 'max', 'turn', 'subtle', 'pantheon', 'key', 'jam', 'microproducer', 'padding', 'onion', 'pose', 'mystery', 'message', 'flatness', 'teriaki', 'boundary', 'oxidation', 'sponge', 'quaffability', 'project', 'lion', 'transformation', 'rancio', 'backseat', 'plush', 'heaviness', 'blip', 'color', 'mellowing', 'moon', 'mistaking', 'help', 'border', 'joker', 'accent', 'shortage', 'peat', 'sink', 'popularity', 'descriptor', 'decanter', 'opposite', 'package', 'wonder', 'teaberry', 'self', 'dimensionality', 'leather', 'boast', 'borderline', 'capture', 'swing', 'penetration', 'hollowness', 'barn', 'salient', 'cassis', 'strawberry', 'gathering', 'merlot', 'explosion', 'squirt', 'checkmate', 'sport', 'dust', 'cardboard', 'adventurer', 'babyfat', 'velvety', 'pouch', 'try', 'whisp', 'daughter', 'chunkiness', 'sheering', 'contender', 'quenching', 'lozenge', 'chip', 'ravioli', 'warming', 'admixture', 'country', 'nose', 'jug', 'kicker', 'hamper', 'miso', 'disconnect', 'delver', 'semisweet', 'puzzlement', 'breakfast', 'favor', 'meaty', 'befit', 'goes', 'superdry', 'rubbery', 'carnation', 'accessory', 'mouth', 'steak', 'shellfish', 'flavir', 'today', 'ivy', 'customer', 'poolside', 'indicator', 'juice', 'steam', 'sipper', 'loamy', 'hedonism', 'incarnation', 'darker', 'superripe', 'seltzer', 'blender', 'Ferreirinha', 'carpaccio', 'flea', 'straitjacket', 'nephew', 'start', 'series', 'bacony', 'toe', 'annata', 'wash', 'middleweight', 'setup', 'flour', 'core', 'means', 'beerenauslese', 'roundness', 'mushroomy', 'aparagus', 'top', 'commitment', 'freshener', 'loganberry', 'dillon', 'welcoming', 'cassoulet', 'overdrive', 'vin', 'lacking', 'harshness', 'pencil', 'tenderloin', 'lemony', 'tug', 'counterweight', 'tutti', 'persistence', 'halibut', 'reticent', 'bargain', 'overextraction', 'now-2020', 'stature', 'showplace', 'razor', 'mèlange', 'sky', 'ice', 'marmalade', 'getaway', 'gunflint', 'bigtime', 'concentration', 'liquor', 'walk', 'attention', 'pink', 'stack', 'judgment', 'vinaigrette', 'cask', '2008', 'fairy', 'fault', 'pleaser', 'cleanliness', 'exchange', 'domi', 'espresso', 'stop', 'liter', 'kilter', 'varietal', 'producer', 'juiciness', 'founder', 'brake', 'extract', 'ram', 'bland', 'underneath', 'streaking', 'prune', 'marriage', 'oil', 'namesake', 'maker', 'sleeker', 'iron', 'cover', 'neighbor', 'eel', 'hide', 'sauvignon', 'b', 'glycerin', 'whisker', 'vitamin', 'toastine', 'smoother', 'pounding', 'dash', 'apricot', 'expense', 'interplay', 'mushroom', 'chestnut', 'feminine', 'flake', 'magnum', 'wealth', 'ground', 'paprika', 'subappellation', 'light-', 'gob', 'chutzpah', 'debut', 'fast', 'glycerine', 'attractiveness', 'yield', 'semifull', 'vanilla', 'industry', 'briskness', 'ultraripe', 'stake', 'dell’annunziata', 'comprise', 'place', 'principle', 'longevity', 'overachiever', 'frite', 'pickle', 'fullness', 'sassafra', 'contact', 'tempranillo', 'charge', 'fondillón', 'iodine', 'swarm', 'awesomeness', 'suggestive', 'mustiness', 'grapy', 'Chambourcin', 'layering', 'wine@34south', 'formula', 'prosciutto', 'shortness', 'leaf', 'strike', 'victim', 'impromptu', 'love', 'reveling', 'grapefruity', 'ink', 'oakie', 'boss', 'ghy', 'expectation', 'season', 'purity', 'nasturtium', 'cold', '02', 'satisfie', 'denomination', 'letter', 'richness', 'aspect', 'music', 'salad', 'letdown', 'touch', 'nectarine', 'den', 'chocolaty', 'soupy', 'bravura', 'nougat', 'duty', 'sauterne', 'management', 'aglianico', 'raspberry', 'acre', 'relative', 'blackberry-', 'bass', 'plan', 'tear', 'astringency', 'mood', 'disappoint', 'manner', 'honesty', 'chitry', 'cobbler', 'saucy', 'calamari', 'sunflower', 'oomph', 'monastery', 'sauvage', 'consist', 'downtown', 'tv', 'inland', 'mix', 'overdone', 'feature', 'sage', 'youthfulness', 'sippin', 'overwhelm', 'treat', 'dornfelder', 'adage', 'flurry', 'merge', 'precocity', 'twilight', 'garagiste', 'leap', 'amaretto', 'lusty', 'buddy', 'shine', 'crustacean', 'custom', 'smokiness', 'confectioner', 'peppercorn', 'sandlewood', 'rise', 'stun', 'russet', 'preparation', 'gym', 'hanger', 'petroleum', 'hole', 'biltong', 'set', 'pizzazz', 'matchstick', 'straightforward', 'lanolin', 'character', 'dimension', 'breed', 'eraser', 'vegetable', 'carbonation', 'record', 'act', 'wheat', 'fourth', 'linger', 'evening', 'hearty', 'tabasco', 'little-', 'pinecone', 'bathroom', 'kiwi', 'smoke', 'component', 'broth', 'medicinal', 'now-2012', 'rim', 'leaping', 'pool', 'up', 'proof', 'blossom', 'speed', 'advantage', 'counoise', 'wasabi', 'twinge', 'offering', 'trait', 'soap', 'rasperrie', 'occasion', 'manage', 'simplicity', 'mission', 'group', 'plumcake', 'wine', 'pipe', 'seat', 'chard', 'martini', 'reach', 'thank', 'potency', 'world', 'board', 'dominating', 'd’alba', 'falcon', 'earmark', 'distinction', 'tint', 'barnyard', 'background', 'barnyardy', 'suppleness', 'nod', 'trace', 'winemaker', 'sip', 'single', 'era', 'tobacco-', 'going', 'savage', 'complex', 'fermenter', 'chicken', 'label', 'likelihood', 'rainwater', 'arid', 'prowl', 'imprint', 'benefit', 'rosé', 'hoisin', 'importer', 'sunshine', 'mincemeat', 'ageworthiness', 'native', 'bud', 'fame', 'sample', 'notch', 'fold', 'grand', 'give', 'circa', 'quater', 'vehicle', 'lilting', 'reduction', 'oiliness', 'demure', 'look', 'sediment', 'standby', 'mold', 'shrill', 'plushness', 'provenance', 'volume', 'scorching', 'dry', 'pop', 'thread', 'sake', 'staunchness', 'return', 'palate', 'twining', 'mongrel', 'third', 'mosel', 'inflection', 'lid', 'stunner', 'brainer', '90', 'cigarette', 'chock', 'deliver', 'bramble', 'misspelling', 'rubber', 'breakout', 'digger', 'coal', 'backend', 'heck', 'prime', 'pepperiness', 'plumper', 'slouch', 'now–2017', 'showing', 'flatter', 'buy', 'hillside', 'sturdiness', 'chocolate', 'priciest', 'puzzle', 'camphor', 'course', 'medium-', 'viognier', 'icon', 'recoil', 'gusto', 'appliqué', 'scope', 'tannic', 'powerhouse', 'patch', 'consult', 'spicecake', 'spa', 'folk', 'protagonist', 'chameleon', 'upscale', 'eruption', 'characteristic', 'tooth', 'polish', 'undergirding', 'glass', 'overhaul', 'accordance', 'wing', 'now', 'morsel', 'chunkster', 'grant', 'salami', 'Rancio', 'overripeness', 'overripe', 'flab', 'seed', 'underlay', 'fruit', 'rewarding', 'prevalent', 'kind', 'basket', 'slope', 'clothe', 'eucalyptus', 'slam', 'sausage', 'scallion', 'complimentary', 'bran', 'fizzy', 'chaff', 'concession', 'tantalizing', 'stem', 'pearl', 'familiarity', 'portobello', 'planting', 'grating', 'leg', 'other', 'diamond', 'buffet', 'pinot', 'weediness', 'craft', 'gum', 'mild', 'seasoning', 'slender', 'patio', 'share', 'ownership', 'riff', 'filling', 'belie', 'worker', 'sprinkling', 'boxwood', 'spumante', 'cheese', 'cilantro', 'searing', 'deficit', 'mince', 'd’avola', 'mouthwatering', 'intrusion', 'cult', 'decadence', 'stuffing', 'sin', 'vanillan', 'portfolio', 'impenetrability', 'location', 'amber', 'angle', 'recioto', 'personality', 'shortfall', 'firmament', 'viticulturalist', 'souvlaki', 'raspy', 'stew', 'anytime', 'worth', 'lot', 'chateau', 'mushu', 'acid', 'confidence', 'super', 'popping', 'forerunner', 'rum', 'tuning', 'grave', 'lasagna', 'content', 'mingle', 'rounder', 'gamble', 'fireplace', 'anchor', 'quest', 'earthiness', 'mesquite', 'filet', 'inspection', 'cappuccino', 'primetime', 'ripoff', 'cannon', 'improvement', 'vine', 'sub', 'performer', 'kick', 'artificial', 'angularity', 'hand', 'cantaloupe', 'Cartagho', 'veil', 'sizzler', 'objective', 'entrées', 'spirity', 'brighten', 'growing', 'parsley', 'magnitude', 'flint', 'poultry', 'blueberry', 'gourmet', 'superrich', 'amphora', 'cough', 'shot', 'accenting', 'digging', 'oakiness', 'steroid', 'credit', 'needle', 'pollen', 'proportion', 'kerosene', 'lineup', 'undercoat', 'flood', 'quaffing', 'compensation', 'abundance', 'tanginess', 'shock', 'pull', 'drag', 'east', 'consistency', 'neutrality', 'aging', 'panel', 'coarse', 'hint', 'rabbit', 'selection', 'figgy', 'life', 'perky', 'baseline', 'stage', 'tobbacco', 'incò', 'export', 'vibrance', 'drum', 'run', 'campfire', 'perfection', 'heartland', 'volcano', 'lady', 'musk', 'savoriness', 'song', 'out', 'tobaccoey', 'cork', 'cascade', 'cameo', 'list', 'zest', 'half', 'luxuriant', 'intention', 'fleck', 'flaw', 'chain', 'lane', 'odd', 'stink', 'bug', 'town', 'heavyness', 'concoction', 'tawny', 'fir', 'persona', 'fondness', 'acidity', 'cherry', 'deal', 'model', 'plume', 'emission', 'allusion', 'miniaure', 'grassiness', 'broaden', 'delivery', 'underbrush', 'brut', 'son', 'inviting', 'screech', 'revival', 'extend', 'bead', 'restraint', 'broom', 'temper', 'thyme', 'pomegranate', 'murky', 'ace', 'lover', 'cellar', 'jewelry', 'soda', 'bed', 'medley', 'blockbuster', 'mode', 'tapenade', 'flesh', 'cement', 'sandpapery', 'breast', 'now–2007', 'premiere', 'instrument', 'west', 'theme', 'ham', 'peachiness', 'steeliness', '80', 'racehorse', 'masse', 'flavorwise', 'money', 'jerky', 'tendency', 'joyride', 'head', 'predominate', 'fresher', 'rind', 'gut', 'smattering', 'resonance', 'packaging', '08', '03', 'risotto', 'chivite', 'soapy', 'wool', 'variant', 'vineyeard', 'godello', 'melange', 'steel', 'hospital', 'd’Alba', 'emerge', 'combine', 'dew', 'superhigh', 'cioppino', 'sushi', 'mid-2008', 'negative', 'seal', 'through', 'wispy', 'band', 'mid', 'image', 'mingling', 'exude', 'gamut', 'slice', 'chiffon', 'county', 'degree', 'mature', 'monotone', 'vinyl', 'keg', 'bounce', 'profile', 'composure', 'turbot', 'quartet', 'starter', 'mediciney', 'gushing', 'tobasco', 'tread', 'hamlet', 'taste', 'drive', 'sweetness', 'stride', 'sherbet', 'reward', 'expresion', 'infusion', 'chill', 'cahor', 'entice', 'seaweed', 'somwehere', 'attraction', 'tarry', 'alternative', 'quantity', 'successor', 'substance', 'rack', 'kudo', 'weakness', 'drawing', 'integrate', 'glory', 'piece', 'slaw', 'fan', 'impression', 'sourcing', 'forest', 'flight', 'account', 'harvesting', 'buck', 'fool', 'stingy', 'stalky', 'pruneyness', 'tropicality', 'brightness', 'rusticity', 'boiuquet', 'greenness', 'vigor', 'question', 'introduce', 'weighty', 'competition', 'sugary', 'complaint', 'ensue', 'tortilla', 'cliff', 'pedal', 'powdery', 'open', 'superstar', 'debit', 'creation', 'stay', 'fact', 'emanate', 'retailer', 'watermelon', 'gyro', 'lure', 'rainbow', 'hay', 'gate', 'macaroon', 'chorus', 'continuation', 'tree', 'edition', 'get', 'vigneron', 'licorice', 'herbaceousness', 'icing', 'role', 'knowledge', 'accomplishment', 'swanson', 'garden', 'glimpse', 'chap', 'creaminess', 'marketing', 'reputation', 'factory', 'source', 'part', 'chile', 'basic', 'plant', 'production', 'wind', 'density', 'yard', 'whole', 'halo', 'veggie', 'affair', 'inconsequential', 'foreground', 'meringue', 'bean', 'weave', 'momentum', 'damson', 'subpar', 'fall', 'legionary', 'silk', 'tartare', 'taco', 'spritziness', 'pruniness', 'sundae', 'stroke', 'tablecloth', 'labor', 'milkshake', 'stomach', 'underpinning', 'taurasi', 'biscotti', 'cornas', 'trocken', 'latent', 'mid-2009', 'popcorn', 'tumbleweed', 'cumin', 'luster', 'horsiness', 'thriller', 'item', 'caressing', 'design', 'purchaser', 'trading', 'commune', 'date', 'evocation', 'lamb', 'spine', 'sunburst', 'aroma', 'cellaring', 'director', 'unravel', 'creep', 'airy', 'piquancy', 'decoy', 'blow', 'ovation', 'damp', 'shrimp', 'satchel', 'consulting', 'follow', 'overbearing', 'tart', 'hymn', 'fudge', 'infancy', 'gain', 'barrique', 'ca', 'ginger', 'persimmon', 'a', 'firm', 'mistake', 'result', 'sherry', 'revelation', 'cashew', 'tiramisu', 'word', 'beckon', 'brawniness', 'pet', 'beverage', 'accompaniment', 'cuddley', 'springtime', 'thirst', 'blessing', 'aromas', 'fruitier', 'knife', 'now-2040', 'pale', 'stewy', 'guinea', 'liqueur', 'enologist', 'now–2019', 'probing', 'safflower', 'resin', 'arrival', 'beefy', 'stony', 'moment', 'fascination', 'bent', 'whisper', 'candidate', 'bow', 'flute', 'cloak', 'weeknight', 'jar', 'afterthought', 'sipping', 'classicism', 'riesling', 'moist', 'slack', 'hail', 'chunk', 'mantle', 'structure', 'corna', 'lottery', 'wateriness', 'boldness', 'elegance', 'forward', 'burner', 'lettuce', 'meadow', 'gra', 'activity', 'staying', 'satisfying', 'candylike', 'substitute', 'grasp', 'goal', 'boot', 'dance', 'promise', 'batch', 'snap', 'smacker', 'chaser', 'river', 'v', 'bourbon', 'bite', 'lusciousness', 'backround', 'buttered', 'franc', 'unity', 'overrun', 'tweaking', 'representative', 'alpine', 'prosecco', 'now–2010', 'change', 'sweat', 'baby', 'pruny', 'oatmeal', 'bill', 'incongruent', 'squeeze', 'puncheon', 'blocky', 'tight', 'come', 'landing', 'meter', 'bandage', 'rougher', 'extremist', 'chalkiest', 'allure', 'molé', 'weather', 'boutique', 'vibe', 'brisk', 'plummier', 'neck', 'perch', 'spec', 'blank', 'chicory', 'heel', 'gold', 'blackness', 'novelty', 'monte', 'feeling', 'brash', 'lip', 'flavor', 'flagship', 'freshness', 'lushness', 'gravy', 'foie', 'snow', 'tariff', 'planet', 'pen', 'mask', 'aspiration', 'point', 'bell', 'greatness', 'burgundian', 'patience', 'district', 'beam', 'cut', 'table', 'shotgun', 'peek', 'layer', 'condition', 'magnet', 'reveal', 'exemplary', 'bracing', 'rendering', 'urge', 'bubble', 'shaving', 'bulky', 'stave', 'reading', 'pecorino', 'cheesecake', 'expressiveness', 'showcase', 'facility', 'ager', 'grippy', 'naturale', 'thay', 'task', 'pizza', 'admirer', 'squash', 'grapefruit', 'yeastiness', 'thrill', 'sourness', 'flamboyance', 'cannonau', 'dna', 'equilibrium', 'tonic', 'family', '1930', 'whistle', 'province', 'limit', 'musty', 'fino', 'subtone', 'doughy', 'lilac', 'region', 'sound', 'stud', 'suburb', 'levity', 'quarter', 'directness', 'mean', 'minimum', 'beginning', 'rapberry', 'heart', 'sourdough', 'dollop', 'throne', 'bourgeois', 'meatball', 'diesel', 'relief', 'shading', 'search', 'o.k', 'griottier', 'buin', 'rival', 'bread', 'lurking', 'roast', 'recipe', 'chardonnay', 'coq', 'market', 'punchbowl', 'decadent', 'throat', 'piecrust', 'char', 'paella', 'vat', 'down', 'gentleness', 'space', 'candiness', 'apéritif', 'weedy', 'pancake', 'semblance', 'violet', 'surprise', 'bisque', 'savor', 'merchant', 'pepperoni', 'aid', 'coloring', 'coolness', 'oddball', 'speciman', 'war', 'potato', 'muscat', 'almond', 'feather', 'visitor', 'average', 'veer', 'backyard', 'biscuit', 'bang', 'ricotta', 'glue', 'zinginess', 'effervescent', 'refresher', 'allotment', 'reminiscent', 'moniker', 'masculine', 'hectare', 'isenhower', 'level', 'creamy', 'prospect', 'order', 'distract', 'gingersnap', 'blowsy', 'individuality', 'upside', 'silky', 'framework', 'zing', 'option', 'regard', 'favorite', 'black', 'plural', 'quincy', 'midday', 'breathtaking', 'oakspice', 'baseball', 'nectar', 'lilacs', 'backing', 'leaning', 'veneer', 'indication', 'recession', 'atttibute', 'chorizo', 'turkey', 'trademark', 'rarity', 'boy', 'trifle', 'backbone', 'power.—r.v.', 'influence', 'whitish', 'hope', 'fil', 'pedigree', 'rain', 'clone', 'republic', 'thrilling', 'cogno', 'yeast', 'sign', 'bitter', 'prominence', 'prickliness', 'lingering', 'mule', 'conversation', 'scoury', 'breathing', 'people', 'talcum', 'potential', 'dominate', 'youth']\n"
          ]
        }
      ]
    },
    {
      "cell_type": "markdown",
      "metadata": {
        "id": "XwKx92PueeC5"
      },
      "source": [
        "## Assignment 1. Feature weights ##\n",
        "Can you print the 5 terms (nouns in this case) that have the largest weight (coefficients) for predicting the label \"Red\"? (Use the logistic regression model that was trained with NOUNS)\n",
        "- Print largest absolute weights (weights can be positive or negative)\n"
      ]
    },
    {
      "cell_type": "code",
      "execution_count": null,
      "metadata": {
        "id": "85AoArYIeeC6",
        "outputId": "1fe9585e-933c-4ada-f65d-01170bb3db0d"
      },
      "outputs": [
        {
          "name": "stdout",
          "output_type": "stream",
          "text": [
            "Red\n",
            "[['rosé', -1.928311270568853], ['dessert', -1.8101951727516834], ['tannin', 1.756719856332193], ['course', -1.6717013023044425], ['grapefruit', -1.6668051079209778]]\n"
          ]
        }
      ],
      "source": [
        "for label, coefs, intercept in zip(lr_nouns.classes_, lr_nouns.coef_, lr_nouns.intercept_):\n",
        "    if label == \"Red\":\n",
        "        print(label)\n",
        "        noun_coef_list = []\n",
        "        for t, c in zip(list_noun_lemma_unique, coefs):\n",
        "            noun_coef_list.append([t, c])\n",
        "        \n",
        "        # Use sorted with lambda (absolute value), and reverse (descending order)\n",
        "        coefs_sorted = sorted(noun_coef_list, key=lambda x:abs(x[1]), reverse=True)\n",
        "        print(coefs_sorted[:5])\n",
        "        \n",
        "\n",
        "#How can we interpret the coefficients and the intercept?\n"
      ]
    },
    {
      "cell_type": "markdown",
      "metadata": {
        "id": "R-OS2htdeeC6"
      },
      "source": [
        "## Assignment 2. Feature weights ##\n",
        "Can you print the 10 terms (nouns) that have the largest weight (coefficients) for each label separately: 'Red' 'Rose' 'White' 'unk'. (Use the logistic regression model that was trained with NOUNS)\n",
        "- Print largest absolute weights (weights can be positive or negative)"
      ]
    },
    {
      "cell_type": "code",
      "execution_count": null,
      "metadata": {
        "id": "Tne-shZxeeC6",
        "outputId": "c2808322-620f-4482-f9f2-c8070b994923"
      },
      "outputs": [
        {
          "name": "stdout",
          "output_type": "stream",
          "text": [
            "\n",
            "Red\n",
            "[['rosé', -1.928311270568853], ['dessert', -1.8101951727516834], ['tannin', 1.756719856332193], ['course', -1.6717013023044425], ['grapefruit', -1.6668051079209778]]\n",
            "\n",
            "Rose\n",
            "[['rosé', 2.924601091734564], ['strawberry', 1.6303522768035823], ['blush', 1.5446374554499815], ['watermelon', 1.4723306418242699], ['cherry', 1.2806005823467308]]\n",
            "\n",
            "White\n",
            "[['cherry', -2.1119416275229526], ['berry', -2.106642556169743], ['raspberry', -2.040957707044851], ['strawberry', -1.9915161081742416], ['red', -1.71249136746508]]\n",
            "\n",
            "unk\n",
            "[['sparkler', 3.3040960232853007], ['dessert', 2.4104827342290323], ['sparkle', 2.248750173330566], ['bubbly', 2.080444573504521], ['botrytis', 1.9128409715710066]]\n"
          ]
        }
      ],
      "source": [
        "for label, coefs, intercept in zip(lr_nouns.classes_, lr_nouns.coef_, lr_nouns.intercept_):    \n",
        "    print()\n",
        "    print(label)\n",
        "    noun_coef_list = []\n",
        "    for t, c in zip(list_noun_lemma_unique, coefs):\n",
        "        noun_coef_list.append([t, c])\n",
        "    #print(\"INTERCEPT:\", intercept)\n",
        "    \n",
        "    coefs_sorted = sorted(noun_coef_list, key=lambda x:abs(x[1]), reverse=True)\n",
        "    print(coefs_sorted[:5])\n",
        "    \n"
      ]
    },
    {
      "cell_type": "markdown",
      "metadata": {
        "id": "eiZA1TlweeC6"
      },
      "source": [
        "## DIY3. Adjectives ##\n",
        "Train a new model that only uses the adjectives in the test set as features (lowercased, unique, lemmatized).\n",
        "Remove the adjectives \"red\", \"white\" and \"rose\" from the unique list of adjectives (we don't want to predict the labels from the same words).\n",
        "\n",
        "Save your model! We will evaluate them next week!"
      ]
    },
    {
      "cell_type": "markdown",
      "metadata": {
        "id": "dEgbqd2VeeC6"
      },
      "source": [
        "Process the test set to get a list of unique adjectives (Note to Pranay: we extracted these terms from the test set during class but it is also ok to extract them from the training set in this exercise)"
      ]
    },
    {
      "cell_type": "code",
      "execution_count": null,
      "metadata": {
        "id": "swkM4YIUeeC6"
      },
      "outputs": [],
      "source": [
        "import spacy\n",
        "\n",
        "nlp = spacy.load('en_core_web_sm')\n",
        "\n",
        "# Process a text\n",
        "test_doc_reviews = nlp.pipe(test_reviews)\n",
        "\n",
        "list_adj = []\n",
        "\n",
        "# Fill the rest of the code\n",
        "# Feel free to use additional cells not to repeat steps that take long time (such as generating features)"
      ]
    },
    {
      "cell_type": "code",
      "execution_count": 14,
      "metadata": {
        "id": "MGKEcLP2eeC6",
        "outputId": "25e4caed-cc5e-4d84-ff14-21f2fff1345d",
        "colab": {
          "base_uri": "https://localhost:8080/"
        }
      },
      "outputs": [
        {
          "output_type": "stream",
          "name": "stdout",
          "text": [
            "2297\n",
            "['lock', 'blackberry', 'cambodian', 'appetizing', 'outgoing', 'brilliant', 'physical', 'canadian', 'feel', 'caribbean', 'überb', 'buttercream', 'conventional', 'side', 'heavilyoaked', 'underscoring', 'confected', 'tense', 'lifeless', 'needed', 'undergrowth', 'basque', 'peach', 'desiccated', 'refreshing', 'awry', 'extended', 'daytime', 'notorious', 'lucky', 'telltale', 'green', 'plantain', 'vegetarian', 'standard', 'vertical', 'joyful', 'plus', 'casual', 'efficient', 'vivacious', 'flavorful', 'untamed', 'drinkable', 'reserve', 'invisible', 'least', 'provacative', 'erratic', 'brutal', 'unleashed', 'needs', 'lipsmacking', 'australian', 'bountiful', 'ominous', 'minus', 'patented', 'passito', 'enthusiastic', 'attuned', 'patchy', 'svelte', 'scant', 'german', 'oaky', 'eucalypt', 'mouthfeel', 'marvelous', 'mannered', 'consistent', 'vinous', 'lightweight', 'albana', 'gulpable', 'broad', 'dainty', 'afforable', 'roasted', 'chiseled', 'fecund', 'alcoholic', 'keen', 'local', 'invasive', 'pristine', 'ok', 'welcome', 'bodied', 'tentative', 'multilevel', 'fluffy', 'gruff', 'worthy', 'alert', 'impossible', 'anonymous', 'shaky', 'spritzy', 'arctic', 'backward', 'ideal', 'muddled', 'grandiose', 'flat', 'additional', 'jumbled', 'pecan', 'unctuous', 'comfortable', 'kosher', 'hard', 'sticky', 'vino', 'jumpy', 'brighter', 'foresty', 'decomposed', 'citrussy', 'balsamic', 'plummy', 'baking', 'second', 'middle', 'overpriced', 'saddle', 'flawless', 'little', 'slight', 'unpredictable', 'visible', 'ample', 'irish', 'extraordinary', 'round', 'overall', 'extreme', 'marinated', 'zesty', 'instant', 'presumptuous', 'irresistable', 'reflective', 'agreeable', 'apt', 'clonal', 'caramel', 'layered', 'south', 'unspecial', 'woody', 'ethnic', 'suited', 'satiny', 'large', 'awkward', 'unfiltered', 'comforting', 'mexican', 'rosy', 'burnished', 'stocky', 'undeniable', 'rosebud', 'devastating', 'floral', 'excessive', 'piercing', 'rounded', 'contrarian', 'volcanic', 'absent', 'ultrasweet', 'resilient', 'fiery', 'insubstantial', 'inner', 'citrus', 'modulated', 'loud', 'glorious', 'fudgy', 'uncommon', 'drunk', 'bracken', 'applaudable', 'elegant', 'red-', 'unabsorbed', 'jelly', 'optimum', 'classical', 'lean', 'gummi', 'curvy', 'stately', 'stemmy', 'forceful', 'metodo', 'piemontese', 'chablisian', 'principal', 'sweetest', 'splendid', 'uneven', 'granular', 'sinuous', 'bistro', 'earthy', 'likely', 'accurate', 'greenery', 'enduring', 'ultimate', 'back', 'aldehydic', 'candy', 'complementary', 'eastern', 'cabernet', 'vanilla-', 'malic', 'everday', 'passionfruit', 'soothing', 'supporting', 'upper', 'irresistible', 'latter', 'front', 'engrossing', 'rotten', 'respectable', 'dessert', 'stinging', 'wholesomeness', 'mulchy', 'veal', 'acai', 'reduced', 'skilled', 'frizzante', 'unblanced', 'palatable', 'midpalate', 'lively', 'successful', 'rhônish', 'cleansing', 'challenging', 'uncomplicated', 'obscure', 'constant', 'immature', 'fat', 'instrumental', 'fruited', 'southwest', 'ultracreamy', 'sappiness', 'boistrous', 'likeable', 'thorough', 'pleasant', 'lengthy', 'blended', 'hollow', 'contrary', 'indistinct', 'hued', 'angry', 'finesse', 'poly', 'imparting', 'wee', 'abnormal', 'perfumed', 'ruby', 'fragrant', 'intense', 'fleshed', 'compact', 'opaque', 'chianti', 'cinnamon', 'gentler', 'identifiable', 'previous', 'missing', 'tidy', 'brûlée', 'capsicum', 'afraid', 'fascinating', 'stale', 'persistent', 'redwood', 'crushed', 'perceptible', 'regular', 'disturbing', 'stacked', 'energetic', 'mainstream', 'immediate', 'portlike', 'pasty', 'forthcoming', 'well', 'lovely', 'excellent', 'tired', 'berry', 'tiring', 'junior', 'sardinian', 'vital', 'masseto', 'paunchy', 'homemade', 'pleased', 'showy', 'minded', 'sumptuous', 'juicy', 'bacterial', 'surprised', 'sagemoor', 'adhesive', 'greek', 'unevenly', 'tinned', 'agile', 'briny', 'piquant', 'sawdust', 'nuevo', '25th', 'crystalline', 'respected', 'pineapple', 'moderate', 'ling', 'pedestrian', 'legal', 'unwooded', 'superior', 'loaded', 'leathery', 'fried', 'gummy', 'usual', 'mashed', 'foggy', 'cherried', 'stainless', 'crystal', 'leaden', 'sturdy', 'many', 'forgettable', 'interesting', 'structural', 'innocent', 'riserva', 'pricey', 'celebrated', '35th', 'pungent', 'unchanging', 'real', 'trim', 'russian', 'underway', 'dandy', 'easy', 'confectionery', 'unclean', 'about', 'mini', 'geen', 'true', 'limes', 'youthful', 'zin', 'structured', 'metallic', 'mulberry', 'regal', 'demanding', 'royal', 'rare', 'reasonable', 'sincere', 'cracked', 'fennel', 'liquorous', 'racy', 'assertive', 'handed', 'indicative', 'negotiable', 'underlying', 'darkly', 'exclusive', 'thin', 'ultraclean', 'multi', 'shuttered', 'winery', 'romanian', 'unsubtle', 'varietalness', 'refreshed', 'laudable', 'tender', 'uncertain', 'profound', 'prickle', 'nervy', 'authentic', 'good', 'pliant', 'nutty', 'flirty', 'split', 'unyielding', 'nervous', 'moody', 'briary', 'recognizeable', 'farmed', 'secure', 'sizable', 'unlikely', 'fruitiness', 'sole', 'croatian', 'non', 'dark', 'multivintage', 'ultrasteep', 'copious', 'minerally', 'plastic', 'lackluster', 'aleatico', 'outer', 'jangled', 'ripe', 'modern', 'blind', 'workable', 'unexpected', 'infamous', 'enticing', 'unexceptional', 'bounteous', 'gawky', 'focused', 'woolly', 'last', 'teetering', 'feisty', 'dryish', 'dismal', 'starchy', 'sizeable', 'malted', 'memorable', 'italian', 'finish', 'unrefined', 'exuberant', 'twiggy', 'massively', 'imaginative', 'clean', 'classy', 'fruitcake', 'peppered', 'unwelcome', 'definitive', 'redundant', 'cedary', 'ethereal', 'eccentric', 'rampant', 'fleshy', 'sundried', 'fake', 'endive', 'pure', 'napa', 'umbrian', 'formulaic', 'serious', 'sensible', 'docile', 'fifth', 'ashy', 'favorable', 'cheap', 'spunky', 'camomile', 'sautéed', 'pillowy', 'predictable', 'temperate', 'honeyish', 'indigenous', 'smart', 'derivative', 'unfair', 'slick', 'unanimous', 'boring', 'oaki', 'cheesy', 'conscious', 'broken', 'unconvential', 'generous', 'expresso', 'present', 'devoid', 'finished', 'strident', 'carmo', 'funkier', 'recent', 'treasured', 'claret', 'strained', 'delectable', 'z', 'northeastern', 'feral', 'posh', 'gargantuan', 'apple', 'displaced', 'rude', 'internal', 'integrated', 'total', 'ubiquitous', 'monontonous', 'offbeat', 'stiff', 'sweaty', 'lustrous', 'conservative', 'supple', 'fatty', 'honeysuckle', 'elusive', 'fit', 'enjoyable', 'marginal', 'shouldered', 'unenjoyable', 'emphasizing', 'intrusive', 'rhubarb', 'nonintegrated', 'vegetal', 'appealing', 'sharpness', 'veritable', 'subliminal', 'cool', 'tri', 'great', 'biblical', 'eld', 'inconsistent', 'fatal', 'honest', 'skinned', 'tough', 'richly', 'heightened', 'bologna', 'high', 'charred', 'frizzy', 'straighforward', 'spiky', 'crafty', 'crisply', 'undefined', 'fair', 'exhilarating', 'huge', 'current', 'ultrapremium', 'detectable', 'toffee', 'attentive', 'dryness', 'most', 'sloppy', 'doc', 'resistant', 'punishing', 'scouring', 'far', 'yeasty', 'smoldering', 'varied', 'nonlinear', 'pyrazinic', 'brittle', 'cordial', 'fancy', 'finishing', 'exquisite', 'bordeaux', 'tertiary', 'peanutty', 'mythological', 'lasting', 'japanese', 'penetrating', 'idiosyncratic', 'hickory', 'pinpointed', 'aromatic', 'accented', 'wondrous', 'tinny', 'leafy', 'coolish', 'asparagus', 'unresolved', 'bubbly', 'realistic', 'gunmetal', 'cardamom', 'relaxed', 'bona', 'clove', 'dominant', 'versatile', 'statuesque', 'oversaturated', 'caramelized', 'essential', 'pronounced', 'final', 'wheaty', 'future', 'mammoth', 'unifying', 'tingling', 'immaculate', 'aloof', 'packagein', 'heavy', 'eggplant', 'tricky', 'wide', 'clacky', 'caramel-', 'smokey', 'varnish', 'inoffensive', 'salty', 'brawny', 'subsequent', 'excess', 'english', 'flawed', 'carbonic', 'mustardy', 'soft', 'featureless', 'meaningful', 'dense', 'pretty', 'subdued', 'sour', 'sheer', 'unpleasurable', 'bi', 'peppery', 'astonishing', 'fashioned', 'inscrutable', 'satèn', 'clear', 'cerebral', 'oriental', 'decanting', 'original', 'only', 'spirited', 'powerful', 'inspired', 'rhubarby', 'carmenère', 'various', 'right', 'leesi', 'midweight', 'exaggerated', 'lingual', 'rific', 'obligatory', 'unearthed', 'culinary', 'choppy', 'underlined', 'definite', 'longterm', 'infinite', 'multinational', 'flavorless', 'near', 'broccoli', 'unnatural', 'conceivable', 'famed', 'semi', 'transparent', 'biting', 'acidic', 'musky', 'promotional', 'freshly', 'translucent', 'double', 'sweetpea', 'offensive', 'enormous', 'ancient', 'discrete', 'unpretentious', 'lavish', 'laced', 'outsized', 'minor', 'seared', 'overwhelming', 'myriad', 'flourish', 'sixteenth', 'orange', 'understatment', 'rambunctious', 'Less', 'further', 'juvenile', 'brimming', 'secondary', 'textured', 'inoxidable', 'vranec', 'clunky', 'affable', 'funky', 'petal', 'thick', 'inelegant', 'outrageous', 'mouthful', 'sure', 'dirty', 'adventurous', 'perfect', 'romantic', 'workhorse', 'sparkling', 'f', 'esque', 'veteran', 'naturale', 'benchmark', 'early', 'tasteful', 'pricy', 'blatant', 'cooler', 'shiraz', 'endangered', 'european', 'classic', 'necessary', 'grainy', 'undistinguished', 'innovative', 'active', 'acrid', 'unwashed', 'overamped', 'monumental', 'substantive', 'softened', 'roasty', 'steamed', 'blackcurrant', 'amazing', 'savory', 'shallow', 'eager', 'toasty', 'saccharine', 'bresaola', 'boysenberry', 'foamy', 'underripe', 'blond', 'longtime', 'faint', 'responsible', 'seaside', 'steamy', 'slippery', 'explosive', 'supercool', 'tangy', 'figured', 'brandied', 'sulfuric', 'special', 'tropical', 'oiled', 'distinguishable', 'convincing', 'spicy', 'revered', 'familiar', 'mouthfilling', 'jellied', 'brown', 'wayward', 'extra', 'stemminess', 'nebbiolo', 'spry', 'noteworthy', 'brownish', 'ferrous', 'narrow', 'deep', 'typical', 'currant', 'teasing', 'tenuous', 'steely', 'whimsical', 'unforced', 'splayed', 'monovarietal', 'campanian', 'cloudy', 'nonmalolactic', 'upfront', 'introductory', 'raisiny', 'messy', 'multilayered', 'prickly', 'white', 'immense', 'ordinary', 'numerous', 'vaunted', 'upstanding', 'confess', 'smooth', 'former', 'quinine', 'lead', 'inspiring', 'adept', 'muddy', 'proper', 'petrol', 'whopping', 'acquired', 'likable', 'bubbling', 'sensual', 'inert', 'glossy', 'cynical', 'sangiovese', 'happy', 'undernourished', 'compelling', 'under-$10', 'vintage', 'adaptable', 'industrial', 'mighty', '-', 'garlic', 'slather', 'straight', 'classico', 'delicious', 'mealy', 'sippable', 'red', 'aged', 'complete', 'gigantic', 'simplistic', 'premier', 'willful', 'retrained', 'chilean', 'linearly', 'ripasso', 'sexy', 'tamed', 'elder', 'unfined', 'light', 'chalk', 'attractuive', 'next', 'tang', 'professional', 'trustworthy', 'semiastringent', 'gassy', 'pricky', 'pasta', 'admired', 'sticki', 'chunky', 'coquettish', 'evanescent', 'viscous', 'lait', 'moldy', 'alive', 'designate', 'intact', 'feline', 'crisp', 'intricate', 'maritime', 'unabashed', 'mixed', 'unstructured', 'simple', 'lacks', 'estimable', 'terrific', 'medieval', 'grassy', 'costly', 'noble', 'chaparral', 'medoc', 'quaffable', 'pear', 'pert', 'lime', 'concrete', 'everyday', 'soulful', 'spiciness', 'melted', 'mocha', 'finessed', 'terrible', 'ish', 'nice', 'approchable', 'human', 'proportionate', 'fruity', 'margaux', 'manly', 'scaled', 'quite', 'distinguished', 'measurable', 'broody', 'oxidative', 'crispness', 'impressive', 'sunny', 'uplifted', 'fortified', 'amorphous', 'co', 'plentiful', 'tumble', 'breezy', 'comparative', 'spongy', 'brushy', 'ultrarefined', 'wiry', 'bizarre', 'chablis', 'deft', 'ambitious', 'notable', 'unfocused', 'organic', 'abrupt', 'width', 'lactic', 'unbelievable', 'citric', 'imaginable', 'burly', 'mediocre', 'purple', 'able', 'practiced', 'sensory', 'classed', 'considerable', 'slinky', 'festive', 'prestigious', 'past', 'supreme', 'credible', 'expansive', 'aperitif', 'nuanced', 'cutting', 'unrealized', 'unforgettable', 'unsuitable', 'unbounded', 'esoteric', 'shy', 'tempting', 'plucky', 'pebble', 'negociant', 'stout', 'applesauce', 'chive', 'succulent', 'smoked', 'deliciousness', 'crafted', 'newish', 'dank', 'boisterous', 'crisper', 'assorted', 'gutsy', 'fashionable', 'creative', 'custardy', 'advanced', 'obvious', 'inky', 'pithy', 'garrigue', 'volatile', 'contoured', 'sporty', 'filmy', 'cuddly', 'animal', 'prolonged', 'nostalgic', 'flinty', 'upstate', 'undrinkable', 'crème', 'worthwhile', 'op', 'oxidized', 'remarkable', 'oaked', 'unreleased', 'superb', 'Most', 'bare', 'own', 'individual', 'ent', 'fuzzy', 'decent', 'scratchy', 'rose', 'ultrarich', 'streamlined', 'phenolic', 'mingled', 'diverse', 'superlush', 'pushy', 'harmless', 'faux', 'corpu', 'inexpensive', 'obtuse', 'rosemary', 'particular', 'descombes', 'sleepy', 'inaugural', 'incidental', 'green-', 'cesanese', 'alsatian', 'sizzling', 'malolactic', 'fantastic', 'etched', 'sappy', 'hearted', 'hefty', 'heavenly', 'sublime', 'ensemble', 'unmistakable', 'bold', 'impactful', 'varnishy', 'sonorous', 'bottom', 'overt', 'blown', 'acccessible', 'priorat', 'normal', 'teutonic', 'formal', 'determined', 'crusty', 'spiritous', 'available', 'envelop', 'remote', 'turmeric', 'pine', 'enough', 'regional', 'french', 'limited', 'olivey', 'unexpressive', 'inherent', 'preprandial', 'mass', 'wooly', 'heavyweight', 'argentine', 'even', 'chewy', 'spicebox', 'californian', 'blatantly', 'vast', 'jammy', 'thai', '2nd', 'chemical', 'luminous', 'fowl', 'wet', 'ready', 'glowing', 'forrest', 'porcino', 'outlandish', 'porty', 'washed', 'harsh', 'hawaiian', 'rusty', 'hopeful', 'distant', 'dusty', 'pleasing', 'equal', 'opulent', 'wooded', 'zinny', 'extensive', 'portuguese', 'persuasive', 'outright', 'flimsy', 'chilly', 'assaultive', 'precarious', 'overblown', 'forlorn', 'horseradish', 'uncorked', 'mute', 'crazy', 'medium', 'chief', 'expensive', 'charming', 'palpable', 'olive', 'under-$20', 'leesy', 'whiff', 'smoothness', 'partial', 'decant', 'taut', '13th', 'nearby', 'masterful', 'linear', 'ultratoasty', 'celebratory', 'reductive', 'vineyard', 'rugged', 'dedicated', 'short', 'big', 'net', 'steep', 'residual', 'developed', '’', 'storied', 'unidentifiable', 'magnetic', 'cellarworthy', 'umami', 'resiny', 'glyceriney', 'release', 'anti', 'fun', 'shell', 'desirable', 'archetypical', 'global', 'uneasy', 'blush', 'lovable', 'herbaceous', 'bittersweet', 'fleeting', 'ongoing', 'fledged', 'fine', 'weightless', 'aristocratic', 'vapid', 'massive', 'express', 'plum', 'cooked', 'nonexistent', 'roman', 'seyval', 'shadowy', 'fluid', 'northern', 'heady', 'oceanic', 'maximum', 'watered', 'syrupy', 'overweighted', 'full', 'akin', 'citrusy', 'sulfurous', 'stable', 'unpleasant', 'multivarietal', 'noticeable', 'astringent', 'hidden', 'strange', 'balanced', 'peachy', 'midlevel', 'reedy', 'blustery', 'weight', 'tremendous', 'slavonian', 'bashful', 'mineral', 'strict', 'scarlet', 'neutral', 'flush', 'unexciting', 'southwestern', 'aggressive', 'addictive', 'humongous', 'fruitless', 'unfold', 'excited', 'vibrant', 'entertaining', 'bristling', 'drab', 'pretentious', 'decisive', 'historic', 'congruent', 'capable', 'throttle', 'corpulent', 'requisite', 'stewed', 'adequate', 'tasting', 'gelatinous', 'superopulent', 'funny', 'fussy', 'scorched', 'positive', 'spare', 'troubling', 'elevated', 'voluminous', 'pâtè', 'center', 'sommeli', 'foodworthy', 'exact', 'summertime', 'giant', 'schioppettino', 'mellow', '19th', 'enveloping', 'exciting', 'repressed', 'pressed', 'slovakian', 'pepper', 'yummy', 'dependent', 'exotic', 'horsey', 'plenty', 'unspectacular', 'tartaric', 'passive', 'substantial', 'wise', 'intriguing', 'gritty', 'dynamic', 'collected', 'effective', 'operative', 'diminutive', 'grained', 'quick', 'low', 'yellow', 'abrasive', 'annual', 'foxy', 'skew', 'few', 'flavored', 'farmyard', 'seamless', 'undisclosed', 'important', 'engaging', 'lofty', 'lobst', 'resemble', 'valuable', 'primary', 'deeply', 'customary', 'woodland', 'long', 'rarefied', 'pinched', 'disparate', 'furry', 'seventh', 'hungarian', 'smoky', 'poor', 'adriatic', 'sugared', 'nuragus', 'stern', 'ebullient', 'grapey', 'resplendent', 'african', 'wrong', 'personal', 'stubborn', 'tangerine', 'sized', 'textural', 'laden', 'tame', 'clever', 'uninteresting', 'cosecha', 'grabby', 'interested', 'alluring', 'manageable', 'apporachable', 'uncut', 'precious', 'reddish', 'heft', 'flowery', 'portugese', 'curvaceous', 'plump', 'unsustainable', 'difficult', 'southeast', 'globular', 'muted', 'detailed', 'kitterlé', 'rich', 'commonplace', 'pulpy', 'correct', 'unfussy', 'swordfish', 'drily', 'unoaky', 'cautious', 'oceanside', 'commited', 'general', 'puckery', 'genuine', 'iberian', 'superficial', 'rasping', 'live', 'swell', 'rooty', 'briney', 'ragù', 'underage', 'similar', 'eponymous', 'punchy', 'magic', 'amplified', 'beautiful', 'catchy', 'attractive', 'magical', 'rudimentary', 'uncontrolled', 'cumbersome', 'supportive', 'stunning', 'barbecued', 'unbridled', 'elastic', 'colorful', 'restrained', 'extravagant', 'polite', 'american', 'common', 'submissive', 'awash', 'significant', 'loose', 'viogni', 'brioche', 'less', 'zingy', 'cloying', 'hybrid', 'entire', 'offputting', 'hot', 'modest', 'footed', 'minimalist', 'marshmallow', 'crunchy', 'incredible', 'port', 'close', 'alphabetical', 'unusual', 'mendocino', 'nonaggressive', 'almondy', 'sculpted', 'promising', 'ageworthy', 'chalki', 'fitting', 'prior', 'tangerine-', 'upbeat', 'smitten', 'extraripe', 'reserved', 'divine', 'cooperative', 'squeaky', 'unsweetened', 'smalller', 'nonvintage', 'scrupulous', 'herbal', 'premium', 'subtle', 'key', 'spectacular', 'nuts', 'oops', 'boundary', 'edgy', 'revealing', 'diluted', 'plush', 'thinned', 'refined', 'distinctive', 'swift', 'accent', 'wonderful', 'mineral-', 'opposite', 'competent', 'vinegary', 'solid', 'salient', 'awful', 'evolved', 'warm', 'formidable', 'strawberry', 'initial', 'velvety', 'monolithic', 'prone', 'dried', 'butter-', 'frozen', 'same', 'pouch', 'middling', 'eighth', 'unapproachable', '10–20', 'bight', 'ravioli', 'old', 'country', 'more', 'underdeveloped', 'semisweet', 'pleasureable', 'meaty', 'plum-', 'tasty', 'argentinean', 'd’affile', 'serralunga', 'lazy', 'rubbery', 'precise', 'popular', 'shimmering', 'fragile', 'jeanjean', 'effusive', 'shellfish', 'abundant', 'limpid', 'encouraging', 'confident', 'sipper', 'skillful', 'elaborate', 'marked', 'superripe', 'southern', 'confused', 'wildland', 'wild', 'darn', 'goodly', 'core', 'such', 'magnificent', 'mushroomy', 'top', 'baked', 'underwhelming', 'raisined', 'welcoming', 'provencal', 'lacking', 'pencil', 'absolute', 'ultra', 'weird', 'lemony', 'saturated', 'tutti', 'expressive', 'reticent', 'ultracomplex', 'slow', 'runny', 'brightened', 'clumsy', 'shabby', 'ver', 'overwhelmed', 'pink', 'upright', 'wimpy', 'ungenerous', 'delicate', 'inexpressive', 'espresso', 'varietal', 'bland', 'underneath', 'prune', 'vague', 'wood—42', 'southeastern', 'nimble', 'robust', 'disjointed', 'grillable', 'complicated', 'rowdy', 'plain', 'pounding', 'feminine', 'light-', 'fast', 'understated', 'british', 'scented', 'disappointing', 'embraceable', 'ultraripe', 'proprietary', 'pickle', 'tempranillo', 'iodine', 'suggestive', 'grapy', 'coiled', 'overriding', 'dimentional', 'flaccid', 'vaccum', 'flashy', 'toasted', 'healthy', 'tuscan', 'cold', 'first', 'surprising', 'richness', 'unrewarding', 'electric', 'sore', 'stylish', 'nectarine', 'soupy', 'expansiive', 'chocolaty', 'nuclear', 'financial', 'relative', 'lanky', 'delightful', 'spacious', 'natural', 'several', 'monstrous', 'saucy', 'finicky', 'appropriate', 'moroccan', 'statewide', 'inland', 'warrant', 'eclectic', 'accessible', 'plodding', 'useful', 'stylistic', 'poached', 'sous', 'lusty', 'peppercorn', 'official', 'reliant', 'austere', 'matchstick', 'straightforward', 'recreational', 'faulty', 'spotty', 'synonymous', 'pre', 'easygoing', 'judicious', 'sagrantino', 'fourth', 'hearty', 'admirable', 'raisinskin', 'medicinal', 'impeccable', 'okay', 'stray', 'up', 'unattractive', 'perplexing', 'thickly', 'mown', 'unripe', 'unmistakeable', 'spanish', 'handsome', 'discordant', 'resinous', 'singular', 'wine', 'lush', 'bright', 'dominating', 'precocious', 'rockin', 'blunt', 'pinotesque', 'disabled', 'quiet', 'vivid', 'barnyard', 'barnyardy', 'suppleness', 'single', 'barolos', 'going', 'stellar', 'utmost', 'complex', 'cheerful', 'lucid', 'distinct', 'native', 'catalonian', 'riary', 'sliced', 'ageworthiness', 'lipped', 'known', 'grand', 'measured', 'fierce', 'lilting', 'oiliness', 'demure', 'shrill', 'direct', 'legitimate', 'sweetbut', 'muscular', 'dry', 'insipid', 'apparent', 'palate', 'watery', 'mushy', 'pointed', 'third', 'persistant', 'optimal', 'scarce', 'chock', 'bramble', 'permanent', 'molten', 'mainstay', 'unsophisticated', 'generic', 'prime', 'plumper', 'free', 'late', 'hillside', 'manchego', 'granitic', 'medium-', 'overlooked', 'controversial', 'liqueurish', 'stimulating', 'tannic', 'sicilian', 'sprightly', 'thorny', 'elemental', 'u.s.—very', 'tempered', 'blackberrylike', 'marbled', 'upscale', 'characteristic', 'tooth', 'polish', 'unapologetic', 'malvasia', 'tiny', 'strong', 'overripe', 'oversized', 'farnese', 'underlay', 'experimental', 'rewarding', 'prevalent', 'kind', 'More', 'fizzy', 'continued', 'inflected', 'tantalizing', 'sandy', 'playful', 'unending', 'other', 'pinot', 'mere', 'weediness', 'reliable', 'mild', 'slender', 'humid', 'domestic', 'mouthwatering', 'cult', 'prototypical', 'iconic', 'zippy', 'sudden', 'recioto', 'stripped', 'staunch', 'vegetative', 'unimpressed', 'sanguine', 'boxed', 'satisfactory', 'gaseous', 'slim', 'traditonal', 'slovenian', 'raspy', 'uncompromising', 'minimal', 'worth', 'canned', 'acid', 'super', 'riveting', 'bullish', 'leyda', 'nowhere', 'specific', 'architectural', 'lost', 'endless', 'presentable', 'severe', 'rigid', 'overweight', 'actual', 'botanical', 'intellectual', 'artificial', 'extracted', 'serviceable', 'unencumbered', 'much', 'deficient', 'artistic', 'married', 'metalic', 'rocky', 'unconventional', 'superlight', 'friendly', 'chinese', 'jubilant', 'talented', 'toned', 'legendary', 'styled', 'multidimensional', 'seductive', 'powdered', 'patriotic', 'diminished', 'aging', 'coarse', 'figgy', 'perky', 'packed', 'fabulous', 'food-', 'climatic', 'informal', 'out', 'liquid', 'uncanny', 'musk', 'unoaked', 'half', 'innocuous', 'luxuriant', 'poured', 'awesome', 'pear-', 'backwards', 'evident', 'odd', 'biodynamic', 'confusing', 'tawny', 'wholesome', 'terraced', 'disgorgement', 'high-', 'gamy', 'eggy', 'inclined', 'manufactured', 'renowned', 'snappy', 'gentle', 'sweetish', 'understandable', 'shocking', 'underbrush', 'brut', 'spineless', 'blue', 'fresh', 'inviting', 'murky', 'pomegranate', 'cellar', 'deiss', 'colored', 'pleasurable', 'demonstrative', 'scary', 'delighful', 'blockbuster', 'anticipated', 'jagged', 'sandpapery', 'quintessential', 'west', 'commercial', 'northernmost', 'defining', 'evocative', 'salted', 'flowing', 'observable', 'silly', 'careful', 'fresher', 'curious', 'pointless', 'gorgeous', 'soapy', 'emerge', 'negative', 'mid', 'montalcino', 'chiffon', 'mature', 'branded', 'monotone', 'distinguishing', 'possible', 'overpowering', 'swampy', 'vietnamese', 'proud', 'clingy', 'muffled', 'enological', 'central', 'alternative', 'asian', 'certain', 'outstanding', 'striking', 'contrôlée', 'voluptuous', 'acceptable', 'oblique', 'dessicated', 'impérial', 'comparable', 'stingy', 'stalky', 'dull', 'greenness', 'weighty', 'sugary', 'young', 'unknown', 'closed', 'open', 'forthright', 'sensitive', 'vigorous', 'ponderous', 'unrich', 'southerly', 'crude', 'hostile', 'gracious', 'licorice', 'roly', 'pheasant', 'individualistic', 'empty', 'coastal', 'willing', 'scrambled', 'chile', 'basic', 'carefree', 'gradual', 'lithe', 'unique', 'indian', 'whole', 'mediterranean', 'sufficient', 'authoritative', 'inconsequential', 'buoyant', 'subpar', 'bad', '50th', 'joint', 'vidal', 'luxurious', 'sensuous', 'terroirdriven', 'rustic', 'angular', 'popcorn', 'potent', 'caressing', 'seasoned', 'harp', 'bumpy', 'flattering', 'damp', 'exceptional', 'airy', 'overoaked', 'ethiopian', 'separate', 'lateral', 'nobile', 'swiss', 'overbearing', 'tart', 'barrique', 'torbato', 'dependable', 'firm', 'beutiful', 'visceral', 'frothy', 'concentrated', 'portal', 'raw', 'thirst', 'pale', 'major', 'fruitier', 'wishy', 'stewy', 'hedonistic', 'mountainous', 'chesse', 'enologist', 'honeyed', 'beefy', 'main', 'steady', 'grilled', 'stony', '30th', 'superflavorful', 'feathery', 'commendable', 'worrying', 'unintegrated', 'sipping', 'moist', 'sweetened', 'forward', 'sweet', 'disagreeable', 'satisfying', 'stark', 'weak', 'new', 'creamed', 'nered', 'provocative', 'lifted', 'archetypal', 'approachable', 'warmish', 'buttered', 'unlimited', 'dramatic', 'overrun', 'unwanted', 'rough', 'objectionable', 'oatmeal', 'luscious', 'pruny', 'sharp', 'recognizable', 'bloody', 'blocky', 'tight', 'dimensional', 'pekoe', 'brisk', 'edged', 'scracthy', 'cranberryish', 'gold', 'brash', 'charbroiled', 'freshness', 'lushness', 'indomitable', 'due', 'safe', 'economical', 'burgundian', 'polished', 'austrian', 'peek', 'integral', 'southw', 'implied', 'unwavering', 'exemplary', 'bracing', 'multiple', 'bulky', 'greasy', 'unrecognizable', 'international', 'pecorino', 'impenetrable', 'snowy', 'controlled', 'traditional', 'unelegant', 'undemanding', 'grippy', 'cheery', 'grapefruit', 'discernible', 'semisoft', 'small', 'perennial', 'golden', 'fond', 'tonic', 'stinky', 'arugula', 'outdoor', 'nondescript', 'musty', 'corny', 'venerable', 'salinic', 'sound', 'invigorating', 'western', 'mean', 'minimum', 'unappealing', 'celtic', 'compromised', 'graceful', 'beery', 'candied', 'sassy', 'like', 'hilly', 'affordable', 'roast', 'amply', 'different', 'atypical', 'decadent', 'quaffworthy', 'shroud', 'flamboyant', 'dead', 'fortunate', 'keynote', 'sensational', 'weedy', 'brief', 'surprise', 'bored', 'sleek', 'toothpicky', 'very', 'oddball', 'prominent', 'ageable', 'fullish', 'questionable', 'yielding', 'ultracrisp', 'muscat', 'unbalanced', 'average', 'harmonious', 'ultrasoft', 'unadorned', 'reminiscent', 'brusque', 'delineated', 'masculine', 'intregrated', 'distract', 'creamy', 'level', 'cream-', 'bargain-', 'oily', 'stretched', 'silky', 'favorite', 'black', 'assertively', 'boned', 'esteemed', 'barky', 'blooded', 'poised', 'condensed', 'sophisticated', 'clone', 'turkish', 'thrilling', 'identical', 'bitter', 'milky', 'iced', 'famous', 'radiant', '21st', 'potential']\n"
          ]
        }
      ],
      "source": [
        "import spacy\n",
        "\n",
        "nlp = spacy.load('en_core_web_sm')\n",
        "\n",
        "# Process a text\n",
        "train_doc_reviews = nlp.pipe(train_reviews)\n",
        "\n",
        "list_adj = []\n",
        "\n",
        "for review in train_doc_reviews:\n",
        "    for token in review:\n",
        "        if token.pos_ == \"ADJ\":\n",
        "            list_adj.append(token.lemma_)\n",
        "\n",
        "list_adj_unique = list(set(list_adj))\n",
        "\n",
        "print(len(list_adj_unique))\n",
        "print(list_adj_unique)"
      ]
    },
    {
      "cell_type": "markdown",
      "metadata": {
        "id": "dAbmTiejeeC6"
      },
      "source": [
        "remove the adjectives \"red\", \"white\" and \"rose\" from the list"
      ]
    },
    {
      "cell_type": "code",
      "execution_count": 15,
      "metadata": {
        "id": "fsyPweaQeeC7",
        "outputId": "74bb4107-6a3a-4858-a3d5-43c2c04051da",
        "colab": {
          "base_uri": "https://localhost:8080/"
        }
      },
      "outputs": [
        {
          "output_type": "stream",
          "name": "stdout",
          "text": [
            "2297\n",
            "['lock', 'blackberry', 'cambodian', 'appetizing', 'outgoing', 'brilliant', 'physical', 'canadian', 'feel', 'caribbean', 'überb', 'buttercream', 'conventional', 'side', 'heavilyoaked', 'underscoring', 'confected', 'tense', 'lifeless', 'needed', 'undergrowth', 'basque', 'peach', 'desiccated', 'refreshing', 'awry', 'extended', 'daytime', 'notorious', 'lucky', 'telltale', 'green', 'plantain', 'vegetarian', 'standard', 'vertical', 'joyful', 'plus', 'casual', 'efficient', 'vivacious', 'flavorful', 'untamed', 'drinkable', 'reserve', 'invisible', 'least', 'provacative', 'erratic', 'brutal', 'unleashed', 'needs', 'lipsmacking', 'australian', 'bountiful', 'ominous', 'minus', 'patented', 'passito', 'enthusiastic', 'attuned', 'patchy', 'svelte', 'scant', 'german', 'oaky', 'eucalypt', 'mouthfeel', 'marvelous', 'mannered', 'consistent', 'vinous', 'lightweight', 'albana', 'gulpable', 'broad', 'dainty', 'afforable', 'roasted', 'chiseled', 'fecund', 'alcoholic', 'keen', 'local', 'invasive', 'pristine', 'ok', 'welcome', 'bodied', 'tentative', 'multilevel', 'fluffy', 'gruff', 'worthy', 'alert', 'impossible', 'anonymous', 'shaky', 'spritzy', 'arctic', 'backward', 'ideal', 'muddled', 'grandiose', 'flat', 'additional', 'jumbled', 'pecan', 'unctuous', 'comfortable', 'kosher', 'hard', 'sticky', 'vino', 'jumpy', 'brighter', 'foresty', 'decomposed', 'citrussy', 'balsamic', 'plummy', 'baking', 'second', 'middle', 'overpriced', 'saddle', 'flawless', 'little', 'slight', 'unpredictable', 'visible', 'ample', 'irish', 'extraordinary', 'round', 'overall', 'extreme', 'marinated', 'zesty', 'instant', 'presumptuous', 'irresistable', 'reflective', 'agreeable', 'apt', 'clonal', 'caramel', 'layered', 'south', 'unspecial', 'woody', 'ethnic', 'suited', 'satiny', 'large', 'awkward', 'unfiltered', 'comforting', 'mexican', 'rosy', 'burnished', 'stocky', 'undeniable', 'rosebud', 'devastating', 'floral', 'excessive', 'piercing', 'rounded', 'contrarian', 'volcanic', 'absent', 'ultrasweet', 'resilient', 'fiery', 'insubstantial', 'inner', 'citrus', 'modulated', 'loud', 'glorious', 'fudgy', 'uncommon', 'drunk', 'bracken', 'applaudable', 'elegant', 'red-', 'unabsorbed', 'jelly', 'optimum', 'classical', 'lean', 'gummi', 'curvy', 'stately', 'stemmy', 'forceful', 'metodo', 'piemontese', 'chablisian', 'principal', 'sweetest', 'splendid', 'uneven', 'granular', 'sinuous', 'bistro', 'earthy', 'likely', 'accurate', 'greenery', 'enduring', 'ultimate', 'back', 'aldehydic', 'candy', 'complementary', 'eastern', 'cabernet', 'vanilla-', 'malic', 'everday', 'passionfruit', 'soothing', 'supporting', 'upper', 'irresistible', 'latter', 'front', 'engrossing', 'rotten', 'respectable', 'dessert', 'stinging', 'wholesomeness', 'mulchy', 'veal', 'acai', 'reduced', 'skilled', 'frizzante', 'unblanced', 'palatable', 'midpalate', 'lively', 'successful', 'rhônish', 'cleansing', 'challenging', 'uncomplicated', 'obscure', 'constant', 'immature', 'fat', 'instrumental', 'fruited', 'southwest', 'ultracreamy', 'sappiness', 'boistrous', 'likeable', 'thorough', 'pleasant', 'lengthy', 'blended', 'hollow', 'contrary', 'indistinct', 'hued', 'angry', 'finesse', 'poly', 'imparting', 'wee', 'abnormal', 'perfumed', 'ruby', 'fragrant', 'intense', 'fleshed', 'compact', 'opaque', 'chianti', 'cinnamon', 'gentler', 'identifiable', 'previous', 'missing', 'tidy', 'brûlée', 'capsicum', 'afraid', 'fascinating', 'stale', 'persistent', 'redwood', 'crushed', 'perceptible', 'regular', 'disturbing', 'stacked', 'energetic', 'mainstream', 'immediate', 'portlike', 'pasty', 'forthcoming', 'well', 'lovely', 'excellent', 'tired', 'berry', 'tiring', 'junior', 'sardinian', 'vital', 'masseto', 'paunchy', 'homemade', 'pleased', 'showy', 'minded', 'sumptuous', 'juicy', 'bacterial', 'surprised', 'sagemoor', 'adhesive', 'greek', 'unevenly', 'tinned', 'agile', 'briny', 'piquant', 'sawdust', 'nuevo', '25th', 'crystalline', 'respected', 'pineapple', 'moderate', 'ling', 'pedestrian', 'legal', 'unwooded', 'superior', 'loaded', 'leathery', 'fried', 'gummy', 'usual', 'mashed', 'foggy', 'cherried', 'stainless', 'crystal', 'leaden', 'sturdy', 'many', 'forgettable', 'interesting', 'structural', 'innocent', 'riserva', 'pricey', 'celebrated', '35th', 'pungent', 'unchanging', 'real', 'trim', 'russian', 'underway', 'dandy', 'easy', 'confectionery', 'unclean', 'about', 'mini', 'geen', 'true', 'limes', 'youthful', 'zin', 'structured', 'metallic', 'mulberry', 'regal', 'demanding', 'royal', 'rare', 'reasonable', 'sincere', 'cracked', 'fennel', 'liquorous', 'racy', 'assertive', 'handed', 'indicative', 'negotiable', 'underlying', 'darkly', 'exclusive', 'thin', 'ultraclean', 'multi', 'shuttered', 'winery', 'romanian', 'unsubtle', 'varietalness', 'refreshed', 'laudable', 'tender', 'uncertain', 'profound', 'prickle', 'nervy', 'authentic', 'good', 'pliant', 'nutty', 'flirty', 'split', 'unyielding', 'nervous', 'moody', 'briary', 'recognizeable', 'farmed', 'secure', 'sizable', 'unlikely', 'fruitiness', 'sole', 'croatian', 'non', 'dark', 'multivintage', 'ultrasteep', 'copious', 'minerally', 'plastic', 'lackluster', 'aleatico', 'outer', 'jangled', 'ripe', 'modern', 'blind', 'workable', 'unexpected', 'infamous', 'enticing', 'unexceptional', 'bounteous', 'gawky', 'focused', 'woolly', 'last', 'teetering', 'feisty', 'dryish', 'dismal', 'starchy', 'sizeable', 'malted', 'memorable', 'italian', 'finish', 'unrefined', 'exuberant', 'twiggy', 'massively', 'imaginative', 'clean', 'classy', 'fruitcake', 'peppered', 'unwelcome', 'definitive', 'redundant', 'cedary', 'ethereal', 'eccentric', 'rampant', 'fleshy', 'sundried', 'fake', 'endive', 'pure', 'napa', 'umbrian', 'formulaic', 'serious', 'sensible', 'docile', 'fifth', 'ashy', 'favorable', 'cheap', 'spunky', 'camomile', 'sautéed', 'pillowy', 'predictable', 'temperate', 'honeyish', 'indigenous', 'smart', 'derivative', 'unfair', 'slick', 'unanimous', 'boring', 'oaki', 'cheesy', 'conscious', 'broken', 'unconvential', 'generous', 'expresso', 'present', 'devoid', 'finished', 'strident', 'carmo', 'funkier', 'recent', 'treasured', 'claret', 'strained', 'delectable', 'z', 'northeastern', 'feral', 'posh', 'gargantuan', 'apple', 'displaced', 'rude', 'internal', 'integrated', 'total', 'ubiquitous', 'monontonous', 'offbeat', 'stiff', 'sweaty', 'lustrous', 'conservative', 'supple', 'fatty', 'honeysuckle', 'elusive', 'fit', 'enjoyable', 'marginal', 'shouldered', 'unenjoyable', 'emphasizing', 'intrusive', 'rhubarb', 'nonintegrated', 'vegetal', 'appealing', 'sharpness', 'veritable', 'subliminal', 'cool', 'tri', 'great', 'biblical', 'eld', 'inconsistent', 'fatal', 'honest', 'skinned', 'tough', 'richly', 'heightened', 'bologna', 'high', 'charred', 'frizzy', 'straighforward', 'spiky', 'crafty', 'crisply', 'undefined', 'fair', 'exhilarating', 'huge', 'current', 'ultrapremium', 'detectable', 'toffee', 'attentive', 'dryness', 'most', 'sloppy', 'doc', 'resistant', 'punishing', 'scouring', 'far', 'yeasty', 'smoldering', 'varied', 'nonlinear', 'pyrazinic', 'brittle', 'cordial', 'fancy', 'finishing', 'exquisite', 'bordeaux', 'tertiary', 'peanutty', 'mythological', 'lasting', 'japanese', 'penetrating', 'idiosyncratic', 'hickory', 'pinpointed', 'aromatic', 'accented', 'wondrous', 'tinny', 'leafy', 'coolish', 'asparagus', 'unresolved', 'bubbly', 'realistic', 'gunmetal', 'cardamom', 'relaxed', 'bona', 'clove', 'dominant', 'versatile', 'statuesque', 'oversaturated', 'caramelized', 'essential', 'pronounced', 'final', 'wheaty', 'future', 'mammoth', 'unifying', 'tingling', 'immaculate', 'aloof', 'packagein', 'heavy', 'eggplant', 'tricky', 'wide', 'clacky', 'caramel-', 'smokey', 'varnish', 'inoffensive', 'salty', 'brawny', 'subsequent', 'excess', 'english', 'flawed', 'carbonic', 'mustardy', 'soft', 'featureless', 'meaningful', 'dense', 'pretty', 'subdued', 'sour', 'sheer', 'unpleasurable', 'bi', 'peppery', 'astonishing', 'fashioned', 'inscrutable', 'satèn', 'clear', 'cerebral', 'oriental', 'decanting', 'original', 'only', 'spirited', 'powerful', 'inspired', 'rhubarby', 'carmenère', 'various', 'right', 'leesi', 'midweight', 'exaggerated', 'lingual', 'rific', 'obligatory', 'unearthed', 'culinary', 'choppy', 'underlined', 'definite', 'longterm', 'infinite', 'multinational', 'flavorless', 'near', 'broccoli', 'unnatural', 'conceivable', 'famed', 'semi', 'transparent', 'biting', 'acidic', 'musky', 'promotional', 'freshly', 'translucent', 'double', 'sweetpea', 'offensive', 'enormous', 'ancient', 'discrete', 'unpretentious', 'lavish', 'laced', 'outsized', 'minor', 'seared', 'overwhelming', 'myriad', 'flourish', 'sixteenth', 'orange', 'understatment', 'rambunctious', 'Less', 'further', 'juvenile', 'brimming', 'secondary', 'textured', 'inoxidable', 'vranec', 'clunky', 'affable', 'funky', 'petal', 'thick', 'inelegant', 'outrageous', 'mouthful', 'sure', 'dirty', 'adventurous', 'perfect', 'romantic', 'workhorse', 'sparkling', 'f', 'esque', 'veteran', 'naturale', 'benchmark', 'early', 'tasteful', 'pricy', 'blatant', 'cooler', 'shiraz', 'endangered', 'european', 'classic', 'necessary', 'grainy', 'undistinguished', 'innovative', 'active', 'acrid', 'unwashed', 'overamped', 'monumental', 'substantive', 'softened', 'roasty', 'steamed', 'blackcurrant', 'amazing', 'savory', 'shallow', 'eager', 'toasty', 'saccharine', 'bresaola', 'boysenberry', 'foamy', 'underripe', 'blond', 'longtime', 'faint', 'responsible', 'seaside', 'steamy', 'slippery', 'explosive', 'supercool', 'tangy', 'figured', 'brandied', 'sulfuric', 'special', 'tropical', 'oiled', 'distinguishable', 'convincing', 'spicy', 'revered', 'familiar', 'mouthfilling', 'jellied', 'brown', 'wayward', 'extra', 'stemminess', 'nebbiolo', 'spry', 'noteworthy', 'brownish', 'ferrous', 'narrow', 'deep', 'typical', 'currant', 'teasing', 'tenuous', 'steely', 'whimsical', 'unforced', 'splayed', 'monovarietal', 'campanian', 'cloudy', 'nonmalolactic', 'upfront', 'introductory', 'raisiny', 'messy', 'multilayered', 'prickly', 'white', 'immense', 'ordinary', 'numerous', 'vaunted', 'upstanding', 'confess', 'smooth', 'former', 'quinine', 'lead', 'inspiring', 'adept', 'muddy', 'proper', 'petrol', 'whopping', 'acquired', 'likable', 'bubbling', 'sensual', 'inert', 'glossy', 'cynical', 'sangiovese', 'happy', 'undernourished', 'compelling', 'under-$10', 'vintage', 'adaptable', 'industrial', 'mighty', '-', 'garlic', 'slather', 'straight', 'classico', 'delicious', 'mealy', 'sippable', 'red', 'aged', 'complete', 'gigantic', 'simplistic', 'premier', 'willful', 'retrained', 'chilean', 'linearly', 'ripasso', 'sexy', 'tamed', 'elder', 'unfined', 'light', 'chalk', 'attractuive', 'next', 'tang', 'professional', 'trustworthy', 'semiastringent', 'gassy', 'pricky', 'pasta', 'admired', 'sticki', 'chunky', 'coquettish', 'evanescent', 'viscous', 'lait', 'moldy', 'alive', 'designate', 'intact', 'feline', 'crisp', 'intricate', 'maritime', 'unabashed', 'mixed', 'unstructured', 'simple', 'lacks', 'estimable', 'terrific', 'medieval', 'grassy', 'costly', 'noble', 'chaparral', 'medoc', 'quaffable', 'pear', 'pert', 'lime', 'concrete', 'everyday', 'soulful', 'spiciness', 'melted', 'mocha', 'finessed', 'terrible', 'ish', 'nice', 'approchable', 'human', 'proportionate', 'fruity', 'margaux', 'manly', 'scaled', 'quite', 'distinguished', 'measurable', 'broody', 'oxidative', 'crispness', 'impressive', 'sunny', 'uplifted', 'fortified', 'amorphous', 'co', 'plentiful', 'tumble', 'breezy', 'comparative', 'spongy', 'brushy', 'ultrarefined', 'wiry', 'bizarre', 'chablis', 'deft', 'ambitious', 'notable', 'unfocused', 'organic', 'abrupt', 'width', 'lactic', 'unbelievable', 'citric', 'imaginable', 'burly', 'mediocre', 'purple', 'able', 'practiced', 'sensory', 'classed', 'considerable', 'slinky', 'festive', 'prestigious', 'past', 'supreme', 'credible', 'expansive', 'aperitif', 'nuanced', 'cutting', 'unrealized', 'unforgettable', 'unsuitable', 'unbounded', 'esoteric', 'shy', 'tempting', 'plucky', 'pebble', 'negociant', 'stout', 'applesauce', 'chive', 'succulent', 'smoked', 'deliciousness', 'crafted', 'newish', 'dank', 'boisterous', 'crisper', 'assorted', 'gutsy', 'fashionable', 'creative', 'custardy', 'advanced', 'obvious', 'inky', 'pithy', 'garrigue', 'volatile', 'contoured', 'sporty', 'filmy', 'cuddly', 'animal', 'prolonged', 'nostalgic', 'flinty', 'upstate', 'undrinkable', 'crème', 'worthwhile', 'op', 'oxidized', 'remarkable', 'oaked', 'unreleased', 'superb', 'Most', 'bare', 'own', 'individual', 'ent', 'fuzzy', 'decent', 'scratchy', 'rose', 'ultrarich', 'streamlined', 'phenolic', 'mingled', 'diverse', 'superlush', 'pushy', 'harmless', 'faux', 'corpu', 'inexpensive', 'obtuse', 'rosemary', 'particular', 'descombes', 'sleepy', 'inaugural', 'incidental', 'green-', 'cesanese', 'alsatian', 'sizzling', 'malolactic', 'fantastic', 'etched', 'sappy', 'hearted', 'hefty', 'heavenly', 'sublime', 'ensemble', 'unmistakable', 'bold', 'impactful', 'varnishy', 'sonorous', 'bottom', 'overt', 'blown', 'acccessible', 'priorat', 'normal', 'teutonic', 'formal', 'determined', 'crusty', 'spiritous', 'available', 'envelop', 'remote', 'turmeric', 'pine', 'enough', 'regional', 'french', 'limited', 'olivey', 'unexpressive', 'inherent', 'preprandial', 'mass', 'wooly', 'heavyweight', 'argentine', 'even', 'chewy', 'spicebox', 'californian', 'blatantly', 'vast', 'jammy', 'thai', '2nd', 'chemical', 'luminous', 'fowl', 'wet', 'ready', 'glowing', 'forrest', 'porcino', 'outlandish', 'porty', 'washed', 'harsh', 'hawaiian', 'rusty', 'hopeful', 'distant', 'dusty', 'pleasing', 'equal', 'opulent', 'wooded', 'zinny', 'extensive', 'portuguese', 'persuasive', 'outright', 'flimsy', 'chilly', 'assaultive', 'precarious', 'overblown', 'forlorn', 'horseradish', 'uncorked', 'mute', 'crazy', 'medium', 'chief', 'expensive', 'charming', 'palpable', 'olive', 'under-$20', 'leesy', 'whiff', 'smoothness', 'partial', 'decant', 'taut', '13th', 'nearby', 'masterful', 'linear', 'ultratoasty', 'celebratory', 'reductive', 'vineyard', 'rugged', 'dedicated', 'short', 'big', 'net', 'steep', 'residual', 'developed', '’', 'storied', 'unidentifiable', 'magnetic', 'cellarworthy', 'umami', 'resiny', 'glyceriney', 'release', 'anti', 'fun', 'shell', 'desirable', 'archetypical', 'global', 'uneasy', 'blush', 'lovable', 'herbaceous', 'bittersweet', 'fleeting', 'ongoing', 'fledged', 'fine', 'weightless', 'aristocratic', 'vapid', 'massive', 'express', 'plum', 'cooked', 'nonexistent', 'roman', 'seyval', 'shadowy', 'fluid', 'northern', 'heady', 'oceanic', 'maximum', 'watered', 'syrupy', 'overweighted', 'full', 'akin', 'citrusy', 'sulfurous', 'stable', 'unpleasant', 'multivarietal', 'noticeable', 'astringent', 'hidden', 'strange', 'balanced', 'peachy', 'midlevel', 'reedy', 'blustery', 'weight', 'tremendous', 'slavonian', 'bashful', 'mineral', 'strict', 'scarlet', 'neutral', 'flush', 'unexciting', 'southwestern', 'aggressive', 'addictive', 'humongous', 'fruitless', 'unfold', 'excited', 'vibrant', 'entertaining', 'bristling', 'drab', 'pretentious', 'decisive', 'historic', 'congruent', 'capable', 'throttle', 'corpulent', 'requisite', 'stewed', 'adequate', 'tasting', 'gelatinous', 'superopulent', 'funny', 'fussy', 'scorched', 'positive', 'spare', 'troubling', 'elevated', 'voluminous', 'pâtè', 'center', 'sommeli', 'foodworthy', 'exact', 'summertime', 'giant', 'schioppettino', 'mellow', '19th', 'enveloping', 'exciting', 'repressed', 'pressed', 'slovakian', 'pepper', 'yummy', 'dependent', 'exotic', 'horsey', 'plenty', 'unspectacular', 'tartaric', 'passive', 'substantial', 'wise', 'intriguing', 'gritty', 'dynamic', 'collected', 'effective', 'operative', 'diminutive', 'grained', 'quick', 'low', 'yellow', 'abrasive', 'annual', 'foxy', 'skew', 'few', 'flavored', 'farmyard', 'seamless', 'undisclosed', 'important', 'engaging', 'lofty', 'lobst', 'resemble', 'valuable', 'primary', 'deeply', 'customary', 'woodland', 'long', 'rarefied', 'pinched', 'disparate', 'furry', 'seventh', 'hungarian', 'smoky', 'poor', 'adriatic', 'sugared', 'nuragus', 'stern', 'ebullient', 'grapey', 'resplendent', 'african', 'wrong', 'personal', 'stubborn', 'tangerine', 'sized', 'textural', 'laden', 'tame', 'clever', 'uninteresting', 'cosecha', 'grabby', 'interested', 'alluring', 'manageable', 'apporachable', 'uncut', 'precious', 'reddish', 'heft', 'flowery', 'portugese', 'curvaceous', 'plump', 'unsustainable', 'difficult', 'southeast', 'globular', 'muted', 'detailed', 'kitterlé', 'rich', 'commonplace', 'pulpy', 'correct', 'unfussy', 'swordfish', 'drily', 'unoaky', 'cautious', 'oceanside', 'commited', 'general', 'puckery', 'genuine', 'iberian', 'superficial', 'rasping', 'live', 'swell', 'rooty', 'briney', 'ragù', 'underage', 'similar', 'eponymous', 'punchy', 'magic', 'amplified', 'beautiful', 'catchy', 'attractive', 'magical', 'rudimentary', 'uncontrolled', 'cumbersome', 'supportive', 'stunning', 'barbecued', 'unbridled', 'elastic', 'colorful', 'restrained', 'extravagant', 'polite', 'american', 'common', 'submissive', 'awash', 'significant', 'loose', 'viogni', 'brioche', 'less', 'zingy', 'cloying', 'hybrid', 'entire', 'offputting', 'hot', 'modest', 'footed', 'minimalist', 'marshmallow', 'crunchy', 'incredible', 'port', 'close', 'alphabetical', 'unusual', 'mendocino', 'nonaggressive', 'almondy', 'sculpted', 'promising', 'ageworthy', 'chalki', 'fitting', 'prior', 'tangerine-', 'upbeat', 'smitten', 'extraripe', 'reserved', 'divine', 'cooperative', 'squeaky', 'unsweetened', 'smalller', 'nonvintage', 'scrupulous', 'herbal', 'premium', 'subtle', 'key', 'spectacular', 'nuts', 'oops', 'boundary', 'edgy', 'revealing', 'diluted', 'plush', 'thinned', 'refined', 'distinctive', 'swift', 'accent', 'wonderful', 'mineral-', 'opposite', 'competent', 'vinegary', 'solid', 'salient', 'awful', 'evolved', 'warm', 'formidable', 'strawberry', 'initial', 'velvety', 'monolithic', 'prone', 'dried', 'butter-', 'frozen', 'same', 'pouch', 'middling', 'eighth', 'unapproachable', '10–20', 'bight', 'ravioli', 'old', 'country', 'more', 'underdeveloped', 'semisweet', 'pleasureable', 'meaty', 'plum-', 'tasty', 'argentinean', 'd’affile', 'serralunga', 'lazy', 'rubbery', 'precise', 'popular', 'shimmering', 'fragile', 'jeanjean', 'effusive', 'shellfish', 'abundant', 'limpid', 'encouraging', 'confident', 'sipper', 'skillful', 'elaborate', 'marked', 'superripe', 'southern', 'confused', 'wildland', 'wild', 'darn', 'goodly', 'core', 'such', 'magnificent', 'mushroomy', 'top', 'baked', 'underwhelming', 'raisined', 'welcoming', 'provencal', 'lacking', 'pencil', 'absolute', 'ultra', 'weird', 'lemony', 'saturated', 'tutti', 'expressive', 'reticent', 'ultracomplex', 'slow', 'runny', 'brightened', 'clumsy', 'shabby', 'ver', 'overwhelmed', 'pink', 'upright', 'wimpy', 'ungenerous', 'delicate', 'inexpressive', 'espresso', 'varietal', 'bland', 'underneath', 'prune', 'vague', 'wood—42', 'southeastern', 'nimble', 'robust', 'disjointed', 'grillable', 'complicated', 'rowdy', 'plain', 'pounding', 'feminine', 'light-', 'fast', 'understated', 'british', 'scented', 'disappointing', 'embraceable', 'ultraripe', 'proprietary', 'pickle', 'tempranillo', 'iodine', 'suggestive', 'grapy', 'coiled', 'overriding', 'dimentional', 'flaccid', 'vaccum', 'flashy', 'toasted', 'healthy', 'tuscan', 'cold', 'first', 'surprising', 'richness', 'unrewarding', 'electric', 'sore', 'stylish', 'nectarine', 'soupy', 'expansiive', 'chocolaty', 'nuclear', 'financial', 'relative', 'lanky', 'delightful', 'spacious', 'natural', 'several', 'monstrous', 'saucy', 'finicky', 'appropriate', 'moroccan', 'statewide', 'inland', 'warrant', 'eclectic', 'accessible', 'plodding', 'useful', 'stylistic', 'poached', 'sous', 'lusty', 'peppercorn', 'official', 'reliant', 'austere', 'matchstick', 'straightforward', 'recreational', 'faulty', 'spotty', 'synonymous', 'pre', 'easygoing', 'judicious', 'sagrantino', 'fourth', 'hearty', 'admirable', 'raisinskin', 'medicinal', 'impeccable', 'okay', 'stray', 'up', 'unattractive', 'perplexing', 'thickly', 'mown', 'unripe', 'unmistakeable', 'spanish', 'handsome', 'discordant', 'resinous', 'singular', 'wine', 'lush', 'bright', 'dominating', 'precocious', 'rockin', 'blunt', 'pinotesque', 'disabled', 'quiet', 'vivid', 'barnyard', 'barnyardy', 'suppleness', 'single', 'barolos', 'going', 'stellar', 'utmost', 'complex', 'cheerful', 'lucid', 'distinct', 'native', 'catalonian', 'riary', 'sliced', 'ageworthiness', 'lipped', 'known', 'grand', 'measured', 'fierce', 'lilting', 'oiliness', 'demure', 'shrill', 'direct', 'legitimate', 'sweetbut', 'muscular', 'dry', 'insipid', 'apparent', 'palate', 'watery', 'mushy', 'pointed', 'third', 'persistant', 'optimal', 'scarce', 'chock', 'bramble', 'permanent', 'molten', 'mainstay', 'unsophisticated', 'generic', 'prime', 'plumper', 'free', 'late', 'hillside', 'manchego', 'granitic', 'medium-', 'overlooked', 'controversial', 'liqueurish', 'stimulating', 'tannic', 'sicilian', 'sprightly', 'thorny', 'elemental', 'u.s.—very', 'tempered', 'blackberrylike', 'marbled', 'upscale', 'characteristic', 'tooth', 'polish', 'unapologetic', 'malvasia', 'tiny', 'strong', 'overripe', 'oversized', 'farnese', 'underlay', 'experimental', 'rewarding', 'prevalent', 'kind', 'More', 'fizzy', 'continued', 'inflected', 'tantalizing', 'sandy', 'playful', 'unending', 'other', 'pinot', 'mere', 'weediness', 'reliable', 'mild', 'slender', 'humid', 'domestic', 'mouthwatering', 'cult', 'prototypical', 'iconic', 'zippy', 'sudden', 'recioto', 'stripped', 'staunch', 'vegetative', 'unimpressed', 'sanguine', 'boxed', 'satisfactory', 'gaseous', 'slim', 'traditonal', 'slovenian', 'raspy', 'uncompromising', 'minimal', 'worth', 'canned', 'acid', 'super', 'riveting', 'bullish', 'leyda', 'nowhere', 'specific', 'architectural', 'lost', 'endless', 'presentable', 'severe', 'rigid', 'overweight', 'actual', 'botanical', 'intellectual', 'artificial', 'extracted', 'serviceable', 'unencumbered', 'much', 'deficient', 'artistic', 'married', 'metalic', 'rocky', 'unconventional', 'superlight', 'friendly', 'chinese', 'jubilant', 'talented', 'toned', 'legendary', 'styled', 'multidimensional', 'seductive', 'powdered', 'patriotic', 'diminished', 'aging', 'coarse', 'figgy', 'perky', 'packed', 'fabulous', 'food-', 'climatic', 'informal', 'out', 'liquid', 'uncanny', 'musk', 'unoaked', 'half', 'innocuous', 'luxuriant', 'poured', 'awesome', 'pear-', 'backwards', 'evident', 'odd', 'biodynamic', 'confusing', 'tawny', 'wholesome', 'terraced', 'disgorgement', 'high-', 'gamy', 'eggy', 'inclined', 'manufactured', 'renowned', 'snappy', 'gentle', 'sweetish', 'understandable', 'shocking', 'underbrush', 'brut', 'spineless', 'blue', 'fresh', 'inviting', 'murky', 'pomegranate', 'cellar', 'deiss', 'colored', 'pleasurable', 'demonstrative', 'scary', 'delighful', 'blockbuster', 'anticipated', 'jagged', 'sandpapery', 'quintessential', 'west', 'commercial', 'northernmost', 'defining', 'evocative', 'salted', 'flowing', 'observable', 'silly', 'careful', 'fresher', 'curious', 'pointless', 'gorgeous', 'soapy', 'emerge', 'negative', 'mid', 'montalcino', 'chiffon', 'mature', 'branded', 'monotone', 'distinguishing', 'possible', 'overpowering', 'swampy', 'vietnamese', 'proud', 'clingy', 'muffled', 'enological', 'central', 'alternative', 'asian', 'certain', 'outstanding', 'striking', 'contrôlée', 'voluptuous', 'acceptable', 'oblique', 'dessicated', 'impérial', 'comparable', 'stingy', 'stalky', 'dull', 'greenness', 'weighty', 'sugary', 'young', 'unknown', 'closed', 'open', 'forthright', 'sensitive', 'vigorous', 'ponderous', 'unrich', 'southerly', 'crude', 'hostile', 'gracious', 'licorice', 'roly', 'pheasant', 'individualistic', 'empty', 'coastal', 'willing', 'scrambled', 'chile', 'basic', 'carefree', 'gradual', 'lithe', 'unique', 'indian', 'whole', 'mediterranean', 'sufficient', 'authoritative', 'inconsequential', 'buoyant', 'subpar', 'bad', '50th', 'joint', 'vidal', 'luxurious', 'sensuous', 'terroirdriven', 'rustic', 'angular', 'popcorn', 'potent', 'caressing', 'seasoned', 'harp', 'bumpy', 'flattering', 'damp', 'exceptional', 'airy', 'overoaked', 'ethiopian', 'separate', 'lateral', 'nobile', 'swiss', 'overbearing', 'tart', 'barrique', 'torbato', 'dependable', 'firm', 'beutiful', 'visceral', 'frothy', 'concentrated', 'portal', 'raw', 'thirst', 'pale', 'major', 'fruitier', 'wishy', 'stewy', 'hedonistic', 'mountainous', 'chesse', 'enologist', 'honeyed', 'beefy', 'main', 'steady', 'grilled', 'stony', '30th', 'superflavorful', 'feathery', 'commendable', 'worrying', 'unintegrated', 'sipping', 'moist', 'sweetened', 'forward', 'sweet', 'disagreeable', 'satisfying', 'stark', 'weak', 'new', 'creamed', 'nered', 'provocative', 'lifted', 'archetypal', 'approachable', 'warmish', 'buttered', 'unlimited', 'dramatic', 'overrun', 'unwanted', 'rough', 'objectionable', 'oatmeal', 'luscious', 'pruny', 'sharp', 'recognizable', 'bloody', 'blocky', 'tight', 'dimensional', 'pekoe', 'brisk', 'edged', 'scracthy', 'cranberryish', 'gold', 'brash', 'charbroiled', 'freshness', 'lushness', 'indomitable', 'due', 'safe', 'economical', 'burgundian', 'polished', 'austrian', 'peek', 'integral', 'southw', 'implied', 'unwavering', 'exemplary', 'bracing', 'multiple', 'bulky', 'greasy', 'unrecognizable', 'international', 'pecorino', 'impenetrable', 'snowy', 'controlled', 'traditional', 'unelegant', 'undemanding', 'grippy', 'cheery', 'grapefruit', 'discernible', 'semisoft', 'small', 'perennial', 'golden', 'fond', 'tonic', 'stinky', 'arugula', 'outdoor', 'nondescript', 'musty', 'corny', 'venerable', 'salinic', 'sound', 'invigorating', 'western', 'mean', 'minimum', 'unappealing', 'celtic', 'compromised', 'graceful', 'beery', 'candied', 'sassy', 'like', 'hilly', 'affordable', 'roast', 'amply', 'different', 'atypical', 'decadent', 'quaffworthy', 'shroud', 'flamboyant', 'dead', 'fortunate', 'keynote', 'sensational', 'weedy', 'brief', 'surprise', 'bored', 'sleek', 'toothpicky', 'very', 'oddball', 'prominent', 'ageable', 'fullish', 'questionable', 'yielding', 'ultracrisp', 'muscat', 'unbalanced', 'average', 'harmonious', 'ultrasoft', 'unadorned', 'reminiscent', 'brusque', 'delineated', 'masculine', 'intregrated', 'distract', 'creamy', 'level', 'cream-', 'bargain-', 'oily', 'stretched', 'silky', 'favorite', 'black', 'assertively', 'boned', 'esteemed', 'barky', 'blooded', 'poised', 'condensed', 'sophisticated', 'clone', 'turkish', 'thrilling', 'identical', 'bitter', 'milky', 'iced', 'famous', 'radiant', '21st', 'potential']\n",
            "2294\n",
            "['lock', 'blackberry', 'cambodian', 'appetizing', 'outgoing', 'brilliant', 'physical', 'canadian', 'feel', 'caribbean', 'überb', 'buttercream', 'conventional', 'side', 'heavilyoaked', 'underscoring', 'confected', 'tense', 'lifeless', 'needed', 'undergrowth', 'basque', 'peach', 'desiccated', 'refreshing', 'awry', 'extended', 'daytime', 'notorious', 'lucky', 'telltale', 'green', 'plantain', 'vegetarian', 'standard', 'vertical', 'joyful', 'plus', 'casual', 'efficient', 'vivacious', 'flavorful', 'untamed', 'drinkable', 'reserve', 'invisible', 'least', 'provacative', 'erratic', 'brutal', 'unleashed', 'needs', 'lipsmacking', 'australian', 'bountiful', 'ominous', 'minus', 'patented', 'passito', 'enthusiastic', 'attuned', 'patchy', 'svelte', 'scant', 'german', 'oaky', 'eucalypt', 'mouthfeel', 'marvelous', 'mannered', 'consistent', 'vinous', 'lightweight', 'albana', 'gulpable', 'broad', 'dainty', 'afforable', 'roasted', 'chiseled', 'fecund', 'alcoholic', 'keen', 'local', 'invasive', 'pristine', 'ok', 'welcome', 'bodied', 'tentative', 'multilevel', 'fluffy', 'gruff', 'worthy', 'alert', 'impossible', 'anonymous', 'shaky', 'spritzy', 'arctic', 'backward', 'ideal', 'muddled', 'grandiose', 'flat', 'additional', 'jumbled', 'pecan', 'unctuous', 'comfortable', 'kosher', 'hard', 'sticky', 'vino', 'jumpy', 'brighter', 'foresty', 'decomposed', 'citrussy', 'balsamic', 'plummy', 'baking', 'second', 'middle', 'overpriced', 'saddle', 'flawless', 'little', 'slight', 'unpredictable', 'visible', 'ample', 'irish', 'extraordinary', 'round', 'overall', 'extreme', 'marinated', 'zesty', 'instant', 'presumptuous', 'irresistable', 'reflective', 'agreeable', 'apt', 'clonal', 'caramel', 'layered', 'south', 'unspecial', 'woody', 'ethnic', 'suited', 'satiny', 'large', 'awkward', 'unfiltered', 'comforting', 'mexican', 'rosy', 'burnished', 'stocky', 'undeniable', 'rosebud', 'devastating', 'floral', 'excessive', 'piercing', 'rounded', 'contrarian', 'volcanic', 'absent', 'ultrasweet', 'resilient', 'fiery', 'insubstantial', 'inner', 'citrus', 'modulated', 'loud', 'glorious', 'fudgy', 'uncommon', 'drunk', 'bracken', 'applaudable', 'elegant', 'red-', 'unabsorbed', 'jelly', 'optimum', 'classical', 'lean', 'gummi', 'curvy', 'stately', 'stemmy', 'forceful', 'metodo', 'piemontese', 'chablisian', 'principal', 'sweetest', 'splendid', 'uneven', 'granular', 'sinuous', 'bistro', 'earthy', 'likely', 'accurate', 'greenery', 'enduring', 'ultimate', 'back', 'aldehydic', 'candy', 'complementary', 'eastern', 'cabernet', 'vanilla-', 'malic', 'everday', 'passionfruit', 'soothing', 'supporting', 'upper', 'irresistible', 'latter', 'front', 'engrossing', 'rotten', 'respectable', 'dessert', 'stinging', 'wholesomeness', 'mulchy', 'veal', 'acai', 'reduced', 'skilled', 'frizzante', 'unblanced', 'palatable', 'midpalate', 'lively', 'successful', 'rhônish', 'cleansing', 'challenging', 'uncomplicated', 'obscure', 'constant', 'immature', 'fat', 'instrumental', 'fruited', 'southwest', 'ultracreamy', 'sappiness', 'boistrous', 'likeable', 'thorough', 'pleasant', 'lengthy', 'blended', 'hollow', 'contrary', 'indistinct', 'hued', 'angry', 'finesse', 'poly', 'imparting', 'wee', 'abnormal', 'perfumed', 'ruby', 'fragrant', 'intense', 'fleshed', 'compact', 'opaque', 'chianti', 'cinnamon', 'gentler', 'identifiable', 'previous', 'missing', 'tidy', 'brûlée', 'capsicum', 'afraid', 'fascinating', 'stale', 'persistent', 'redwood', 'crushed', 'perceptible', 'regular', 'disturbing', 'stacked', 'energetic', 'mainstream', 'immediate', 'portlike', 'pasty', 'forthcoming', 'well', 'lovely', 'excellent', 'tired', 'berry', 'tiring', 'junior', 'sardinian', 'vital', 'masseto', 'paunchy', 'homemade', 'pleased', 'showy', 'minded', 'sumptuous', 'juicy', 'bacterial', 'surprised', 'sagemoor', 'adhesive', 'greek', 'unevenly', 'tinned', 'agile', 'briny', 'piquant', 'sawdust', 'nuevo', '25th', 'crystalline', 'respected', 'pineapple', 'moderate', 'ling', 'pedestrian', 'legal', 'unwooded', 'superior', 'loaded', 'leathery', 'fried', 'gummy', 'usual', 'mashed', 'foggy', 'cherried', 'stainless', 'crystal', 'leaden', 'sturdy', 'many', 'forgettable', 'interesting', 'structural', 'innocent', 'riserva', 'pricey', 'celebrated', '35th', 'pungent', 'unchanging', 'real', 'trim', 'russian', 'underway', 'dandy', 'easy', 'confectionery', 'unclean', 'about', 'mini', 'geen', 'true', 'limes', 'youthful', 'zin', 'structured', 'metallic', 'mulberry', 'regal', 'demanding', 'royal', 'rare', 'reasonable', 'sincere', 'cracked', 'fennel', 'liquorous', 'racy', 'assertive', 'handed', 'indicative', 'negotiable', 'underlying', 'darkly', 'exclusive', 'thin', 'ultraclean', 'multi', 'shuttered', 'winery', 'romanian', 'unsubtle', 'varietalness', 'refreshed', 'laudable', 'tender', 'uncertain', 'profound', 'prickle', 'nervy', 'authentic', 'good', 'pliant', 'nutty', 'flirty', 'split', 'unyielding', 'nervous', 'moody', 'briary', 'recognizeable', 'farmed', 'secure', 'sizable', 'unlikely', 'fruitiness', 'sole', 'croatian', 'non', 'dark', 'multivintage', 'ultrasteep', 'copious', 'minerally', 'plastic', 'lackluster', 'aleatico', 'outer', 'jangled', 'ripe', 'modern', 'blind', 'workable', 'unexpected', 'infamous', 'enticing', 'unexceptional', 'bounteous', 'gawky', 'focused', 'woolly', 'last', 'teetering', 'feisty', 'dryish', 'dismal', 'starchy', 'sizeable', 'malted', 'memorable', 'italian', 'finish', 'unrefined', 'exuberant', 'twiggy', 'massively', 'imaginative', 'clean', 'classy', 'fruitcake', 'peppered', 'unwelcome', 'definitive', 'redundant', 'cedary', 'ethereal', 'eccentric', 'rampant', 'fleshy', 'sundried', 'fake', 'endive', 'pure', 'napa', 'umbrian', 'formulaic', 'serious', 'sensible', 'docile', 'fifth', 'ashy', 'favorable', 'cheap', 'spunky', 'camomile', 'sautéed', 'pillowy', 'predictable', 'temperate', 'honeyish', 'indigenous', 'smart', 'derivative', 'unfair', 'slick', 'unanimous', 'boring', 'oaki', 'cheesy', 'conscious', 'broken', 'unconvential', 'generous', 'expresso', 'present', 'devoid', 'finished', 'strident', 'carmo', 'funkier', 'recent', 'treasured', 'claret', 'strained', 'delectable', 'z', 'northeastern', 'feral', 'posh', 'gargantuan', 'apple', 'displaced', 'rude', 'internal', 'integrated', 'total', 'ubiquitous', 'monontonous', 'offbeat', 'stiff', 'sweaty', 'lustrous', 'conservative', 'supple', 'fatty', 'honeysuckle', 'elusive', 'fit', 'enjoyable', 'marginal', 'shouldered', 'unenjoyable', 'emphasizing', 'intrusive', 'rhubarb', 'nonintegrated', 'vegetal', 'appealing', 'sharpness', 'veritable', 'subliminal', 'cool', 'tri', 'great', 'biblical', 'eld', 'inconsistent', 'fatal', 'honest', 'skinned', 'tough', 'richly', 'heightened', 'bologna', 'high', 'charred', 'frizzy', 'straighforward', 'spiky', 'crafty', 'crisply', 'undefined', 'fair', 'exhilarating', 'huge', 'current', 'ultrapremium', 'detectable', 'toffee', 'attentive', 'dryness', 'most', 'sloppy', 'doc', 'resistant', 'punishing', 'scouring', 'far', 'yeasty', 'smoldering', 'varied', 'nonlinear', 'pyrazinic', 'brittle', 'cordial', 'fancy', 'finishing', 'exquisite', 'bordeaux', 'tertiary', 'peanutty', 'mythological', 'lasting', 'japanese', 'penetrating', 'idiosyncratic', 'hickory', 'pinpointed', 'aromatic', 'accented', 'wondrous', 'tinny', 'leafy', 'coolish', 'asparagus', 'unresolved', 'bubbly', 'realistic', 'gunmetal', 'cardamom', 'relaxed', 'bona', 'clove', 'dominant', 'versatile', 'statuesque', 'oversaturated', 'caramelized', 'essential', 'pronounced', 'final', 'wheaty', 'future', 'mammoth', 'unifying', 'tingling', 'immaculate', 'aloof', 'packagein', 'heavy', 'eggplant', 'tricky', 'wide', 'clacky', 'caramel-', 'smokey', 'varnish', 'inoffensive', 'salty', 'brawny', 'subsequent', 'excess', 'english', 'flawed', 'carbonic', 'mustardy', 'soft', 'featureless', 'meaningful', 'dense', 'pretty', 'subdued', 'sour', 'sheer', 'unpleasurable', 'bi', 'peppery', 'astonishing', 'fashioned', 'inscrutable', 'satèn', 'clear', 'cerebral', 'oriental', 'decanting', 'original', 'only', 'spirited', 'powerful', 'inspired', 'rhubarby', 'carmenère', 'various', 'right', 'leesi', 'midweight', 'exaggerated', 'lingual', 'rific', 'obligatory', 'unearthed', 'culinary', 'choppy', 'underlined', 'definite', 'longterm', 'infinite', 'multinational', 'flavorless', 'near', 'broccoli', 'unnatural', 'conceivable', 'famed', 'semi', 'transparent', 'biting', 'acidic', 'musky', 'promotional', 'freshly', 'translucent', 'double', 'sweetpea', 'offensive', 'enormous', 'ancient', 'discrete', 'unpretentious', 'lavish', 'laced', 'outsized', 'minor', 'seared', 'overwhelming', 'myriad', 'flourish', 'sixteenth', 'orange', 'understatment', 'rambunctious', 'Less', 'further', 'juvenile', 'brimming', 'secondary', 'textured', 'inoxidable', 'vranec', 'clunky', 'affable', 'funky', 'petal', 'thick', 'inelegant', 'outrageous', 'mouthful', 'sure', 'dirty', 'adventurous', 'perfect', 'romantic', 'workhorse', 'sparkling', 'f', 'esque', 'veteran', 'naturale', 'benchmark', 'early', 'tasteful', 'pricy', 'blatant', 'cooler', 'shiraz', 'endangered', 'european', 'classic', 'necessary', 'grainy', 'undistinguished', 'innovative', 'active', 'acrid', 'unwashed', 'overamped', 'monumental', 'substantive', 'softened', 'roasty', 'steamed', 'blackcurrant', 'amazing', 'savory', 'shallow', 'eager', 'toasty', 'saccharine', 'bresaola', 'boysenberry', 'foamy', 'underripe', 'blond', 'longtime', 'faint', 'responsible', 'seaside', 'steamy', 'slippery', 'explosive', 'supercool', 'tangy', 'figured', 'brandied', 'sulfuric', 'special', 'tropical', 'oiled', 'distinguishable', 'convincing', 'spicy', 'revered', 'familiar', 'mouthfilling', 'jellied', 'brown', 'wayward', 'extra', 'stemminess', 'nebbiolo', 'spry', 'noteworthy', 'brownish', 'ferrous', 'narrow', 'deep', 'typical', 'currant', 'teasing', 'tenuous', 'steely', 'whimsical', 'unforced', 'splayed', 'monovarietal', 'campanian', 'cloudy', 'nonmalolactic', 'upfront', 'introductory', 'raisiny', 'messy', 'multilayered', 'prickly', 'immense', 'ordinary', 'numerous', 'vaunted', 'upstanding', 'confess', 'smooth', 'former', 'quinine', 'lead', 'inspiring', 'adept', 'muddy', 'proper', 'petrol', 'whopping', 'acquired', 'likable', 'bubbling', 'sensual', 'inert', 'glossy', 'cynical', 'sangiovese', 'happy', 'undernourished', 'compelling', 'under-$10', 'vintage', 'adaptable', 'industrial', 'mighty', '-', 'garlic', 'slather', 'straight', 'classico', 'delicious', 'mealy', 'sippable', 'aged', 'complete', 'gigantic', 'simplistic', 'premier', 'willful', 'retrained', 'chilean', 'linearly', 'ripasso', 'sexy', 'tamed', 'elder', 'unfined', 'light', 'chalk', 'attractuive', 'next', 'tang', 'professional', 'trustworthy', 'semiastringent', 'gassy', 'pricky', 'pasta', 'admired', 'sticki', 'chunky', 'coquettish', 'evanescent', 'viscous', 'lait', 'moldy', 'alive', 'designate', 'intact', 'feline', 'crisp', 'intricate', 'maritime', 'unabashed', 'mixed', 'unstructured', 'simple', 'lacks', 'estimable', 'terrific', 'medieval', 'grassy', 'costly', 'noble', 'chaparral', 'medoc', 'quaffable', 'pear', 'pert', 'lime', 'concrete', 'everyday', 'soulful', 'spiciness', 'melted', 'mocha', 'finessed', 'terrible', 'ish', 'nice', 'approchable', 'human', 'proportionate', 'fruity', 'margaux', 'manly', 'scaled', 'quite', 'distinguished', 'measurable', 'broody', 'oxidative', 'crispness', 'impressive', 'sunny', 'uplifted', 'fortified', 'amorphous', 'co', 'plentiful', 'tumble', 'breezy', 'comparative', 'spongy', 'brushy', 'ultrarefined', 'wiry', 'bizarre', 'chablis', 'deft', 'ambitious', 'notable', 'unfocused', 'organic', 'abrupt', 'width', 'lactic', 'unbelievable', 'citric', 'imaginable', 'burly', 'mediocre', 'purple', 'able', 'practiced', 'sensory', 'classed', 'considerable', 'slinky', 'festive', 'prestigious', 'past', 'supreme', 'credible', 'expansive', 'aperitif', 'nuanced', 'cutting', 'unrealized', 'unforgettable', 'unsuitable', 'unbounded', 'esoteric', 'shy', 'tempting', 'plucky', 'pebble', 'negociant', 'stout', 'applesauce', 'chive', 'succulent', 'smoked', 'deliciousness', 'crafted', 'newish', 'dank', 'boisterous', 'crisper', 'assorted', 'gutsy', 'fashionable', 'creative', 'custardy', 'advanced', 'obvious', 'inky', 'pithy', 'garrigue', 'volatile', 'contoured', 'sporty', 'filmy', 'cuddly', 'animal', 'prolonged', 'nostalgic', 'flinty', 'upstate', 'undrinkable', 'crème', 'worthwhile', 'op', 'oxidized', 'remarkable', 'oaked', 'unreleased', 'superb', 'Most', 'bare', 'own', 'individual', 'ent', 'fuzzy', 'decent', 'scratchy', 'ultrarich', 'streamlined', 'phenolic', 'mingled', 'diverse', 'superlush', 'pushy', 'harmless', 'faux', 'corpu', 'inexpensive', 'obtuse', 'rosemary', 'particular', 'descombes', 'sleepy', 'inaugural', 'incidental', 'green-', 'cesanese', 'alsatian', 'sizzling', 'malolactic', 'fantastic', 'etched', 'sappy', 'hearted', 'hefty', 'heavenly', 'sublime', 'ensemble', 'unmistakable', 'bold', 'impactful', 'varnishy', 'sonorous', 'bottom', 'overt', 'blown', 'acccessible', 'priorat', 'normal', 'teutonic', 'formal', 'determined', 'crusty', 'spiritous', 'available', 'envelop', 'remote', 'turmeric', 'pine', 'enough', 'regional', 'french', 'limited', 'olivey', 'unexpressive', 'inherent', 'preprandial', 'mass', 'wooly', 'heavyweight', 'argentine', 'even', 'chewy', 'spicebox', 'californian', 'blatantly', 'vast', 'jammy', 'thai', '2nd', 'chemical', 'luminous', 'fowl', 'wet', 'ready', 'glowing', 'forrest', 'porcino', 'outlandish', 'porty', 'washed', 'harsh', 'hawaiian', 'rusty', 'hopeful', 'distant', 'dusty', 'pleasing', 'equal', 'opulent', 'wooded', 'zinny', 'extensive', 'portuguese', 'persuasive', 'outright', 'flimsy', 'chilly', 'assaultive', 'precarious', 'overblown', 'forlorn', 'horseradish', 'uncorked', 'mute', 'crazy', 'medium', 'chief', 'expensive', 'charming', 'palpable', 'olive', 'under-$20', 'leesy', 'whiff', 'smoothness', 'partial', 'decant', 'taut', '13th', 'nearby', 'masterful', 'linear', 'ultratoasty', 'celebratory', 'reductive', 'vineyard', 'rugged', 'dedicated', 'short', 'big', 'net', 'steep', 'residual', 'developed', '’', 'storied', 'unidentifiable', 'magnetic', 'cellarworthy', 'umami', 'resiny', 'glyceriney', 'release', 'anti', 'fun', 'shell', 'desirable', 'archetypical', 'global', 'uneasy', 'blush', 'lovable', 'herbaceous', 'bittersweet', 'fleeting', 'ongoing', 'fledged', 'fine', 'weightless', 'aristocratic', 'vapid', 'massive', 'express', 'plum', 'cooked', 'nonexistent', 'roman', 'seyval', 'shadowy', 'fluid', 'northern', 'heady', 'oceanic', 'maximum', 'watered', 'syrupy', 'overweighted', 'full', 'akin', 'citrusy', 'sulfurous', 'stable', 'unpleasant', 'multivarietal', 'noticeable', 'astringent', 'hidden', 'strange', 'balanced', 'peachy', 'midlevel', 'reedy', 'blustery', 'weight', 'tremendous', 'slavonian', 'bashful', 'mineral', 'strict', 'scarlet', 'neutral', 'flush', 'unexciting', 'southwestern', 'aggressive', 'addictive', 'humongous', 'fruitless', 'unfold', 'excited', 'vibrant', 'entertaining', 'bristling', 'drab', 'pretentious', 'decisive', 'historic', 'congruent', 'capable', 'throttle', 'corpulent', 'requisite', 'stewed', 'adequate', 'tasting', 'gelatinous', 'superopulent', 'funny', 'fussy', 'scorched', 'positive', 'spare', 'troubling', 'elevated', 'voluminous', 'pâtè', 'center', 'sommeli', 'foodworthy', 'exact', 'summertime', 'giant', 'schioppettino', 'mellow', '19th', 'enveloping', 'exciting', 'repressed', 'pressed', 'slovakian', 'pepper', 'yummy', 'dependent', 'exotic', 'horsey', 'plenty', 'unspectacular', 'tartaric', 'passive', 'substantial', 'wise', 'intriguing', 'gritty', 'dynamic', 'collected', 'effective', 'operative', 'diminutive', 'grained', 'quick', 'low', 'yellow', 'abrasive', 'annual', 'foxy', 'skew', 'few', 'flavored', 'farmyard', 'seamless', 'undisclosed', 'important', 'engaging', 'lofty', 'lobst', 'resemble', 'valuable', 'primary', 'deeply', 'customary', 'woodland', 'long', 'rarefied', 'pinched', 'disparate', 'furry', 'seventh', 'hungarian', 'smoky', 'poor', 'adriatic', 'sugared', 'nuragus', 'stern', 'ebullient', 'grapey', 'resplendent', 'african', 'wrong', 'personal', 'stubborn', 'tangerine', 'sized', 'textural', 'laden', 'tame', 'clever', 'uninteresting', 'cosecha', 'grabby', 'interested', 'alluring', 'manageable', 'apporachable', 'uncut', 'precious', 'reddish', 'heft', 'flowery', 'portugese', 'curvaceous', 'plump', 'unsustainable', 'difficult', 'southeast', 'globular', 'muted', 'detailed', 'kitterlé', 'rich', 'commonplace', 'pulpy', 'correct', 'unfussy', 'swordfish', 'drily', 'unoaky', 'cautious', 'oceanside', 'commited', 'general', 'puckery', 'genuine', 'iberian', 'superficial', 'rasping', 'live', 'swell', 'rooty', 'briney', 'ragù', 'underage', 'similar', 'eponymous', 'punchy', 'magic', 'amplified', 'beautiful', 'catchy', 'attractive', 'magical', 'rudimentary', 'uncontrolled', 'cumbersome', 'supportive', 'stunning', 'barbecued', 'unbridled', 'elastic', 'colorful', 'restrained', 'extravagant', 'polite', 'american', 'common', 'submissive', 'awash', 'significant', 'loose', 'viogni', 'brioche', 'less', 'zingy', 'cloying', 'hybrid', 'entire', 'offputting', 'hot', 'modest', 'footed', 'minimalist', 'marshmallow', 'crunchy', 'incredible', 'port', 'close', 'alphabetical', 'unusual', 'mendocino', 'nonaggressive', 'almondy', 'sculpted', 'promising', 'ageworthy', 'chalki', 'fitting', 'prior', 'tangerine-', 'upbeat', 'smitten', 'extraripe', 'reserved', 'divine', 'cooperative', 'squeaky', 'unsweetened', 'smalller', 'nonvintage', 'scrupulous', 'herbal', 'premium', 'subtle', 'key', 'spectacular', 'nuts', 'oops', 'boundary', 'edgy', 'revealing', 'diluted', 'plush', 'thinned', 'refined', 'distinctive', 'swift', 'accent', 'wonderful', 'mineral-', 'opposite', 'competent', 'vinegary', 'solid', 'salient', 'awful', 'evolved', 'warm', 'formidable', 'strawberry', 'initial', 'velvety', 'monolithic', 'prone', 'dried', 'butter-', 'frozen', 'same', 'pouch', 'middling', 'eighth', 'unapproachable', '10–20', 'bight', 'ravioli', 'old', 'country', 'more', 'underdeveloped', 'semisweet', 'pleasureable', 'meaty', 'plum-', 'tasty', 'argentinean', 'd’affile', 'serralunga', 'lazy', 'rubbery', 'precise', 'popular', 'shimmering', 'fragile', 'jeanjean', 'effusive', 'shellfish', 'abundant', 'limpid', 'encouraging', 'confident', 'sipper', 'skillful', 'elaborate', 'marked', 'superripe', 'southern', 'confused', 'wildland', 'wild', 'darn', 'goodly', 'core', 'such', 'magnificent', 'mushroomy', 'top', 'baked', 'underwhelming', 'raisined', 'welcoming', 'provencal', 'lacking', 'pencil', 'absolute', 'ultra', 'weird', 'lemony', 'saturated', 'tutti', 'expressive', 'reticent', 'ultracomplex', 'slow', 'runny', 'brightened', 'clumsy', 'shabby', 'ver', 'overwhelmed', 'pink', 'upright', 'wimpy', 'ungenerous', 'delicate', 'inexpressive', 'espresso', 'varietal', 'bland', 'underneath', 'prune', 'vague', 'wood—42', 'southeastern', 'nimble', 'robust', 'disjointed', 'grillable', 'complicated', 'rowdy', 'plain', 'pounding', 'feminine', 'light-', 'fast', 'understated', 'british', 'scented', 'disappointing', 'embraceable', 'ultraripe', 'proprietary', 'pickle', 'tempranillo', 'iodine', 'suggestive', 'grapy', 'coiled', 'overriding', 'dimentional', 'flaccid', 'vaccum', 'flashy', 'toasted', 'healthy', 'tuscan', 'cold', 'first', 'surprising', 'richness', 'unrewarding', 'electric', 'sore', 'stylish', 'nectarine', 'soupy', 'expansiive', 'chocolaty', 'nuclear', 'financial', 'relative', 'lanky', 'delightful', 'spacious', 'natural', 'several', 'monstrous', 'saucy', 'finicky', 'appropriate', 'moroccan', 'statewide', 'inland', 'warrant', 'eclectic', 'accessible', 'plodding', 'useful', 'stylistic', 'poached', 'sous', 'lusty', 'peppercorn', 'official', 'reliant', 'austere', 'matchstick', 'straightforward', 'recreational', 'faulty', 'spotty', 'synonymous', 'pre', 'easygoing', 'judicious', 'sagrantino', 'fourth', 'hearty', 'admirable', 'raisinskin', 'medicinal', 'impeccable', 'okay', 'stray', 'up', 'unattractive', 'perplexing', 'thickly', 'mown', 'unripe', 'unmistakeable', 'spanish', 'handsome', 'discordant', 'resinous', 'singular', 'wine', 'lush', 'bright', 'dominating', 'precocious', 'rockin', 'blunt', 'pinotesque', 'disabled', 'quiet', 'vivid', 'barnyard', 'barnyardy', 'suppleness', 'single', 'barolos', 'going', 'stellar', 'utmost', 'complex', 'cheerful', 'lucid', 'distinct', 'native', 'catalonian', 'riary', 'sliced', 'ageworthiness', 'lipped', 'known', 'grand', 'measured', 'fierce', 'lilting', 'oiliness', 'demure', 'shrill', 'direct', 'legitimate', 'sweetbut', 'muscular', 'dry', 'insipid', 'apparent', 'palate', 'watery', 'mushy', 'pointed', 'third', 'persistant', 'optimal', 'scarce', 'chock', 'bramble', 'permanent', 'molten', 'mainstay', 'unsophisticated', 'generic', 'prime', 'plumper', 'free', 'late', 'hillside', 'manchego', 'granitic', 'medium-', 'overlooked', 'controversial', 'liqueurish', 'stimulating', 'tannic', 'sicilian', 'sprightly', 'thorny', 'elemental', 'u.s.—very', 'tempered', 'blackberrylike', 'marbled', 'upscale', 'characteristic', 'tooth', 'polish', 'unapologetic', 'malvasia', 'tiny', 'strong', 'overripe', 'oversized', 'farnese', 'underlay', 'experimental', 'rewarding', 'prevalent', 'kind', 'More', 'fizzy', 'continued', 'inflected', 'tantalizing', 'sandy', 'playful', 'unending', 'other', 'pinot', 'mere', 'weediness', 'reliable', 'mild', 'slender', 'humid', 'domestic', 'mouthwatering', 'cult', 'prototypical', 'iconic', 'zippy', 'sudden', 'recioto', 'stripped', 'staunch', 'vegetative', 'unimpressed', 'sanguine', 'boxed', 'satisfactory', 'gaseous', 'slim', 'traditonal', 'slovenian', 'raspy', 'uncompromising', 'minimal', 'worth', 'canned', 'acid', 'super', 'riveting', 'bullish', 'leyda', 'nowhere', 'specific', 'architectural', 'lost', 'endless', 'presentable', 'severe', 'rigid', 'overweight', 'actual', 'botanical', 'intellectual', 'artificial', 'extracted', 'serviceable', 'unencumbered', 'much', 'deficient', 'artistic', 'married', 'metalic', 'rocky', 'unconventional', 'superlight', 'friendly', 'chinese', 'jubilant', 'talented', 'toned', 'legendary', 'styled', 'multidimensional', 'seductive', 'powdered', 'patriotic', 'diminished', 'aging', 'coarse', 'figgy', 'perky', 'packed', 'fabulous', 'food-', 'climatic', 'informal', 'out', 'liquid', 'uncanny', 'musk', 'unoaked', 'half', 'innocuous', 'luxuriant', 'poured', 'awesome', 'pear-', 'backwards', 'evident', 'odd', 'biodynamic', 'confusing', 'tawny', 'wholesome', 'terraced', 'disgorgement', 'high-', 'gamy', 'eggy', 'inclined', 'manufactured', 'renowned', 'snappy', 'gentle', 'sweetish', 'understandable', 'shocking', 'underbrush', 'brut', 'spineless', 'blue', 'fresh', 'inviting', 'murky', 'pomegranate', 'cellar', 'deiss', 'colored', 'pleasurable', 'demonstrative', 'scary', 'delighful', 'blockbuster', 'anticipated', 'jagged', 'sandpapery', 'quintessential', 'west', 'commercial', 'northernmost', 'defining', 'evocative', 'salted', 'flowing', 'observable', 'silly', 'careful', 'fresher', 'curious', 'pointless', 'gorgeous', 'soapy', 'emerge', 'negative', 'mid', 'montalcino', 'chiffon', 'mature', 'branded', 'monotone', 'distinguishing', 'possible', 'overpowering', 'swampy', 'vietnamese', 'proud', 'clingy', 'muffled', 'enological', 'central', 'alternative', 'asian', 'certain', 'outstanding', 'striking', 'contrôlée', 'voluptuous', 'acceptable', 'oblique', 'dessicated', 'impérial', 'comparable', 'stingy', 'stalky', 'dull', 'greenness', 'weighty', 'sugary', 'young', 'unknown', 'closed', 'open', 'forthright', 'sensitive', 'vigorous', 'ponderous', 'unrich', 'southerly', 'crude', 'hostile', 'gracious', 'licorice', 'roly', 'pheasant', 'individualistic', 'empty', 'coastal', 'willing', 'scrambled', 'chile', 'basic', 'carefree', 'gradual', 'lithe', 'unique', 'indian', 'whole', 'mediterranean', 'sufficient', 'authoritative', 'inconsequential', 'buoyant', 'subpar', 'bad', '50th', 'joint', 'vidal', 'luxurious', 'sensuous', 'terroirdriven', 'rustic', 'angular', 'popcorn', 'potent', 'caressing', 'seasoned', 'harp', 'bumpy', 'flattering', 'damp', 'exceptional', 'airy', 'overoaked', 'ethiopian', 'separate', 'lateral', 'nobile', 'swiss', 'overbearing', 'tart', 'barrique', 'torbato', 'dependable', 'firm', 'beutiful', 'visceral', 'frothy', 'concentrated', 'portal', 'raw', 'thirst', 'pale', 'major', 'fruitier', 'wishy', 'stewy', 'hedonistic', 'mountainous', 'chesse', 'enologist', 'honeyed', 'beefy', 'main', 'steady', 'grilled', 'stony', '30th', 'superflavorful', 'feathery', 'commendable', 'worrying', 'unintegrated', 'sipping', 'moist', 'sweetened', 'forward', 'sweet', 'disagreeable', 'satisfying', 'stark', 'weak', 'new', 'creamed', 'nered', 'provocative', 'lifted', 'archetypal', 'approachable', 'warmish', 'buttered', 'unlimited', 'dramatic', 'overrun', 'unwanted', 'rough', 'objectionable', 'oatmeal', 'luscious', 'pruny', 'sharp', 'recognizable', 'bloody', 'blocky', 'tight', 'dimensional', 'pekoe', 'brisk', 'edged', 'scracthy', 'cranberryish', 'gold', 'brash', 'charbroiled', 'freshness', 'lushness', 'indomitable', 'due', 'safe', 'economical', 'burgundian', 'polished', 'austrian', 'peek', 'integral', 'southw', 'implied', 'unwavering', 'exemplary', 'bracing', 'multiple', 'bulky', 'greasy', 'unrecognizable', 'international', 'pecorino', 'impenetrable', 'snowy', 'controlled', 'traditional', 'unelegant', 'undemanding', 'grippy', 'cheery', 'grapefruit', 'discernible', 'semisoft', 'small', 'perennial', 'golden', 'fond', 'tonic', 'stinky', 'arugula', 'outdoor', 'nondescript', 'musty', 'corny', 'venerable', 'salinic', 'sound', 'invigorating', 'western', 'mean', 'minimum', 'unappealing', 'celtic', 'compromised', 'graceful', 'beery', 'candied', 'sassy', 'like', 'hilly', 'affordable', 'roast', 'amply', 'different', 'atypical', 'decadent', 'quaffworthy', 'shroud', 'flamboyant', 'dead', 'fortunate', 'keynote', 'sensational', 'weedy', 'brief', 'surprise', 'bored', 'sleek', 'toothpicky', 'very', 'oddball', 'prominent', 'ageable', 'fullish', 'questionable', 'yielding', 'ultracrisp', 'muscat', 'unbalanced', 'average', 'harmonious', 'ultrasoft', 'unadorned', 'reminiscent', 'brusque', 'delineated', 'masculine', 'intregrated', 'distract', 'creamy', 'level', 'cream-', 'bargain-', 'oily', 'stretched', 'silky', 'favorite', 'black', 'assertively', 'boned', 'esteemed', 'barky', 'blooded', 'poised', 'condensed', 'sophisticated', 'clone', 'turkish', 'thrilling', 'identical', 'bitter', 'milky', 'iced', 'famous', 'radiant', '21st', 'potential']\n"
          ]
        }
      ],
      "source": [
        "print(len(list_adj_unique))\n",
        "print(list_adj_unique)\n",
        "\n",
        "list_adj_unique.remove('red')\n",
        "list_adj_unique.remove('white')\n",
        "list_adj_unique.remove('rose')\n",
        "\n",
        "\n",
        "print(len(list_adj_unique))\n",
        "print(list_adj_unique)"
      ]
    },
    {
      "cell_type": "markdown",
      "metadata": {
        "id": "jOQYWsjleeC7"
      },
      "source": [
        "create feature vectors"
      ]
    },
    {
      "cell_type": "code",
      "execution_count": 16,
      "metadata": {
        "id": "ce58oQENeeC7",
        "outputId": "9aaeabcb-91d7-4ecf-daab-4bf15640e037",
        "colab": {
          "base_uri": "https://localhost:8080/"
        }
      },
      "outputs": [
        {
          "output_type": "stream",
          "name": "stdout",
          "text": [
            "(10000, 2294)\n",
            "(1000, 2294)\n"
          ]
        }
      ],
      "source": [
        "import numpy \n",
        "\n",
        "train_features = numpy.zeros((len(train_reviews), len(list_adj_unique)))\n",
        "test_features = numpy.zeros((len(test_reviews), len(list_adj_unique)))\n",
        "\n",
        "print(train_features.shape)\n",
        "print(test_features.shape)"
      ]
    },
    {
      "cell_type": "code",
      "execution_count": 17,
      "metadata": {
        "id": "327cyAN4eeC7"
      },
      "outputs": [],
      "source": [
        "import spacy\n",
        "\n",
        "nlp = spacy.load('en_core_web_sm')\n",
        "\n",
        "train_doc_reviews = nlp.pipe(train_reviews)\n",
        "\n",
        "for review, f in zip(train_doc_reviews, train_features):\n",
        "    tokens_list = [token.lemma_ for token in review]\n",
        "    #print(tokens_list)\n",
        "    for term in list_adj_unique:\n",
        "        if term in tokens_list:\n",
        "            term_id = list_adj_unique.index(term)\n",
        "            f[term_id] = 1"
      ]
    },
    {
      "cell_type": "code",
      "execution_count": 18,
      "metadata": {
        "id": "0vvHwabxeeC7"
      },
      "outputs": [],
      "source": [
        "import spacy\n",
        "\n",
        "nlp = spacy.load('en_core_web_sm')\n",
        "\n",
        "test_doc_reviews = nlp.pipe(test_reviews)\n",
        "\n",
        "for review, f in zip(test_doc_reviews, test_features):\n",
        "    tokens_list = [token.lemma_ for token in review]\n",
        "    #print(tokens_list)\n",
        "    for term in list_adj_unique:\n",
        "        if term in tokens_list:\n",
        "            term_id = list_adj_unique.index(term)\n",
        "            f[term_id] = 1"
      ]
    },
    {
      "cell_type": "code",
      "execution_count": 19,
      "metadata": {
        "id": "fZpT-c1beeC7",
        "outputId": "afa9bd82-9754-48cc-c5a7-7b6f381f4300",
        "colab": {
          "base_uri": "https://localhost:8080/"
        }
      },
      "outputs": [
        {
          "output_type": "stream",
          "name": "stdout",
          "text": [
            "['Red' 'Rose' 'White' 'unk']\n",
            "{'C': 1.0, 'class_weight': None, 'dual': False, 'fit_intercept': True, 'intercept_scaling': 1, 'l1_ratio': None, 'max_iter': 100, 'multi_class': 'auto', 'n_jobs': None, 'penalty': 'l2', 'random_state': None, 'solver': 'lbfgs', 'tol': 0.0001, 'verbose': 0, 'warm_start': False}\n"
          ]
        },
        {
          "output_type": "stream",
          "name": "stderr",
          "text": [
            "/usr/local/lib/python3.7/dist-packages/sklearn/linear_model/_logistic.py:818: ConvergenceWarning: lbfgs failed to converge (status=1):\n",
            "STOP: TOTAL NO. of ITERATIONS REACHED LIMIT.\n",
            "\n",
            "Increase the number of iterations (max_iter) or scale the data as shown in:\n",
            "    https://scikit-learn.org/stable/modules/preprocessing.html\n",
            "Please also refer to the documentation for alternative solver options:\n",
            "    https://scikit-learn.org/stable/modules/linear_model.html#logistic-regression\n",
            "  extra_warning_msg=_LOGISTIC_SOLVER_CONVERGENCE_MSG,\n"
          ]
        }
      ],
      "source": [
        "#In sklearn, all machine learning models are implemented as Python classes\n",
        "from sklearn.linear_model import LogisticRegression\n",
        "\n",
        "# Make an instance of the Model from LogisticRegression class\n",
        "# all parameters not specified are set to their defaults\n",
        "lr_adj = LogisticRegression()\n",
        "\n",
        "# Train the model on the data, storing the information learned from the dat`a\n",
        "# Model is learning the relationship between digits (x_train) and labels (y_train)\n",
        "lr_adj.fit(train_features, train_colors)\n",
        "\n",
        "# Let's see what are the possible labels to predict (and in which order they are stored)\n",
        "print(lr_adj.classes_)\n",
        "\n",
        "# We can get additional information about all the parameters used with LogReg model\n",
        "print(lr_adj.get_params())"
      ]
    },
    {
      "cell_type": "markdown",
      "metadata": {
        "id": "K4fLcER5eeC8"
      },
      "source": [
        "Define a \"predict\" function that prints some additional information"
      ]
    },
    {
      "cell_type": "code",
      "execution_count": 20,
      "metadata": {
        "id": "q1jlmMQeeeC8"
      },
      "outputs": [],
      "source": [
        "def predict(index):\n",
        "    # Print the review of the index\n",
        "    print(test_reviews[index])\n",
        "    # print the features of the index\n",
        "    print(test_features[index])\n",
        "    # print all terms\n",
        "    #print(len(test_features))\n",
        "    for i in range(0, len(test_features[index])):\n",
        "        #print(i)\n",
        "        if test_features[index][i] == 1:\n",
        "            print(list_adj_unique[i])\n",
        "    print()\n",
        "    # print the correct label of the index\n",
        "    print(test_colors[index])\n",
        "\n",
        "    print()\n",
        "    print(\"Predictions:\")\n",
        "    # print the prediction for the features of this index\n",
        "    print(lr_adj.predict([test_features[index]]))\n",
        "    # print the probabilities for each label predictions\n",
        "    print(lr_adj.predict_proba([test_features[index]]))\n",
        "    # print all possible labels\n",
        "    print(lr_adj.classes_)\n",
        "    print()"
      ]
    },
    {
      "cell_type": "code",
      "execution_count": 21,
      "metadata": {
        "id": "kij7snCleeC8",
        "outputId": "3452e059-7b15-4c0c-efe4-bb2aaba6120e",
        "colab": {
          "base_uri": "https://localhost:8080/"
        }
      },
      "outputs": [
        {
          "output_type": "stream",
          "name": "stdout",
          "text": [
            "Leather, spice, tobacco and tea emerge from the nose of this Sicilian blend of Nero d’Avola, Syrah, Merlot, Cabernet and Petit Verdot. You’ll get aromas of clove, allspice and vanilla behind vibrant blueberry and raspberry.\n",
            "[0. 0. 0. ... 0. 0. 0.]\n",
            "clove\n",
            "vibrant\n",
            "sicilian\n",
            "emerge\n",
            "\n",
            "Red\n",
            "\n",
            "Predictions:\n",
            "['Red']\n",
            "[[0.77069234 0.04934914 0.16585378 0.01410474]]\n",
            "['Red' 'Rose' 'White' 'unk']\n",
            "\n",
            "I haven’t been a fan of Santa Ynez Cabs for the simple reason that they’re so seldom ripe. You get this green, herb and mint streak that’s not flattering to Cab’s tannins. This wine is in that vein. \n",
            "[0. 0. 0. ... 0. 0. 0.]\n",
            "green\n",
            "ripe\n",
            "simple\n",
            "’\n",
            "wine\n",
            "flattering\n",
            "\n",
            "Red\n",
            "\n",
            "Predictions:\n",
            "['White']\n",
            "[[0.22309658 0.00216217 0.76830962 0.00643163]]\n",
            "['Red' 'Rose' 'White' 'unk']\n",
            "\n"
          ]
        }
      ],
      "source": [
        "predict(0)\n",
        "predict(10)"
      ]
    },
    {
      "cell_type": "code",
      "source": [
        "import pickle\n",
        "\n",
        "# Save to file in the current working directory\n",
        "pkl_filename = \"logreg_adj_Key.pkl\"\n",
        "with open(pkl_filename, 'wb') as file:\n",
        "    pickle.dump(lr_adj, file)"
      ],
      "metadata": {
        "id": "G_XRRHEuk_Qi"
      },
      "execution_count": 22,
      "outputs": []
    },
    {
      "cell_type": "code",
      "source": [
        ""
      ],
      "metadata": {
        "id": "NwqdtQTilEqa"
      },
      "execution_count": null,
      "outputs": []
    }
  ]
}