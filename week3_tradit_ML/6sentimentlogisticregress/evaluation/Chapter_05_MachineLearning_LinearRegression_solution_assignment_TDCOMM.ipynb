{
  "cells": [
    {
      "cell_type": "markdown",
      "metadata": {
        "id": "e9kmArUo3j7u"
      },
      "source": [
        "# Chapter 5: Machine Learning - Linear Regression\n",
        "\n"
      ]
    },
    {
      "cell_type": "markdown",
      "metadata": {
        "id": "GTkavtRK3j7y"
      },
      "source": [
        "## Supervised machine learning: Regression\n",
        "\n",
        "As you remember, we talked about two types of supervised machine learning approaches:<br>\n",
        "__Classification__: Predicting a class. For instance, to determine if a patient is sick, if an email is spam or predicting the color of a wine based on its reviews.<br>\n",
        "__Regression__: Predicting a numerical value. It would be the case of the prices of a house when choosing different options or the demand of occupation of a hotel.<br>\n",
        "\n",
        "We will work on the same data set further to build a regression model, in order to predict the score of a wine based on its reviews. In this regression task, the predictions we make will be numerical values between 80 and 100 (higher means a better wine!). While in classification, the classes do not have any relations to each other, in regression the numbers we predict are ordered! In other words, the different values we can predict have an ordinality relationship. \n",
        "\n",
        "Ordinality: A number indicating the position of something in a series or order.\n",
        "\n",
        "We will use the same feature extraction techniques to build a regression model:\n",
        "1. Extract features from raw data\n",
        "2. Train a model using the features and the correct values (wine score) in the training set\n",
        "3. Use the trained model to predict the actual values in the test set \n",
        "\n",
        "<img src=\"img/ml2.png\" alt=\"Drawing\" style=\"width: 700px;\"/>"
      ]
    },
    {
      "cell_type": "markdown",
      "metadata": {
        "id": "uEUDrkp53j7y"
      },
      "source": [
        "### Linear Regression\n",
        "\n",
        "If you remember, we used the following equation for logistic regression:\n",
        "\n",
        "\n",
        "\\begin{align}\n",
        "z = c_0+c_1*𝑥_1+c_2*𝑥_2+...+c_𝑛*𝑥_𝑛\n",
        "\\end{align}\n",
        "\n",
        "\n",
        "In this equation we have n features (represented by x) and n coefficients (weights) per feature (represented by c). Finally, we have c0, which represents the intercept (or bias), which models the predicted value in the absence of any of the features (when the coefficients of each feature is 0, the only remaining value in this equation will be c0).\n",
        "\n",
        "We also discussed that the value of z lies between -∞ and +∞. \n",
        "In logistic regression, we apply the sigmoid (or logistic function) to this value to obtain prob. values between 0 and 1 and he final probability scores let the model predict the label. \n",
        "\n",
        "In linear regression, as the values we predict are continuous, we don't need any modifications. We will let the model predict simply a value between  -∞ and +∞.\n",
        "\n",
        "Let's try to build a simple linear regression model using 10 terms as features from a given review, to predict the score of the corresponding wine!\n",
        "\n",
        "Let's start from scratch and open our training data:\n"
      ]
    },
    {
      "cell_type": "code",
      "execution_count": 1,
      "metadata": {
        "colab": {
          "base_uri": "https://localhost:8080/",
          "height": 1000
        },
        "id": "JQ4Vav-k3j7z",
        "outputId": "22170795-9d09-4748-f21c-25321fe61d71"
      },
      "outputs": [
        {
          "output_type": "execute_result",
          "data": {
            "text/plain": [
              "                                               File name  \\\n",
              "0            agroargento-2004-timoleonte-red-sicilia.txt   \n",
              "1      ceretto-2000-blange-italian-white-arneis-piedm...   \n",
              "2      edna-valley-vineyard-1998-paragon-pinot-noir-c...   \n",
              "3      arnaldo-caprai-2011-grecante-italian-white-gre...   \n",
              "4      cline-2003-ancient-vines-mourvedre-central-coa...   \n",
              "...                                                  ...   \n",
              "15277    materra-2010-sauvignon-blanc-napa-oak-knoll.txt   \n",
              "15278   hillinger-2004-other-red-zweigelt-burgenland.txt   \n",
              "15279  bighorn-2003-sugerloaf-mountain-vineyard-shira...   \n",
              "15280      kumeu-river-2007-village-chardonnay-kumeu.txt   \n",
              "15281         zull-2011-gruner-veltliner-weinviertel.txt   \n",
              "\n",
              "                                                     URL  Color Misc1 Misc2  \\\n",
              "0      http://buyingguide.winemag.com/catalog/agroarg...    Red    no    no   \n",
              "1      http://buyingguide.winemag.com/catalog/ceretto...  White    no    no   \n",
              "2      http://buyingguide.winemag.com/catalog/edna-va...    Red    no    no   \n",
              "3      http://buyingguide.winemag.com/catalog/arnaldo...  White    no    no   \n",
              "4      http://buyingguide.winemag.com/catalog/cline-2...    Red    no    no   \n",
              "...                                                  ...    ...   ...   ...   \n",
              "15277  http://buyingguide.winemag.com/catalog/materra...  White    no    no   \n",
              "15278  http://buyingguide.winemag.com/catalog/hilling...    Red    no    no   \n",
              "15279  http://buyingguide.winemag.com/catalog/bighorn...    Red    no    no   \n",
              "15280  http://buyingguide.winemag.com/catalog/kumeu-r...  White    no    no   \n",
              "15281  http://buyingguide.winemag.com/catalog/zull-20...  White    no    no   \n",
              "\n",
              "                                                   Brand  Year Price v1  \\\n",
              "0              AgroArgento 2004 Timoleonte Red (Sicilia)  2004      unk   \n",
              "1                  Ceretto 2000 Blangé Arneis (Piedmont)  2000       30   \n",
              "2      Edna Valley Vineyard 1998 Paragon Pinot Noir (...  1998       19   \n",
              "3      Arnaldo Caprai 2011 Grecante Grechetto (Colli ...  2011       20   \n",
              "4      Cline 2003 Ancient Vines Mourvèdre (Contra Cos...  2003       18   \n",
              "...                                                  ...   ...      ...   \n",
              "15277           Materra 2010 Sauvignon Blanc (Oak Knoll)  2010       18   \n",
              "15278               Hillinger 2004 Zweigelt (Burgenland)  2004       18   \n",
              "15279  Bighorn 2003 Sugerloaf Mountain Vineyard Syrah...  2003       30   \n",
              "15280        Kumeu River 2007 Village Chardonnay (Kumeu)  2007       19   \n",
              "15281           Zull 2011 Grüner Veltliner (Weinviertel)  2011       20   \n",
              "\n",
              "      Price v2            Grape type v1  ... Alcohol  \\\n",
              "0          unk                red_blend  ...  13.5%    \n",
              "1          $30     arneis_italian_white  ...    12%    \n",
              "2          $19               pinot_noir  ...  14.2%    \n",
              "3          $20  grechetto_italian_white  ...  13.5%    \n",
              "4          $18                mourvèdre  ...     unk   \n",
              "...        ...                      ...  ...     ...   \n",
              "15277      $18          sauvignon_blanc  ...  14.2%    \n",
              "15278      $18       zweigelt_other_red  ...    13%    \n",
              "15279      $30                    syrah  ...     unk   \n",
              "15280      $19               chardonnay  ...    13%    \n",
              "15281      $20         gruner_veltliner  ...  12.5%    \n",
              "\n",
              "                                               Region      Country  \\\n",
              "0                          Sicilia, Sicily & Sardinia        Italy   \n",
              "1                                            Piedmont        Italy   \n",
              "2              Edna Valley, Central Coast, California           US   \n",
              "3                        Colli Martani, Central Italy        Italy   \n",
              "4      Contra Costa County, Central Coast, California           US   \n",
              "...                                               ...          ...   \n",
              "15277                     Oak Knoll, Napa, California           US   \n",
              "15278                                      Burgenland      Austria   \n",
              "15279                   Napa Valley, Napa, California           US   \n",
              "15280                                           Kumeu  New Zealand   \n",
              "15281                                     Weinviertel      Austria   \n",
              "\n",
              "                          Misc4 Score v1 Score v2        Reviewer  \\\n",
              "0                           unk       90       90            M.L.   \n",
              "1             Moët Hennessy USA       87       87            D.T.   \n",
              "2                           unk       86       86            S.H.   \n",
              "3      Folio Fine Wine Partners       88       88            M.L.   \n",
              "4                           unk       84       84            S.H.   \n",
              "...                         ...      ...      ...             ...   \n",
              "15277                       unk       85       85            S.H.   \n",
              "15278            Prescott Wines       90       90  Joe Czerwinski   \n",
              "15279                       unk       90       90            S.H.   \n",
              "15280        Wilson Daniels Ltd       86       86  Joe Czerwinski   \n",
              "15281     Magellan Wine Imports       90       90      Roger Voss   \n",
              "\n",
              "                                                  Review  Review date Misc5  \n",
              "0      Leather, spice, tobacco and tea emerge from th...     3/1/2009   unk  \n",
              "1      So pale that it’s almost colorless, the Blangé...     9/1/2001   unk  \n",
              "2      Comes across on the earthy, herbal side, altho...    10/1/2000   unk  \n",
              "3      What a wonderful wine to pair with spaghetti a...    10/1/2012   unk  \n",
              "4      What’s puzzling about this wine is why, given ...     4/1/2005   unk  \n",
              "...                                                  ...          ...   ...  \n",
              "15277  Here’s a brisk, clean Sauvignon Blanc, packed ...    12/1/2011   unk  \n",
              "15278  A plump, juicy rendition of Zweigelt, with whi...     8/1/2006   unk  \n",
              "15279  This rich, full-bodied Syrah aspires to a Nort...   12/15/2005   unk  \n",
              "15280  The entry-level Chardonnay from Kumeu River gi...     9/1/2009   unk  \n",
              "15281  A wine that shows all the typicity of cool-cli...     7/1/2012   unk  \n",
              "\n",
              "[15282 rows x 23 columns]"
            ],
            "text/html": [
              "\n",
              "  <div id=\"df-55b23050-2efa-41dd-a55b-eaaca85f72a7\">\n",
              "    <div class=\"colab-df-container\">\n",
              "      <div>\n",
              "<style scoped>\n",
              "    .dataframe tbody tr th:only-of-type {\n",
              "        vertical-align: middle;\n",
              "    }\n",
              "\n",
              "    .dataframe tbody tr th {\n",
              "        vertical-align: top;\n",
              "    }\n",
              "\n",
              "    .dataframe thead th {\n",
              "        text-align: right;\n",
              "    }\n",
              "</style>\n",
              "<table border=\"1\" class=\"dataframe\">\n",
              "  <thead>\n",
              "    <tr style=\"text-align: right;\">\n",
              "      <th></th>\n",
              "      <th>File name</th>\n",
              "      <th>URL</th>\n",
              "      <th>Color</th>\n",
              "      <th>Misc1</th>\n",
              "      <th>Misc2</th>\n",
              "      <th>Brand</th>\n",
              "      <th>Year</th>\n",
              "      <th>Price v1</th>\n",
              "      <th>Price v2</th>\n",
              "      <th>Grape type v1</th>\n",
              "      <th>...</th>\n",
              "      <th>Alcohol</th>\n",
              "      <th>Region</th>\n",
              "      <th>Country</th>\n",
              "      <th>Misc4</th>\n",
              "      <th>Score v1</th>\n",
              "      <th>Score v2</th>\n",
              "      <th>Reviewer</th>\n",
              "      <th>Review</th>\n",
              "      <th>Review date</th>\n",
              "      <th>Misc5</th>\n",
              "    </tr>\n",
              "  </thead>\n",
              "  <tbody>\n",
              "    <tr>\n",
              "      <th>0</th>\n",
              "      <td>agroargento-2004-timoleonte-red-sicilia.txt</td>\n",
              "      <td>http://buyingguide.winemag.com/catalog/agroarg...</td>\n",
              "      <td>Red</td>\n",
              "      <td>no</td>\n",
              "      <td>no</td>\n",
              "      <td>AgroArgento 2004 Timoleonte Red (Sicilia)</td>\n",
              "      <td>2004</td>\n",
              "      <td>unk</td>\n",
              "      <td>unk</td>\n",
              "      <td>red_blend</td>\n",
              "      <td>...</td>\n",
              "      <td>13.5%</td>\n",
              "      <td>Sicilia, Sicily &amp; Sardinia</td>\n",
              "      <td>Italy</td>\n",
              "      <td>unk</td>\n",
              "      <td>90</td>\n",
              "      <td>90</td>\n",
              "      <td>M.L.</td>\n",
              "      <td>Leather, spice, tobacco and tea emerge from th...</td>\n",
              "      <td>3/1/2009</td>\n",
              "      <td>unk</td>\n",
              "    </tr>\n",
              "    <tr>\n",
              "      <th>1</th>\n",
              "      <td>ceretto-2000-blange-italian-white-arneis-piedm...</td>\n",
              "      <td>http://buyingguide.winemag.com/catalog/ceretto...</td>\n",
              "      <td>White</td>\n",
              "      <td>no</td>\n",
              "      <td>no</td>\n",
              "      <td>Ceretto 2000 Blangé Arneis (Piedmont)</td>\n",
              "      <td>2000</td>\n",
              "      <td>30</td>\n",
              "      <td>$30</td>\n",
              "      <td>arneis_italian_white</td>\n",
              "      <td>...</td>\n",
              "      <td>12%</td>\n",
              "      <td>Piedmont</td>\n",
              "      <td>Italy</td>\n",
              "      <td>Moët Hennessy USA</td>\n",
              "      <td>87</td>\n",
              "      <td>87</td>\n",
              "      <td>D.T.</td>\n",
              "      <td>So pale that it’s almost colorless, the Blangé...</td>\n",
              "      <td>9/1/2001</td>\n",
              "      <td>unk</td>\n",
              "    </tr>\n",
              "    <tr>\n",
              "      <th>2</th>\n",
              "      <td>edna-valley-vineyard-1998-paragon-pinot-noir-c...</td>\n",
              "      <td>http://buyingguide.winemag.com/catalog/edna-va...</td>\n",
              "      <td>Red</td>\n",
              "      <td>no</td>\n",
              "      <td>no</td>\n",
              "      <td>Edna Valley Vineyard 1998 Paragon Pinot Noir (...</td>\n",
              "      <td>1998</td>\n",
              "      <td>19</td>\n",
              "      <td>$19</td>\n",
              "      <td>pinot_noir</td>\n",
              "      <td>...</td>\n",
              "      <td>14.2%</td>\n",
              "      <td>Edna Valley, Central Coast, California</td>\n",
              "      <td>US</td>\n",
              "      <td>unk</td>\n",
              "      <td>86</td>\n",
              "      <td>86</td>\n",
              "      <td>S.H.</td>\n",
              "      <td>Comes across on the earthy, herbal side, altho...</td>\n",
              "      <td>10/1/2000</td>\n",
              "      <td>unk</td>\n",
              "    </tr>\n",
              "    <tr>\n",
              "      <th>3</th>\n",
              "      <td>arnaldo-caprai-2011-grecante-italian-white-gre...</td>\n",
              "      <td>http://buyingguide.winemag.com/catalog/arnaldo...</td>\n",
              "      <td>White</td>\n",
              "      <td>no</td>\n",
              "      <td>no</td>\n",
              "      <td>Arnaldo Caprai 2011 Grecante Grechetto (Colli ...</td>\n",
              "      <td>2011</td>\n",
              "      <td>20</td>\n",
              "      <td>$20</td>\n",
              "      <td>grechetto_italian_white</td>\n",
              "      <td>...</td>\n",
              "      <td>13.5%</td>\n",
              "      <td>Colli Martani, Central Italy</td>\n",
              "      <td>Italy</td>\n",
              "      <td>Folio Fine Wine Partners</td>\n",
              "      <td>88</td>\n",
              "      <td>88</td>\n",
              "      <td>M.L.</td>\n",
              "      <td>What a wonderful wine to pair with spaghetti a...</td>\n",
              "      <td>10/1/2012</td>\n",
              "      <td>unk</td>\n",
              "    </tr>\n",
              "    <tr>\n",
              "      <th>4</th>\n",
              "      <td>cline-2003-ancient-vines-mourvedre-central-coa...</td>\n",
              "      <td>http://buyingguide.winemag.com/catalog/cline-2...</td>\n",
              "      <td>Red</td>\n",
              "      <td>no</td>\n",
              "      <td>no</td>\n",
              "      <td>Cline 2003 Ancient Vines Mourvèdre (Contra Cos...</td>\n",
              "      <td>2003</td>\n",
              "      <td>18</td>\n",
              "      <td>$18</td>\n",
              "      <td>mourvèdre</td>\n",
              "      <td>...</td>\n",
              "      <td>unk</td>\n",
              "      <td>Contra Costa County, Central Coast, California</td>\n",
              "      <td>US</td>\n",
              "      <td>unk</td>\n",
              "      <td>84</td>\n",
              "      <td>84</td>\n",
              "      <td>S.H.</td>\n",
              "      <td>What’s puzzling about this wine is why, given ...</td>\n",
              "      <td>4/1/2005</td>\n",
              "      <td>unk</td>\n",
              "    </tr>\n",
              "    <tr>\n",
              "      <th>...</th>\n",
              "      <td>...</td>\n",
              "      <td>...</td>\n",
              "      <td>...</td>\n",
              "      <td>...</td>\n",
              "      <td>...</td>\n",
              "      <td>...</td>\n",
              "      <td>...</td>\n",
              "      <td>...</td>\n",
              "      <td>...</td>\n",
              "      <td>...</td>\n",
              "      <td>...</td>\n",
              "      <td>...</td>\n",
              "      <td>...</td>\n",
              "      <td>...</td>\n",
              "      <td>...</td>\n",
              "      <td>...</td>\n",
              "      <td>...</td>\n",
              "      <td>...</td>\n",
              "      <td>...</td>\n",
              "      <td>...</td>\n",
              "      <td>...</td>\n",
              "    </tr>\n",
              "    <tr>\n",
              "      <th>15277</th>\n",
              "      <td>materra-2010-sauvignon-blanc-napa-oak-knoll.txt</td>\n",
              "      <td>http://buyingguide.winemag.com/catalog/materra...</td>\n",
              "      <td>White</td>\n",
              "      <td>no</td>\n",
              "      <td>no</td>\n",
              "      <td>Materra 2010 Sauvignon Blanc (Oak Knoll)</td>\n",
              "      <td>2010</td>\n",
              "      <td>18</td>\n",
              "      <td>$18</td>\n",
              "      <td>sauvignon_blanc</td>\n",
              "      <td>...</td>\n",
              "      <td>14.2%</td>\n",
              "      <td>Oak Knoll, Napa, California</td>\n",
              "      <td>US</td>\n",
              "      <td>unk</td>\n",
              "      <td>85</td>\n",
              "      <td>85</td>\n",
              "      <td>S.H.</td>\n",
              "      <td>Here’s a brisk, clean Sauvignon Blanc, packed ...</td>\n",
              "      <td>12/1/2011</td>\n",
              "      <td>unk</td>\n",
              "    </tr>\n",
              "    <tr>\n",
              "      <th>15278</th>\n",
              "      <td>hillinger-2004-other-red-zweigelt-burgenland.txt</td>\n",
              "      <td>http://buyingguide.winemag.com/catalog/hilling...</td>\n",
              "      <td>Red</td>\n",
              "      <td>no</td>\n",
              "      <td>no</td>\n",
              "      <td>Hillinger 2004 Zweigelt (Burgenland)</td>\n",
              "      <td>2004</td>\n",
              "      <td>18</td>\n",
              "      <td>$18</td>\n",
              "      <td>zweigelt_other_red</td>\n",
              "      <td>...</td>\n",
              "      <td>13%</td>\n",
              "      <td>Burgenland</td>\n",
              "      <td>Austria</td>\n",
              "      <td>Prescott Wines</td>\n",
              "      <td>90</td>\n",
              "      <td>90</td>\n",
              "      <td>Joe Czerwinski</td>\n",
              "      <td>A plump, juicy rendition of Zweigelt, with whi...</td>\n",
              "      <td>8/1/2006</td>\n",
              "      <td>unk</td>\n",
              "    </tr>\n",
              "    <tr>\n",
              "      <th>15279</th>\n",
              "      <td>bighorn-2003-sugerloaf-mountain-vineyard-shira...</td>\n",
              "      <td>http://buyingguide.winemag.com/catalog/bighorn...</td>\n",
              "      <td>Red</td>\n",
              "      <td>no</td>\n",
              "      <td>no</td>\n",
              "      <td>Bighorn 2003 Sugerloaf Mountain Vineyard Syrah...</td>\n",
              "      <td>2003</td>\n",
              "      <td>30</td>\n",
              "      <td>$30</td>\n",
              "      <td>syrah</td>\n",
              "      <td>...</td>\n",
              "      <td>unk</td>\n",
              "      <td>Napa Valley, Napa, California</td>\n",
              "      <td>US</td>\n",
              "      <td>unk</td>\n",
              "      <td>90</td>\n",
              "      <td>90</td>\n",
              "      <td>S.H.</td>\n",
              "      <td>This rich, full-bodied Syrah aspires to a Nort...</td>\n",
              "      <td>12/15/2005</td>\n",
              "      <td>unk</td>\n",
              "    </tr>\n",
              "    <tr>\n",
              "      <th>15280</th>\n",
              "      <td>kumeu-river-2007-village-chardonnay-kumeu.txt</td>\n",
              "      <td>http://buyingguide.winemag.com/catalog/kumeu-r...</td>\n",
              "      <td>White</td>\n",
              "      <td>no</td>\n",
              "      <td>no</td>\n",
              "      <td>Kumeu River 2007 Village Chardonnay (Kumeu)</td>\n",
              "      <td>2007</td>\n",
              "      <td>19</td>\n",
              "      <td>$19</td>\n",
              "      <td>chardonnay</td>\n",
              "      <td>...</td>\n",
              "      <td>13%</td>\n",
              "      <td>Kumeu</td>\n",
              "      <td>New Zealand</td>\n",
              "      <td>Wilson Daniels Ltd</td>\n",
              "      <td>86</td>\n",
              "      <td>86</td>\n",
              "      <td>Joe Czerwinski</td>\n",
              "      <td>The entry-level Chardonnay from Kumeu River gi...</td>\n",
              "      <td>9/1/2009</td>\n",
              "      <td>unk</td>\n",
              "    </tr>\n",
              "    <tr>\n",
              "      <th>15281</th>\n",
              "      <td>zull-2011-gruner-veltliner-weinviertel.txt</td>\n",
              "      <td>http://buyingguide.winemag.com/catalog/zull-20...</td>\n",
              "      <td>White</td>\n",
              "      <td>no</td>\n",
              "      <td>no</td>\n",
              "      <td>Zull 2011 Grüner Veltliner (Weinviertel)</td>\n",
              "      <td>2011</td>\n",
              "      <td>20</td>\n",
              "      <td>$20</td>\n",
              "      <td>gruner_veltliner</td>\n",
              "      <td>...</td>\n",
              "      <td>12.5%</td>\n",
              "      <td>Weinviertel</td>\n",
              "      <td>Austria</td>\n",
              "      <td>Magellan Wine Imports</td>\n",
              "      <td>90</td>\n",
              "      <td>90</td>\n",
              "      <td>Roger Voss</td>\n",
              "      <td>A wine that shows all the typicity of cool-cli...</td>\n",
              "      <td>7/1/2012</td>\n",
              "      <td>unk</td>\n",
              "    </tr>\n",
              "  </tbody>\n",
              "</table>\n",
              "<p>15282 rows × 23 columns</p>\n",
              "</div>\n",
              "      <button class=\"colab-df-convert\" onclick=\"convertToInteractive('df-55b23050-2efa-41dd-a55b-eaaca85f72a7')\"\n",
              "              title=\"Convert this dataframe to an interactive table.\"\n",
              "              style=\"display:none;\">\n",
              "        \n",
              "  <svg xmlns=\"http://www.w3.org/2000/svg\" height=\"24px\"viewBox=\"0 0 24 24\"\n",
              "       width=\"24px\">\n",
              "    <path d=\"M0 0h24v24H0V0z\" fill=\"none\"/>\n",
              "    <path d=\"M18.56 5.44l.94 2.06.94-2.06 2.06-.94-2.06-.94-.94-2.06-.94 2.06-2.06.94zm-11 1L8.5 8.5l.94-2.06 2.06-.94-2.06-.94L8.5 2.5l-.94 2.06-2.06.94zm10 10l.94 2.06.94-2.06 2.06-.94-2.06-.94-.94-2.06-.94 2.06-2.06.94z\"/><path d=\"M17.41 7.96l-1.37-1.37c-.4-.4-.92-.59-1.43-.59-.52 0-1.04.2-1.43.59L10.3 9.45l-7.72 7.72c-.78.78-.78 2.05 0 2.83L4 21.41c.39.39.9.59 1.41.59.51 0 1.02-.2 1.41-.59l7.78-7.78 2.81-2.81c.8-.78.8-2.07 0-2.86zM5.41 20L4 18.59l7.72-7.72 1.47 1.35L5.41 20z\"/>\n",
              "  </svg>\n",
              "      </button>\n",
              "      \n",
              "  <style>\n",
              "    .colab-df-container {\n",
              "      display:flex;\n",
              "      flex-wrap:wrap;\n",
              "      gap: 12px;\n",
              "    }\n",
              "\n",
              "    .colab-df-convert {\n",
              "      background-color: #E8F0FE;\n",
              "      border: none;\n",
              "      border-radius: 50%;\n",
              "      cursor: pointer;\n",
              "      display: none;\n",
              "      fill: #1967D2;\n",
              "      height: 32px;\n",
              "      padding: 0 0 0 0;\n",
              "      width: 32px;\n",
              "    }\n",
              "\n",
              "    .colab-df-convert:hover {\n",
              "      background-color: #E2EBFA;\n",
              "      box-shadow: 0px 1px 2px rgba(60, 64, 67, 0.3), 0px 1px 3px 1px rgba(60, 64, 67, 0.15);\n",
              "      fill: #174EA6;\n",
              "    }\n",
              "\n",
              "    [theme=dark] .colab-df-convert {\n",
              "      background-color: #3B4455;\n",
              "      fill: #D2E3FC;\n",
              "    }\n",
              "\n",
              "    [theme=dark] .colab-df-convert:hover {\n",
              "      background-color: #434B5C;\n",
              "      box-shadow: 0px 1px 3px 1px rgba(0, 0, 0, 0.15);\n",
              "      filter: drop-shadow(0px 1px 2px rgba(0, 0, 0, 0.3));\n",
              "      fill: #FFFFFF;\n",
              "    }\n",
              "  </style>\n",
              "\n",
              "      <script>\n",
              "        const buttonEl =\n",
              "          document.querySelector('#df-55b23050-2efa-41dd-a55b-eaaca85f72a7 button.colab-df-convert');\n",
              "        buttonEl.style.display =\n",
              "          google.colab.kernel.accessAllowed ? 'block' : 'none';\n",
              "\n",
              "        async function convertToInteractive(key) {\n",
              "          const element = document.querySelector('#df-55b23050-2efa-41dd-a55b-eaaca85f72a7');\n",
              "          const dataTable =\n",
              "            await google.colab.kernel.invokeFunction('convertToInteractive',\n",
              "                                                     [key], {});\n",
              "          if (!dataTable) return;\n",
              "\n",
              "          const docLinkHtml = 'Like what you see? Visit the ' +\n",
              "            '<a target=\"_blank\" href=https://colab.research.google.com/notebooks/data_table.ipynb>data table notebook</a>'\n",
              "            + ' to learn more about interactive tables.';\n",
              "          element.innerHTML = '';\n",
              "          dataTable['output_type'] = 'display_data';\n",
              "          await google.colab.output.renderOutput(dataTable, element);\n",
              "          const docLink = document.createElement('div');\n",
              "          docLink.innerHTML = docLinkHtml;\n",
              "          element.appendChild(docLink);\n",
              "        }\n",
              "      </script>\n",
              "    </div>\n",
              "  </div>\n",
              "  "
            ]
          },
          "metadata": {},
          "execution_count": 1
        }
      ],
      "source": [
        "import pandas\n",
        "\n",
        "# Let's load the training data from a csv file\n",
        "train_set = pandas.read_csv('./train_small_2.csv', sep='\\t', encoding='utf-8')\n",
        "test_set = pandas.read_csv('./test.csv', sep='\\t', encoding='utf-8')\n",
        "test_set"
      ]
    },
    {
      "cell_type": "markdown",
      "metadata": {
        "id": "rw9ADwWa3j71"
      },
      "source": [
        "While in logistic regression our labels were the different colors of wine, in this regression task we will be predicting the score (which is stored in the column labelled as \"Score v1\")\n",
        "So let's get an overview of these two columns:"
      ]
    },
    {
      "cell_type": "code",
      "execution_count": 2,
      "metadata": {
        "colab": {
          "base_uri": "https://localhost:8080/",
          "height": 423
        },
        "id": "Xmry4uJ13j72",
        "outputId": "2d1a76d6-edd4-43e0-f280-3f731cd4cafa"
      },
      "outputs": [
        {
          "output_type": "execute_result",
          "data": {
            "text/plain": [
              "                                                 Review  Score v1\n",
              "0     Raspberry and cherry aromas mix with more matu...        82\n",
              "1     This Navarran Garnacha is more interesting, of...        86\n",
              "2     A fine complement to the Forgeron Late Harvest...        90\n",
              "3     Complex aromas of cassis, dough, espresso, bac...        96\n",
              "4     Crisp and on the sweet side, this PG has flavo...        85\n",
              "...                                                 ...       ...\n",
              "9995  Opening with fruity, bubble gum scents, this b...        92\n",
              "9996  Soft, dry and simple, with modest peach, pinea...        85\n",
              "9997  Age has been kind to this Petite, one of Conca...        87\n",
              "9998  Isenhower changes the vineyard sources for thi...        92\n",
              "9999  Aged in just 33% new French oak, the fruit is ...        91\n",
              "\n",
              "[10000 rows x 2 columns]"
            ],
            "text/html": [
              "\n",
              "  <div id=\"df-bc7dbc35-930b-4c55-bd8b-bce41148a2e3\">\n",
              "    <div class=\"colab-df-container\">\n",
              "      <div>\n",
              "<style scoped>\n",
              "    .dataframe tbody tr th:only-of-type {\n",
              "        vertical-align: middle;\n",
              "    }\n",
              "\n",
              "    .dataframe tbody tr th {\n",
              "        vertical-align: top;\n",
              "    }\n",
              "\n",
              "    .dataframe thead th {\n",
              "        text-align: right;\n",
              "    }\n",
              "</style>\n",
              "<table border=\"1\" class=\"dataframe\">\n",
              "  <thead>\n",
              "    <tr style=\"text-align: right;\">\n",
              "      <th></th>\n",
              "      <th>Review</th>\n",
              "      <th>Score v1</th>\n",
              "    </tr>\n",
              "  </thead>\n",
              "  <tbody>\n",
              "    <tr>\n",
              "      <th>0</th>\n",
              "      <td>Raspberry and cherry aromas mix with more matu...</td>\n",
              "      <td>82</td>\n",
              "    </tr>\n",
              "    <tr>\n",
              "      <th>1</th>\n",
              "      <td>This Navarran Garnacha is more interesting, of...</td>\n",
              "      <td>86</td>\n",
              "    </tr>\n",
              "    <tr>\n",
              "      <th>2</th>\n",
              "      <td>A fine complement to the Forgeron Late Harvest...</td>\n",
              "      <td>90</td>\n",
              "    </tr>\n",
              "    <tr>\n",
              "      <th>3</th>\n",
              "      <td>Complex aromas of cassis, dough, espresso, bac...</td>\n",
              "      <td>96</td>\n",
              "    </tr>\n",
              "    <tr>\n",
              "      <th>4</th>\n",
              "      <td>Crisp and on the sweet side, this PG has flavo...</td>\n",
              "      <td>85</td>\n",
              "    </tr>\n",
              "    <tr>\n",
              "      <th>...</th>\n",
              "      <td>...</td>\n",
              "      <td>...</td>\n",
              "    </tr>\n",
              "    <tr>\n",
              "      <th>9995</th>\n",
              "      <td>Opening with fruity, bubble gum scents, this b...</td>\n",
              "      <td>92</td>\n",
              "    </tr>\n",
              "    <tr>\n",
              "      <th>9996</th>\n",
              "      <td>Soft, dry and simple, with modest peach, pinea...</td>\n",
              "      <td>85</td>\n",
              "    </tr>\n",
              "    <tr>\n",
              "      <th>9997</th>\n",
              "      <td>Age has been kind to this Petite, one of Conca...</td>\n",
              "      <td>87</td>\n",
              "    </tr>\n",
              "    <tr>\n",
              "      <th>9998</th>\n",
              "      <td>Isenhower changes the vineyard sources for thi...</td>\n",
              "      <td>92</td>\n",
              "    </tr>\n",
              "    <tr>\n",
              "      <th>9999</th>\n",
              "      <td>Aged in just 33% new French oak, the fruit is ...</td>\n",
              "      <td>91</td>\n",
              "    </tr>\n",
              "  </tbody>\n",
              "</table>\n",
              "<p>10000 rows × 2 columns</p>\n",
              "</div>\n",
              "      <button class=\"colab-df-convert\" onclick=\"convertToInteractive('df-bc7dbc35-930b-4c55-bd8b-bce41148a2e3')\"\n",
              "              title=\"Convert this dataframe to an interactive table.\"\n",
              "              style=\"display:none;\">\n",
              "        \n",
              "  <svg xmlns=\"http://www.w3.org/2000/svg\" height=\"24px\"viewBox=\"0 0 24 24\"\n",
              "       width=\"24px\">\n",
              "    <path d=\"M0 0h24v24H0V0z\" fill=\"none\"/>\n",
              "    <path d=\"M18.56 5.44l.94 2.06.94-2.06 2.06-.94-2.06-.94-.94-2.06-.94 2.06-2.06.94zm-11 1L8.5 8.5l.94-2.06 2.06-.94-2.06-.94L8.5 2.5l-.94 2.06-2.06.94zm10 10l.94 2.06.94-2.06 2.06-.94-2.06-.94-.94-2.06-.94 2.06-2.06.94z\"/><path d=\"M17.41 7.96l-1.37-1.37c-.4-.4-.92-.59-1.43-.59-.52 0-1.04.2-1.43.59L10.3 9.45l-7.72 7.72c-.78.78-.78 2.05 0 2.83L4 21.41c.39.39.9.59 1.41.59.51 0 1.02-.2 1.41-.59l7.78-7.78 2.81-2.81c.8-.78.8-2.07 0-2.86zM5.41 20L4 18.59l7.72-7.72 1.47 1.35L5.41 20z\"/>\n",
              "  </svg>\n",
              "      </button>\n",
              "      \n",
              "  <style>\n",
              "    .colab-df-container {\n",
              "      display:flex;\n",
              "      flex-wrap:wrap;\n",
              "      gap: 12px;\n",
              "    }\n",
              "\n",
              "    .colab-df-convert {\n",
              "      background-color: #E8F0FE;\n",
              "      border: none;\n",
              "      border-radius: 50%;\n",
              "      cursor: pointer;\n",
              "      display: none;\n",
              "      fill: #1967D2;\n",
              "      height: 32px;\n",
              "      padding: 0 0 0 0;\n",
              "      width: 32px;\n",
              "    }\n",
              "\n",
              "    .colab-df-convert:hover {\n",
              "      background-color: #E2EBFA;\n",
              "      box-shadow: 0px 1px 2px rgba(60, 64, 67, 0.3), 0px 1px 3px 1px rgba(60, 64, 67, 0.15);\n",
              "      fill: #174EA6;\n",
              "    }\n",
              "\n",
              "    [theme=dark] .colab-df-convert {\n",
              "      background-color: #3B4455;\n",
              "      fill: #D2E3FC;\n",
              "    }\n",
              "\n",
              "    [theme=dark] .colab-df-convert:hover {\n",
              "      background-color: #434B5C;\n",
              "      box-shadow: 0px 1px 3px 1px rgba(0, 0, 0, 0.15);\n",
              "      filter: drop-shadow(0px 1px 2px rgba(0, 0, 0, 0.3));\n",
              "      fill: #FFFFFF;\n",
              "    }\n",
              "  </style>\n",
              "\n",
              "      <script>\n",
              "        const buttonEl =\n",
              "          document.querySelector('#df-bc7dbc35-930b-4c55-bd8b-bce41148a2e3 button.colab-df-convert');\n",
              "        buttonEl.style.display =\n",
              "          google.colab.kernel.accessAllowed ? 'block' : 'none';\n",
              "\n",
              "        async function convertToInteractive(key) {\n",
              "          const element = document.querySelector('#df-bc7dbc35-930b-4c55-bd8b-bce41148a2e3');\n",
              "          const dataTable =\n",
              "            await google.colab.kernel.invokeFunction('convertToInteractive',\n",
              "                                                     [key], {});\n",
              "          if (!dataTable) return;\n",
              "\n",
              "          const docLinkHtml = 'Like what you see? Visit the ' +\n",
              "            '<a target=\"_blank\" href=https://colab.research.google.com/notebooks/data_table.ipynb>data table notebook</a>'\n",
              "            + ' to learn more about interactive tables.';\n",
              "          element.innerHTML = '';\n",
              "          dataTable['output_type'] = 'display_data';\n",
              "          await google.colab.output.renderOutput(dataTable, element);\n",
              "          const docLink = document.createElement('div');\n",
              "          docLink.innerHTML = docLinkHtml;\n",
              "          element.appendChild(docLink);\n",
              "        }\n",
              "      </script>\n",
              "    </div>\n",
              "  </div>\n",
              "  "
            ]
          },
          "metadata": {},
          "execution_count": 2
        }
      ],
      "source": [
        "# To build a machine learning model, we are only interested in the \"Review\" and \"Color\" information for now\n",
        "train_set_scores = train_set[['Review','Score v1']]\n",
        "train_set_scores"
      ]
    },
    {
      "cell_type": "markdown",
      "metadata": {
        "collapsed": true,
        "id": "UHb2jlE93j72"
      },
      "source": [
        "We will store these two columns in two separate lists:"
      ]
    },
    {
      "cell_type": "code",
      "execution_count": 3,
      "metadata": {
        "colab": {
          "base_uri": "https://localhost:8080/"
        },
        "id": "BP4ZtN_b3j73",
        "outputId": "1971f11f-2218-4027-a16e-3570e1a88e55"
      },
      "outputs": [
        {
          "output_type": "stream",
          "name": "stdout",
          "text": [
            "Raspberry and cherry aromas mix with more mature notes of fall leaves and lead into some earthy complexity on the somewhat thin palate. Velvety tannins and moderate acidity make for easy drinking. Notes of woods and mushroom on the finish suggest that this wine will not have much going forit by the end of 2009. 82\n",
            "This Navarran Garnacha is more interesting, offering lemony, floral aromas that are red in nature and not very stout. The palate sizzles with racy acidity, while the flavor profile is pure and tangy, with cranberry and red plum notes. A zesty style of Grenache. 86\n",
            "A fine complement to the Forgeron Late Harvest Sémillon, this is equally sweet (9.5%) but fortified to just under 18% alcohol. It’s reminiscent of Benedictine & Brandy – orange liqueur with some alcohol power. Nice focus and balance. 90\n",
            "Complex aromas of cassis, dough, espresso, bacon, and cola create instant interest. It seduces with its rich dark fruit and earth flavors, and a concentrated, suave mouthfeel. Big flavors and tannins don’t quit on the long, even finish. Profoundly enjoyable, seamless and shows impeccable balance. Keep for five to seven years; it will last a long time. 96\n",
            "Crisp and on the sweet side, this PG has flavors of honey, lemons, limes, green apples, figs and peppery spices. Nice as a cocktail sipper. Try with Chinese food for something different. 85\n"
          ]
        }
      ],
      "source": [
        "# Let's extract only these two columns from the data \n",
        "train_reviews = train_set['Review'].to_list()\n",
        "train_scores = train_set['Score v1'].to_list()\n",
        "\n",
        "\n",
        "test_reviews = test_set['Review'].to_list()\n",
        "test_scores = test_set['Score v1'].to_list()\n",
        "\n",
        "# Print the first 5 review and the corresponding scores to have an idea\n",
        "for r, s in list(zip(train_reviews, train_scores))[:5]:\n",
        "    print(r, s)\n"
      ]
    },
    {
      "cell_type": "markdown",
      "metadata": {
        "id": "CDgrWwyT3j73"
      },
      "source": [
        "Let's first have an idea about the scores assigned to reviews. What are the min. and max. scores? What is the average of the scores?"
      ]
    },
    {
      "cell_type": "code",
      "execution_count": 4,
      "metadata": {
        "colab": {
          "base_uri": "https://localhost:8080/"
        },
        "id": "QxM4Cmc53j74",
        "outputId": "fb544c36-49ad-4627-ed24-ed58186d598f"
      },
      "outputs": [
        {
          "output_type": "stream",
          "name": "stdout",
          "text": [
            "Min:80\n",
            "Max:100\n",
            "Average:87.6512\n",
            "Median:87.0\n"
          ]
        }
      ],
      "source": [
        "from statistics import mean, median\n",
        "\n",
        "print(\"Min:\" + str(min(train_scores)))\n",
        "print(\"Max:\" + str(max(train_scores)))\n",
        "print(\"Average:\" + str(mean(train_scores)))\n",
        "print(\"Median:\" + str(median(train_scores)))"
      ]
    },
    {
      "cell_type": "code",
      "execution_count": null,
      "metadata": {
        "id": "dTg3xh4b3j74",
        "outputId": "1a3f0fe3-05d6-4b0f-99b7-6d9878b59391"
      },
      "outputs": [
        {
          "name": "stdout",
          "output_type": "stream",
          "text": [
            "87.08995956873315\n",
            "87.92202283849919\n",
            "85.5945945945946\n",
            "88.33088235294117\n"
          ]
        }
      ],
      "source": [
        ""
      ]
    },
    {
      "cell_type": "code",
      "execution_count": 5,
      "metadata": {
        "colab": {
          "base_uri": "https://localhost:8080/",
          "height": 267
        },
        "id": "utc21Vrq3j75",
        "outputId": "0d2fb772-06bf-4126-bfd5-4a0cee38a768"
      },
      "outputs": [
        {
          "output_type": "display_data",
          "data": {
            "text/plain": [
              "<Figure size 432x288 with 1 Axes>"
            ],
            "image/png": "[encoded data removed]"
          },
          "metadata": {
            "needs_background": "light"
          }
        }
      ],
      "source": [
        "import matplotlib.pyplot as plt\n",
        "plt.hist(train_scores, bins=20)\n",
        "plt.show()"
      ]
    },
    {
      "cell_type": "markdown",
      "metadata": {
        "id": "Rsp_qtbn3j75"
      },
      "source": [
        "### DIY\n",
        "Define a function \"color_stats\" that takes two inputs: color (string), train_set (pandas csv), which:\n",
        "- prints the mean score for a given color (Red, White, Rose, unk)\n",
        "- plots the histogram of the scores for the same color\n"
      ]
    },
    {
      "cell_type": "code",
      "execution_count": 6,
      "metadata": {
        "colab": {
          "base_uri": "https://localhost:8080/"
        },
        "id": "mnwgIPT93j75",
        "outputId": "90e6630c-8388-4f80-ae9b-42433476664f"
      },
      "outputs": [
        {
          "output_type": "stream",
          "name": "stdout",
          "text": [
            "                                              File name  \\\n",
            "0           red-bicyclette-2005-merlot-vin-pays-doc.txt   \n",
            "1     bodegas-artazu-2008-santa-cruz-grenache-garnac...   \n",
            "3     lewis-1997-reserve-cabernet-sauvignon-napa-val...   \n",
            "5             cantina-pino-2009-nebbiolo-barbaresco.txt   \n",
            "8     righteous-2008-red-columbia-valley-walla-walla...   \n",
            "...                                                 ...   \n",
            "9988  testarossa-2004-garys-vineyard-pinot-noir-cent...   \n",
            "9994  sheldrake-point-2006-barrel-reserve-merlot-fin...   \n",
            "9997  concannon-2007-heritage-petite-sirah-central-c...   \n",
            "9998  isenhower-cellars-2004-river-beauty-shiraz-syr...   \n",
            "9999  canoe-ridge-2011-reserve-merlot-columbia-valle...   \n",
            "\n",
            "                                                    URL Color Misc1 Misc2  \\\n",
            "0     http://buyingguide.winemag.com/catalog/red-bic...   Red    no    no   \n",
            "1     http://buyingguide.winemag.com/catalog/bodegas...   Red    no    no   \n",
            "3     http://buyingguide.winemag.com/catalog/lewis-1...   Red    no    no   \n",
            "5     http://buyingguide.winemag.com/catalog/cantina...   Red    no    no   \n",
            "8     http://buyingguide.winemag.com/catalog/righteo...   Red    no    no   \n",
            "...                                                 ...   ...   ...   ...   \n",
            "9988  http://buyingguide.winemag.com/catalog/testaro...   Red    no    no   \n",
            "9994  http://buyingguide.winemag.com/catalog/sheldra...   Red    no    no   \n",
            "9997  http://buyingguide.winemag.com/catalog/concann...   Red    no    no   \n",
            "9998  http://buyingguide.winemag.com/catalog/isenhow...   Red    no    no   \n",
            "9999  http://buyingguide.winemag.com/catalog/canoe-r...   Red    no    no   \n",
            "\n",
            "                                                  Brand  Year Price v1  \\\n",
            "0         Red Bicyclette 2005 Merlot (Vin de Pays d'Oc)  2005       12   \n",
            "1     Bodegas Artazu 2008 Santa Cruz de Artazu Garna...  2008       47   \n",
            "3     Lewis 1997 Reserve Cabernet Sauvignon (Napa Va...  1997       60   \n",
            "5           Cantina del Pino 2009 Nebbiolo (Barbaresco)  2009       45   \n",
            "8          Righteous 2008 Red (Walla Walla Valley (WA))  2008       14   \n",
            "...                                                 ...   ...      ...   \n",
            "9988  Testarossa 2004 Garys’ Vineyard Pinot Noir (Sa...  2004       54   \n",
            "9994  Sheldrake Point 2006 Barrel Reserve Merlot (Fi...  2006       24   \n",
            "9997  Concannon 2007 Heritage Petite Sirah (Livermor...  2007       60   \n",
            "9998  Isenhower Cellars 2004 River Beauty Syrah (Hor...  2004       32   \n",
            "9999  Canoe Ridge 2011 Reserve Merlot (Horse Heaven ...  2011       22   \n",
            "\n",
            "     Price v2       Grape type v1  ... Alcohol  \\\n",
            "0         $12              merlot  ...  13.5%    \n",
            "1         $47            grenache  ...  14.5%    \n",
            "3         $60  cabernet_sauvignon  ...  14.2%    \n",
            "5         $45            nebbiolo  ...  14.5%    \n",
            "8         $14           red_blend  ...     unk   \n",
            "...       ...                 ...  ...     ...   \n",
            "9988      $54          pinot_noir  ...  14.8%    \n",
            "9994      $24              merlot  ...  12.4%    \n",
            "9997      $60        petite_sirah  ...  14.5%    \n",
            "9998      $32               syrah  ...  14.8%    \n",
            "9999      $22              merlot  ...  14.8%    \n",
            "\n",
            "                                                 Region Country  \\\n",
            "0                Vin de Pays d'Oc, Languedoc-Roussillon  France   \n",
            "1                               Navarra, Northern Spain   Spain   \n",
            "3                         Napa Valley, Napa, California      US   \n",
            "5                                  Barbaresco, Piedmont   Italy   \n",
            "8     Walla Walla Valley (WA), Columbia Valley, Wash...      US   \n",
            "...                                                 ...     ...   \n",
            "9988   Santa Lucia Highlands, Central Coast, California      US   \n",
            "9994                             Finger Lakes, New York      US   \n",
            "9997        Livermore Valley, Central Coast, California      US   \n",
            "9998    Horse Heaven Hills, Columbia Valley, Washington      US   \n",
            "9999    Horse Heaven Hills, Columbia Valley, Washington      US   \n",
            "\n",
            "                         Misc4 Score v1 Score v2           Reviewer  \\\n",
            "0                  E & J Gallo       82       82               W.E.   \n",
            "1     Folio Fine Wine Partners       86       86  Michael Schachner   \n",
            "3                          unk       96       96               W.E.   \n",
            "5           Artisan Wines, Inc       91       91               M.L.   \n",
            "8                          unk       87       87       Paul Gregutt   \n",
            "...                        ...      ...      ...                ...   \n",
            "9988                       unk       91       91               S.H.   \n",
            "9994                       unk       84       84    Susan Kostrzewa   \n",
            "9997                       unk       87       87     Virginie Boone   \n",
            "9998                       unk       92       92       Paul Gregutt   \n",
            "9999                       unk       91       91      Sean Sullivan   \n",
            "\n",
            "                                                 Review  Review date Misc5  \n",
            "0     Raspberry and cherry aromas mix with more matu...     3/1/2009   unk  \n",
            "1     This Navarran Garnacha is more interesting, of...     2/1/2013   unk  \n",
            "3     Complex aromas of cassis, dough, espresso, bac...    11/1/2000   unk  \n",
            "5     Cantina del Pino makes some of the finest Barb...     9/1/2012   unk  \n",
            "8     This is a pleasant red blend, mostly Merlot, w...   12/15/2011   unk  \n",
            "...                                                 ...          ...   ...  \n",
            "9988  The youthful acidity really strikes you, and s...   12/15/2006   unk  \n",
            "9994  This wine hits all the right notes—gamy spice,...     7/1/2008   unk  \n",
            "9997  Age has been kind to this Petite, one of Conca...     4/1/2012   unk  \n",
            "9998  Isenhower changes the vineyard sources for thi...     3/1/2007   unk  \n",
            "9999  Aged in just 33% new French oak, the fruit is ...    11/1/2014   unk  \n",
            "\n",
            "[6130 rows x 23 columns]\n"
          ]
        }
      ],
      "source": [
        "df_filtered = train_set[train_set['Color'] == \"Red\"]\n",
        "print(df_filtered)"
      ]
    },
    {
      "cell_type": "code",
      "execution_count": 18,
      "metadata": {
        "id": "MeJFdNkr3j76"
      },
      "outputs": [],
      "source": [
        "import matplotlib.pyplot as plt\n",
        "\n",
        "\n",
        "def color_stats(color, train_set):\n",
        "    color_scores = []\n",
        "    train_colors = train_set['Color'].to_list()\n",
        "    train_scores = train_set['Score v1'].to_list()\n",
        "    for s, c in zip(train_scores, train_colors):\n",
        "        if c == color:\n",
        "            color_scores.append(s)\n",
        "    print(mean(color_scores))\n",
        "    plt.hist(color_scores, bins=20)\n",
        "    plt.show()\n"
      ]
    },
    {
      "cell_type": "code",
      "execution_count": 19,
      "metadata": {
        "colab": {
          "base_uri": "https://localhost:8080/",
          "height": 547
        },
        "id": "BNh2Cqpv3j76",
        "outputId": "085b9b5b-75dc-4e7d-a356-bd14993941fb"
      },
      "outputs": [
        {
          "output_type": "stream",
          "name": "stdout",
          "text": [
            "87.92202283849919\n"
          ]
        },
        {
          "output_type": "display_data",
          "data": {
            "text/plain": [
              "<Figure size 432x288 with 1 Axes>"
            ],
            "image/png": "[encoded data removed]"
          },
          "metadata": {
            "needs_background": "light"
          }
        },
        {
          "output_type": "stream",
          "name": "stdout",
          "text": [
            "87.08995956873315\n"
          ]
        },
        {
          "output_type": "display_data",
          "data": {
            "text/plain": [
              "<Figure size 432x288 with 1 Axes>"
            ],
            "image/png": "[encoded data removed]"
          },
          "metadata": {
            "needs_background": "light"
          }
        }
      ],
      "source": [
        "color_stats(\"Red\", train_set)\n",
        "color_stats(\"White\", train_set)"
      ]
    },
    {
      "cell_type": "code",
      "execution_count": 17,
      "metadata": {
        "colab": {
          "base_uri": "https://localhost:8080/",
          "height": 235
        },
        "id": "hg_Cw8_I3j76",
        "outputId": "b27c1aff-3b41-4f82-9956-05f4d3f25b7b"
      },
      "outputs": [
        {
          "output_type": "error",
          "ename": "NameError",
          "evalue": "ignored",
          "traceback": [
            "\u001b[0;31m---------------------------------------------------------------------------\u001b[0m",
            "\u001b[0;31mNameError\u001b[0m                                 Traceback (most recent call last)",
            "\u001b[0;32m<ipython-input-17-f4d2ed8883d3>\u001b[0m in \u001b[0;36m<module>\u001b[0;34m()\u001b[0m\n\u001b[1;32m     19\u001b[0m \u001b[0munk_scores\u001b[0m \u001b[0;34m=\u001b[0m \u001b[0;34m[\u001b[0m\u001b[0;34m]\u001b[0m\u001b[0;34m\u001b[0m\u001b[0;34m\u001b[0m\u001b[0m\n\u001b[1;32m     20\u001b[0m \u001b[0mrose_scores\u001b[0m \u001b[0;34m=\u001b[0m \u001b[0;34m[\u001b[0m\u001b[0;34m]\u001b[0m\u001b[0;34m\u001b[0m\u001b[0;34m\u001b[0m\u001b[0m\n\u001b[0;32m---> 21\u001b[0;31m \u001b[0;32mfor\u001b[0m \u001b[0ms\u001b[0m\u001b[0;34m,\u001b[0m \u001b[0mc\u001b[0m \u001b[0;32min\u001b[0m \u001b[0mzip\u001b[0m\u001b[0;34m(\u001b[0m\u001b[0mtrain_scores\u001b[0m\u001b[0;34m,\u001b[0m \u001b[0mtrain_colors\u001b[0m\u001b[0;34m)\u001b[0m\u001b[0;34m:\u001b[0m\u001b[0;34m\u001b[0m\u001b[0;34m\u001b[0m\u001b[0m\n\u001b[0m\u001b[1;32m     22\u001b[0m     \u001b[0;32mif\u001b[0m \u001b[0mc\u001b[0m \u001b[0;34m==\u001b[0m \u001b[0;34m\"Red\"\u001b[0m\u001b[0;34m:\u001b[0m\u001b[0;34m\u001b[0m\u001b[0;34m\u001b[0m\u001b[0m\n\u001b[1;32m     23\u001b[0m         \u001b[0mred_scores\u001b[0m\u001b[0;34m.\u001b[0m\u001b[0mappend\u001b[0m\u001b[0;34m(\u001b[0m\u001b[0ms\u001b[0m\u001b[0;34m)\u001b[0m\u001b[0;34m\u001b[0m\u001b[0;34m\u001b[0m\u001b[0m\n",
            "\u001b[0;31mNameError\u001b[0m: name 'train_colors' is not defined"
          ]
        }
      ],
      "source": [
        "\n",
        "\n",
        "import matplotlib.pyplot as plt\n",
        "\n",
        "\n",
        "def color_stats(color, train_set):\n",
        "    color_scores = []\n",
        "    train_colors = train_set['Color'].to_list()\n",
        "    train_scores = train_set['Score v1'].to_list()\n",
        "    for s, c in zip(train_scores, train_colors):\n",
        "        if c == color:\n",
        "            color_scores.append(s)\n",
        "    print(mean(color_scores))\n",
        "    plt.hist(color_scores, bins=20)\n",
        "    plt.show()\n",
        "\n",
        "white_scores = []\n",
        "red_scores = []\n",
        "unk_scores = []\n",
        "rose_scores = []\n",
        "for s, c in zip(train_scores, train_colors):\n",
        "    if c == \"Red\":\n",
        "        red_scores.append(s)\n",
        "    elif c == \"White\":\n",
        "        white_scores.append(s)\n",
        "    elif c == \"Rose\":\n",
        "        rose_scores.append(s)\n",
        "    elif c == \"unk\":\n",
        "        unk_scores.append(s)\n",
        "\n",
        "print(mean(white_scores))\n",
        "print(mean(red_scores))\n",
        "print(mean(rose_scores))\n",
        "print(mean(unk_scores))\n",
        "\n",
        "plt.hist(red_scores, bins=20)\n",
        "plt.show()\n",
        "plt.hist(white_scores, bins=20)\n",
        "plt.show()\n",
        "plt.hist(rose_scores, bins=20)\n",
        "plt.show()\n",
        "plt.hist(unk_scores, bins=20)\n",
        "plt.show()"
      ]
    },
    {
      "cell_type": "code",
      "source": [
        "#TD INSERTED, as previous cell did not run\n",
        "\n",
        "\n",
        "import matplotlib.pyplot as plt\n",
        "\n",
        "\n",
        "def color_stats(color, train_set):\n",
        "    color_scores = []\n",
        "    train_colors = train_set['Color'].to_list()\n",
        "    train_scores = train_set['Score v1'].to_list()\n",
        "    for s, c in zip(train_scores, train_colors):\n",
        "        if c == color:\n",
        "            color_scores.append(s)\n",
        "    print(mean(color_scores))\n",
        "    plt.hist(color_scores, bins=20)\n",
        "    plt.show()\n",
        "\n",
        "    white_scores = []\n",
        "    red_scores = []\n",
        "    unk_scores = []\n",
        "    rose_scores = []\n",
        "    for s, c in zip(train_scores, train_colors):\n",
        "        if c == \"Red\":\n",
        "            red_scores.append(s)\n",
        "        elif c == \"White\":\n",
        "            white_scores.append(s)\n",
        "        elif c == \"Rose\":\n",
        "            rose_scores.append(s)\n",
        "        elif c == \"unk\":\n",
        "            unk_scores.append(s)\n",
        "\n",
        "    print(mean(white_scores))\n",
        "    print(mean(red_scores))\n",
        "    print(mean(rose_scores))\n",
        "    print(mean(unk_scores))\n",
        "\n",
        "    plt.hist(red_scores, bins=20)\n",
        "    plt.show()\n",
        "    plt.hist(white_scores, bins=20)\n",
        "    plt.show()\n",
        "    plt.hist(rose_scores, bins=20)\n",
        "    plt.show()\n",
        "    plt.hist(unk_scores, bins=20)\n",
        "    plt.show()"
      ],
      "metadata": {
        "id": "VIzNe6DpAuwF"
      },
      "execution_count": 20,
      "outputs": []
    },
    {
      "cell_type": "code",
      "source": [
        "color_stats(\"Red\", train_set)\n",
        "color_stats(\"White\", train_set)"
      ],
      "metadata": {
        "colab": {
          "base_uri": "https://localhost:8080/",
          "height": 1000
        },
        "id": "EzC7SZhyBTVO",
        "outputId": "96ae5753-efd7-4e39-f045-af5622921d31"
      },
      "execution_count": 21,
      "outputs": [
        {
          "output_type": "stream",
          "name": "stdout",
          "text": [
            "87.92202283849919\n"
          ]
        },
        {
          "output_type": "display_data",
          "data": {
            "text/plain": [
              "<Figure size 432x288 with 1 Axes>"
            ],
            "image/png": "[encoded data removed]"
          },
          "metadata": {
            "needs_background": "light"
          }
        },
        {
          "output_type": "stream",
          "name": "stdout",
          "text": [
            "87.08995956873315\n",
            "87.92202283849919\n",
            "85.5945945945946\n",
            "88.33088235294117\n"
          ]
        },
        {
          "output_type": "display_data",
          "data": {
            "text/plain": [
              "<Figure size 432x288 with 1 Axes>"
            ],
            "image/png": "[encoded data removed]"
          },
          "metadata": {
            "needs_background": "light"
          }
        },
        {
          "output_type": "display_data",
          "data": {
            "text/plain": [
              "<Figure size 432x288 with 1 Axes>"
            ],
            "image/png": "[encoded data removed]"
          },
          "metadata": {
            "needs_background": "light"
          }
        },
        {
          "output_type": "display_data",
          "data": {
            "text/plain": [
              "<Figure size 432x288 with 1 Axes>"
            ],
            "image/png": "[encoded data removed]"
          },
          "metadata": {
            "needs_background": "light"
          }
        },
        {
          "output_type": "display_data",
          "data": {
            "text/plain": [
              "<Figure size 432x288 with 1 Axes>"
            ],
            "image/png": "[encoded data removed]"
          },
          "metadata": {
            "needs_background": "light"
          }
        },
        {
          "output_type": "stream",
          "name": "stdout",
          "text": [
            "87.08995956873315\n"
          ]
        },
        {
          "output_type": "display_data",
          "data": {
            "text/plain": [
              "<Figure size 432x288 with 1 Axes>"
            ],
            "image/png": "[encoded data removed]"
          },
          "metadata": {
            "needs_background": "light"
          }
        },
        {
          "output_type": "stream",
          "name": "stdout",
          "text": [
            "87.08995956873315\n",
            "87.92202283849919\n",
            "85.5945945945946\n",
            "88.33088235294117\n"
          ]
        },
        {
          "output_type": "display_data",
          "data": {
            "text/plain": [
              "<Figure size 432x288 with 1 Axes>"
            ],
            "image/png": "[encoded data removed]"
          },
          "metadata": {
            "needs_background": "light"
          }
        },
        {
          "output_type": "display_data",
          "data": {
            "text/plain": [
              "<Figure size 432x288 with 1 Axes>"
            ],
            "image/png": "[encoded data removed]"
          },
          "metadata": {
            "needs_background": "light"
          }
        },
        {
          "output_type": "display_data",
          "data": {
            "text/plain": [
              "<Figure size 432x288 with 1 Axes>"
            ],
            "image/png": "[encoded data removed]"
          },
          "metadata": {
            "needs_background": "light"
          }
        },
        {
          "output_type": "display_data",
          "data": {
            "text/plain": [
              "<Figure size 432x288 with 1 Axes>"
            ],
            "image/png": "[encoded data removed]"
          },
          "metadata": {
            "needs_background": "light"
          }
        }
      ]
    },
    {
      "cell_type": "markdown",
      "metadata": {
        "id": "_yqO8RoM3j77"
      },
      "source": [
        "Now it's time to find useful features in this data set that can help us to predict wine color. Similar to the classification task we worked on last week, we will start with a limited list of 10 features (10 terms in this example). We will then represent each review with the 10 words and indicate if the words in our list exist in a given review or not. We can do this by first creating a zero vector of length 10 and change the value of each feature to 1 if the corresponding word exists in the given review.\n",
        "\n",
        "Last week, we started with some terms we picked from the following list:\n",
        "\n",
        "<img src=\"img/terms.png\" alt=\"Drawing\" style=\"width: 300px;\"/> \n",
        "\n",
        "Some of these adjectives were highly informative on predicting the color, such as \"tannin\" or \"berry\", which were assigned high positive weights (coefficients by our model) for the label \"Red\".\n",
        "\n",
        "What do you think some good features might be for predicting the score of the wine?\n",
        "Do you think \"tannin\" and \"berry\" will still be good features?\n",
        "\n",
        "Probably not! (but please test it yourself if you are curious)\n",
        "While these terms are good indicators of the color, they might not necessarily indicate the quality (or the score) of a given wine.\n",
        "\n",
        "Print some of the reviews (not necessarily the first 10) and their corresponding scores and try to come up with 10 terms that you think might be good indicators of the wine score.\n",
        "\n",
        "I will use the following list of terms (features for the remainder of this course but please use your own list to compare the results)\""
      ]
    },
    {
      "cell_type": "code",
      "execution_count": 23,
      "metadata": {
        "colab": {
          "base_uri": "https://localhost:8080/"
        },
        "id": "HGsHEJAJ3j77",
        "outputId": "48d515dd-01bf-45de-d5bb-c5a4279d3c6a"
      },
      "outputs": [
        {
          "output_type": "stream",
          "name": "stdout",
          "text": [
            "Raspberry and cherry aromas mix with more mature notes of fall leaves and lead into some earthy complexity on the somewhat thin palate. Velvety tannins and moderate acidity make for easy drinking. Notes of woods and mushroom on the finish suggest that this wine will not have much going forit by the end of 2009.\n",
            "82\n",
            "\n",
            "This Navarran Garnacha is more interesting, offering lemony, floral aromas that are red in nature and not very stout. The palate sizzles with racy acidity, while the flavor profile is pure and tangy, with cranberry and red plum notes. A zesty style of Grenache.\n",
            "86\n",
            "\n",
            "A fine complement to the Forgeron Late Harvest Sémillon, this is equally sweet (9.5%) but fortified to just under 18% alcohol. It’s reminiscent of Benedictine & Brandy – orange liqueur with some alcohol power. Nice focus and balance.\n",
            "90\n",
            "\n",
            "Complex aromas of cassis, dough, espresso, bacon, and cola create instant interest. It seduces with its rich dark fruit and earth flavors, and a concentrated, suave mouthfeel. Big flavors and tannins don’t quit on the long, even finish. Profoundly enjoyable, seamless and shows impeccable balance. Keep for five to seven years; it will last a long time.\n",
            "96\n",
            "\n",
            "Crisp and on the sweet side, this PG has flavors of honey, lemons, limes, green apples, figs and peppery spices. Nice as a cocktail sipper. Try with Chinese food for something different.\n",
            "85\n",
            "\n",
            "Cantina del Pino makes some of the finest Barbaresco available today. This shows a succulent quality, with aromas of smoked bacon, wild berries and forest underbrush. Savory and sophisticated, this has loads of personality. \n",
            "91\n",
            "\n",
            "Crisp and clean, with citrus notes to go with flavors of almond and acacia blossom. Finishes with a fresh touch of ripe apples. Drink now.\n",
            "86\n",
            "\n",
            "A very nice Chard that, at seven bucks less than the winery’s Premier Reserve, is nearly as good. Dry and crisp in acidity, it has rich honey, pineapple and smoke flavors. How can a wine taste like honey and be dry? It’s called magic.\n",
            "89\n",
            "\n",
            "This is a pleasant red blend, mostly Merlot, with a splash or two of Cab and Syrah. Tart and young, it’s nicely structured and spicy, with balanced flavors of herb and plum. Hints of cumin and Asian spices add further interest.\n",
            "87\n",
            "\n",
            "This vibrant wine begins with aromas of apples, stone fruit and mineral. The savory palate offers ripe Bartlett pear, citrus and peach alongside bright acidity. It closes on a bitter almond note.\n",
            "87\n",
            "\n"
          ]
        }
      ],
      "source": [
        "for r, s in list(zip(train_reviews, train_scores))[:10]:\n",
        "    print(r)\n",
        "    print(s)\n",
        "    print()"
      ]
    },
    {
      "cell_type": "code",
      "execution_count": 24,
      "metadata": {
        "id": "XXIl9rVG3j78"
      },
      "outputs": [],
      "source": [
        "# Try to guess which terms might be good indicators of the wine score \n",
        "# you can compare your guesses to the coefficients of each term when we build the model\n",
        "# Please use lemmas in your term list as we will be matching these terms with the lemmas of the words in each review\n",
        "terms_score = [\"balance\", \"fine\", \"nice\", \"poor\", \"not\", \"rich\", \"personality\", \"quality\", \"blend\", \"tannin\"]\n"
      ]
    },
    {
      "cell_type": "code",
      "execution_count": 26,
      "metadata": {
        "colab": {
          "base_uri": "https://localhost:8080/"
        },
        "id": "FL7vwyZi3j78",
        "outputId": "6082c77d-d6de-426e-c8b5-1b3f6efabe03"
      },
      "outputs": [
        {
          "output_type": "stream",
          "name": "stdout",
          "text": [
            "(10000, 10)\n",
            "(15282, 10)\n"
          ]
        }
      ],
      "source": [
        "import numpy \n",
        "# Let's create zero vectors of length 10 for each review in our training set\n",
        "# numpy.zeros(X, Y) let's us do this easily\n",
        "# X = no. of columns, Y = no. of rows\n",
        "train_features = numpy.zeros((len(train_reviews), len(terms_score)))\n",
        "print(train_features.shape)\n",
        "\n",
        "test_features = numpy.zeros((len(test_reviews), len(terms_score)))\n",
        "print(test_features.shape)"
      ]
    },
    {
      "cell_type": "markdown",
      "metadata": {
        "id": "r0m8KHNk3j78"
      },
      "source": [
        "We will define the following function to generate feature vectors (for both training and test sets) as we did similarly for the classification task:"
      ]
    },
    {
      "cell_type": "code",
      "execution_count": 30,
      "metadata": {
        "id": "gq1Wy5MB3j78"
      },
      "outputs": [],
      "source": [
        "def generate_feature_vectors(reviews, features, terms_score):\n",
        "    # For each review and empty feature vector\n",
        "    for review, vector in zip(reviews, features):\n",
        "        # We first get the list of lemmas from the review\n",
        "        tokens_list = [token.lemma_ for token in review]\n",
        "        # loop over the terms we have in our term list\n",
        "        for term in terms_score:\n",
        "            # If we find any of our terms in this review (in the list of lemmas)\n",
        "            if term in tokens_list:\n",
        "                # We get the term id from the terms_score list\n",
        "                term_id = terms_score.index(term)\n",
        "                # and by using this id, we modify the empty feature vector\n",
        "                # and change the 0 value to 1, for the corresponding term id\n",
        "                vector[term_id] = 1\n",
        "    \n",
        "    # this function does not return anything as it modifies \"features\" in place."
      ]
    },
    {
      "cell_type": "markdown",
      "metadata": {
        "id": "5kT0hbYQ3j79"
      },
      "source": [
        "Now we will process the reviews of the training set and the test set with \"nlp\" so that we have access to the tokens and their lemmas."
      ]
    },
    {
      "cell_type": "code",
      "execution_count": 31,
      "metadata": {
        "id": "xZ-IIoQH3j79"
      },
      "outputs": [],
      "source": [
        "import spacy\n",
        "\n",
        "nlp = spacy.load('en_core_web_sm')\n",
        "\n",
        "# Process train and test sets with nlp\n",
        "train_doc_reviews = nlp.pipe(train_reviews)\n",
        "test_doc_reviews = nlp.pipe(test_reviews)\n"
      ]
    },
    {
      "cell_type": "markdown",
      "metadata": {
        "id": "eU8imNhh3j79"
      },
      "source": [
        "And we will generate the features for both the training and the test sets.\n",
        "As this step might some time, I will also print a message when the tasks are completed."
      ]
    },
    {
      "cell_type": "code",
      "execution_count": 29,
      "metadata": {
        "colab": {
          "base_uri": "https://localhost:8080/"
        },
        "id": "xJvm1qqw3j79",
        "outputId": "61343b2f-be94-45a6-c263-bcf9917bf143"
      },
      "outputs": [
        {
          "output_type": "stream",
          "name": "stdout",
          "text": [
            "training features generated\n",
            "test features generated\n",
            "(10000, 10)\n",
            "(15282, 10)\n"
          ]
        }
      ],
      "source": [
        "generate_feature_vectors(train_doc_reviews, train_features, terms_score)\n",
        "print(\"training features generated\")\n",
        "generate_feature_vectors(test_doc_reviews, test_features, terms_score)\n",
        "print(\"test features generated\")\n",
        "\n",
        "# Print also the size of the feature matrices for both the training and the test sets\n",
        "print(train_features.shape)\n",
        "print(test_features.shape)"
      ]
    },
    {
      "cell_type": "markdown",
      "metadata": {
        "id": "woOKNuQX3j7-"
      },
      "source": [
        "We can train our regression model now:\n"
      ]
    },
    {
      "cell_type": "code",
      "execution_count": 33,
      "metadata": {
        "colab": {
          "base_uri": "https://localhost:8080/"
        },
        "id": "AEOKMoO_3j7-",
        "outputId": "16daf964-784f-47d6-889c-a4e148abdeaa"
      },
      "outputs": [
        {
          "output_type": "stream",
          "name": "stdout",
          "text": [
            "{'copy_X': True, 'fit_intercept': True, 'n_jobs': None, 'normalize': 'deprecated', 'positive': False}\n",
            "LinearRegression()\n"
          ]
        }
      ],
      "source": [
        "#In sklearn, all machine learning models are implemented as Python classes\n",
        "# We import LinearRegression this time!\n",
        "from sklearn.linear_model import LinearRegression\n",
        "\n",
        "# Make an instance of the Model from LogisticRegression class\n",
        "# all parameters not specified are set to their defaults\n",
        "linreg_10 = LinearRegression()\n",
        "\n",
        "# Train the model on the data, storing the information learned from the data\n",
        "# Model is learning the relationship between digits (x_train) and labels (y_train)\n",
        "linreg_10.fit(train_features, train_scores)\n",
        "\n",
        "\n",
        "# We can get additional information about all the parameters used with LogReg model\n",
        "print(linreg_10.get_params())\n",
        "print(linreg_10)\n"
      ]
    },
    {
      "cell_type": "markdown",
      "metadata": {
        "id": "4eHHa_Sj3j7-"
      },
      "source": [
        "Let's save our model!"
      ]
    },
    {
      "cell_type": "code",
      "execution_count": 34,
      "metadata": {
        "colab": {
          "base_uri": "https://localhost:8080/"
        },
        "id": "hXoDOMe-3j7-",
        "outputId": "134bf92f-ce87-43af-cab6-bfb774199ac3"
      },
      "outputs": [
        {
          "output_type": "execute_result",
          "data": {
            "text/plain": [
              "LinearRegression()"
            ]
          },
          "metadata": {},
          "execution_count": 34
        }
      ],
      "source": [
        "import pickle\n",
        "\n",
        "\n",
        "# Save to file in the current working directory\n",
        "pkl_filename = \"linreg_10.pkl\"\n",
        "with open(\"linreg_10.pkl\", 'wb') as file:\n",
        "    pickle.dump(linreg_10, file)\n",
        "\n",
        "# Load from file to check if everything is ok\n",
        "with open(\"linreg_10.pkl\", 'rb') as file:\n",
        "    pickle_model = pickle.load(file)\n",
        "\n",
        "pickle_model"
      ]
    },
    {
      "cell_type": "markdown",
      "metadata": {
        "id": "AVFft7uB3j7_"
      },
      "source": [
        "Before we make predictions, we will first define a function that takes an index value (the index for the review list) and prints all the relavant information for us:"
      ]
    },
    {
      "cell_type": "code",
      "execution_count": 41,
      "metadata": {
        "id": "beMyrvh53j7_"
      },
      "outputs": [],
      "source": [
        "def predict_linr(index):\n",
        "    print(\"Review:\")\n",
        "    print(test_reviews[index])\n",
        "    print(\"Features for this review:\")\n",
        "    print(test_features[index])\n",
        "    print(\"Our terms (features)\")\n",
        "    print(terms_score)\n",
        "    print(\"Actual score:\")\n",
        "    print(test_scores[index])\n",
        "\n",
        "    print()\n",
        "    print(\"Prediction:\")\n",
        "    print(linreg_10.predict([test_features[index]]))\n",
        "    print()\n"
      ]
    },
    {
      "cell_type": "markdown",
      "metadata": {
        "id": "BKzxqLxw3j7_"
      },
      "source": [
        "Now we can predict a score for a given review (index):"
      ]
    },
    {
      "cell_type": "code",
      "execution_count": 42,
      "metadata": {
        "colab": {
          "base_uri": "https://localhost:8080/"
        },
        "id": "XKUKLVes3j7_",
        "outputId": "a796694d-fa17-4441-acfe-8a0a5be140f1"
      },
      "outputs": [
        {
          "output_type": "stream",
          "name": "stdout",
          "text": [
            "Review:\n",
            "Leather, spice, tobacco and tea emerge from the nose of this Sicilian blend of Nero d’Avola, Syrah, Merlot, Cabernet and Petit Verdot. You’ll get aromas of clove, allspice and vanilla behind vibrant blueberry and raspberry.\n",
            "Features for this review:\n",
            "[0. 0. 0. 0. 0. 0. 0. 0. 1. 0.]\n",
            "Our terms (features)\n",
            "['balance', 'fine', 'nice', 'poor', 'not', 'rich', 'personality', 'quality', 'blend', 'tannin']\n",
            "Actual score:\n",
            "90\n",
            "\n",
            "Prediction:\n",
            "[87.4632334]\n",
            "\n",
            "Review:\n",
            "I haven’t been a fan of Santa Ynez Cabs for the simple reason that they’re so seldom ripe. You get this green, herb and mint streak that’s not flattering to Cab’s tannins. This wine is in that vein. \n",
            "Features for this review:\n",
            "[0. 0. 0. 0. 1. 0. 0. 0. 0. 1.]\n",
            "Our terms (features)\n",
            "['balance', 'fine', 'nice', 'poor', 'not', 'rich', 'personality', 'quality', 'blend', 'tannin']\n",
            "Actual score:\n",
            "82\n",
            "\n",
            "Prediction:\n",
            "[87.28767373]\n",
            "\n"
          ]
        }
      ],
      "source": [
        "predict_linr(0)\n",
        "predict_linr(10)"
      ]
    },
    {
      "cell_type": "markdown",
      "metadata": {
        "id": "kQHn2Rlu3j7_"
      },
      "source": [
        "Like in logistic regression, in linear regression we can see the coefficients assigned to each feature in the trained model and the intercept (or the bias value).\n",
        "We will loop over each term (feature) and the corresponding feature together with the zip function and display the value of each coefficient.\n",
        "\n",
        "Unlike logistic regression, we have only a single set of coefficients as we have only one type of value to predict. Remember that in logistic regression, we had coefficients for each label!\n"
      ]
    },
    {
      "cell_type": "code",
      "execution_count": 44,
      "metadata": {
        "colab": {
          "base_uri": "https://localhost:8080/"
        },
        "id": "08QkkHng3j7_",
        "outputId": "efd029ac-f3c2-4e99-be52-706bc1064826"
      },
      "outputs": [
        {
          "output_type": "stream",
          "name": "stdout",
          "text": [
            "balance 1.1139631669651768\n",
            "fine 1.3589326587729076\n",
            "nice -0.40557249781829846\n",
            "poor -1.5816685764013465\n",
            "not -0.7250814320813274\n",
            "rich 2.0171048137313194\n",
            "personality 0.28247591678932943\n",
            "quality 0.3378025277223333\n",
            "blend 0.3949532167062495\n",
            "tannin 0.9444749720175375\n",
            "\n",
            "The intercept (bias):\n",
            "87.06828018648761\n"
          ]
        }
      ],
      "source": [
        "for term, coef in zip(terms_score, linreg_10.coef_):\n",
        "    print(term, coef)\n",
        "\n",
        "print()\n",
        "print(\"The intercept (bias):\")\n",
        "print(linreg_10.intercept_)\n",
        "#How can we interpret the coefficients?"
      ]
    },
    {
      "cell_type": "markdown",
      "metadata": {
        "id": "8gxwR77R3j8A"
      },
      "source": [
        "The intercept of 87.05 tells us that when no features are present in a given review, the prediction will be 87.05. The intercept is also very close to the average scores (87.65).\n",
        "It is easier to think about coefficients as additional values on top of the intercept.<br>\n",
        "<br>\n",
        "The term \"rich\" seems to be the highest positive value: 2.00. It means that when this term appears in our review, the prediction will increase by 2 points. <br>\n",
        "If this is the only feature present in a given review, the prediction will be 87.05 + 2 = 89.05.<br>\n",
        "In other words, the term \"rich\" has a large positive impact on the predicted score. <br>\n",
        "<br>\n",
        "On the other hand, the term \"poor\" has the largest negative value, which makes sense as it can be an indicator of bad quality: -1.56.<br>\n",
        "Similarly, if this term appears in a given review, the prediction value will decreased by 1.56 points.<br>\n",
        "If both \"rich\" and \"poor\" appear in a given review, the prediction score will be updated by both coefficients and will be 87.05 + 2 - 1.56 = 87.49\n",
        "<br><br>\n",
        "What about the term \"nice\"?\n",
        "While this is usually a positive term, remember that the scores are only given to exceptionally good wines in this data set. That's why the scores range between 80 and 100. So while \"nice\" in general might indicate positive qualities, in these reviews, it might be used to mean that the wine is \"not bad\" but \"not necessarily very good either\".\n",
        "\n"
      ]
    },
    {
      "cell_type": "markdown",
      "metadata": {
        "id": "mhul8Y5E3j8A"
      },
      "source": [
        "### DIY1. Feature weights ##\n",
        "Can you print the 5 terms with the largest positive coefficient values __together__ with the values themselves?\n",
        "- Make a list of coefficient/term pairs\n",
        "- Use \"sorted\" (how  to sort values in descending order?)"
      ]
    },
    {
      "cell_type": "code",
      "execution_count": 50,
      "metadata": {
        "colab": {
          "base_uri": "https://localhost:8080/"
        },
        "id": "qUm02olC3j8A",
        "outputId": "7bb46515-04f2-414e-988b-93635ccd9ab2"
      },
      "outputs": [
        {
          "output_type": "stream",
          "name": "stdout",
          "text": [
            "[[2.0171048137313194, 'rich'], [1.3589326587729076, 'fine'], [1.1139631669651768, 'balance'], [0.9444749720175375, 'tannin'], [0.3949532167062495, 'blend']]\n",
            "\n",
            "[['rich', 2.0171048137313194], ['fine', 1.3589326587729076], ['balance', 1.1139631669651768], ['tannin', 0.9444749720175375], ['blend', 0.3949532167062495]]\n"
          ]
        }
      ],
      "source": [
        "coef_list = []\n",
        "for t, c in zip(terms_score, linreg_10.coef_):\n",
        "    coef_list.append([c, t])\n",
        "\n",
        "coefs_sorted = sorted(coef_list, reverse=True)\n",
        "print(coefs_sorted[:5])\n",
        "\n",
        "\n",
        "print()\n",
        "coef_list = []\n",
        "for t, c in zip(terms_score, linreg_10.coef_):\n",
        "    coef_list.append([t, c])\n",
        "\n",
        "coefs_sorted = sorted(coef_list,key=lambda x:x[1], reverse=True)\n",
        "print(coefs_sorted[:5])"
      ]
    },
    {
      "cell_type": "markdown",
      "metadata": {
        "id": "Wzl0e3jK3j8A"
      },
      "source": [
        "### DIY2. Calculating predictions manually\n",
        "#### CELL 1:\n",
        "Define a function (calculate_prediction) that calculates the prediction score using the coefficients from the model \"linreg_10\", when given a __list of terms as input__.\n",
        "\n",
        "#### CELL 2:\n",
        "- Calculate the score of a review if the following terms are present: \"blend\"\n",
        "- Calculate the socre of a review if the following terms are present: \"not\", \"tannin\""
      ]
    },
    {
      "cell_type": "code",
      "execution_count": 48,
      "metadata": {
        "id": "niUAnFVU3j8A"
      },
      "outputs": [],
      "source": [
        "def calculate_prediction(list_terms):\n",
        "    final_score = linreg_10.intercept_\n",
        "    for item in terms_score:\n",
        "        if item in list_terms:\n",
        "            item_id = terms_score.index(item)\n",
        "            final_score += linreg_10.coef_[item_id]\n",
        "\n",
        "    print(final_score)"
      ]
    },
    {
      "cell_type": "code",
      "execution_count": 52,
      "metadata": {
        "colab": {
          "base_uri": "https://localhost:8080/"
        },
        "id": "PciKMvSR3j8B",
        "outputId": "3aa9cfea-4f94-4acf-d972-de49cb9b0cb4"
      },
      "outputs": [
        {
          "output_type": "stream",
          "name": "stdout",
          "text": [
            "87.46323340319387\n",
            "87.28767372642382\n"
          ]
        }
      ],
      "source": [
        "test1 = [\"blend\"]\n",
        "test2 = [\"not\", \"tannin\"]\n",
        "calculate_prediction(test1)\n",
        "calculate_prediction(test2)"
      ]
    },
    {
      "cell_type": "markdown",
      "metadata": {
        "id": "G54RPE4O3j8B"
      },
      "source": [
        "## Evaluating regressors\n",
        "To evaluate the performance of our linear regression models, we will not be using accuracy, precision, recall or f1-scores, as these metrics are used to measure classification performance.\n",
        "\n",
        "Instead, we will measure the error made for each prediction by substracting the actual value from the prediction in each case.\n",
        "Let's look at some examples to see how we do this.\n",
        "\n",
        "In the following review review:\n",
        "So pale that it’s almost colorless, the Blangé—made from Arneis grapes in Piedmont—has the oak-meets-citrus nose you’d expect of a Chardonnay. The lemon, grapefruit and pear flavors, coupled with a superspritzy, Asti-like mouthfeel, make this a good Sunday brunch eye-opener. Its slightly high acidity could cut through any French toast or waffle that you throw its way. Finishes medium-long, with herbal notes. \n",
        "\n",
        "none of our terms (features) have been found. It means that our feature vecrtor looks like this:\n",
        "[0. 0. 0. 0. 0. 0. 0. 0. 0. 0.]\n",
        "\n",
        "When no features are found, the intercept value will determine the final prediction, which is 87.05, in this case.\n",
        "For this review, the actual score was 87, so the error of our prediction is 87 - 87.05 = -0.05. In other words, our prediction was 0.05 higher than the actual value. In order to look at the amount of error  we will always take the absolute value of the error as we are not interested in the direction of the error (if it is lower than the actual value or higher). In this case the absolute error will be 0.05.\n",
        "\n",
        "In the second example, in the given review, we find two of our terms (features), \"not\" and \"tannin\":\n",
        "I haven’t been a fan of Santa Ynez Cabs for the simple reason that they’re so seldom ripe. You get this green, herb and mint streak that’s not flattering to Cab’s tannins. This wine is in that vein. \n",
        "\n",
        "So our feature vector looks like this:\n",
        "[0. 0. 0. 0. 1. 0. 0. 0. 0. 1.]\n",
        "\n",
        "by multiplying 1 with the corresponding coefficients of these two vectors and adding them to the intercept, our prediction becomes 87.26. For this review, the actual score was 82. So the absolute error our model made on this review is abs(82 - 87.26) = 5.26.\n",
        "\n",
        "The linear regression model creates a linear prediction pattern. To be able to measure the overall performance of our model, we need to calculate all errors for all predictions. In other words, we measure the distance between each actual value and our linear pattern (these are the errors that our model makes, which are highlighted with red lines in the following illustration):\n",
        "\n",
        " <img src=\"img/mae.jpg\" alt=\"Drawing\" style=\"width: 500px;\"/>\n",
        "\n",
        "Once we measure the error for each prediction, we will take the average of these errors. This is called as __mean absolute error (or MAE)__.\n",
        "\n",
        "Let's see how we can measure MAE using sklearn.\n",
        "\n"
      ]
    },
    {
      "cell_type": "markdown",
      "metadata": {
        "collapsed": true,
        "id": "Nnp_8uOZ3j8B"
      },
      "source": [
        "To be able to measure MAE, we need the predictions on the whole test set (so far we have been predicting couple of instances).\n"
      ]
    },
    {
      "cell_type": "code",
      "execution_count": null,
      "metadata": {
        "id": "MZgvgid83j8B",
        "outputId": "cfca3513-ba78-4eac-a34f-ff8b516761e3"
      },
      "outputs": [
        {
          "name": "stdout",
          "output_type": "stream",
          "text": [
            "[87.46821765 87.05740688 87.05740688 87.05740688 86.32658247 90.40824762\n",
            " 88.53423949 90.19432825 86.32658247 87.05740688]\n",
            "[90, 87, 86, 88, 84, 90, 90, 89, 80, 91]\n"
          ]
        }
      ],
      "source": [
        "test_predictions = linreg_10.predict(test_features)\n",
        "\n",
        "# Let's also print the first 10 predictions and the actual values\n",
        "print(test_predictions[:10])\n",
        "print(test_scores[:10])"
      ]
    },
    {
      "cell_type": "markdown",
      "metadata": {
        "id": "ZNvn1J3z3j8B"
      },
      "source": [
        "### DIY3: Calculate error\n",
        "Can you calculate the error made for each of these first 10 predictions?\n",
        "#### CELL 1:\n",
        "- For each prediction, print (1) prediction score, (2) correct score, (3) absolute error\n",
        "- How can we get the absolute value of a given error?\n",
        "\n",
        "#### CELL 2:\n",
        "- Print the average error for the first 10 predictions"
      ]
    },
    {
      "cell_type": "code",
      "execution_count": null,
      "metadata": {
        "id": "sIPgHBas3j8C",
        "outputId": "7b3c529e-8aa6-4c25-e844-a44b8a348850"
      },
      "outputs": [
        {
          "name": "stdout",
          "output_type": "stream",
          "text": [
            "87.46821765361389 90 Error:2.531782346386109\n",
            "87.0574068824745 87 Error:0.057406882474495546\n",
            "87.0574068824745 86 Error:1.0574068824744955\n",
            "87.0574068824745 88 Error:0.9425931175255045\n",
            "86.326582473239 84 Error:2.326582473239\n",
            "90.40824761978604 90 Error:0.40824761978603874\n",
            "88.53423949281091 90 Error:1.4657605071890885\n",
            "90.19432824629219 89 Error:1.1943282462921871\n",
            "86.326582473239 80 Error:6.326582473239\n",
            "87.0574068824745 91 Error:3.9425931175255045\n"
          ]
        }
      ],
      "source": [
        "for p, s in list(zip(test_predictions, test_scores))[:10]:\n",
        "    error = abs(p - s)\n",
        "    print(p, s, \"Error:\" +str(error))"
      ]
    },
    {
      "cell_type": "code",
      "execution_count": null,
      "metadata": {
        "id": "TeVENA2O3j8C",
        "outputId": "648f0bb7-25f1-4744-903b-0abc243797d1"
      },
      "outputs": [
        {
          "name": "stdout",
          "output_type": "stream",
          "text": [
            "87.46821765361389 90 Error:2.531782346386109\n",
            "87.0574068824745 87 Error:0.057406882474495546\n",
            "87.0574068824745 86 Error:1.0574068824744955\n",
            "87.0574068824745 88 Error:0.9425931175255045\n",
            "86.326582473239 84 Error:2.326582473239\n",
            "90.40824761978604 90 Error:0.40824761978603874\n",
            "88.53423949281091 90 Error:1.4657605071890885\n",
            "90.19432824629219 89 Error:1.1943282462921871\n",
            "86.326582473239 80 Error:6.326582473239\n",
            "87.0574068824745 91 Error:3.9425931175255045\n",
            "Average error:2.0253283666131425\n"
          ]
        }
      ],
      "source": [
        "total_error = 0\n",
        "total_items = 10\n",
        "for p, s in list(zip(test_predictions, test_scores))[:10]:\n",
        "    error = abs(p - s)\n",
        "    print(p, s, \"Error:\" +str(error))\n",
        "    total_error += error\n",
        "    \n",
        "avg_error = total_error / total_items\n",
        "print(\"Average error:\" + str(avg_error))"
      ]
    },
    {
      "cell_type": "markdown",
      "metadata": {
        "id": "mWiCqgu73j8C"
      },
      "source": [
        "Now we can measure MAE for all the predictions on the test set:"
      ]
    },
    {
      "cell_type": "code",
      "execution_count": null,
      "metadata": {
        "id": "OCGL7ivv3j8C",
        "outputId": "27f41129-ce8f-4fd4-9c00-26d84ea14978"
      },
      "outputs": [
        {
          "name": "stdout",
          "output_type": "stream",
          "text": [
            "2.0253283666131425\n",
            "2.511648120914524\n"
          ]
        }
      ],
      "source": [
        "\n",
        "from sklearn.metrics import mean_absolute_error\n",
        "\n",
        "# as input, we provide first the actual values and then the predictions\n",
        "mae = mean_absolute_error(test_scores[:10], test_predictions[:10])\n",
        "print(mae)\n",
        "mae = mean_absolute_error(test_scores, test_predictions)\n",
        "print(mae)"
      ]
    },
    {
      "cell_type": "markdown",
      "metadata": {
        "id": "xlxVtG6Z3j8C"
      },
      "source": [
        "This model has a mean (average) absolute error of 2.51.\n",
        "How can we interpret this?\n",
        "\n",
        "A MAE score of 2.51 means that, on average, our model predicts the actual score with an error of 2.51. This error can be lower than the actual score, or higher. \n",
        "\n",
        "Let's imagine that we built another model with different features, and this second model has a MAE score of 1.5. \n",
        "It means that this second model is better! Why?\n",
        "This is how we can measure the performance of a linear regression model. We are trying to find the model with least MAE score!\n"
      ]
    },
    {
      "cell_type": "markdown",
      "metadata": {
        "id": "3MooZG7z3j8C"
      },
      "source": [
        "### DIY4. Mean squared error ##\n",
        "While MAE is already a good measure of a regressor performance, there are alternative metrics, such as mean square error (MSE).\n",
        "\n",
        "In MSE, we do also calculate average error for all predictions in our test set (Mean). The difference is that, for each prediction, we do not calculate the absolute error (as in MAE) but we take the square of each error.\n",
        "- We do not use absolut values anymore. Why do you think? What happens when we take the square of a negative/positive value?\n",
        "- Why do you think we take the square? What happens if the error is large to start with?\n",
        "\n",
        "Please go to the following page and try to figure out how we can calculate mean squared error with Sklearn.\n",
        "Calculate MSE for the linear regression model you built so far (linreg_10)\n",
        "- For the first 10 reviews\n",
        "- For all the test set\n",
        "\n",
        "How do these values compare to MAE values? "
      ]
    },
    {
      "cell_type": "code",
      "execution_count": null,
      "metadata": {
        "id": "DZ2l4kjb3j8D",
        "outputId": "f23aed85-11c7-4db9-e1e5-5a9efc8cb684"
      },
      "outputs": [
        {
          "name": "stdout",
          "output_type": "stream",
          "text": [
            "7.31440207291635\n",
            "9.964313963984653\n"
          ]
        }
      ],
      "source": [
        "from sklearn.metrics import mean_squared_error\n",
        "\n",
        "mse = mean_squared_error(test_scores[:10], test_predictions[:10])\n",
        "print(mse)\n",
        "mse = mean_squared_error(test_scores, test_predictions)\n",
        "print(mse)"
      ]
    },
    {
      "cell_type": "markdown",
      "metadata": {
        "id": "A98dsz0j3j8D"
      },
      "source": [
        "### DIY5. Using different types of features ##\n",
        "Build a third linear regression model which uses only two features:\n",
        "    - the length of a given review, in terms of the number of words it contains (no. of tokens after tokenization)\n",
        "    - the average length of words in a given review (avg. length of tokens after tokenization)\n",
        "\n",
        "#### CELL 1:\n",
        "- Check if train_reviews, train_scores, test_reviews, test_scores are still available\n",
        "\n",
        "#### CELL 2:\n",
        "- Create zero feature vectors for train_reviews and test_reviews with the correct shape\n",
        "\n",
        "#### CELL 3:\n",
        "- Process train_reviews and test_reviews with Spacy\n",
        "\n",
        "\n",
        "### DIY:\n",
        "#### CELL 4:\n",
        "Define two functions:\n",
        "- get_review_length: for a given review (processed by Spacy), returns no. of tokens\n",
        "- get_avg_word_length: for a given review (processed by Spacy), returns avg. no. of characters per token\n",
        "(Use the text of tokens to make these calculations and not lemmas for example)\n",
        "\n",
        "#### CELL 5:\n",
        "Define a function \"generate_feature_vectors\":\n",
        "- for a given spacy doc object (processed set of (all) reviews) and empty feature vectors, this function updatest the feature values for each review:\n",
        "    - first feature value by using \"get_review_length\"\n",
        "    - second feature value by using \"get_avg_word_length\"\n",
        "\n",
        "#### CELL 6:\n",
        "Use \"generate_feature_vectors\" to update the zero feature vectors for train_reviews and test_reviews\n",
        "\n",
        "#### CELL 7:\n",
        "Train a new linear regression model \"linreg_length\" and print its coefficients and intercept\n",
        "\n",
        "### CELL 8:\n",
        "Predict the scores for the whole test set and measure MAE and MSE.\n",
        "\n",
        "### CELL 9:\n",
        "Fill the MAE and MSE scores for both models (linreg_10, linreg_length).\n",
        "Which model is better?\n",
        "\n"
      ]
    },
    {
      "cell_type": "code",
      "execution_count": null,
      "metadata": {
        "id": "FH5iojDM3j8D",
        "outputId": "3a54b207-9ece-4698-821c-84535eb3b884"
      },
      "outputs": [
        {
          "name": "stdout",
          "output_type": "stream",
          "text": [
            "10000\n",
            "10000\n",
            "15282\n",
            "15282\n"
          ]
        }
      ],
      "source": [
        "# CELL 1\n",
        "# We can use train_reviews, train_scores, test_reviews and test_scores\n",
        "print(len(train_reviews))\n",
        "print(len(train_scores))\n",
        "print(len(test_reviews))\n",
        "print(len(test_scores))\n",
        "\n"
      ]
    },
    {
      "cell_type": "code",
      "execution_count": null,
      "metadata": {
        "id": "mYIzfTZF3j8D",
        "outputId": "2f4f55f5-43da-47cb-94a5-ac6b9e4258a2"
      },
      "outputs": [
        {
          "ename": "NameError",
          "evalue": "name 'train_reviews' is not defined",
          "output_type": "error",
          "traceback": [
            "\u001b[0;31m---------------------------------------------------------------------------\u001b[0m",
            "\u001b[0;31mNameError\u001b[0m                                 Traceback (most recent call last)",
            "\u001b[0;32m<ipython-input-3-e8b008ca7e08>\u001b[0m in \u001b[0;36m<module>\u001b[0;34m\u001b[0m\n\u001b[1;32m      3\u001b[0m \u001b[0;31m# Create zero vectors (of length 2) for each review (in training set and test set)\u001b[0m\u001b[0;34m\u001b[0m\u001b[0;34m\u001b[0m\u001b[0;34m\u001b[0m\u001b[0m\n\u001b[1;32m      4\u001b[0m \u001b[0;31m# In this case we will only need 2 features\u001b[0m\u001b[0;34m\u001b[0m\u001b[0;34m\u001b[0m\u001b[0;34m\u001b[0m\u001b[0m\n\u001b[0;32m----> 5\u001b[0;31m \u001b[0mtrain_features_length\u001b[0m \u001b[0;34m=\u001b[0m \u001b[0mnumpy\u001b[0m\u001b[0;34m.\u001b[0m\u001b[0mzeros\u001b[0m\u001b[0;34m(\u001b[0m\u001b[0;34m(\u001b[0m\u001b[0mlen\u001b[0m\u001b[0;34m(\u001b[0m\u001b[0mtrain_reviews\u001b[0m\u001b[0;34m)\u001b[0m\u001b[0;34m,\u001b[0m \u001b[0;36m2\u001b[0m\u001b[0;34m)\u001b[0m\u001b[0;34m)\u001b[0m\u001b[0;34m\u001b[0m\u001b[0;34m\u001b[0m\u001b[0m\n\u001b[0m\u001b[1;32m      6\u001b[0m \u001b[0mprint\u001b[0m\u001b[0;34m(\u001b[0m\u001b[0mtrain_features_length\u001b[0m\u001b[0;34m.\u001b[0m\u001b[0mshape\u001b[0m\u001b[0;34m)\u001b[0m\u001b[0;34m\u001b[0m\u001b[0;34m\u001b[0m\u001b[0m\n\u001b[1;32m      7\u001b[0m \u001b[0;34m\u001b[0m\u001b[0m\n",
            "\u001b[0;31mNameError\u001b[0m: name 'train_reviews' is not defined"
          ]
        }
      ],
      "source": [
        "import numpy\n",
        "# CELL 2\n",
        "# Create zero vectors (of length 2) for each review (in training set and test set)\n",
        "# In this case we will only need 2 features\n",
        "train_features_length = numpy.zeros((len(train_reviews), 2))\n",
        "print(train_features_length.shape)\n",
        "\n",
        "test_features_length = numpy.zeros((len(test_reviews), 2))\n",
        "print(test_features_length.shape)\n"
      ]
    },
    {
      "cell_type": "code",
      "execution_count": null,
      "metadata": {
        "id": "kodBwB2U3j8E"
      },
      "outputs": [],
      "source": [
        "# CELL 3\n",
        "import spacy\n",
        "\n",
        "nlp = spacy.load('en_core_web_sm')\n",
        "\n",
        "# Process a text\n",
        "train_doc_reviews = nlp.pipe(train_reviews)\n",
        "test_doc_reviews = nlp.pipe(test_reviews)"
      ]
    },
    {
      "cell_type": "code",
      "execution_count": null,
      "metadata": {
        "id": "4YermrYd3j8E",
        "outputId": "c927827f-83d0-431c-eba9-516f6664abc0"
      },
      "outputs": [
        {
          "name": "stdout",
          "output_type": "stream",
          "text": [
            "Raspberry and cherry aromas mix with more mature notes of fall leaves and lead into some earthy complexity on the somewhat thin palate. Velvety tannins and moderate acidity make for easy drinking. Notes of woods and mushroom on the finish suggest that this wine will not have much going forit by the end of 2009.\n",
            "58\n",
            "4.448275862068965\n",
            "\n",
            "This Navarran Garnacha is more interesting, offering lemony, floral aromas that are red in nature and not very stout. The palate sizzles with racy acidity, while the flavor profile is pure and tangy, with cranberry and red plum notes. A zesty style of Grenache.\n",
            "51\n",
            "4.2745098039215685\n",
            "\n",
            "A fine complement to the Forgeron Late Harvest Sémillon, this is equally sweet (9.5%) but fortified to just under 18% alcohol. It’s reminiscent of Benedictine & Brandy – orange liqueur with some alcohol power. Nice focus and balance.\n",
            "47\n",
            "4.170212765957447\n",
            "\n",
            "Complex aromas of cassis, dough, espresso, bacon, and cola create instant interest. It seduces with its rich dark fruit and earth flavors, and a concentrated, suave mouthfeel. Big flavors and tannins don’t quit on the long, even finish. Profoundly enjoyable, seamless and shows impeccable balance. Keep for five to seven years; it will last a long time.\n",
            "72\n",
            "4.125\n",
            "\n",
            "Crisp and on the sweet side, this PG has flavors of honey, lemons, limes, green apples, figs and peppery spices. Nice as a cocktail sipper. Try with Chinese food for something different.\n",
            "40\n",
            "3.875\n",
            "\n"
          ]
        }
      ],
      "source": [
        "# CELL 4\n",
        "from statistics import mean\n",
        "def get_review_length(review):\n",
        "    tokens_list = [token.text for token in review]\n",
        "    length = len(tokens_list)\n",
        "    return length\n",
        "\n",
        "def get_avg_word_length(review):\n",
        "    #print([token.text for token in review])\n",
        "    tokens_length_list = [len(token.text) for token in review]\n",
        "    #print(tokens_length_list)\n",
        "    avg_length = mean(tokens_length_list)\n",
        "    #print(avg_length)\n",
        "    return(avg_length)\n",
        "\n",
        "counter = 0\n",
        "for review in train_doc_reviews:\n",
        "    print(review)\n",
        "    print(get_review_length(review))\n",
        "    print(get_avg_word_length(review))\n",
        "    counter +=1\n",
        "    print()\n",
        "    if counter == 5:\n",
        "        break"
      ]
    },
    {
      "cell_type": "code",
      "execution_count": null,
      "metadata": {
        "id": "QWM6WpYQ3j8E"
      },
      "outputs": [],
      "source": [
        "# CELL 5\n",
        "def generate_feature_vectors(reviews, features):\n",
        "    # For each review and empty feature vector\n",
        "    for review, vector in zip(reviews, features):\n",
        "        # Use the predefined functions to assign feature values\n",
        "        vector[0] = get_review_length(review)\n",
        "        vector[1] = get_avg_word_length(review)\n",
        "        #print(review)\n",
        "        #print(vector)\n",
        "\n",
        "            \n",
        "    # this function does not return anything as it modifies \"features\" in place."
      ]
    },
    {
      "cell_type": "code",
      "execution_count": null,
      "metadata": {
        "id": "oE280TGG3j8E",
        "outputId": "0fdb36d5-0515-4338-f510-185ab74bd358"
      },
      "outputs": [
        {
          "name": "stdout",
          "output_type": "stream",
          "text": [
            "[[40.          4.75      ]\n",
            " [29.          3.93103448]\n",
            " [54.          3.53703704]\n",
            " [49.          3.81632653]\n",
            " [37.          4.43243243]]\n"
          ]
        }
      ],
      "source": [
        "# CELL 6\n",
        "generate_feature_vectors(train_doc_reviews, train_features_length)\n",
        "generate_feature_vectors(test_doc_reviews, test_features_length)\n",
        "print(train_features_length[:5])"
      ]
    },
    {
      "cell_type": "code",
      "execution_count": null,
      "metadata": {
        "id": "8wciDB_-3j8E",
        "outputId": "a325806d-9f51-4713-e76f-e621e4c9c572"
      },
      "outputs": [
        {
          "ename": "NameError",
          "evalue": "name 'train_features_length' is not defined",
          "output_type": "error",
          "traceback": [
            "\u001b[0;31m---------------------------------------------------------------------------\u001b[0m",
            "\u001b[0;31mNameError\u001b[0m                                 Traceback (most recent call last)",
            "\u001b[0;32m<ipython-input-2-e48d8803c5a2>\u001b[0m in \u001b[0;36m<module>\u001b[0;34m\u001b[0m\n\u001b[1;32m      5\u001b[0m \u001b[0;31m# Train the model on the data, storing the information learned from the data\u001b[0m\u001b[0;34m\u001b[0m\u001b[0;34m\u001b[0m\u001b[0;34m\u001b[0m\u001b[0m\n\u001b[1;32m      6\u001b[0m \u001b[0;31m# Model is learning the relationship between digits (x_train) and labels (y_train)\u001b[0m\u001b[0;34m\u001b[0m\u001b[0;34m\u001b[0m\u001b[0;34m\u001b[0m\u001b[0m\n\u001b[0;32m----> 7\u001b[0;31m \u001b[0mlinreg_length\u001b[0m\u001b[0;34m.\u001b[0m\u001b[0mfit\u001b[0m\u001b[0;34m(\u001b[0m\u001b[0mtrain_features_length\u001b[0m\u001b[0;34m,\u001b[0m \u001b[0mtrain_scores\u001b[0m\u001b[0;34m)\u001b[0m\u001b[0;34m\u001b[0m\u001b[0;34m\u001b[0m\u001b[0m\n\u001b[0m\u001b[1;32m      8\u001b[0m \u001b[0;34m\u001b[0m\u001b[0m\n\u001b[1;32m      9\u001b[0m \u001b[0mfeature_names\u001b[0m \u001b[0;34m=\u001b[0m \u001b[0;34m[\u001b[0m\u001b[0;34m\"avg_length\"\u001b[0m\u001b[0;34m,\u001b[0m \u001b[0;34m\"avg_token_length\"\u001b[0m\u001b[0;34m]\u001b[0m\u001b[0;34m\u001b[0m\u001b[0;34m\u001b[0m\u001b[0m\n",
            "\u001b[0;31mNameError\u001b[0m: name 'train_features_length' is not defined"
          ]
        }
      ],
      "source": [
        "# CELL 7\n",
        "from sklearn.linear_model import LinearRegression\n",
        "linreg_length = LinearRegression()\n",
        "\n",
        "# Train the model on the data, storing the information learned from the data\n",
        "# Model is learning the relationship between digits (x_train) and labels (y_train)\n",
        "linreg_length.fit(train_features_length, train_scores)\n",
        "\n",
        "feature_names = [\"avg_length\", \"avg_token_length\"]\n",
        "for t, c in zip(feature_names, linreg_length.coef_):\n",
        "    print(t, c)\n",
        "print(\"INTERCEPT:\" + str(linreg_length.intercept_))"
      ]
    },
    {
      "cell_type": "code",
      "execution_count": null,
      "metadata": {
        "id": "ZrOzFqKr3j8F",
        "outputId": "151f49d2-ecdd-4c0c-fa56-7e739e74f63a"
      },
      "outputs": [
        {
          "name": "stdout",
          "output_type": "stream",
          "text": [
            "[87.64569364 87.79215584 87.62222293 87.64360776 87.60662592 87.70196679\n",
            " 87.65280293 87.61201637 87.5730885  87.6746697 ]\n",
            "[90, 87, 86, 88, 84, 90, 90, 89, 80, 91]\n",
            "2.593867632610275\n",
            "10.26283878307865\n"
          ]
        }
      ],
      "source": [
        "# CELL 8\n",
        "from sklearn.metrics import mean_absolute_error, mean_squared_error\n",
        "\n",
        "test_predictions_length = linreg_length.predict(test_features_length)\n",
        "\n",
        "# Let's also print the first 10 predictions and the actual values\n",
        "print(test_predictions_length[:10])\n",
        "print(test_scores[:10])\n",
        "\n",
        "mae = mean_absolute_error(test_scores, test_predictions_length)\n",
        "mse = mean_squared_error(test_scores, test_predictions_length)\n",
        "print(mae)\n",
        "print(mse)"
      ]
    },
    {
      "cell_type": "markdown",
      "metadata": {
        "id": "CdeI36LQ3j8F"
      },
      "source": [
        "#### CELL 9\n",
        "At this point, you should have 2 linear regression models:\n",
        "1. Using 10 terms as features\n",
        "2. Using length features of the reviews\n",
        "\n",
        "You can replace the question marks in the following table with the actual values for your comparison (double click this cell to edit it).\n",
        "Which model is the best?\n",
        "\n",
        "|Model|\tMAE|MSE|\n",
        "|---|---|---|\n",
        "|Model 1| ? | ? |\n",
        "|Model 2| ? | ? |\n",
        "|Model 3| ? | ? |\n"
      ]
    },
    {
      "cell_type": "code",
      "execution_count": null,
      "metadata": {
        "collapsed": true,
        "id": "N-TOXmcQ3j8F"
      },
      "outputs": [],
      "source": [
        ""
      ]
    }
  ],
  "metadata": {
    "kernelspec": {
      "display_name": "Python 3 (ipykernel)",
      "language": "python",
      "name": "python3"
    },
    "language_info": {
      "codemirror_mode": {
        "name": "ipython",
        "version": 3
      },
      "file_extension": ".py",
      "mimetype": "text/x-python",
      "name": "python",
      "nbconvert_exporter": "python",
      "pygments_lexer": "ipython3",
      "version": "3.7.11"
    },
    "colab": {
      "name": "Chapter_05_MachineLearning-LinearRegression_solution-assignment.ipynb",
      "provenance": [],
      "collapsed_sections": [
        "ZNvn1J3z3j8B",
        "3MooZG7z3j8C",
        "A98dsz0j3j8D",
        "CdeI36LQ3j8F"
      ]
    }
  },
  "nbformat": 4,
  "nbformat_minor": 0
}