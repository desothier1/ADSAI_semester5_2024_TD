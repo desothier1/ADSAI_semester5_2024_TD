{
  "cells": [
    {
      "cell_type": "markdown",
      "metadata": {
        "id": "ChZTRHMk3AIr"
      },
      "source": [
        "# Chapter 5: Machine Learning - Evaluating Classifiers\n"
      ]
    },
    {
      "cell_type": "markdown",
      "metadata": {
        "id": "r-tQtdrs3AIs"
      },
      "source": [
        "\n",
        "## Evaluating classifiers\n",
        "\n",
        "Last week we trained classifiers to predict the wine color based on the words that appear in its review.\n",
        "We also saw how we can make predictions on the test set using the trained model.\n",
        "\n",
        "How can we decide if our classification model is a good one or not?\n",
        "The most obvious way: count how many times the predictions were correct (and how many times not)\n",
        "This is also called \"__accuracy__\".\n",
        "\n",
        "So we need to first get the predictions for all items in our test set and calculate the accuracy score on the whole test set!\n",
        "\n",
        "We will first use our model that used 10 features from last week and load it from saved file (this file \"lr_10.pkl\" is also available on Ufora).\n"
      ]
    },
    {
      "cell_type": "code",
      "execution_count": 1,
      "metadata": {
        "colab": {
          "base_uri": "https://localhost:8080/"
        },
        "id": "bLPd39Du3AIt",
        "outputId": "cd414321-560d-43ec-ce26-f76a13bdfc04"
      },
      "outputs": [
        {
          "output_type": "stream",
          "name": "stdout",
          "text": [
            "['Red' 'Rose' 'White' 'unk']\n",
            "Red\n",
            "tannin 2.382461273386408\n",
            "cherry 1.928970012767703\n",
            "oak 1.3042030023043565\n",
            "fresh -0.7149517516725749\n",
            "vanilla -0.34716764147001156\n",
            "rich -0.2220600106867783\n",
            "blackberry 2.449242500770421\n",
            "very 0.14220087858552352\n",
            "dry -0.2473573279598481\n",
            "spice 0.6561101053710591\n",
            "INTERCEPT:0.8487285304892033\n",
            "\n",
            "Rose\n",
            "tannin -0.628140459703769\n",
            "cherry 1.3942922887029294\n",
            "oak -1.4604957811382817\n",
            "fresh 0.4941489879939106\n",
            "vanilla 0.2982768660843579\n",
            "rich -0.48821712262423256\n",
            "blackberry 0.34056780065690934\n",
            "very -0.4142090532051382\n",
            "dry 0.13033337204289439\n",
            "spice -0.39830837504745725\n",
            "INTERCEPT:-1.6510306244599227\n",
            "\n",
            "White\n",
            "tannin -1.8925700798181717\n",
            "cherry -2.8615983290324465\n",
            "oak 1.0497553647032736\n",
            "fresh 0.10477162637993818\n",
            "vanilla 0.0654654126094052\n",
            "rich 0.23438256993235185\n",
            "blackberry -2.3510858025847483\n",
            "very -0.008158208590233796\n",
            "dry -0.14114913457806372\n",
            "spice -0.11114232497459865\n",
            "INTERCEPT:1.209772754410819\n",
            "\n",
            "unk\n",
            "tannin 0.13824926613551286\n",
            "cherry -0.4616639724381877\n",
            "oak -0.8934625858693623\n",
            "fresh 0.11603113729872226\n",
            "vanilla -0.01657463722375559\n",
            "rich 0.47589456337865665\n",
            "blackberry -0.43872449884259773\n",
            "very 0.28016638320984516\n",
            "dry 0.2581730904950231\n",
            "spice -0.1466594053490119\n",
            "INTERCEPT:-0.40747066044016217\n",
            "\n"
          ]
        }
      ],
      "source": [
        "import pickle\n",
        "terms = [\"tannin\", \"cherry\", \"oak\", \"fresh\", \"vanilla\", \"rich\", \"blackberry\", \"very\", \"dry\", \"spice\"]\n",
        "\n",
        "\n",
        "# Load the model with 10 features (terms)\n",
        "with open('lr_10.pkl', 'rb') as file:\n",
        "    lr_10 = pickle.load(file)\n",
        "    \n",
        "# Let's see again what are the possible labels to predict (and in which order they are stored)\n",
        "print(lr_10.classes_)\n",
        "\n",
        "# Let's print each label and corresponding coefficients and intercept\n",
        "for label, coefs, intercept in zip(lr_10.classes_, lr_10.coef_, lr_10.intercept_):\n",
        "    print(label)\n",
        "    for t, c in zip(terms, coefs):\n",
        "        print(t, c)\n",
        "    print(\"INTERCEPT:\" +str(intercept))\n",
        "    print()\n",
        "#How can we interpret the coefficients and the intercept?\n",
        "\n"
      ]
    },
    {
      "cell_type": "markdown",
      "metadata": {
        "id": "Q056dwmx3AIu"
      },
      "source": [
        "Let's extract the features for our test set again to get predictions."
      ]
    },
    {
      "cell_type": "code",
      "execution_count": 2,
      "metadata": {
        "scrolled": true,
        "colab": {
          "base_uri": "https://localhost:8080/"
        },
        "id": "I5mfaN7z3AIu",
        "outputId": "dc39d258-8a60-4de1-b7ba-ad53efd9242a"
      },
      "outputs": [
        {
          "output_type": "stream",
          "name": "stdout",
          "text": [
            "Leather, spice, tobacco and tea emerge from the nose of this Sicilian blend of Nero d’Avola, Syrah, Merlot, Cabernet and Petit Verdot. You’ll get aromas of clove, allspice and vanilla behind vibrant blueberry and raspberry.\n",
            "Red\n",
            "\n",
            "So pale that it’s almost colorless, the Blangé—made from Arneis grapes in Piedmont—has the oak-meets-citrus nose you’d expect of a Chardonnay. The lemon, grapefruit and pear flavors, coupled with a superspritzy, Asti-like mouthfeel, make this a good Sunday brunch eye-opener. Its slightly high acidity could cut through any French toast or waffle that you throw its way. Finishes medium-long, with herbal notes. \n",
            "White\n",
            "\n",
            "Comes across on the earthy, herbal side, although there are some pretty raspberry notes on the palate. A little heavy, and lacks perhaps some delicacy. A sweet cola-like finish completes the picture.\n",
            "Red\n",
            "\n",
            "What a wonderful wine to pair with spaghetti alle vongole or calamari fritti. Made from Grechetto grapes and aged only in stainless steel, this is fresh, youthful, tangy and crisp, with aromas of citrus, kiwi, honeydew and peach.\n",
            "White\n",
            "\n",
            "What’s puzzling about this wine is why, given the pedigree of the vines, it was so quickly made and rushed to market. It is not a distinctive wine, but a rustic one, dry and berryish. Cline could have done better.\n",
            "Red\n",
            "\n",
            "(1000, 10)\n"
          ]
        }
      ],
      "source": [
        "import pandas\n",
        "import numpy\n",
        "\n",
        "# Let's read our test set and make the feature vectors\n",
        "test_set = pandas.read_csv('./test.csv', sep='\\t', encoding='utf-8')\n",
        "test_set\n",
        "\n",
        "# Let's extract only the relevant columns, and put them in lists\n",
        "# These colums have the titles 'Review' and 'Color'\n",
        "test_reviews = test_set['Review'].to_list()\n",
        "test_colors = test_set['Color'].to_list()\n",
        "\n",
        "# Print the first five item in each list to make sure it looks ok\n",
        "for rev, col in zip(test_reviews[:5], test_colors[:5]):\n",
        "  print(rev)\n",
        "  print(col)\n",
        "  print()\n",
        "\n",
        "\n",
        "\n",
        "# Create zero vectors (of length 10) for each review (of len(test_reviews))\n",
        "test_features = numpy.zeros((len(test_reviews), 10))\n",
        "print(test_features.shape)\n"
      ]
    },
    {
      "cell_type": "code",
      "execution_count": 3,
      "metadata": {
        "id": "PcQLIA4H3AIv"
      },
      "outputs": [],
      "source": [
        "# Generate features\n",
        "import spacy\n",
        "\n",
        "nlp = spacy.load('en_core_web_sm')\n",
        "\n",
        "\n",
        "# Process a text\n",
        "test_doc_reviews = nlp.pipe(test_reviews)\n",
        "\n",
        "# Update the feature vectors by checkin if the terms exist per review\n",
        "for review, f in zip(test_doc_reviews, test_features):\n",
        "    tokens_list = [token.lemma_ for token in review]\n",
        "    #print(tokens_list)\n",
        "    for term in terms:\n",
        "        if term in tokens_list:\n",
        "            term_id = terms.index(term)\n",
        "            f[term_id] = 1\n"
      ]
    },
    {
      "cell_type": "markdown",
      "metadata": {
        "collapsed": true,
        "id": "tmzmStEw3AIv"
      },
      "source": [
        "Now we have our model and our features for the test set.\n",
        "So we can get predictions on the whole test set and print the accuracy score of the model on the test set.\n",
        "We can get the accuracy score automatically from sklearn.metrics as below.\n"
      ]
    },
    {
      "cell_type": "code",
      "source": [
        "# we provide all the features as inoput to our model\n",
        "test_predictions_10 = lr_10.predict(test_features)"
      ],
      "metadata": {
        "id": "jtlqLPNL9_Jo"
      },
      "execution_count": 6,
      "outputs": []
    },
    {
      "cell_type": "code",
      "source": [
        "# Let's print the predictions and corresponding labels for the first 10 items in the test set\n",
        "# I will also print Correct/Incorrect for each prediction\n",
        "for p, r in zip(test_predictions_10[:10], test_colors[:10]):\n",
        "    if p == r:\n",
        "        result = \"Correct\"\n",
        "    else:\n",
        "        result = \"Incorrect\"\n",
        "    print(p + \"(\" + result + \":\" + r + \")\")\n",
        "\n",
        "#print(test_predictions_10[:10])\n",
        "#print(test_colors[:10])"
      ],
      "metadata": {
        "colab": {
          "base_uri": "https://localhost:8080/"
        },
        "id": "DLiBTbde-BUS",
        "outputId": "4b18cf3c-8ff2-41d5-9567-36147f92b6ca"
      },
      "execution_count": 7,
      "outputs": [
        {
          "output_type": "stream",
          "name": "stdout",
          "text": [
            "White(Incorrect:Red)\n",
            "White(Correct:White)\n",
            "White(Incorrect:Red)\n",
            "White(Correct:White)\n",
            "White(Incorrect:Red)\n",
            "White(Incorrect:Red)\n",
            "White(Correct:White)\n",
            "White(Correct:White)\n",
            "White(Incorrect:unk)\n",
            "Red(Correct:Red)\n"
          ]
        }
      ]
    },
    {
      "cell_type": "markdown",
      "source": [
        "### Accuracy\n",
        "\n",
        "Correct predictions divided by the total number of predictions (ratio of correct predictions to all predictions)"
      ],
      "metadata": {
        "id": "qmZe7BQ7-8cT"
      }
    },
    {
      "cell_type": "code",
      "execution_count": 8,
      "metadata": {
        "colab": {
          "base_uri": "https://localhost:8080/"
        },
        "id": "x5CzNEQz3AIw",
        "outputId": "03c58b35-379e-4b5b-edb2-39fb763a18b5"
      },
      "outputs": [
        {
          "output_type": "stream",
          "name": "stdout",
          "text": [
            "Accuracy for the first 10 items: 0.5\n",
            "No. labels predicted correctly:5\n"
          ]
        }
      ],
      "source": [
        "from sklearn.metrics import accuracy_score\n",
        "\n",
        "# We can calculate the fraction of correctly predicted labels in the test set\n",
        "# this is the accuracy score\n",
        "acc = accuracy_score(test_colors[:10], test_predictions_10[:10])\n",
        "print(\"Accuracy for the first 10 items: \" + str(acc))\n",
        "\n",
        "# And we can also print the number of correctly predicted labels by adding the attribute normalize=False\n",
        "acc2 = accuracy_score(test_colors[:10], test_predictions_10[:10], normalize=False)\n",
        "print(\"No. labels predicted correctly:\" + str(acc2))\n"
      ]
    },
    {
      "cell_type": "markdown",
      "metadata": {
        "id": "HR4d0NVa3AIx"
      },
      "source": [
        "### DIY\n",
        "- Calculate the accuracy score for the whole test set (all predictions vs all correct labels)\n",
        "- Print total number of reviews in the test set\n",
        "- Print total number of correct predictions (use: accuracy_score without normalizing)\n",
        "- Calculate the percentage of correct predictions (accuracy) yourself: no. correct predictions / total no. reviews"
      ]
    },
    {
      "cell_type": "code",
      "execution_count": 9,
      "metadata": {
        "colab": {
          "base_uri": "https://localhost:8080/"
        },
        "id": "227Xc4p83AIx",
        "outputId": "3bc528a6-2fea-4c04-be83-116fc301e9a9"
      },
      "outputs": [
        {
          "output_type": "stream",
          "name": "stdout",
          "text": [
            "0.722\n",
            "Total reviews: 1000\n",
            "Total correct predictions:722\n",
            "Correct ratio:0.722\n"
          ]
        }
      ],
      "source": [
        "# Add your code here\n",
        "from sklearn.metrics import accuracy_score\n",
        "\n",
        "acc = accuracy_score(test_colors, test_predictions_10)\n",
        "print(acc)\n",
        "corr_count = accuracy_score(test_colors, test_predictions_10, normalize=False)\n",
        "total_count = len(test_colors)\n",
        "\n",
        "print(\"Total reviews: \" + str(str(total_count)))\n",
        "print(\"Total correct predictions:\" + str(corr_count))\n",
        "corr_ratio = corr_count / total_count\n",
        "print(\"Correct ratio:\" + str(corr_ratio))\n"
      ]
    },
    {
      "cell_type": "markdown",
      "metadata": {
        "id": "3e9ohWFq3AIx"
      },
      "source": [
        "### Interpreting the accuracy score\n",
        "\n",
        "So what does this score tell us? Is it good? Is it bad?\n",
        "(How did your own model score on accuracy?)\n",
        "\n",
        "One way of seeing if this model is doing something useful is to compare its performance with a useless model.\n",
        "Can you think of a dummy model for this task, which would score relatively high on accuracy? \n",
        "\n",
        "Let's have a look at the frequencies of all labels in the training set first:"
      ]
    },
    {
      "cell_type": "code",
      "execution_count": null,
      "metadata": {
        "id": "Qt_VpPFM3AIy",
        "outputId": "109a2db0-6957-4e95-b09b-a3d7d1c4c532"
      },
      "outputs": [
        {
          "name": "stdout",
          "output_type": "stream",
          "text": [
            "Counter({'Red': 6130, 'White': 2968, 'unk': 680, 'Rose': 222})\n"
          ]
        }
      ],
      "source": [
        "# Let's have a look at the counts of each label in our training set first\n",
        "import pandas\n",
        "from collections import Counter\n",
        "\n",
        "# Let's load the training data from a csv file\n",
        "train_set = pandas.read_csv('./train.csv', sep='\\t', encoding='utf-8')\n",
        "train_colors = train_set['Color'].to_list()\n",
        "\n",
        "# Get a dictionary of unique items with their counts\n",
        "print(Counter(train_colors))"
      ]
    },
    {
      "cell_type": "markdown",
      "metadata": {
        "id": "ranca-aD3AIy"
      },
      "source": [
        "It seems that there are more occurences of the label \"Red\" in our training set than any other color.\n",
        "\n",
        "So we can start with a dummy system that predicts all test inputs as \"Red\" as this will probably be also the majority class in the test set (We are saying probably at this point, because in a real case scenario we will not be able to know the frequencies of the labels in the test set!). \n",
        "\n",
        "This dummy system will probably (on the test set) predict more labels correctly than a system that predicts every label as \"White\" or any other color). While we are trying to make a dummy system, we still do our best to predict as many correct labels as possible without much effort.\n",
        "\n",
        "Let's see how this dummy system would perform on the test set!\n"
      ]
    },
    {
      "cell_type": "code",
      "execution_count": 10,
      "metadata": {
        "colab": {
          "base_uri": "https://localhost:8080/"
        },
        "id": "i5XZ_PCH3AIy",
        "outputId": "c9f4abcb-5289-4dad-edc0-ba27aacf8b2b"
      },
      "outputs": [
        {
          "output_type": "stream",
          "name": "stdout",
          "text": [
            "1000\n",
            "0.6\n"
          ]
        }
      ],
      "source": [
        "# Create an array of \"Red\" values for each item in the test set\n",
        "dummy_predictions = [\"Red\"] * len(test_reviews)\n",
        "print(len(dummy_predictions))\n",
        "\n",
        "# Calculate the accuracy of these \"dummy predictions\"\n",
        "acc_dummy = accuracy_score(test_colors, dummy_predictions)\n",
        "print(acc_dummy)"
      ]
    },
    {
      "cell_type": "markdown",
      "metadata": {
        "id": "CzF7V6PN3AIy"
      },
      "source": [
        "The accuracy score of such a \"dummy\" system is not bad at all! It gets an accuracy score of 0.60, which means that it predicts 60% of the labels correctly (which are all \"Red\") in the test set.<br>\n",
        "This is the disadvantage of using accuracy as an evaluation metric: It can assign high scores to terrible models and is often not enough to measure the usefulness of a model!<br>\n",
        "To have a better understanding of the predictions of this model and its overall performance, instead, we will look at the __confusion matrix__!\n",
        "\n",
        "Confusion matrix, also known as an error matrix, is a specific table layout that allows visualization of the performance of an algorithm by showing predictions and the actual values per label in a single table.\n",
        "In other words, confusion matrix allows us to compare the predictions coming from the model against the actual values, for each class.\n"
      ]
    },
    {
      "cell_type": "code",
      "execution_count": 17,
      "metadata": {
        "colab": {
          "base_uri": "https://localhost:8080/",
          "height": 192
        },
        "id": "-aHRFV0J3AIz",
        "outputId": "aa8fc0de-0038-4cd8-b438-64aa21623be9"
      },
      "outputs": [
        {
          "output_type": "stream",
          "name": "stdout",
          "text": [
            "Counter({'Red': 600, 'White': 310, 'unk': 71, 'Rose': 19})\n"
          ]
        },
        {
          "output_type": "execute_result",
          "data": {
            "text/plain": [
              "       Red  White  Rose  unk\n",
              "Red    600      0     0    0\n",
              "White  310      0     0    0\n",
              "Rose    19      0     0    0\n",
              "unk     71      0     0    0"
            ],
            "text/html": [
              "\n",
              "  <div id=\"df-b47f09af-a6b8-4f37-9090-034828c773d2\">\n",
              "    <div class=\"colab-df-container\">\n",
              "      <div>\n",
              "<style scoped>\n",
              "    .dataframe tbody tr th:only-of-type {\n",
              "        vertical-align: middle;\n",
              "    }\n",
              "\n",
              "    .dataframe tbody tr th {\n",
              "        vertical-align: top;\n",
              "    }\n",
              "\n",
              "    .dataframe thead th {\n",
              "        text-align: right;\n",
              "    }\n",
              "</style>\n",
              "<table border=\"1\" class=\"dataframe\">\n",
              "  <thead>\n",
              "    <tr style=\"text-align: right;\">\n",
              "      <th></th>\n",
              "      <th>Red</th>\n",
              "      <th>White</th>\n",
              "      <th>Rose</th>\n",
              "      <th>unk</th>\n",
              "    </tr>\n",
              "  </thead>\n",
              "  <tbody>\n",
              "    <tr>\n",
              "      <th>Red</th>\n",
              "      <td>600</td>\n",
              "      <td>0</td>\n",
              "      <td>0</td>\n",
              "      <td>0</td>\n",
              "    </tr>\n",
              "    <tr>\n",
              "      <th>White</th>\n",
              "      <td>310</td>\n",
              "      <td>0</td>\n",
              "      <td>0</td>\n",
              "      <td>0</td>\n",
              "    </tr>\n",
              "    <tr>\n",
              "      <th>Rose</th>\n",
              "      <td>19</td>\n",
              "      <td>0</td>\n",
              "      <td>0</td>\n",
              "      <td>0</td>\n",
              "    </tr>\n",
              "    <tr>\n",
              "      <th>unk</th>\n",
              "      <td>71</td>\n",
              "      <td>0</td>\n",
              "      <td>0</td>\n",
              "      <td>0</td>\n",
              "    </tr>\n",
              "  </tbody>\n",
              "</table>\n",
              "</div>\n",
              "      <button class=\"colab-df-convert\" onclick=\"convertToInteractive('df-b47f09af-a6b8-4f37-9090-034828c773d2')\"\n",
              "              title=\"Convert this dataframe to an interactive table.\"\n",
              "              style=\"display:none;\">\n",
              "        \n",
              "  <svg xmlns=\"http://www.w3.org/2000/svg\" height=\"24px\"viewBox=\"0 0 24 24\"\n",
              "       width=\"24px\">\n",
              "    <path d=\"M0 0h24v24H0V0z\" fill=\"none\"/>\n",
              "    <path d=\"M18.56 5.44l.94 2.06.94-2.06 2.06-.94-2.06-.94-.94-2.06-.94 2.06-2.06.94zm-11 1L8.5 8.5l.94-2.06 2.06-.94-2.06-.94L8.5 2.5l-.94 2.06-2.06.94zm10 10l.94 2.06.94-2.06 2.06-.94-2.06-.94-.94-2.06-.94 2.06-2.06.94z\"/><path d=\"M17.41 7.96l-1.37-1.37c-.4-.4-.92-.59-1.43-.59-.52 0-1.04.2-1.43.59L10.3 9.45l-7.72 7.72c-.78.78-.78 2.05 0 2.83L4 21.41c.39.39.9.59 1.41.59.51 0 1.02-.2 1.41-.59l7.78-7.78 2.81-2.81c.8-.78.8-2.07 0-2.86zM5.41 20L4 18.59l7.72-7.72 1.47 1.35L5.41 20z\"/>\n",
              "  </svg>\n",
              "      </button>\n",
              "      \n",
              "  <style>\n",
              "    .colab-df-container {\n",
              "      display:flex;\n",
              "      flex-wrap:wrap;\n",
              "      gap: 12px;\n",
              "    }\n",
              "\n",
              "    .colab-df-convert {\n",
              "      background-color: #E8F0FE;\n",
              "      border: none;\n",
              "      border-radius: 50%;\n",
              "      cursor: pointer;\n",
              "      display: none;\n",
              "      fill: #1967D2;\n",
              "      height: 32px;\n",
              "      padding: 0 0 0 0;\n",
              "      width: 32px;\n",
              "    }\n",
              "\n",
              "    .colab-df-convert:hover {\n",
              "      background-color: #E2EBFA;\n",
              "      box-shadow: 0px 1px 2px rgba(60, 64, 67, 0.3), 0px 1px 3px 1px rgba(60, 64, 67, 0.15);\n",
              "      fill: #174EA6;\n",
              "    }\n",
              "\n",
              "    [theme=dark] .colab-df-convert {\n",
              "      background-color: #3B4455;\n",
              "      fill: #D2E3FC;\n",
              "    }\n",
              "\n",
              "    [theme=dark] .colab-df-convert:hover {\n",
              "      background-color: #434B5C;\n",
              "      box-shadow: 0px 1px 3px 1px rgba(0, 0, 0, 0.15);\n",
              "      filter: drop-shadow(0px 1px 2px rgba(0, 0, 0, 0.3));\n",
              "      fill: #FFFFFF;\n",
              "    }\n",
              "  </style>\n",
              "\n",
              "      <script>\n",
              "        const buttonEl =\n",
              "          document.querySelector('#df-b47f09af-a6b8-4f37-9090-034828c773d2 button.colab-df-convert');\n",
              "        buttonEl.style.display =\n",
              "          google.colab.kernel.accessAllowed ? 'block' : 'none';\n",
              "\n",
              "        async function convertToInteractive(key) {\n",
              "          const element = document.querySelector('#df-b47f09af-a6b8-4f37-9090-034828c773d2');\n",
              "          const dataTable =\n",
              "            await google.colab.kernel.invokeFunction('convertToInteractive',\n",
              "                                                     [key], {});\n",
              "          if (!dataTable) return;\n",
              "\n",
              "          const docLinkHtml = 'Like what you see? Visit the ' +\n",
              "            '<a target=\"_blank\" href=https://colab.research.google.com/notebooks/data_table.ipynb>data table notebook</a>'\n",
              "            + ' to learn more about interactive tables.';\n",
              "          element.innerHTML = '';\n",
              "          dataTable['output_type'] = 'display_data';\n",
              "          await google.colab.output.renderOutput(dataTable, element);\n",
              "          const docLink = document.createElement('div');\n",
              "          docLink.innerHTML = docLinkHtml;\n",
              "          element.appendChild(docLink);\n",
              "        }\n",
              "      </script>\n",
              "    </div>\n",
              "  </div>\n",
              "  "
            ]
          },
          "metadata": {},
          "execution_count": 17
        }
      ],
      "source": [
        "from sklearn.metrics import confusion_matrix\n",
        "from collections import Counter\n",
        "import pandas as pd\n",
        "\n",
        "# Let's load the training data from a csv file\n",
        "test_set = pandas.read_csv('./test.csv', sep='\\t', encoding='utf-8')\n",
        "test_colors = test_set['Color'].to_list()\n",
        "\n",
        "\n",
        "# Get a dictionary of unique items with their counts\n",
        "print(Counter(test_colors))\n",
        "labels=[\"Red\", \"White\", \"Rose\", \"unk\"]\n",
        "# Get the confusion matrix\n",
        "cm1 = confusion_matrix(test_colors, dummy_predictions, labels=labels)\n",
        "pd.DataFrame(cm1, index=labels, columns = labels)"
      ]
    },
    {
      "cell_type": "markdown",
      "source": [
        "This table shows us the following:\n",
        "    "
      ],
      "metadata": {
        "id": "2SX0nJERIr6I"
      }
    },
    {
      "cell_type": "markdown",
      "source": [
        "![cm1.png](data:image/png;base64,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)"
      ],
      "metadata": {
        "id": "GrpbWWptIubA"
      }
    },
    {
      "cell_type": "markdown",
      "metadata": {
        "id": "ACRJffh93AIz"
      },
      "source": [
        "\n",
        "   \n",
        "In this figure the columns represent the predictions coming from our model and the rows represent the actual values of the labels.\n",
        "As an example, our model predicted all labels as \"Red\". This can be seen in the first column.\n",
        "However, not all the predictions were correct! 310 of the \"Red\" predictions were made for the actual labels of \"White\". Similarly, 19 predictions were not correct (as they should have been \"Rose\") and similarly the remainig 71 predictions (as they should have been \"unk\").\n",
        "\n",
        "To evaluate our models better, for each class (label), we will define a __Precision__ and __Recall__ score by looking at this confusion matrix.\n",
        "\n",
        "\n",
        "### Precision ### \n",
        "For label X, precision is the number of correctly predicted labels __out of all predicted labels__ (for the actual label X) (What percent of the predicted labels are correct? The focus is on predictions.).<br>\n",
        "\n",
        "\\begin{align}\n",
        "Precision(p) = \\frac{correctly\\ predicted\\ as\\ label\\ A}{all\\ predictions\\ made\\ as\\ label\\ A} = \\frac{true\\ positives}{true\\ positives\\ +\\ false\\ positives} \\\\\n",
        "\\end{align}\n",
        "\n",
        "true positive = correctly predicted as label A<br>\n",
        "false positive = incorrectly predicted as label A<br>\n",
        "\n"
      ]
    },
    {
      "cell_type": "markdown",
      "source": [
        "![prec1.png](data:image/png;base64,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)"
      ],
      "metadata": {
        "id": "zLLZMtsbI-iv"
      }
    },
    {
      "cell_type": "markdown",
      "source": [
        "\n",
        "precision for the \"Red\" label is 600 / (600 + 310 + 19 + 71) = 600 / 1000 = 60% (so 60% of \"Red\" predictions are in fact \"Red\")<br>\n",
        "precision for the \"White\" label is 0 / 0 = N/A (zero division)\n",
        "\n",
        "\n",
        "### Recall ### \n",
        "For label X, recall is the number of correctly predicted labels (same as above) __out of the number of actual labels A__ (Out of all actual label A's, what percent of them did the model predict correctly? The focus is on actual labels.).<br>\n",
        "In other words: r = true positives / (true positives + false negatives)\n",
        "\n",
        "\\begin{align}\n",
        "Recall(r) = \\frac{correctly\\ predicted\\ as\\ label\\ A}{all\\ actual\\ items\\ with\\ label\\ A} = \\frac{true\\ positives}{true\\ positives\\ +\\ false\\ negatives} \\\\\n",
        "\\end{align}\n",
        "\n",
        "true positive = correctly predicted as label A<br>\n",
        "false negative = predicted as another label, whereas it is actually label A\n",
        "\n"
      ],
      "metadata": {
        "id": "BLEQtsHMJHAD"
      }
    },
    {
      "cell_type": "markdown",
      "source": [
        "![rec1.png](data:image/png;base64,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)"
      ],
      "metadata": {
        "id": "8GKUqhzTJAgM"
      }
    },
    {
      "cell_type": "markdown",
      "source": [
        "\n",
        "recall for the \"Red\" label is 600 / (600 + 0 + 0 + 0) = 1 (from all the wine with color \"Red\", we predicted all of these labels correctly)<br>\n",
        "recall for the \"White\" label is 0 / (0 + 310 + 0 + 0) = 0 (from all the wine with color \"White\", we predicted none of these labels correctly)\n",
        "\n",
        "### F1 Score ###\n",
        "Ok so precision and recall measures the performance of a model from two different perspectives.\n",
        "We can combine the two measures to get a single, balanced score, which is also called __F1 score__.\n",
        "Obtaining a single score is often easier to compare different models.\n",
        "\n",
        "\\begin{align}\n",
        "F1 = 2 * \\frac{Precision * Recall}{Precision + Recall} \\\\\n",
        "\\end{align}\n",
        "\n",
        "F1 score for the \"Red\" label is 2 \\* (0.6 \\* 1) / (0.6 + 1) = 1.2 / 1.6 = 0.75<br>\n",
        "F1 score for the \"White\" labels is N/A as Precision is N/A.\n",
        "\n"
      ],
      "metadata": {
        "id": "r8ClKmRdJbtX"
      }
    },
    {
      "cell_type": "markdown",
      "source": [
        "###Classification report\n",
        "We can get the summary of all these measures, per label, as follows:"
      ],
      "metadata": {
        "id": "PZw5ObGFKylZ"
      }
    },
    {
      "cell_type": "code",
      "execution_count": 20,
      "metadata": {
        "scrolled": true,
        "colab": {
          "base_uri": "https://localhost:8080/"
        },
        "id": "ugvlCMo73AIz",
        "outputId": "edc0e53e-3055-4de8-f90c-1f04a55a5eb6"
      },
      "outputs": [
        {
          "output_type": "stream",
          "name": "stdout",
          "text": [
            "              precision    recall  f1-score   support\n",
            "\n",
            "         Red       0.60      1.00      0.75       600\n",
            "        Rose       0.00      0.00      0.00        19\n",
            "       White       0.00      0.00      0.00       310\n",
            "         unk       0.00      0.00      0.00        71\n",
            "\n",
            "    accuracy                           0.60      1000\n",
            "   macro avg       0.15      0.25      0.19      1000\n",
            "weighted avg       0.36      0.60      0.45      1000\n",
            "\n"
          ]
        },
        {
          "output_type": "stream",
          "name": "stderr",
          "text": [
            "/usr/local/lib/python3.7/dist-packages/sklearn/metrics/_classification.py:1318: UndefinedMetricWarning: Precision and F-score are ill-defined and being set to 0.0 in labels with no predicted samples. Use `zero_division` parameter to control this behavior.\n",
            "  _warn_prf(average, modifier, msg_start, len(result))\n",
            "/usr/local/lib/python3.7/dist-packages/sklearn/metrics/_classification.py:1318: UndefinedMetricWarning: Precision and F-score are ill-defined and being set to 0.0 in labels with no predicted samples. Use `zero_division` parameter to control this behavior.\n",
            "  _warn_prf(average, modifier, msg_start, len(result))\n",
            "/usr/local/lib/python3.7/dist-packages/sklearn/metrics/_classification.py:1318: UndefinedMetricWarning: Precision and F-score are ill-defined and being set to 0.0 in labels with no predicted samples. Use `zero_division` parameter to control this behavior.\n",
            "  _warn_prf(average, modifier, msg_start, len(result))\n"
          ]
        }
      ],
      "source": [
        "from sklearn.metrics import classification_report\n",
        "print(classification_report(test_colors, dummy_predictions))\n"
      ]
    },
    {
      "cell_type": "code",
      "execution_count": null,
      "metadata": {
        "id": "zDz8Wc6I3AI0",
        "outputId": "4dd48a43-eb65-49fe-83f1-31798abc1202"
      },
      "outputs": [
        {
          "name": "stdout",
          "output_type": "stream",
          "text": [
            "              precision    recall  f1-score   support\n",
            "\n",
            "         Red       0.91      0.73      0.81      9277\n",
            "        Rose       0.00      0.00      0.00       340\n",
            "       White       0.53      0.92      0.68      4592\n",
            "         unk       0.00      0.00      0.00      1073\n",
            "\n",
            "    accuracy                           0.72     15282\n",
            "   macro avg       0.36      0.41      0.37     15282\n",
            "weighted avg       0.71      0.72      0.69     15282\n",
            "\n"
          ]
        }
      ],
      "source": [
        "print(classification_report(test_colors, test_predictions_10))"
      ]
    },
    {
      "cell_type": "markdown",
      "metadata": {
        "id": "qDtI2P453AI0"
      },
      "source": [
        "### Support material from Youtube\n",
        "\n",
        "Here I will list a couple of videos you can check on youtube to digest these definitions. It is important that you familiarize yourself with accuracy, precision, recall, f1-score and the confusion matrix!\n",
        "\n",
        "1. Accuracy, Precision, Recall and F1-score:\n",
        "https://www.youtube.com/watch?v=j-EB6RqqjGI\n",
        "\n",
        "2. The second video explains clearly what a confusion matrix is in classification tasks. Watch out though that the predicted and actual values are displayed differently (columns vs. rows).\n",
        "https://www.youtube.com/watch?v=Kdsp6soqA7o"
      ]
    },
    {
      "cell_type": "markdown",
      "metadata": {
        "id": "rsFCy47I3AI0"
      },
      "source": [
        "In the previous results, we are especially interested in the precision, recall and f1-score for each label.\n",
        "\"Support\" is the frequency of each (correct) label.\n",
        "\n",
        "While the label-specific scores are good to measure the performance of the model for a specific label (the first four rows in the figure above), with these scores it is difficult to measure the overall performance of the given model.\n",
        "\n",
        "Therefore, we also see three additional rows, which measure the overall performance of the model (and not for a specific label). These measures are:\n",
        "- __accuracy__: correctly predicted labels divided by all labels (we discussed why this measure is perhaps not a good one in the previous cells)\n",
        "- __macro avg__: Calculate precision, recall and f1 metrics for each label, and find their average. This does not take label imbalance into account: f1 scores are averaged (with equal weights)\n",
        "- __weighted avg__: Calculate metrics for each label, and find their average weighted by support (the number of true instances for each label). This alters \"macro\" to account for label imbalance (it can result in an F-score that is not between precision and recall).\n",
        "\n",
        "From this point on, we will measure the overall performance of a model with weighted avg of f1-score.\n",
        "For this dummy system, the f1 score (weighted avg) is 0.45.\n",
        "\n",
        "So what about other models that we have built so far. How do they perform with respect to the f1-score?\n",
        "Let's first evaluate the model that used 10 terms as features:"
      ]
    },
    {
      "cell_type": "markdown",
      "source": [
        "### DIY\n",
        "\n",
        "Print:\n",
        "- the confusion matrix for the predictions obtained from our logisticRegression model (test_predictions_10)\n",
        "- the classification report for these predictions"
      ],
      "metadata": {
        "id": "MlYNJjy6K9Vy"
      }
    },
    {
      "cell_type": "code",
      "source": [
        "# The order of the labels is not important, but it is important to provide all the labels.\n",
        "cm2 = confusion_matrix(test_colors, test_predictions_10, labels=labels)\n",
        "pd.DataFrame(cm2, index=labels, columns = labels)"
      ],
      "metadata": {
        "colab": {
          "base_uri": "https://localhost:8080/",
          "height": 174
        },
        "id": "ec90NmRaGCLY",
        "outputId": "c1053e36-a4b4-443c-8d94-3fdae59de61f"
      },
      "execution_count": 18,
      "outputs": [
        {
          "output_type": "execute_result",
          "data": {
            "text/plain": [
              "       Red  White  Rose  unk\n",
              "Red    429    171     0    0\n",
              "White   17    293     0    0\n",
              "Rose     3     16     0    0\n",
              "unk     11     60     0    0"
            ],
            "text/html": [
              "\n",
              "  <div id=\"df-078807c3-f5b0-4b84-aa41-e8d7cb6360e1\">\n",
              "    <div class=\"colab-df-container\">\n",
              "      <div>\n",
              "<style scoped>\n",
              "    .dataframe tbody tr th:only-of-type {\n",
              "        vertical-align: middle;\n",
              "    }\n",
              "\n",
              "    .dataframe tbody tr th {\n",
              "        vertical-align: top;\n",
              "    }\n",
              "\n",
              "    .dataframe thead th {\n",
              "        text-align: right;\n",
              "    }\n",
              "</style>\n",
              "<table border=\"1\" class=\"dataframe\">\n",
              "  <thead>\n",
              "    <tr style=\"text-align: right;\">\n",
              "      <th></th>\n",
              "      <th>Red</th>\n",
              "      <th>White</th>\n",
              "      <th>Rose</th>\n",
              "      <th>unk</th>\n",
              "    </tr>\n",
              "  </thead>\n",
              "  <tbody>\n",
              "    <tr>\n",
              "      <th>Red</th>\n",
              "      <td>429</td>\n",
              "      <td>171</td>\n",
              "      <td>0</td>\n",
              "      <td>0</td>\n",
              "    </tr>\n",
              "    <tr>\n",
              "      <th>White</th>\n",
              "      <td>17</td>\n",
              "      <td>293</td>\n",
              "      <td>0</td>\n",
              "      <td>0</td>\n",
              "    </tr>\n",
              "    <tr>\n",
              "      <th>Rose</th>\n",
              "      <td>3</td>\n",
              "      <td>16</td>\n",
              "      <td>0</td>\n",
              "      <td>0</td>\n",
              "    </tr>\n",
              "    <tr>\n",
              "      <th>unk</th>\n",
              "      <td>11</td>\n",
              "      <td>60</td>\n",
              "      <td>0</td>\n",
              "      <td>0</td>\n",
              "    </tr>\n",
              "  </tbody>\n",
              "</table>\n",
              "</div>\n",
              "      <button class=\"colab-df-convert\" onclick=\"convertToInteractive('df-078807c3-f5b0-4b84-aa41-e8d7cb6360e1')\"\n",
              "              title=\"Convert this dataframe to an interactive table.\"\n",
              "              style=\"display:none;\">\n",
              "        \n",
              "  <svg xmlns=\"http://www.w3.org/2000/svg\" height=\"24px\"viewBox=\"0 0 24 24\"\n",
              "       width=\"24px\">\n",
              "    <path d=\"M0 0h24v24H0V0z\" fill=\"none\"/>\n",
              "    <path d=\"M18.56 5.44l.94 2.06.94-2.06 2.06-.94-2.06-.94-.94-2.06-.94 2.06-2.06.94zm-11 1L8.5 8.5l.94-2.06 2.06-.94-2.06-.94L8.5 2.5l-.94 2.06-2.06.94zm10 10l.94 2.06.94-2.06 2.06-.94-2.06-.94-.94-2.06-.94 2.06-2.06.94z\"/><path d=\"M17.41 7.96l-1.37-1.37c-.4-.4-.92-.59-1.43-.59-.52 0-1.04.2-1.43.59L10.3 9.45l-7.72 7.72c-.78.78-.78 2.05 0 2.83L4 21.41c.39.39.9.59 1.41.59.51 0 1.02-.2 1.41-.59l7.78-7.78 2.81-2.81c.8-.78.8-2.07 0-2.86zM5.41 20L4 18.59l7.72-7.72 1.47 1.35L5.41 20z\"/>\n",
              "  </svg>\n",
              "      </button>\n",
              "      \n",
              "  <style>\n",
              "    .colab-df-container {\n",
              "      display:flex;\n",
              "      flex-wrap:wrap;\n",
              "      gap: 12px;\n",
              "    }\n",
              "\n",
              "    .colab-df-convert {\n",
              "      background-color: #E8F0FE;\n",
              "      border: none;\n",
              "      border-radius: 50%;\n",
              "      cursor: pointer;\n",
              "      display: none;\n",
              "      fill: #1967D2;\n",
              "      height: 32px;\n",
              "      padding: 0 0 0 0;\n",
              "      width: 32px;\n",
              "    }\n",
              "\n",
              "    .colab-df-convert:hover {\n",
              "      background-color: #E2EBFA;\n",
              "      box-shadow: 0px 1px 2px rgba(60, 64, 67, 0.3), 0px 1px 3px 1px rgba(60, 64, 67, 0.15);\n",
              "      fill: #174EA6;\n",
              "    }\n",
              "\n",
              "    [theme=dark] .colab-df-convert {\n",
              "      background-color: #3B4455;\n",
              "      fill: #D2E3FC;\n",
              "    }\n",
              "\n",
              "    [theme=dark] .colab-df-convert:hover {\n",
              "      background-color: #434B5C;\n",
              "      box-shadow: 0px 1px 3px 1px rgba(0, 0, 0, 0.15);\n",
              "      filter: drop-shadow(0px 1px 2px rgba(0, 0, 0, 0.3));\n",
              "      fill: #FFFFFF;\n",
              "    }\n",
              "  </style>\n",
              "\n",
              "      <script>\n",
              "        const buttonEl =\n",
              "          document.querySelector('#df-078807c3-f5b0-4b84-aa41-e8d7cb6360e1 button.colab-df-convert');\n",
              "        buttonEl.style.display =\n",
              "          google.colab.kernel.accessAllowed ? 'block' : 'none';\n",
              "\n",
              "        async function convertToInteractive(key) {\n",
              "          const element = document.querySelector('#df-078807c3-f5b0-4b84-aa41-e8d7cb6360e1');\n",
              "          const dataTable =\n",
              "            await google.colab.kernel.invokeFunction('convertToInteractive',\n",
              "                                                     [key], {});\n",
              "          if (!dataTable) return;\n",
              "\n",
              "          const docLinkHtml = 'Like what you see? Visit the ' +\n",
              "            '<a target=\"_blank\" href=https://colab.research.google.com/notebooks/data_table.ipynb>data table notebook</a>'\n",
              "            + ' to learn more about interactive tables.';\n",
              "          element.innerHTML = '';\n",
              "          dataTable['output_type'] = 'display_data';\n",
              "          await google.colab.output.renderOutput(dataTable, element);\n",
              "          const docLink = document.createElement('div');\n",
              "          docLink.innerHTML = docLinkHtml;\n",
              "          element.appendChild(docLink);\n",
              "        }\n",
              "      </script>\n",
              "    </div>\n",
              "  </div>\n",
              "  "
            ]
          },
          "metadata": {},
          "execution_count": 18
        }
      ]
    },
    {
      "cell_type": "code",
      "execution_count": null,
      "metadata": {
        "id": "Bewenzdf3AI0",
        "outputId": "c98587e4-7cf2-4586-b57d-114516d5c365"
      },
      "outputs": [
        {
          "name": "stdout",
          "output_type": "stream",
          "text": [
            "              precision    recall  f1-score   support\n",
            "\n",
            "         Red       0.91      0.73      0.81      9277\n",
            "        Rose       0.00      0.00      0.00       340\n",
            "       White       0.53      0.92      0.68      4592\n",
            "         unk       0.00      0.00      0.00      1073\n",
            "\n",
            "    accuracy                           0.72     15282\n",
            "   macro avg       0.36      0.41      0.37     15282\n",
            "weighted avg       0.71      0.72      0.69     15282\n",
            "\n"
          ]
        }
      ],
      "source": [
        "# Get classification report for test_predictions_10\n",
        "print(classification_report(test_colors, test_predictions_10))"
      ]
    },
    {
      "cell_type": "markdown",
      "metadata": {
        "id": "etP10FYU3AI1"
      },
      "source": [
        "We are especially interested in the f1-score (weighted avg) in the above figure.\n",
        "As we can see, this model does much better than the dummy system, with an f1-score of 0.69 (Dummy score had an f1-score of 0.45).\n",
        "What this means is that, our features are indeed useful and we can come up with predictions that are much better than a dummy baseline system.\n",
        "\n",
        "Let's now evaluate the model, which used all nouns as features.\n",
        "First, we load this model:"
      ]
    },
    {
      "cell_type": "code",
      "execution_count": 22,
      "metadata": {
        "colab": {
          "base_uri": "https://localhost:8080/"
        },
        "id": "Yh5hBWmy3AI1",
        "outputId": "796cb0ba-c1c0-4929-eb2a-beacb1e2f638"
      },
      "outputs": [
        {
          "output_type": "stream",
          "name": "stdout",
          "text": [
            "['Red' 'Rose' 'White' 'unk']\n"
          ]
        }
      ],
      "source": [
        "import pickle\n",
        "\n",
        "# Load the model with all nouns used as features \n",
        "with open('logreg_nouns.pkl', 'rb') as file:\n",
        "    lr_nouns = pickle.load(file)\n",
        "    \n",
        "# Let's see what are the possible labels to predict (and in which order they are stored)\n",
        "print(lr_nouns.classes_)\n",
        "\n"
      ]
    },
    {
      "cell_type": "markdown",
      "metadata": {
        "id": "duU_SngC3AI1"
      },
      "source": [
        "To be able to evaluate this model, we need the predictions. \n",
        "To get the predictions on the test set, we need the features. Here I will load the features for the test set from a file, which were generated in the previous week: \n",
        "(alternatively, we could have also saved the predictions. Please try this yourself.)"
      ]
    },
    {
      "cell_type": "code",
      "execution_count": 23,
      "metadata": {
        "colab": {
          "base_uri": "https://localhost:8080/"
        },
        "id": "d2wh7-cx3AI1",
        "outputId": "76e2723d-61cf-45b7-b149-9f79097af163"
      },
      "outputs": [
        {
          "output_type": "stream",
          "name": "stdout",
          "text": [
            "(1000, 4098)\n"
          ]
        }
      ],
      "source": [
        "# Let's load our test features we generated with all nouns as we don't want to generate them once more (which takes time)\n",
        "# numpy arrays (which we use to store the features) can be saved as follows before being loaded:\n",
        "# numpy.save(\"test_features_nouns.npy\", test_features_nouns)\n",
        "\n",
        "test_features_nouns = numpy.load(\"test_features_nouns.npy\")\n",
        "print(test_features_nouns.shape)"
      ]
    },
    {
      "cell_type": "markdown",
      "metadata": {
        "id": "uBIS3Tl_3AI1"
      },
      "source": [
        "(25)\n",
        "Having the model loaded and the features for the test set, we can now get predictions and the prediction results."
      ]
    },
    {
      "cell_type": "code",
      "execution_count": 24,
      "metadata": {
        "colab": {
          "base_uri": "https://localhost:8080/"
        },
        "id": "nTMhCZwQ3AI2",
        "outputId": "bde64532-931a-458d-d4b8-0fefb6dd5e2a"
      },
      "outputs": [
        {
          "output_type": "stream",
          "name": "stdout",
          "text": [
            "              precision    recall  f1-score   support\n",
            "\n",
            "         Red       0.60      0.60      0.60       600\n",
            "        Rose       0.00      0.00      0.00        19\n",
            "       White       0.33      0.40      0.36       310\n",
            "         unk       0.11      0.04      0.06        71\n",
            "\n",
            "    accuracy                           0.48      1000\n",
            "   macro avg       0.26      0.26      0.25      1000\n",
            "weighted avg       0.47      0.48      0.47      1000\n",
            "\n"
          ]
        }
      ],
      "source": [
        "from sklearn.metrics import classification_report\n",
        "# we provide all the features as inoput to our model to obtain predictions\n",
        "test_predictions_nouns = lr_nouns.predict(test_features_nouns)\n",
        "\n",
        "# Print the classification report\n",
        "print(classification_report(test_colors, test_predictions_nouns))"
      ]
    },
    {
      "cell_type": "markdown",
      "metadata": {
        "id": "IjL91Q8-3AI3"
      },
      "source": [
        "These results are interesting and perhaps a bit unexpected at first sight.<br>\n",
        "We see that the f1-score (weighted avg) of the model (0.47) that used all nouns as features is higher than the dummy baseline (0.45) but much lower than the model that used only 10 terms as features (0.69).<br>\n",
        "\n",
        "One possible explanation for this observation is that nouns are not good predictors of the wine color!<br>\n",
        "These results also show the importance of evaluation as more features does not necessarily mean better performance.<br>\n",
        "\n",
        "We need \"good\" features to train \"good\" predictive models!\n"
      ]
    },
    {
      "cell_type": "markdown",
      "metadata": {
        "id": "Qrc0U_553AI3"
      },
      "source": [
        "\n",
        "## Supervised machine learning: Regression\n",
        "\n",
        "As you remember, we talked about two types of supervised machine learning approaches:<br>\n",
        "__Classification__: Predicting a class. For instance, to determine if a patient is sick, if an email is spam or predicting the color of a wine based on its reviews.<br>\n",
        "__Regression__: Predicting a numerical value. It would be the case of the prices of a house when choosing different options or the demand of occupation of a hotel.<br>\n",
        "\n",
        "We will work on the same data set further to build a regression model, in order to predict the score of a wine based on its reviews. In this regression task, the predictions we make will be numerical values between 80 and 100 (higher means a better wine!). While in classification, the classes do not have any relations to each other, in regression the numbers we predict are ordered! In other words, the different values we can predict have an ordinality relationship. \n",
        "\n",
        "Ordinality: A number indicating the position of something in a series or order.\n",
        "\n",
        "We will use the same feature extraction techniques to build a regression model:\n",
        "1. Extract features from raw data\n",
        "2. Train a model using the features and the correct values (wine score) in the training set\n",
        "3. Use the trained model to predict the actual values in the test set \n"
      ]
    },
    {
      "cell_type": "markdown",
      "source": [
        "![ml2.png](data:image/png;base64,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)"
      ],
      "metadata": {
        "id": "YVvvVRY8S5d1"
      }
    },
    {
      "cell_type": "markdown",
      "metadata": {
        "id": "1IE3Y54i3AI3"
      },
      "source": [
        "(29)\n",
        "### Linear Regression\n",
        "\n",
        "If you remember, we used the following equation for logistic regression:\n",
        "\n",
        "\n",
        "\\begin{align}\n",
        "z = c_0+c_1*𝑥_1+c_2*𝑥_2+...+c_𝑛*𝑥_𝑛\n",
        "\\end{align}\n",
        "\n",
        "\n",
        "In this equation we have n features (represented by x) and n coefficients (weights) per feature (represented by c). Finally, we have c0, which represents the intercept (or bias), which models the predicted value in the absence of any of the features (when the coefficients of each feature is 0, the only remaining value in this equation will be c0).\n",
        "\n",
        "We also discussed that the value of z lies between -∞ and +∞. \n",
        "In logistic regression, we apply the sigmoid (or logistic function) to this value to obtain prob. values between 0 and 1 and he final probability scores let the model predict the label. \n",
        "\n",
        "In linear regression, as the values we predict are continuous, we don't need any modifications. We will let the model predict simply a value between  -∞ and +∞.\n",
        "\n"
      ]
    },
    {
      "cell_type": "code",
      "execution_count": null,
      "metadata": {
        "id": "UXSPEczf3AI3"
      },
      "outputs": [],
      "source": [
        ""
      ]
    }
  ],
  "metadata": {
    "kernelspec": {
      "display_name": "Python3-new",
      "language": "python",
      "name": "python3"
    },
    "language_info": {
      "codemirror_mode": {
        "name": "ipython",
        "version": 3
      },
      "file_extension": ".py",
      "mimetype": "text/x-python",
      "name": "python",
      "nbconvert_exporter": "python",
      "pygments_lexer": "ipython3",
      "version": "3.7.4"
    },
    "colab": {
      "name": "Chapter_05_MachineLearning-EvaluateClassificationModels-class_key.ipynb",
      "provenance": [],
      "collapsed_sections": [],
      "toc_visible": true
    }
  },
  "nbformat": 4,
  "nbformat_minor": 0
}