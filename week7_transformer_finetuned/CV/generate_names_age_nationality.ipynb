{
  "nbformat": 4,
  "nbformat_minor": 0,
  "metadata": {
    "colab": {
      "provenance": []
    },
    "kernelspec": {
      "name": "python3",
      "display_name": "Python 3"
    },
    "language_info": {
      "name": "python"
    }
  },
  "cells": [
    {
      "cell_type": "code",
      "source": [
        "import pandas as pd\n",
        "import random\n",
        "\n",
        "# Load the CSV file\n",
        "\n",
        "data = pd.read_csv('names-by-nationality.csv')\n",
        "\n",
        "# Randomly select ages between 22 and 68\n",
        "data['Age'] = [random.randint(22, 68) for _ in range(len(data))]\n",
        "\n",
        "# Create the description field based on the template\n",
        "data['Description'] = data.apply(lambda row: f\"I am {row['name']}, I am {row['Age']} years old and I am {row['nationality']}\", axis=1)\n",
        "\n",
        "# Shuffle the data to randomize\n",
        "data = data.sample(frac=1).reset_index(drop=True)\n",
        "\n",
        "# Split data into male and female to balance\n",
        "male_data = data[data['sex'] == 'Male']\n",
        "female_data = data[data['sex'] == 'Female']\n",
        "\n",
        "# Get min length to balance out the genders\n",
        "min_len = min(len(male_data), len(female_data))\n",
        "\n",
        "# Combine balanced data\n",
        "balanced_data = pd.concat([male_data.head(min_len), female_data.head(min_len)]).sample(frac=1).reset_index(drop=True)\n",
        "\n",
        "# Since the task requires 962 entries, truncate if over or report if under\n",
        "final_data = balanced_data.head(962) if len(balanced_data) >= 962 else balanced_data\n",
        "print(f\"Selected {len(final_data)} entries.\")\n",
        "\n",
        "# Save the modified data to a new CSV file\n",
        "final_data.to_csv('processed_names.csv', index=False)\n",
        "\n",
        "print(\"Processed data has been saved to 'processed_names.csv'.\")\n"
      ],
      "metadata": {
        "colab": {
          "base_uri": "https://localhost:8080/"
        },
        "id": "j1vGOHSejFxw",
        "outputId": "966644a9-5d73-4bf9-865d-4d4771684c52"
      },
      "execution_count": 34,
      "outputs": [
        {
          "output_type": "stream",
          "name": "stdout",
          "text": [
            "Selected 962 entries.\n",
            "Processed data has been saved to 'processed_names.csv'.\n"
          ]
        }
      ]
    },
    {
      "cell_type": "code",
      "execution_count": 31,
      "metadata": {
        "id": "F8Fgr52UQGzz"
      },
      "outputs": [],
      "source": []
    },
    {
      "cell_type": "code",
      "source": [
        "\n"
      ],
      "metadata": {
        "id": "EXUaAXvhjC2E"
      },
      "execution_count": 31,
      "outputs": []
    },
    {
      "cell_type": "code",
      "source": [
        "\n"
      ],
      "metadata": {
        "id": "pAwETOimQeOb"
      },
      "execution_count": 25,
      "outputs": []
    },
    {
      "cell_type": "code",
      "source": [
        "\n",
        "\n"
      ],
      "metadata": {
        "id": "ZulmcuNETg8E"
      },
      "execution_count": 22,
      "outputs": []
    },
    {
      "cell_type": "code",
      "source": [],
      "metadata": {
        "id": "YTQa2zKykBMn"
      },
      "execution_count": 26,
      "outputs": []
    },
    {
      "cell_type": "code",
      "source": [],
      "metadata": {
        "id": "Pzx37ZAQiz4a"
      },
      "execution_count": 27,
      "outputs": []
    },
    {
      "cell_type": "code",
      "source": [],
      "metadata": {
        "id": "KFu_H7mWi2TM"
      },
      "execution_count": 28,
      "outputs": []
    },
    {
      "cell_type": "code",
      "source": [],
      "metadata": {
        "colab": {
          "base_uri": "https://localhost:8080/"
        },
        "id": "zd3cGOnWi5cG",
        "outputId": "e5af1ac0-88f1-4ac8-9bb5-602f6f3908ab"
      },
      "execution_count": 29,
      "outputs": [
        {
          "output_type": "stream",
          "name": "stdout",
          "text": [
            "CSV file has been created with 962 entries.\n"
          ]
        }
      ]
    }
  ]
}